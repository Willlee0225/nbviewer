{
  "nbformat": 4,
  "nbformat_minor": 0,
  "metadata": {
    "colab": {
      "name": "回歸分析簡易測試",
      "provenance": [],
      "collapsed_sections": [],
      "authorship_tag": "ABX9TyOkeQLXRAv/+R9/1H3Piwcf",
      "include_colab_link": true
    },
    "kernelspec": {
      "name": "python3",
      "display_name": "Python 3"
    }
  },
  "cells": [
    {
      "cell_type": "markdown",
      "metadata": {
        "id": "view-in-github",
        "colab_type": "text"
      },
      "source": [
        "<a href=\"https://colab.research.google.com/github/Willlee0225/nbviewer/blob/master/%E5%9B%9E%E6%AD%B8%E5%88%86%E6%9E%90%E7%B0%A1%E6%98%93%E6%B8%AC%E8%A9%A6.ipynb\" target=\"_parent\"><img src=\"https://colab.research.google.com/assets/colab-badge.svg\" alt=\"Open In Colab\"/></a>"
      ]
    },
    {
      "cell_type": "markdown",
      "metadata": {
        "id": "PLGSqsR-Fr3I",
        "colab_type": "text"
      },
      "source": [
        "## 探究“學習時長”和“學習成績”之間是否存在相關性關係"
      ]
    },
    {
      "cell_type": "code",
      "metadata": {
        "id": "WR-qU5Oq99SQ",
        "colab_type": "code",
        "colab": {}
      },
      "source": [
        "import warnings\n",
        "from collections import OrderedDict\n",
        "import pandas as pd\n",
        "import numpy as np\n",
        "warnings.filterwarnings('ignore')"
      ],
      "execution_count": 0,
      "outputs": []
    },
    {
      "cell_type": "code",
      "metadata": {
        "id": "Xmoc-_lgFo0b",
        "colab_type": "code",
        "outputId": "277754d4-9ddf-48e7-fbeb-753736352a0c",
        "colab": {
          "base_uri": "https://localhost:8080/",
          "height": 297
        }
      },
      "source": [
        "#建立資料並檢視資料\n",
        "examscores={'學習時間':list(np.arange(0.5,5.5,0.25)),\n",
        "           '學習成績':[8,  22,  13,  43,  20,  22,  33,  50,  62,  \n",
        "              48,  55,  75,  62,  73,  81,  76,  64,  82,  90,  93]}\n",
        "examOrderedDict=OrderedDict(examscores)\n",
        "examDf=pd.DataFrame(examOrderedDict)\n",
        "examDf.head()\n",
        "#檢視資料描述統計資訊\n",
        "examDf.describe()\n"
      ],
      "execution_count": 0,
      "outputs": [
        {
          "output_type": "execute_result",
          "data": {
            "text/html": [
              "<div>\n",
              "<style scoped>\n",
              "    .dataframe tbody tr th:only-of-type {\n",
              "        vertical-align: middle;\n",
              "    }\n",
              "\n",
              "    .dataframe tbody tr th {\n",
              "        vertical-align: top;\n",
              "    }\n",
              "\n",
              "    .dataframe thead th {\n",
              "        text-align: right;\n",
              "    }\n",
              "</style>\n",
              "<table border=\"1\" class=\"dataframe\">\n",
              "  <thead>\n",
              "    <tr style=\"text-align: right;\">\n",
              "      <th></th>\n",
              "      <th>學習時間</th>\n",
              "      <th>學習成績</th>\n",
              "    </tr>\n",
              "  </thead>\n",
              "  <tbody>\n",
              "    <tr>\n",
              "      <th>count</th>\n",
              "      <td>20.00000</td>\n",
              "      <td>20.000000</td>\n",
              "    </tr>\n",
              "    <tr>\n",
              "      <th>mean</th>\n",
              "      <td>2.87500</td>\n",
              "      <td>53.600000</td>\n",
              "    </tr>\n",
              "    <tr>\n",
              "      <th>std</th>\n",
              "      <td>1.47902</td>\n",
              "      <td>26.613016</td>\n",
              "    </tr>\n",
              "    <tr>\n",
              "      <th>min</th>\n",
              "      <td>0.50000</td>\n",
              "      <td>8.000000</td>\n",
              "    </tr>\n",
              "    <tr>\n",
              "      <th>25%</th>\n",
              "      <td>1.68750</td>\n",
              "      <td>30.250000</td>\n",
              "    </tr>\n",
              "    <tr>\n",
              "      <th>50%</th>\n",
              "      <td>2.87500</td>\n",
              "      <td>58.500000</td>\n",
              "    </tr>\n",
              "    <tr>\n",
              "      <th>75%</th>\n",
              "      <td>4.06250</td>\n",
              "      <td>75.250000</td>\n",
              "    </tr>\n",
              "    <tr>\n",
              "      <th>max</th>\n",
              "      <td>5.25000</td>\n",
              "      <td>93.000000</td>\n",
              "    </tr>\n",
              "  </tbody>\n",
              "</table>\n",
              "</div>"
            ],
            "text/plain": [
              "           學習時間       學習成績\n",
              "count  20.00000  20.000000\n",
              "mean    2.87500  53.600000\n",
              "std     1.47902  26.613016\n",
              "min     0.50000   8.000000\n",
              "25%     1.68750  30.250000\n",
              "50%     2.87500  58.500000\n",
              "75%     4.06250  75.250000\n",
              "max     5.25000  93.000000"
            ]
          },
          "metadata": {
            "tags": []
          },
          "execution_count": 3
        }
      ]
    },
    {
      "cell_type": "markdown",
      "metadata": {
        "id": "j_oZGwq5GLql",
        "colab_type": "text"
      },
      "source": [
        "## 提取特徵值和標籤"
      ]
    },
    {
      "cell_type": "code",
      "metadata": {
        "id": "6t73VcXeF-I1",
        "colab_type": "code",
        "colab": {}
      },
      "source": [
        "X=examDf['學習時間']\n",
        "Y=examDf['學習成績']"
      ],
      "execution_count": 0,
      "outputs": []
    },
    {
      "cell_type": "code",
      "metadata": {
        "id": "Cc1LdY59GO9H",
        "colab_type": "code",
        "colab": {}
      },
      "source": [
        "import matplotlib.pyplot as plt"
      ],
      "execution_count": 0,
      "outputs": []
    },
    {
      "cell_type": "code",
      "metadata": {
        "id": "rIN8jDp_GQ-K",
        "colab_type": "code",
        "outputId": "6fc0cd9e-d0e1-467c-9fd5-98b7d12db4b0",
        "colab": {
          "base_uri": "https://localhost:8080/",
          "height": 279
        }
      },
      "source": [
        "plt.scatter(X,Y,color='gray',label='Test score')\n",
        "plt.legend(loc=2)\n",
        "plt.xlabel('Time')\n",
        "plt.ylabel('Score')\n",
        "plt.show()"
      ],
      "execution_count": 0,
      "outputs": [
        {
          "output_type": "display_data",
          "data": {
            "image/png": "[encoded data removed]",
            "text/plain": [
              "<Figure size 432x288 with 1 Axes>"
            ]
          },
          "metadata": {
            "tags": [],
            "needs_background": "light"
          }
        }
      ]
    },
    {
      "cell_type": "markdown",
      "metadata": {
        "id": "GzvwX3rPGhOo",
        "colab_type": "text"
      },
      "source": [
        "## 求相關係數"
      ]
    },
    {
      "cell_type": "code",
      "metadata": {
        "id": "BFEI3LZ_GV-W",
        "colab_type": "code",
        "outputId": "96067d9b-af4d-4ee2-869b-65c96db9d574",
        "colab": {
          "base_uri": "https://localhost:8080/",
          "height": 68
        }
      },
      "source": [
        "rDf=examDf.corr()\n",
        "print(rDf)"
      ],
      "execution_count": 0,
      "outputs": [
        {
          "output_type": "stream",
          "text": [
            "          學習時間      學習成績\n",
            "學習時間  1.000000  0.938007\n",
            "學習成績  0.938007  1.000000\n"
          ],
          "name": "stdout"
        }
      ]
    },
    {
      "cell_type": "markdown",
      "metadata": {
        "id": "xa_xDr6VHCxW",
        "colab_type": "text"
      },
      "source": [
        "## 分割資料"
      ]
    },
    {
      "cell_type": "code",
      "metadata": {
        "id": "rGK1qdlzHGgk",
        "colab_type": "code",
        "outputId": "4c1beace-5ebd-4a2a-e116-c869ccfefe80",
        "colab": {
          "base_uri": "https://localhost:8080/",
          "height": 51
        }
      },
      "source": [
        "from sklearn.model_selection import train_test_split\n",
        "#建立訓練集和測試集資料\n",
        "train_X,test_X,train_y,test_y =train_test_split(X,Y,train_size=0.8)\n",
        "#輸出訓練集和測試集資料大小\n",
        "print('訓練集大小',train_X.shape,train_y.shape)\n",
        "print('測試集大小',test_X.shape,test_y.shape)"
      ],
      "execution_count": 0,
      "outputs": [
        {
          "output_type": "stream",
          "text": [
            "訓練集大小 (16,) (16,)\n",
            "測試集大小 (4,) (4,)\n"
          ],
          "name": "stdout"
        }
      ]
    },
    {
      "cell_type": "markdown",
      "metadata": {
        "id": "pOodItQGHAb6",
        "colab_type": "text"
      },
      "source": [
        "## 建立回歸模型"
      ]
    },
    {
      "cell_type": "code",
      "metadata": {
        "id": "5yTkqn93Gjuw",
        "colab_type": "code",
        "colab": {}
      },
      "source": [
        "from sklearn.linear_model import LinearRegression"
      ],
      "execution_count": 0,
      "outputs": []
    },
    {
      "cell_type": "code",
      "metadata": {
        "id": "WfeXeT52GnRE",
        "colab_type": "code",
        "colab": {}
      },
      "source": [
        "model=LinearRegression()"
      ],
      "execution_count": 0,
      "outputs": []
    },
    {
      "cell_type": "code",
      "metadata": {
        "id": "kKJFpVt3HdQf",
        "colab_type": "code",
        "outputId": "44b8b7db-74e9-4217-ea63-8a8b83932f0d",
        "colab": {
          "base_uri": "https://localhost:8080/",
          "height": 68
        }
      },
      "source": [
        "train_X=train_X.values.reshape(-1,1)\n",
        "train_y=train_y.values.reshape(-1,1)\n",
        "test_X=test_X.values.reshape(-1,1)\n",
        "test_y=test_y.values.reshape(-1,1)\n",
        "print('訓練集大小',train_X.shape,train_y.shape)\n",
        "print('測試集大小',test_X.shape,test_y.shape)\n",
        "model.fit(train_X,train_y)"
      ],
      "execution_count": 0,
      "outputs": [
        {
          "output_type": "stream",
          "text": [
            "訓練集大小 (16, 1) (16, 1)\n",
            "測試集大小 (4, 1) (4, 1)\n"
          ],
          "name": "stdout"
        },
        {
          "output_type": "execute_result",
          "data": {
            "text/plain": [
              "LinearRegression(copy_X=True, fit_intercept=True, n_jobs=None, normalize=False)"
            ]
          },
          "metadata": {
            "tags": []
          },
          "execution_count": 20
        }
      ]
    },
    {
      "cell_type": "code",
      "metadata": {
        "id": "6Sy3Tvi1Hfl_",
        "colab_type": "code",
        "outputId": "b3967315-d08e-41a7-a34e-a6c4bff77746",
        "colab": {
          "base_uri": "https://localhost:8080/",
          "height": 34
        }
      },
      "source": [
        "print('模型得分為',round(model.score(test_X,test_y),4))\n"
      ],
      "execution_count": 0,
      "outputs": [
        {
          "output_type": "stream",
          "text": [
            "模型得分為 0.6276\n"
          ],
          "name": "stdout"
        }
      ]
    },
    {
      "cell_type": "code",
      "metadata": {
        "id": "_DBzuS_qHidh",
        "colab_type": "code",
        "outputId": "e5f5724c-28f3-4501-8748-e93af926f8db",
        "colab": {
          "base_uri": "https://localhost:8080/",
          "height": 34
        }
      },
      "source": [
        "a=model.intercept_\n",
        "b=model.coef_\n",
        "print('模型的迴歸方程是:y=%f+%f x'%(a,b))"
      ],
      "execution_count": 0,
      "outputs": [
        {
          "output_type": "stream",
          "text": [
            "模型的迴歸方程是:y=5.980502+17.095538 x\n"
          ],
          "name": "stdout"
        }
      ]
    },
    {
      "cell_type": "markdown",
      "metadata": {
        "id": "1A9ANF7QHoGE",
        "colab_type": "text"
      },
      "source": [
        "## 繪製圖型以檢視"
      ]
    },
    {
      "cell_type": "code",
      "metadata": {
        "id": "6saVV3uYHk1t",
        "colab_type": "code",
        "outputId": "76d6568f-06b2-4fb7-9c93-9226e3150a4a",
        "colab": {
          "base_uri": "https://localhost:8080/",
          "height": 279
        }
      },
      "source": [
        "plt.scatter(train_X,train_y,color='b',label='train data')\n",
        "test_y_pred=model.predict(test_X)\n",
        "plt.plot(test_X,test_y_pred,color='black',label='best line')\n",
        "plt.scatter(test_X,test_y,color='r',label='test data')\n",
        "plt.xlabel('學習時間')\n",
        "plt.ylabel('學習成績')\n",
        "plt.legend(loc=2)\n",
        "plt.show()"
      ],
      "execution_count": 0,
      "outputs": [
        {
          "output_type": "display_data",
          "data": {
            "image/png": "[encoded data removed]",
            "text/plain": [
              "<Figure size 432x288 with 1 Axes>"
            ]
          },
          "metadata": {
            "tags": [],
            "needs_background": "light"
          }
        }
      ]
    },
    {
      "cell_type": "code",
      "metadata": {
        "id": "T6Owe7k4Hs78",
        "colab_type": "code",
        "colab": {}
      },
      "source": [
        ""
      ],
      "execution_count": 0,
      "outputs": []
    }
  ]
}