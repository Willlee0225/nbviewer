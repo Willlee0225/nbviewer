{
  "nbformat": 4,
  "nbformat_minor": 0,
  "metadata": {
    "colab": {
      "name": "Stock prediction ",
      "provenance": [],
      "collapsed_sections": [],
      "include_colab_link": true
    },
    "kernelspec": {
      "name": "python3",
      "display_name": "Python 3"
    },
    "accelerator": "GPU",
    "widgets": {
      "application/vnd.jupyter.widget-state+json": {
        "41a0d05be24e4f2182aa9197ec19b735": {
          "model_module": "@jupyter-widgets/controls",
          "model_name": "VBoxModel",
          "state": {
            "_view_name": "VBoxView",
            "_dom_classes": [
              "widget-interact"
            ],
            "_model_name": "VBoxModel",
            "_view_module": "@jupyter-widgets/controls",
            "_model_module_version": "1.5.0",
            "_view_count": null,
            "_view_module_version": "1.5.0",
            "box_style": "",
            "layout": "IPY_MODEL_185be88bb5ca427bb024642a815eb5c6",
            "_model_module": "@jupyter-widgets/controls",
            "children": [
              "IPY_MODEL_aa933147b51145be8e7b46465340da77",
              "IPY_MODEL_3e275492b242403d9d62d7584724a2c5",
              "IPY_MODEL_9752a86ccd0c482e8393dfafe1f762ab"
            ]
          }
        },
        "185be88bb5ca427bb024642a815eb5c6": {
          "model_module": "@jupyter-widgets/base",
          "model_name": "LayoutModel",
          "state": {
            "_view_name": "LayoutView",
            "grid_template_rows": null,
            "right": null,
            "justify_content": null,
            "_view_module": "@jupyter-widgets/base",
            "overflow": null,
            "_model_module_version": "1.2.0",
            "_view_count": null,
            "flex_flow": null,
            "width": null,
            "min_width": null,
            "border": null,
            "align_items": null,
            "bottom": null,
            "_model_module": "@jupyter-widgets/base",
            "top": null,
            "grid_column": null,
            "overflow_y": null,
            "overflow_x": null,
            "grid_auto_flow": null,
            "grid_area": null,
            "grid_template_columns": null,
            "flex": null,
            "_model_name": "LayoutModel",
            "justify_items": null,
            "grid_row": null,
            "max_height": null,
            "align_content": null,
            "visibility": null,
            "align_self": null,
            "height": null,
            "min_height": null,
            "padding": null,
            "grid_auto_rows": null,
            "grid_gap": null,
            "max_width": null,
            "order": null,
            "_view_module_version": "1.2.0",
            "grid_template_areas": null,
            "object_position": null,
            "object_fit": null,
            "grid_auto_columns": null,
            "margin": null,
            "display": null,
            "left": null
          }
        },
        "aa933147b51145be8e7b46465340da77": {
          "model_module": "@jupyter-widgets/controls",
          "model_name": "IntSliderModel",
          "state": {
            "_view_name": "IntSliderView",
            "style": "IPY_MODEL_49cd713b3c7d4423b5b9600ad136230f",
            "_dom_classes": [],
            "description": "n",
            "step": 1,
            "_model_name": "IntSliderModel",
            "orientation": "horizontal",
            "max": 2216,
            "_view_module": "@jupyter-widgets/controls",
            "_model_module_version": "1.5.0",
            "value": 1930,
            "_view_count": null,
            "disabled": false,
            "_view_module_version": "1.5.0",
            "min": 0,
            "continuous_update": true,
            "readout_format": "d",
            "description_tooltip": null,
            "readout": true,
            "_model_module": "@jupyter-widgets/controls",
            "layout": "IPY_MODEL_fd6b76d737fa40a28c084ede5a2f9521"
          }
        },
        "3e275492b242403d9d62d7584724a2c5": {
          "model_module": "@jupyter-widgets/controls",
          "model_name": "ButtonModel",
          "state": {
            "_view_name": "ButtonView",
            "style": "IPY_MODEL_c2456ec917ec4283a456bf54f094c85c",
            "_dom_classes": [],
            "description": "Run Interact",
            "_model_name": "ButtonModel",
            "button_style": "",
            "_view_module": "@jupyter-widgets/controls",
            "_model_module_version": "1.5.0",
            "tooltip": "",
            "_view_count": null,
            "disabled": false,
            "_view_module_version": "1.5.0",
            "layout": "IPY_MODEL_f491d914fd3845979defa7b618706507",
            "_model_module": "@jupyter-widgets/controls",
            "icon": ""
          }
        },
        "9752a86ccd0c482e8393dfafe1f762ab": {
          "model_module": "@jupyter-widgets/output",
          "model_name": "OutputModel",
          "state": {
            "_view_name": "OutputView",
            "msg_id": "",
            "_dom_classes": [],
            "_model_name": "OutputModel",
            "outputs": [
              {
                "output_type": "stream",
                "metadata": {
                  "tags": []
                },
                "text": "實際的道瓊指數是： [[0.77962459]\n [0.77429601]\n [0.76339482]\n [0.77444309]\n [0.7810027 ]\n [0.7600576 ]\n [0.7308559 ]\n [0.73080556]\n [0.72134646]\n [0.74009587]]\n神經網路RNN的預測是： [[0.8708141 ]\n [0.8620578 ]\n [0.84142303]\n [0.8430703 ]\n [0.838131  ]\n [0.85058236]\n [0.858405  ]\n [0.8439516 ]\n [0.8197159 ]\n [0.8200992 ]]\n",
                "stream": "stdout"
              }
            ],
            "_view_module": "@jupyter-widgets/output",
            "_model_module_version": "1.0.0",
            "_view_count": null,
            "_view_module_version": "1.0.0",
            "layout": "IPY_MODEL_8f25ecbc56aa413e80c307312d696b1c",
            "_model_module": "@jupyter-widgets/output"
          }
        },
        "49cd713b3c7d4423b5b9600ad136230f": {
          "model_module": "@jupyter-widgets/controls",
          "model_name": "SliderStyleModel",
          "state": {
            "_view_name": "StyleView",
            "handle_color": null,
            "_model_name": "SliderStyleModel",
            "description_width": "",
            "_view_module": "@jupyter-widgets/base",
            "_model_module_version": "1.5.0",
            "_view_count": null,
            "_view_module_version": "1.2.0",
            "_model_module": "@jupyter-widgets/controls"
          }
        },
        "fd6b76d737fa40a28c084ede5a2f9521": {
          "model_module": "@jupyter-widgets/base",
          "model_name": "LayoutModel",
          "state": {
            "_view_name": "LayoutView",
            "grid_template_rows": null,
            "right": null,
            "justify_content": null,
            "_view_module": "@jupyter-widgets/base",
            "overflow": null,
            "_model_module_version": "1.2.0",
            "_view_count": null,
            "flex_flow": null,
            "width": null,
            "min_width": null,
            "border": null,
            "align_items": null,
            "bottom": null,
            "_model_module": "@jupyter-widgets/base",
            "top": null,
            "grid_column": null,
            "overflow_y": null,
            "overflow_x": null,
            "grid_auto_flow": null,
            "grid_area": null,
            "grid_template_columns": null,
            "flex": null,
            "_model_name": "LayoutModel",
            "justify_items": null,
            "grid_row": null,
            "max_height": null,
            "align_content": null,
            "visibility": null,
            "align_self": null,
            "height": null,
            "min_height": null,
            "padding": null,
            "grid_auto_rows": null,
            "grid_gap": null,
            "max_width": null,
            "order": null,
            "_view_module_version": "1.2.0",
            "grid_template_areas": null,
            "object_position": null,
            "object_fit": null,
            "grid_auto_columns": null,
            "margin": null,
            "display": null,
            "left": null
          }
        },
        "c2456ec917ec4283a456bf54f094c85c": {
          "model_module": "@jupyter-widgets/controls",
          "model_name": "ButtonStyleModel",
          "state": {
            "_view_name": "StyleView",
            "_model_name": "ButtonStyleModel",
            "_view_module": "@jupyter-widgets/base",
            "_model_module_version": "1.5.0",
            "_view_count": null,
            "button_color": null,
            "font_weight": "",
            "_view_module_version": "1.2.0",
            "_model_module": "@jupyter-widgets/controls"
          }
        },
        "f491d914fd3845979defa7b618706507": {
          "model_module": "@jupyter-widgets/base",
          "model_name": "LayoutModel",
          "state": {
            "_view_name": "LayoutView",
            "grid_template_rows": null,
            "right": null,
            "justify_content": null,
            "_view_module": "@jupyter-widgets/base",
            "overflow": null,
            "_model_module_version": "1.2.0",
            "_view_count": null,
            "flex_flow": null,
            "width": null,
            "min_width": null,
            "border": null,
            "align_items": null,
            "bottom": null,
            "_model_module": "@jupyter-widgets/base",
            "top": null,
            "grid_column": null,
            "overflow_y": null,
            "overflow_x": null,
            "grid_auto_flow": null,
            "grid_area": null,
            "grid_template_columns": null,
            "flex": null,
            "_model_name": "LayoutModel",
            "justify_items": null,
            "grid_row": null,
            "max_height": null,
            "align_content": null,
            "visibility": null,
            "align_self": null,
            "height": null,
            "min_height": null,
            "padding": null,
            "grid_auto_rows": null,
            "grid_gap": null,
            "max_width": null,
            "order": null,
            "_view_module_version": "1.2.0",
            "grid_template_areas": null,
            "object_position": null,
            "object_fit": null,
            "grid_auto_columns": null,
            "margin": null,
            "display": null,
            "left": null
          }
        },
        "8f25ecbc56aa413e80c307312d696b1c": {
          "model_module": "@jupyter-widgets/base",
          "model_name": "LayoutModel",
          "state": {
            "_view_name": "LayoutView",
            "grid_template_rows": null,
            "right": null,
            "justify_content": null,
            "_view_module": "@jupyter-widgets/base",
            "overflow": null,
            "_model_module_version": "1.2.0",
            "_view_count": null,
            "flex_flow": null,
            "width": null,
            "min_width": null,
            "border": null,
            "align_items": null,
            "bottom": null,
            "_model_module": "@jupyter-widgets/base",
            "top": null,
            "grid_column": null,
            "overflow_y": null,
            "overflow_x": null,
            "grid_auto_flow": null,
            "grid_area": null,
            "grid_template_columns": null,
            "flex": null,
            "_model_name": "LayoutModel",
            "justify_items": null,
            "grid_row": null,
            "max_height": null,
            "align_content": null,
            "visibility": null,
            "align_self": null,
            "height": null,
            "min_height": null,
            "padding": null,
            "grid_auto_rows": null,
            "grid_gap": null,
            "max_width": null,
            "order": null,
            "_view_module_version": "1.2.0",
            "grid_template_areas": null,
            "object_position": null,
            "object_fit": null,
            "grid_auto_columns": null,
            "margin": null,
            "display": null,
            "left": null
          }
        }
      }
    }
  },
  "cells": [
    {
      "cell_type": "markdown",
      "metadata": {
        "id": "view-in-github",
        "colab_type": "text"
      },
      "source": [
        "<a href=\"https://colab.research.google.com/github/Willlee0225/nbviewer/blob/master/Stock_prediction.ipynb\" target=\"_parent\"><img src=\"https://colab.research.google.com/assets/colab-badge.svg\" alt=\"Open In Colab\"/></a>"
      ]
    },
    {
      "cell_type": "markdown",
      "metadata": {
        "id": "l9-a9TYlAzey",
        "colab_type": "text"
      },
      "source": [
        "# 利用道瓊指數成分股，石油價格和相關指數來預測道瓊的漲跌\n",
        "\n"
      ]
    },
    {
      "cell_type": "markdown",
      "metadata": {
        "id": "TwefuIQwCu7G",
        "colab_type": "text"
      },
      "source": [
        "## 先將所需的套件獨進來\n",
        "##我們這次是使用RNN裡面的LSTM，因為RNN可以解決時間序列的問題，一般的標準神經網路，在inpute資料通常是沒有時間性的資料。而RNN透過將Hidden layer的output存在Memory裡，當下次input資料進去時，會同時考慮上一次存在Memory的值進行計算。"
      ]
    },
    {
      "cell_type": "code",
      "metadata": {
        "id": "JSKMphXHAx1L",
        "colab_type": "code",
        "colab": {}
      },
      "source": [
        "#coding=utf-8\n",
        "import pandas as pd\n",
        "import numpy as np\n",
        "from keras.models import Sequential,Model\n",
        "from keras.layers import Dense, Dropout, Activation, Flatten, LSTM, TimeDistributed, RepeatVector,Input\n",
        "from keras.optimizers import Adam\n",
        "from keras.callbacks import EarlyStopping, ModelCheckpoint\n",
        "import matplotlib.pyplot as plt\n",
        "from keras.utils import to_categorical\n",
        "%matplotlib inline"
      ],
      "execution_count": 0,
      "outputs": []
    },
    {
      "cell_type": "code",
      "metadata": {
        "id": "IoopMX83pBxH",
        "colab_type": "code",
        "colab": {}
      },
      "source": [
        "%tensorflow_version 2.x"
      ],
      "execution_count": 0,
      "outputs": []
    },
    {
      "cell_type": "code",
      "metadata": {
        "id": "NaHqLS-ipFmL",
        "colab_type": "code",
        "outputId": "32ad4bdb-0b7f-4428-bc5a-5029b5bf6d96",
        "colab": {
          "resources": {
            "http://localhost:8080/nbextensions/google.colab/files.js": {
              "data": "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",
              "ok": true,
              "headers": [
                [
                  "content-type",
                  "application/javascript"
                ]
              ],
              "status": 200,
              "status_text": ""
            }
          },
          "base_uri": "https://localhost:8080/",
          "height": 71
        }
      },
      "source": [
        "from google.colab import files\n",
        "uploaded = files.upload()"
      ],
      "execution_count": 141,
      "outputs": [
        {
          "output_type": "display_data",
          "data": {
            "text/html": [
              "\n",
              "     <input type=\"file\" id=\"files-11b271a0-7567-4a14-a7ea-97f4de836a73\" name=\"files[]\" multiple disabled />\n",
              "     <output id=\"result-11b271a0-7567-4a14-a7ea-97f4de836a73\">\n",
              "      Upload widget is only available when the cell has been executed in the\n",
              "      current browser session. Please rerun this cell to enable.\n",
              "      </output>\n",
              "      <script src=\"/nbextensions/google.colab/files.js\"></script> "
            ],
            "text/plain": [
              "<IPython.core.display.HTML object>"
            ]
          },
          "metadata": {
            "tags": []
          }
        },
        {
          "output_type": "stream",
          "text": [
            "Saving data3.csv to data3 (2).csv\n"
          ],
          "name": "stdout"
        }
      ]
    },
    {
      "cell_type": "code",
      "metadata": {
        "id": "mUqB1WuLpGGr",
        "colab_type": "code",
        "colab": {}
      },
      "source": [
        "import io\n",
        "df1 = pd.read_csv(io.BytesIO(uploaded['data3.csv']))"
      ],
      "execution_count": 0,
      "outputs": []
    },
    {
      "cell_type": "markdown",
      "metadata": {
        "id": "xCd6dgQpBdFI",
        "colab_type": "text"
      },
      "source": [
        "## 由於各項Features 的差距其實蠻大的，為了不要失真，我們將所有資料進行標準化，讓所有資料都介於0~1之間\n"
      ]
    },
    {
      "cell_type": "code",
      "metadata": {
        "id": "T2Kj2Gz6pYNE",
        "colab_type": "code",
        "colab": {}
      },
      "source": [
        "def normalize(df):\n",
        "    norm = df.apply(lambda x: (x - np.min(x)) / (np.max(x) - np.min(x)))\n",
        "    return norm"
      ],
      "execution_count": 0,
      "outputs": []
    },
    {
      "cell_type": "markdown",
      "metadata": {
        "id": "JmECfLOTCVRx",
        "colab_type": "text"
      },
      "source": [
        "## 1. LSTM model 有許多種變化，One to One 、 One to many 、 Many to one 或者 Many to many，經過多次嘗試，我們決定使用Many to one，亦即利用前五天的資料來預測下一天的漲跌，因此Input就是前五天的股價，而輸出就是第六天的股價。將5天的資料視為一句話(一個序列的意思)\n",
        "## 2. 用迴圈方式依序創建 X_train 跟 Y_train"
      ]
    },
    {
      "cell_type": "code",
      "metadata": {
        "id": "gG8EwnoSpasS",
        "colab_type": "code",
        "colab": {}
      },
      "source": [
        "def train_windows(df, ref_day=5, predict_day=1):\n",
        "    X_train, Y_train = [], []\n",
        "    for i in range(df.shape[0]-predict_day-ref_day):\n",
        "        X_train.append(np.array(df.iloc[i:i+ref_day,:-1]))\n",
        "        Y_train.append(np.array(df.iloc[i+ref_day:i+ref_day+predict_day][\"y\"]))\n",
        "    return np.array(X_train), np.array(Y_train)"
      ],
      "execution_count": 0,
      "outputs": []
    },
    {
      "cell_type": "markdown",
      "metadata": {
        "id": "-H4WlMH-IsCw",
        "colab_type": "text"
      },
      "source": [
        "### 將DOW 的每一個值都往前移一天"
      ]
    },
    {
      "cell_type": "code",
      "metadata": {
        "id": "HWvD3At6pdf6",
        "colab_type": "code",
        "colab": {}
      },
      "source": [
        "df1['y'] = df1['DOW'].shift(-1)"
      ],
      "execution_count": 0,
      "outputs": []
    },
    {
      "cell_type": "markdown",
      "metadata": {
        "id": "-sdKCD8MI1Zm",
        "colab_type": "text"
      },
      "source": [
        "### 進行標準化\n"
      ]
    },
    {
      "cell_type": "code",
      "metadata": {
        "id": "GCq2Bw-1pfKZ",
        "colab_type": "code",
        "colab": {}
      },
      "source": [
        "df1.iloc[:,[1,2,3,4,5,5,6,7,8,9,10,11,12,13,14,15,16,17,18,19,20,21,22,23,24,25,26,27,28,29]]=normalize(df1.iloc[:,[1,2,3,4,5,5,6,7,8,9,10,11,12,13,14,15,16,17,18,19,20,21,22,23,24,25,26,27,28,29]])"
      ],
      "execution_count": 0,
      "outputs": []
    },
    {
      "cell_type": "markdown",
      "metadata": {
        "id": "CMkEXd3-I7kC",
        "colab_type": "text"
      },
      "source": [
        "### 整理資料"
      ]
    },
    {
      "cell_type": "code",
      "metadata": {
        "id": "rbe4z-jIpg9i",
        "colab_type": "code",
        "colab": {}
      },
      "source": [
        "df1 = df1.dropna()"
      ],
      "execution_count": 0,
      "outputs": []
    },
    {
      "cell_type": "code",
      "metadata": {
        "id": "mASxw2t3pjK3",
        "colab_type": "code",
        "outputId": "40d2d1de-4bcc-4af7-fe75-481249137add",
        "colab": {
          "base_uri": "https://localhost:8080/",
          "height": 439
        }
      },
      "source": [
        "df1"
      ],
      "execution_count": 148,
      "outputs": [
        {
          "output_type": "execute_result",
          "data": {
            "text/html": [
              "<div>\n",
              "<style scoped>\n",
              "    .dataframe tbody tr th:only-of-type {\n",
              "        vertical-align: middle;\n",
              "    }\n",
              "\n",
              "    .dataframe tbody tr th {\n",
              "        vertical-align: top;\n",
              "    }\n",
              "\n",
              "    .dataframe thead th {\n",
              "        text-align: right;\n",
              "    }\n",
              "</style>\n",
              "<table border=\"1\" class=\"dataframe\">\n",
              "  <thead>\n",
              "    <tr style=\"text-align: right;\">\n",
              "      <th></th>\n",
              "      <th>Date</th>\n",
              "      <th>MMM</th>\n",
              "      <th>KO</th>\n",
              "      <th>CVX</th>\n",
              "      <th>CAT</th>\n",
              "      <th>BA</th>\n",
              "      <th>AXP</th>\n",
              "      <th>AAPL</th>\n",
              "      <th>XOM</th>\n",
              "      <th>WMT</th>\n",
              "      <th>WBA</th>\n",
              "      <th>VZ</th>\n",
              "      <th>UNH</th>\n",
              "      <th>TRV</th>\n",
              "      <th>PG</th>\n",
              "      <th>NIKE</th>\n",
              "      <th>MSFT</th>\n",
              "      <th>MRK</th>\n",
              "      <th>JPM</th>\n",
              "      <th>JNJ</th>\n",
              "      <th>INTC</th>\n",
              "      <th>IBM</th>\n",
              "      <th>HD</th>\n",
              "      <th>DIS</th>\n",
              "      <th>MCD</th>\n",
              "      <th>SP</th>\n",
              "      <th>NASDAQ</th>\n",
              "      <th>DOW</th>\n",
              "      <th>BP</th>\n",
              "      <th>y</th>\n",
              "    </tr>\n",
              "  </thead>\n",
              "  <tbody>\n",
              "    <tr>\n",
              "      <th>0</th>\n",
              "      <td>1987/5/20</td>\n",
              "      <td>0.028840</td>\n",
              "      <td>0.012630</td>\n",
              "      <td>0.052596</td>\n",
              "      <td>0.015463</td>\n",
              "      <td>0.018688</td>\n",
              "      <td>0.061161</td>\n",
              "      <td>0.038624</td>\n",
              "      <td>0.029384</td>\n",
              "      <td>0.010524</td>\n",
              "      <td>0.011279</td>\n",
              "      <td>0.007471</td>\n",
              "      <td>0.001533</td>\n",
              "      <td>0.019495</td>\n",
              "      <td>0.023713</td>\n",
              "      <td>0.000171</td>\n",
              "      <td>0.001815</td>\n",
              "      <td>0.002160</td>\n",
              "      <td>0.157860</td>\n",
              "      <td>0.016498</td>\n",
              "      <td>0.004135</td>\n",
              "      <td>0.185534</td>\n",
              "      <td>0.003513</td>\n",
              "      <td>0.028567</td>\n",
              "      <td>0.022746</td>\n",
              "      <td>0.040478</td>\n",
              "      <td>0.024113</td>\n",
              "      <td>0.038398</td>\n",
              "      <td>0.070671</td>\n",
              "      <td>0.039195</td>\n",
              "    </tr>\n",
              "    <tr>\n",
              "      <th>1</th>\n",
              "      <td>1987/5/21</td>\n",
              "      <td>0.027702</td>\n",
              "      <td>0.012259</td>\n",
              "      <td>0.052924</td>\n",
              "      <td>0.015772</td>\n",
              "      <td>0.018688</td>\n",
              "      <td>0.065379</td>\n",
              "      <td>0.023103</td>\n",
              "      <td>0.029204</td>\n",
              "      <td>0.012395</td>\n",
              "      <td>0.011279</td>\n",
              "      <td>0.004598</td>\n",
              "      <td>0.001533</td>\n",
              "      <td>0.020714</td>\n",
              "      <td>0.022169</td>\n",
              "      <td>0.000342</td>\n",
              "      <td>0.001933</td>\n",
              "      <td>0.003361</td>\n",
              "      <td>0.165886</td>\n",
              "      <td>0.016613</td>\n",
              "      <td>0.004135</td>\n",
              "      <td>0.186537</td>\n",
              "      <td>0.003634</td>\n",
              "      <td>0.030607</td>\n",
              "      <td>0.023845</td>\n",
              "      <td>0.041939</td>\n",
              "      <td>0.024513</td>\n",
              "      <td>0.039195</td>\n",
              "      <td>0.069336</td>\n",
              "      <td>0.040598</td>\n",
              "    </tr>\n",
              "    <tr>\n",
              "      <th>2</th>\n",
              "      <td>1987/5/22</td>\n",
              "      <td>0.028651</td>\n",
              "      <td>0.013930</td>\n",
              "      <td>0.052596</td>\n",
              "      <td>0.016082</td>\n",
              "      <td>0.019803</td>\n",
              "      <td>0.065906</td>\n",
              "      <td>0.012765</td>\n",
              "      <td>0.028483</td>\n",
              "      <td>0.012979</td>\n",
              "      <td>0.011279</td>\n",
              "      <td>0.011494</td>\n",
              "      <td>0.001533</td>\n",
              "      <td>0.020714</td>\n",
              "      <td>0.023492</td>\n",
              "      <td>0.000342</td>\n",
              "      <td>0.001742</td>\n",
              "      <td>0.004801</td>\n",
              "      <td>0.169231</td>\n",
              "      <td>0.016957</td>\n",
              "      <td>0.003609</td>\n",
              "      <td>0.185534</td>\n",
              "      <td>0.003674</td>\n",
              "      <td>0.030862</td>\n",
              "      <td>0.026456</td>\n",
              "      <td>0.043423</td>\n",
              "      <td>0.024281</td>\n",
              "      <td>0.040598</td>\n",
              "      <td>0.070078</td>\n",
              "      <td>0.045003</td>\n",
              "    </tr>\n",
              "    <tr>\n",
              "      <th>3</th>\n",
              "      <td>1987/5/26</td>\n",
              "      <td>0.032256</td>\n",
              "      <td>0.016716</td>\n",
              "      <td>0.054568</td>\n",
              "      <td>0.017782</td>\n",
              "      <td>0.020640</td>\n",
              "      <td>0.073815</td>\n",
              "      <td>0.020198</td>\n",
              "      <td>0.030105</td>\n",
              "      <td>0.014032</td>\n",
              "      <td>0.012062</td>\n",
              "      <td>0.017241</td>\n",
              "      <td>0.001594</td>\n",
              "      <td>0.026806</td>\n",
              "      <td>0.027353</td>\n",
              "      <td>0.000342</td>\n",
              "      <td>0.001815</td>\n",
              "      <td>0.004561</td>\n",
              "      <td>0.176589</td>\n",
              "      <td>0.018446</td>\n",
              "      <td>0.004345</td>\n",
              "      <td>0.191953</td>\n",
              "      <td>0.003875</td>\n",
              "      <td>0.035709</td>\n",
              "      <td>0.028655</td>\n",
              "      <td>0.048605</td>\n",
              "      <td>0.025122</td>\n",
              "      <td>0.045003</td>\n",
              "      <td>0.070671</td>\n",
              "      <td>0.044832</td>\n",
              "    </tr>\n",
              "    <tr>\n",
              "      <th>4</th>\n",
              "      <td>1987/5/27</td>\n",
              "      <td>0.032635</td>\n",
              "      <td>0.015973</td>\n",
              "      <td>0.054897</td>\n",
              "      <td>0.019020</td>\n",
              "      <td>0.024266</td>\n",
              "      <td>0.072233</td>\n",
              "      <td>0.024033</td>\n",
              "      <td>0.029564</td>\n",
              "      <td>0.014500</td>\n",
              "      <td>0.012376</td>\n",
              "      <td>0.022988</td>\n",
              "      <td>0.001533</td>\n",
              "      <td>0.028024</td>\n",
              "      <td>0.026470</td>\n",
              "      <td>0.000513</td>\n",
              "      <td>0.001815</td>\n",
              "      <td>0.005761</td>\n",
              "      <td>0.170569</td>\n",
              "      <td>0.018217</td>\n",
              "      <td>0.004345</td>\n",
              "      <td>0.192555</td>\n",
              "      <td>0.004517</td>\n",
              "      <td>0.036729</td>\n",
              "      <td>0.028518</td>\n",
              "      <td>0.048321</td>\n",
              "      <td>0.025375</td>\n",
              "      <td>0.044832</td>\n",
              "      <td>0.070449</td>\n",
              "      <td>0.046028</td>\n",
              "    </tr>\n",
              "    <tr>\n",
              "      <th>...</th>\n",
              "      <td>...</td>\n",
              "      <td>...</td>\n",
              "      <td>...</td>\n",
              "      <td>...</td>\n",
              "      <td>...</td>\n",
              "      <td>...</td>\n",
              "      <td>...</td>\n",
              "      <td>...</td>\n",
              "      <td>...</td>\n",
              "      <td>...</td>\n",
              "      <td>...</td>\n",
              "      <td>...</td>\n",
              "      <td>...</td>\n",
              "      <td>...</td>\n",
              "      <td>...</td>\n",
              "      <td>...</td>\n",
              "      <td>...</td>\n",
              "      <td>...</td>\n",
              "      <td>...</td>\n",
              "      <td>...</td>\n",
              "      <td>...</td>\n",
              "      <td>...</td>\n",
              "      <td>...</td>\n",
              "      <td>...</td>\n",
              "      <td>...</td>\n",
              "      <td>...</td>\n",
              "      <td>...</td>\n",
              "      <td>...</td>\n",
              "      <td>...</td>\n",
              "      <td>...</td>\n",
              "    </tr>\n",
              "    <tr>\n",
              "      <th>5994</th>\n",
              "      <td>2011/2/25</td>\n",
              "      <td>0.931998</td>\n",
              "      <td>0.719138</td>\n",
              "      <td>0.978015</td>\n",
              "      <td>0.961800</td>\n",
              "      <td>0.649266</td>\n",
              "      <td>0.639277</td>\n",
              "      <td>0.050898</td>\n",
              "      <td>0.887972</td>\n",
              "      <td>0.735267</td>\n",
              "      <td>0.809307</td>\n",
              "      <td>0.457412</td>\n",
              "      <td>0.666112</td>\n",
              "      <td>0.974266</td>\n",
              "      <td>0.832990</td>\n",
              "      <td>0.952716</td>\n",
              "      <td>0.443202</td>\n",
              "      <td>0.277753</td>\n",
              "      <td>0.695197</td>\n",
              "      <td>0.815512</td>\n",
              "      <td>0.286594</td>\n",
              "      <td>0.975802</td>\n",
              "      <td>0.536488</td>\n",
              "      <td>0.972200</td>\n",
              "      <td>0.922157</td>\n",
              "      <td>0.817131</td>\n",
              "      <td>0.523291</td>\n",
              "      <td>0.836302</td>\n",
              "      <td>0.788283</td>\n",
              "      <td>0.844019</td>\n",
              "    </tr>\n",
              "    <tr>\n",
              "      <th>5995</th>\n",
              "      <td>2011/2/28</td>\n",
              "      <td>0.956041</td>\n",
              "      <td>0.714502</td>\n",
              "      <td>0.995372</td>\n",
              "      <td>0.971004</td>\n",
              "      <td>0.646354</td>\n",
              "      <td>0.639932</td>\n",
              "      <td>0.054005</td>\n",
              "      <td>0.890164</td>\n",
              "      <td>0.738709</td>\n",
              "      <td>0.836778</td>\n",
              "      <td>0.476839</td>\n",
              "      <td>0.667054</td>\n",
              "      <td>0.980700</td>\n",
              "      <td>0.835955</td>\n",
              "      <td>0.964208</td>\n",
              "      <td>0.443708</td>\n",
              "      <td>0.282132</td>\n",
              "      <td>0.695358</td>\n",
              "      <td>0.841909</td>\n",
              "      <td>0.281346</td>\n",
              "      <td>0.973235</td>\n",
              "      <td>0.542196</td>\n",
              "      <td>0.991809</td>\n",
              "      <td>0.938517</td>\n",
              "      <td>0.822603</td>\n",
              "      <td>0.523548</td>\n",
              "      <td>0.844019</td>\n",
              "      <td>0.793771</td>\n",
              "      <td>0.830473</td>\n",
              "    </tr>\n",
              "    <tr>\n",
              "      <th>5996</th>\n",
              "      <td>2011/3/1</td>\n",
              "      <td>0.934548</td>\n",
              "      <td>0.726270</td>\n",
              "      <td>0.986430</td>\n",
              "      <td>0.940622</td>\n",
              "      <td>0.627376</td>\n",
              "      <td>0.633052</td>\n",
              "      <td>0.061157</td>\n",
              "      <td>0.881742</td>\n",
              "      <td>0.740056</td>\n",
              "      <td>0.824346</td>\n",
              "      <td>0.458434</td>\n",
              "      <td>0.665014</td>\n",
              "      <td>0.966858</td>\n",
              "      <td>0.831578</td>\n",
              "      <td>0.949651</td>\n",
              "      <td>0.436624</td>\n",
              "      <td>0.280864</td>\n",
              "      <td>0.677860</td>\n",
              "      <td>0.831057</td>\n",
              "      <td>0.280269</td>\n",
              "      <td>0.960976</td>\n",
              "      <td>0.531804</td>\n",
              "      <td>0.973193</td>\n",
              "      <td>0.928094</td>\n",
              "      <td>0.807028</td>\n",
              "      <td>0.514117</td>\n",
              "      <td>0.830473</td>\n",
              "      <td>0.810753</td>\n",
              "      <td>0.831179</td>\n",
              "    </tr>\n",
              "    <tr>\n",
              "      <th>5997</th>\n",
              "      <td>2011/3/2</td>\n",
              "      <td>0.944991</td>\n",
              "      <td>0.720565</td>\n",
              "      <td>0.992426</td>\n",
              "      <td>0.951607</td>\n",
              "      <td>0.621854</td>\n",
              "      <td>0.630922</td>\n",
              "      <td>0.080897</td>\n",
              "      <td>0.884973</td>\n",
              "      <td>0.738559</td>\n",
              "      <td>0.806700</td>\n",
              "      <td>0.464978</td>\n",
              "      <td>0.682438</td>\n",
              "      <td>0.958865</td>\n",
              "      <td>0.826919</td>\n",
              "      <td>0.956547</td>\n",
              "      <td>0.435275</td>\n",
              "      <td>0.282247</td>\n",
              "      <td>0.671599</td>\n",
              "      <td>0.832670</td>\n",
              "      <td>0.281615</td>\n",
              "      <td>0.962195</td>\n",
              "      <td>0.530341</td>\n",
              "      <td>0.980640</td>\n",
              "      <td>0.925455</td>\n",
              "      <td>0.808601</td>\n",
              "      <td>0.516358</td>\n",
              "      <td>0.831179</td>\n",
              "      <td>0.822024</td>\n",
              "      <td>0.846583</td>\n",
              "    </tr>\n",
              "    <tr>\n",
              "      <th>5998</th>\n",
              "      <td>2011/3/3</td>\n",
              "      <td>0.963084</td>\n",
              "      <td>0.734116</td>\n",
              "      <td>1.000000</td>\n",
              "      <td>0.984067</td>\n",
              "      <td>0.643342</td>\n",
              "      <td>0.651891</td>\n",
              "      <td>0.067176</td>\n",
              "      <td>0.893510</td>\n",
              "      <td>0.739158</td>\n",
              "      <td>0.820536</td>\n",
              "      <td>0.465387</td>\n",
              "      <td>0.701746</td>\n",
              "      <td>0.963544</td>\n",
              "      <td>0.828896</td>\n",
              "      <td>0.973074</td>\n",
              "      <td>0.437299</td>\n",
              "      <td>0.288238</td>\n",
              "      <td>0.685565</td>\n",
              "      <td>0.836190</td>\n",
              "      <td>0.285652</td>\n",
              "      <td>0.983504</td>\n",
              "      <td>0.543366</td>\n",
              "      <td>1.000000</td>\n",
              "      <td>0.945905</td>\n",
              "      <td>0.825399</td>\n",
              "      <td>0.527010</td>\n",
              "      <td>0.846583</td>\n",
              "      <td>0.812829</td>\n",
              "      <td>0.839475</td>\n",
              "    </tr>\n",
              "  </tbody>\n",
              "</table>\n",
              "<p>5999 rows × 30 columns</p>\n",
              "</div>"
            ],
            "text/plain": [
              "           Date       MMM        KO  ...       DOW        BP         y\n",
              "0     1987/5/20  0.028840  0.012630  ...  0.038398  0.070671  0.039195\n",
              "1     1987/5/21  0.027702  0.012259  ...  0.039195  0.069336  0.040598\n",
              "2     1987/5/22  0.028651  0.013930  ...  0.040598  0.070078  0.045003\n",
              "3     1987/5/26  0.032256  0.016716  ...  0.045003  0.070671  0.044832\n",
              "4     1987/5/27  0.032635  0.015973  ...  0.044832  0.070449  0.046028\n",
              "...         ...       ...       ...  ...       ...       ...       ...\n",
              "5994  2011/2/25  0.931998  0.719138  ...  0.836302  0.788283  0.844019\n",
              "5995  2011/2/28  0.956041  0.714502  ...  0.844019  0.793771  0.830473\n",
              "5996   2011/3/1  0.934548  0.726270  ...  0.830473  0.810753  0.831179\n",
              "5997   2011/3/2  0.944991  0.720565  ...  0.831179  0.822024  0.846583\n",
              "5998   2011/3/3  0.963084  0.734116  ...  0.846583  0.812829  0.839475\n",
              "\n",
              "[5999 rows x 30 columns]"
            ]
          },
          "metadata": {
            "tags": []
          },
          "execution_count": 148
        }
      ]
    },
    {
      "cell_type": "markdown",
      "metadata": {
        "id": "sRcpRhqtI_7a",
        "colab_type": "text"
      },
      "source": [
        "## 將測試資料讀進來"
      ]
    },
    {
      "cell_type": "code",
      "metadata": {
        "id": "dXG8MaLcpjxW",
        "colab_type": "code",
        "outputId": "e359faa1-996b-4aae-d09f-abb13951ef21",
        "colab": {
          "resources": {
            "http://localhost:8080/nbextensions/google.colab/files.js": {
              "data": "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",
              "ok": true,
              "headers": [
                [
                  "content-type",
                  "application/javascript"
                ]
              ],
              "status": 200,
              "status_text": ""
            }
          },
          "base_uri": "https://localhost:8080/",
          "height": 71
        }
      },
      "source": [
        "from google.colab import files\n",
        "uploaded = files.upload()"
      ],
      "execution_count": 149,
      "outputs": [
        {
          "output_type": "display_data",
          "data": {
            "text/html": [
              "\n",
              "     <input type=\"file\" id=\"files-7cf34c40-a8f7-4882-895a-e810320040af\" name=\"files[]\" multiple disabled />\n",
              "     <output id=\"result-7cf34c40-a8f7-4882-895a-e810320040af\">\n",
              "      Upload widget is only available when the cell has been executed in the\n",
              "      current browser session. Please rerun this cell to enable.\n",
              "      </output>\n",
              "      <script src=\"/nbextensions/google.colab/files.js\"></script> "
            ],
            "text/plain": [
              "<IPython.core.display.HTML object>"
            ]
          },
          "metadata": {
            "tags": []
          }
        },
        {
          "output_type": "stream",
          "text": [
            "Saving test3.csv to test3 (2).csv\n"
          ],
          "name": "stdout"
        }
      ]
    },
    {
      "cell_type": "code",
      "metadata": {
        "id": "1XJaXG9Ppn30",
        "colab_type": "code",
        "colab": {}
      },
      "source": [
        "import io\n",
        "df2 = pd.read_csv(io.BytesIO(uploaded['test3.csv']))"
      ],
      "execution_count": 0,
      "outputs": []
    },
    {
      "cell_type": "code",
      "metadata": {
        "id": "W4xSHbBOpuMd",
        "colab_type": "code",
        "colab": {}
      },
      "source": [
        "df2['y'] = df2['DOW'].shift(-1)"
      ],
      "execution_count": 0,
      "outputs": []
    },
    {
      "cell_type": "code",
      "metadata": {
        "id": "jMOkZzJnpv5I",
        "colab_type": "code",
        "colab": {}
      },
      "source": [
        "df2.iloc[:,[1,2,3,4,5,5,6,7,8,9,10,11,12,13,14,15,16,17,18,19,20,21,22,23,24,25,26,27,28,29]]=normalize(df2.iloc[:,[1,2,3,4,5,5,6,7,8,9,10,11,12,13,14,15,16,17,18,19,20,21,22,23,24,25,26,27,28,29]])"
      ],
      "execution_count": 0,
      "outputs": []
    },
    {
      "cell_type": "code",
      "metadata": {
        "id": "sEnfpRzkpxVp",
        "colab_type": "code",
        "colab": {}
      },
      "source": [
        "df2 = df2.dropna()"
      ],
      "execution_count": 0,
      "outputs": []
    },
    {
      "cell_type": "code",
      "metadata": {
        "id": "qCHfrnoUpyu7",
        "colab_type": "code",
        "colab": {}
      },
      "source": [
        "df1.drop(['Date'], axis=1, inplace=True)"
      ],
      "execution_count": 0,
      "outputs": []
    },
    {
      "cell_type": "code",
      "metadata": {
        "id": "ISPNQt83p2_k",
        "colab_type": "code",
        "colab": {}
      },
      "source": [
        "df2.drop(['Date'], axis=1, inplace=True)"
      ],
      "execution_count": 0,
      "outputs": []
    },
    {
      "cell_type": "code",
      "metadata": {
        "id": "qA7mh10MwF2N",
        "colab_type": "code",
        "outputId": "eed61e86-d08b-44bf-ff90-c2a474cafba3",
        "colab": {
          "base_uri": "https://localhost:8080/",
          "height": 439
        }
      },
      "source": [
        "df2"
      ],
      "execution_count": 156,
      "outputs": [
        {
          "output_type": "execute_result",
          "data": {
            "text/html": [
              "<div>\n",
              "<style scoped>\n",
              "    .dataframe tbody tr th:only-of-type {\n",
              "        vertical-align: middle;\n",
              "    }\n",
              "\n",
              "    .dataframe tbody tr th {\n",
              "        vertical-align: top;\n",
              "    }\n",
              "\n",
              "    .dataframe thead th {\n",
              "        text-align: right;\n",
              "    }\n",
              "</style>\n",
              "<table border=\"1\" class=\"dataframe\">\n",
              "  <thead>\n",
              "    <tr style=\"text-align: right;\">\n",
              "      <th></th>\n",
              "      <th>MMM</th>\n",
              "      <th>KO</th>\n",
              "      <th>CVX</th>\n",
              "      <th>CAT</th>\n",
              "      <th>BA</th>\n",
              "      <th>AXP</th>\n",
              "      <th>AAPL</th>\n",
              "      <th>XOM</th>\n",
              "      <th>WMT</th>\n",
              "      <th>WBA</th>\n",
              "      <th>VZ</th>\n",
              "      <th>UNH</th>\n",
              "      <th>TRV</th>\n",
              "      <th>PG</th>\n",
              "      <th>NIKE</th>\n",
              "      <th>MSFT</th>\n",
              "      <th>MRK</th>\n",
              "      <th>JPM</th>\n",
              "      <th>JNJ</th>\n",
              "      <th>INTC</th>\n",
              "      <th>IBM</th>\n",
              "      <th>HD</th>\n",
              "      <th>DIS</th>\n",
              "      <th>MCD</th>\n",
              "      <th>SP</th>\n",
              "      <th>NASDAQ</th>\n",
              "      <th>DOW</th>\n",
              "      <th>BP</th>\n",
              "      <th>y</th>\n",
              "    </tr>\n",
              "  </thead>\n",
              "  <tbody>\n",
              "    <tr>\n",
              "      <th>0</th>\n",
              "      <td>0.114385</td>\n",
              "      <td>0.061712</td>\n",
              "      <td>0.605110</td>\n",
              "      <td>0.391397</td>\n",
              "      <td>0.035150</td>\n",
              "      <td>0.014275</td>\n",
              "      <td>0.342770</td>\n",
              "      <td>0.730426</td>\n",
              "      <td>0.043017</td>\n",
              "      <td>0.189984</td>\n",
              "      <td>0.099827</td>\n",
              "      <td>0.006491</td>\n",
              "      <td>0.112561</td>\n",
              "      <td>0.046627</td>\n",
              "      <td>0.039286</td>\n",
              "      <td>0.012183</td>\n",
              "      <td>0.048530</td>\n",
              "      <td>0.149144</td>\n",
              "      <td>0.028002</td>\n",
              "      <td>0.040990</td>\n",
              "      <td>0.538379</td>\n",
              "      <td>0.038259</td>\n",
              "      <td>0.114318</td>\n",
              "      <td>0.022273</td>\n",
              "      <td>0.092220</td>\n",
              "      <td>0.054776</td>\n",
              "      <td>0.075927</td>\n",
              "      <td>0.929971</td>\n",
              "      <td>0.082508</td>\n",
              "    </tr>\n",
              "    <tr>\n",
              "      <th>1</th>\n",
              "      <td>0.121577</td>\n",
              "      <td>0.068871</td>\n",
              "      <td>0.614535</td>\n",
              "      <td>0.409099</td>\n",
              "      <td>0.038178</td>\n",
              "      <td>0.030454</td>\n",
              "      <td>0.212826</td>\n",
              "      <td>0.728781</td>\n",
              "      <td>0.048022</td>\n",
              "      <td>0.197961</td>\n",
              "      <td>0.116062</td>\n",
              "      <td>0.007515</td>\n",
              "      <td>0.113487</td>\n",
              "      <td>0.051581</td>\n",
              "      <td>0.040074</td>\n",
              "      <td>0.013334</td>\n",
              "      <td>0.050940</td>\n",
              "      <td>0.159879</td>\n",
              "      <td>0.031170</td>\n",
              "      <td>0.039367</td>\n",
              "      <td>0.557796</td>\n",
              "      <td>0.039037</td>\n",
              "      <td>0.115786</td>\n",
              "      <td>0.017211</td>\n",
              "      <td>0.097332</td>\n",
              "      <td>0.057468</td>\n",
              "      <td>0.082508</td>\n",
              "      <td>0.878910</td>\n",
              "      <td>0.082440</td>\n",
              "    </tr>\n",
              "    <tr>\n",
              "      <th>2</th>\n",
              "      <td>0.118487</td>\n",
              "      <td>0.068531</td>\n",
              "      <td>0.594320</td>\n",
              "      <td>0.393432</td>\n",
              "      <td>0.038308</td>\n",
              "      <td>0.028445</td>\n",
              "      <td>0.279226</td>\n",
              "      <td>0.725764</td>\n",
              "      <td>0.050763</td>\n",
              "      <td>0.201211</td>\n",
              "      <td>0.121934</td>\n",
              "      <td>0.010021</td>\n",
              "      <td>0.116634</td>\n",
              "      <td>0.050852</td>\n",
              "      <td>0.039374</td>\n",
              "      <td>0.013213</td>\n",
              "      <td>0.055922</td>\n",
              "      <td>0.161299</td>\n",
              "      <td>0.028002</td>\n",
              "      <td>0.040787</td>\n",
              "      <td>0.587375</td>\n",
              "      <td>0.041920</td>\n",
              "      <td>0.115134</td>\n",
              "      <td>0.018831</td>\n",
              "      <td>0.096545</td>\n",
              "      <td>0.055590</td>\n",
              "      <td>0.082440</td>\n",
              "      <td>0.879090</td>\n",
              "      <td>0.070348</td>\n",
              "    </tr>\n",
              "    <tr>\n",
              "      <th>3</th>\n",
              "      <td>0.101652</td>\n",
              "      <td>0.062905</td>\n",
              "      <td>0.556369</td>\n",
              "      <td>0.358293</td>\n",
              "      <td>0.036220</td>\n",
              "      <td>0.017553</td>\n",
              "      <td>0.316355</td>\n",
              "      <td>0.684629</td>\n",
              "      <td>0.050524</td>\n",
              "      <td>0.191609</td>\n",
              "      <td>0.113299</td>\n",
              "      <td>0.007364</td>\n",
              "      <td>0.108488</td>\n",
              "      <td>0.043421</td>\n",
              "      <td>0.037128</td>\n",
              "      <td>0.010304</td>\n",
              "      <td>0.049655</td>\n",
              "      <td>0.152160</td>\n",
              "      <td>0.019928</td>\n",
              "      <td>0.032468</td>\n",
              "      <td>0.555647</td>\n",
              "      <td>0.039174</td>\n",
              "      <td>0.109834</td>\n",
              "      <td>0.024906</td>\n",
              "      <td>0.085652</td>\n",
              "      <td>0.048813</td>\n",
              "      <td>0.070348</td>\n",
              "      <td>0.870550</td>\n",
              "      <td>0.073512</td>\n",
              "    </tr>\n",
              "    <tr>\n",
              "      <th>4</th>\n",
              "      <td>0.110176</td>\n",
              "      <td>0.054722</td>\n",
              "      <td>0.566911</td>\n",
              "      <td>0.372721</td>\n",
              "      <td>0.037134</td>\n",
              "      <td>0.020302</td>\n",
              "      <td>0.291395</td>\n",
              "      <td>0.694776</td>\n",
              "      <td>0.049809</td>\n",
              "      <td>0.191166</td>\n",
              "      <td>0.094300</td>\n",
              "      <td>0.006604</td>\n",
              "      <td>0.111821</td>\n",
              "      <td>0.043421</td>\n",
              "      <td>0.034182</td>\n",
              "      <td>0.011940</td>\n",
              "      <td>0.046923</td>\n",
              "      <td>0.154024</td>\n",
              "      <td>0.020746</td>\n",
              "      <td>0.034091</td>\n",
              "      <td>0.559035</td>\n",
              "      <td>0.039495</td>\n",
              "      <td>0.113584</td>\n",
              "      <td>0.025243</td>\n",
              "      <td>0.089662</td>\n",
              "      <td>0.050764</td>\n",
              "      <td>0.073512</td>\n",
              "      <td>0.856796</td>\n",
              "      <td>0.070801</td>\n",
              "    </tr>\n",
              "    <tr>\n",
              "      <th>...</th>\n",
              "      <td>...</td>\n",
              "      <td>...</td>\n",
              "      <td>...</td>\n",
              "      <td>...</td>\n",
              "      <td>...</td>\n",
              "      <td>...</td>\n",
              "      <td>...</td>\n",
              "      <td>...</td>\n",
              "      <td>...</td>\n",
              "      <td>...</td>\n",
              "      <td>...</td>\n",
              "      <td>...</td>\n",
              "      <td>...</td>\n",
              "      <td>...</td>\n",
              "      <td>...</td>\n",
              "      <td>...</td>\n",
              "      <td>...</td>\n",
              "      <td>...</td>\n",
              "      <td>...</td>\n",
              "      <td>...</td>\n",
              "      <td>...</td>\n",
              "      <td>...</td>\n",
              "      <td>...</td>\n",
              "      <td>...</td>\n",
              "      <td>...</td>\n",
              "      <td>...</td>\n",
              "      <td>...</td>\n",
              "      <td>...</td>\n",
              "      <td>...</td>\n",
              "    </tr>\n",
              "    <tr>\n",
              "      <th>2218</th>\n",
              "      <td>0.566489</td>\n",
              "      <td>0.837027</td>\n",
              "      <td>0.819546</td>\n",
              "      <td>0.799876</td>\n",
              "      <td>0.711699</td>\n",
              "      <td>0.875859</td>\n",
              "      <td>0.069022</td>\n",
              "      <td>0.527081</td>\n",
              "      <td>0.848189</td>\n",
              "      <td>0.443640</td>\n",
              "      <td>0.981347</td>\n",
              "      <td>0.964549</td>\n",
              "      <td>0.833102</td>\n",
              "      <td>0.984701</td>\n",
              "      <td>0.964885</td>\n",
              "      <td>0.819747</td>\n",
              "      <td>0.991322</td>\n",
              "      <td>0.982699</td>\n",
              "      <td>0.900256</td>\n",
              "      <td>0.829748</td>\n",
              "      <td>0.334628</td>\n",
              "      <td>0.876207</td>\n",
              "      <td>0.951973</td>\n",
              "      <td>0.844897</td>\n",
              "      <td>0.936102</td>\n",
              "      <td>0.891656</td>\n",
              "      <td>0.952045</td>\n",
              "      <td>0.125584</td>\n",
              "      <td>0.942354</td>\n",
              "    </tr>\n",
              "    <tr>\n",
              "      <th>2219</th>\n",
              "      <td>0.558871</td>\n",
              "      <td>0.834299</td>\n",
              "      <td>0.813965</td>\n",
              "      <td>0.793149</td>\n",
              "      <td>0.701939</td>\n",
              "      <td>0.866448</td>\n",
              "      <td>0.067549</td>\n",
              "      <td>0.521459</td>\n",
              "      <td>0.845925</td>\n",
              "      <td>0.442015</td>\n",
              "      <td>0.970294</td>\n",
              "      <td>0.956502</td>\n",
              "      <td>0.830232</td>\n",
              "      <td>0.961096</td>\n",
              "      <td>0.955902</td>\n",
              "      <td>0.811443</td>\n",
              "      <td>0.983770</td>\n",
              "      <td>0.978174</td>\n",
              "      <td>0.895657</td>\n",
              "      <td>0.820414</td>\n",
              "      <td>0.314302</td>\n",
              "      <td>0.864034</td>\n",
              "      <td>0.935828</td>\n",
              "      <td>0.836393</td>\n",
              "      <td>0.927912</td>\n",
              "      <td>0.883552</td>\n",
              "      <td>0.942354</td>\n",
              "      <td>0.115876</td>\n",
              "      <td>0.946392</td>\n",
              "    </tr>\n",
              "    <tr>\n",
              "      <th>2220</th>\n",
              "      <td>0.562014</td>\n",
              "      <td>0.837027</td>\n",
              "      <td>0.822151</td>\n",
              "      <td>0.794565</td>\n",
              "      <td>0.700269</td>\n",
              "      <td>0.868457</td>\n",
              "      <td>0.037899</td>\n",
              "      <td>0.525572</td>\n",
              "      <td>0.839252</td>\n",
              "      <td>0.442754</td>\n",
              "      <td>0.976857</td>\n",
              "      <td>0.956995</td>\n",
              "      <td>0.834490</td>\n",
              "      <td>0.967361</td>\n",
              "      <td>0.961851</td>\n",
              "      <td>0.812110</td>\n",
              "      <td>0.982484</td>\n",
              "      <td>0.985006</td>\n",
              "      <td>0.901482</td>\n",
              "      <td>0.825081</td>\n",
              "      <td>0.324465</td>\n",
              "      <td>0.868930</td>\n",
              "      <td>0.942841</td>\n",
              "      <td>0.841118</td>\n",
              "      <td>0.932062</td>\n",
              "      <td>0.887109</td>\n",
              "      <td>0.946392</td>\n",
              "      <td>0.123876</td>\n",
              "      <td>0.963875</td>\n",
              "    </tr>\n",
              "    <tr>\n",
              "      <th>2221</th>\n",
              "      <td>0.581087</td>\n",
              "      <td>0.824753</td>\n",
              "      <td>0.833561</td>\n",
              "      <td>0.819791</td>\n",
              "      <td>0.719997</td>\n",
              "      <td>0.882838</td>\n",
              "      <td>0.061638</td>\n",
              "      <td>0.540930</td>\n",
              "      <td>0.840443</td>\n",
              "      <td>0.444527</td>\n",
              "      <td>0.964767</td>\n",
              "      <td>0.951378</td>\n",
              "      <td>0.839674</td>\n",
              "      <td>0.945651</td>\n",
              "      <td>0.972234</td>\n",
              "      <td>0.829808</td>\n",
              "      <td>1.000000</td>\n",
              "      <td>1.000000</td>\n",
              "      <td>0.902504</td>\n",
              "      <td>0.845170</td>\n",
              "      <td>0.335867</td>\n",
              "      <td>0.874788</td>\n",
              "      <td>0.971950</td>\n",
              "      <td>0.862581</td>\n",
              "      <td>0.943898</td>\n",
              "      <td>0.903094</td>\n",
              "      <td>0.963875</td>\n",
              "      <td>0.124056</td>\n",
              "      <td>0.951496</td>\n",
              "    </tr>\n",
              "    <tr>\n",
              "      <th>2222</th>\n",
              "      <td>0.572829</td>\n",
              "      <td>0.814524</td>\n",
              "      <td>0.828352</td>\n",
              "      <td>0.801292</td>\n",
              "      <td>0.718536</td>\n",
              "      <td>0.869620</td>\n",
              "      <td>0.069061</td>\n",
              "      <td>0.533114</td>\n",
              "      <td>0.827931</td>\n",
              "      <td>0.444527</td>\n",
              "      <td>0.942314</td>\n",
              "      <td>0.940143</td>\n",
              "      <td>0.835138</td>\n",
              "      <td>0.933557</td>\n",
              "      <td>0.968968</td>\n",
              "      <td>0.817686</td>\n",
              "      <td>0.987305</td>\n",
              "      <td>0.975601</td>\n",
              "      <td>0.885233</td>\n",
              "      <td>0.830154</td>\n",
              "      <td>0.326944</td>\n",
              "      <td>0.871447</td>\n",
              "      <td>0.958089</td>\n",
              "      <td>0.857789</td>\n",
              "      <td>0.933841</td>\n",
              "      <td>0.893547</td>\n",
              "      <td>0.951496</td>\n",
              "      <td>0.114977</td>\n",
              "      <td>0.955121</td>\n",
              "    </tr>\n",
              "  </tbody>\n",
              "</table>\n",
              "<p>2223 rows × 29 columns</p>\n",
              "</div>"
            ],
            "text/plain": [
              "           MMM        KO       CVX  ...       DOW        BP         y\n",
              "0     0.114385  0.061712  0.605110  ...  0.075927  0.929971  0.082508\n",
              "1     0.121577  0.068871  0.614535  ...  0.082508  0.878910  0.082440\n",
              "2     0.118487  0.068531  0.594320  ...  0.082440  0.879090  0.070348\n",
              "3     0.101652  0.062905  0.556369  ...  0.070348  0.870550  0.073512\n",
              "4     0.110176  0.054722  0.566911  ...  0.073512  0.856796  0.070801\n",
              "...        ...       ...       ...  ...       ...       ...       ...\n",
              "2218  0.566489  0.837027  0.819546  ...  0.952045  0.125584  0.942354\n",
              "2219  0.558871  0.834299  0.813965  ...  0.942354  0.115876  0.946392\n",
              "2220  0.562014  0.837027  0.822151  ...  0.946392  0.123876  0.963875\n",
              "2221  0.581087  0.824753  0.833561  ...  0.963875  0.124056  0.951496\n",
              "2222  0.572829  0.814524  0.828352  ...  0.951496  0.114977  0.955121\n",
              "\n",
              "[2223 rows x 29 columns]"
            ]
          },
          "metadata": {
            "tags": []
          },
          "execution_count": 156
        }
      ]
    },
    {
      "cell_type": "markdown",
      "metadata": {
        "id": "P_baBT3nJEPU",
        "colab_type": "text"
      },
      "source": [
        "### 建立LSTM模型，LSTM輸入必須是三維的，我們可以把一個二維序列映射成有5個樣本、時間步長為5、28個特徵的三維序列，主要使用兩層lstm以及兩層dense進行預測，activation function 選擇sigmoid，在利用TimeDistributed層來處理LSTM隱藏層的輸出，解決序列預測問題。\n",
        "\n",
        "1. 輸入必須(至少)是三維的。這就意味著需要在TimeDistributed包裝密集層前配置最後一個LSTM層以便返回序列(例如將「return_sequences」參數設置為「True」)\n",
        "2. 輸出將也是三維的。如果TimeDistributed包裝密集層是輸出層，並且是用於預測序列，那麼就得將y數組的大小調整成三維的向量。\n",
        "3. 通過將「return_sequences」參數設置為「True」來定義LSTM隱藏層返回序列而不是單獨的一個值。\n",
        "4. 之後在使用Flatten 壓縮回二維\n",
        "\n",
        "\n",
        "### 定義一個每次有1個輸入的網絡模型，第一個隱藏層是有5個神經元的LSTMs，輸出層是只有一個輸出的全連接層，模型採用有效的ADAM優化算法，均方差誤差作為損失函數。\n",
        "\n"
      ]
    },
    {
      "cell_type": "code",
      "metadata": {
        "id": "h9vHVosop41k",
        "colab_type": "code",
        "colab": {}
      },
      "source": [
        "def lstm_stock_model(shape):\n",
        "    model = Sequential()\n",
        "    model.add(LSTM(256, input_shape=(shape[1], shape[2]), return_sequences=True))\n",
        "    model.add(LSTM(256, return_sequences=True))\n",
        "    model.add(TimeDistributed(Dense(1)))\n",
        "    model.add(Flatten())\n",
        "    model.add(Dense(5,activation='sigmoid'))\n",
        "    model.add(Dense(1,activation='sigmoid'))\n",
        "    model.compile(loss=\"mean_absolute_error\", optimizer=\"adam\",metrics=['mean_absolute_error'])\n",
        "    model.summary()\n",
        "    return model"
      ],
      "execution_count": 0,
      "outputs": []
    },
    {
      "cell_type": "code",
      "metadata": {
        "id": "ZJiYlGvWqRf4",
        "colab_type": "code",
        "colab": {}
      },
      "source": [
        "X_train, Y_train = train_windows(df1, 5, 1)\n",
        "X_test, Y_test = train_windows(df2, 5, 1)"
      ],
      "execution_count": 0,
      "outputs": []
    },
    {
      "cell_type": "code",
      "metadata": {
        "id": "bIVP4VlzqkbF",
        "colab_type": "code",
        "outputId": "e9fcdff7-4613-420a-cba5-3bef750b573e",
        "colab": {
          "base_uri": "https://localhost:8080/",
          "height": 357
        }
      },
      "source": [
        "model = lstm_stock_model(X_train.shape)\n",
        "callback = EarlyStopping(monitor=\"mean_absolute_error\", patience=10, verbose=5, mode=\"auto\")"
      ],
      "execution_count": 159,
      "outputs": [
        {
          "output_type": "stream",
          "text": [
            "Model: \"sequential_9\"\n",
            "_________________________________________________________________\n",
            "Layer (type)                 Output Shape              Param #   \n",
            "=================================================================\n",
            "lstm_19 (LSTM)               (None, 5, 256)            291840    \n",
            "_________________________________________________________________\n",
            "lstm_20 (LSTM)               (None, 5, 256)            525312    \n",
            "_________________________________________________________________\n",
            "time_distributed_9 (TimeDist (None, 5, 1)              257       \n",
            "_________________________________________________________________\n",
            "flatten_8 (Flatten)          (None, 5)                 0         \n",
            "_________________________________________________________________\n",
            "dense_26 (Dense)             (None, 5)                 30        \n",
            "_________________________________________________________________\n",
            "dense_27 (Dense)             (None, 1)                 6         \n",
            "=================================================================\n",
            "Total params: 817,445\n",
            "Trainable params: 817,445\n",
            "Non-trainable params: 0\n",
            "_________________________________________________________________\n"
          ],
          "name": "stdout"
        }
      ]
    },
    {
      "cell_type": "code",
      "metadata": {
        "id": "jO8twU8lqpHD",
        "colab_type": "code",
        "outputId": "75d6ef6d-4f97-4a0b-f592-b6e5e8914d14",
        "colab": {
          "base_uri": "https://localhost:8080/",
          "height": 1000
        }
      },
      "source": [
        "\n",
        "history = model.fit(X_train, Y_train, epochs=50, batch_size=1, validation_split=0.1, callbacks=[callback],shuffle=True)"
      ],
      "execution_count": 161,
      "outputs": [
        {
          "output_type": "stream",
          "text": [
            "Train on 5393 samples, validate on 600 samples\n",
            "Epoch 1/50\n",
            "5393/5393 [==============================] - 111s 21ms/step - loss: 0.0372 - mean_absolute_error: 0.0372 - val_loss: 0.1104 - val_mean_absolute_error: 0.1104\n",
            "Epoch 2/50\n",
            "5393/5393 [==============================] - 112s 21ms/step - loss: 0.0218 - mean_absolute_error: 0.0218 - val_loss: 0.0720 - val_mean_absolute_error: 0.0720\n",
            "Epoch 3/50\n",
            "5393/5393 [==============================] - 111s 21ms/step - loss: 0.0185 - mean_absolute_error: 0.0185 - val_loss: 0.0586 - val_mean_absolute_error: 0.0586\n",
            "Epoch 4/50\n",
            "5393/5393 [==============================] - 112s 21ms/step - loss: 0.0166 - mean_absolute_error: 0.0166 - val_loss: 0.0983 - val_mean_absolute_error: 0.0983\n",
            "Epoch 5/50\n",
            "5393/5393 [==============================] - 112s 21ms/step - loss: 0.0152 - mean_absolute_error: 0.0152 - val_loss: 0.0824 - val_mean_absolute_error: 0.0824\n",
            "Epoch 6/50\n",
            "5393/5393 [==============================] - 112s 21ms/step - loss: 0.0142 - mean_absolute_error: 0.0142 - val_loss: 0.0661 - val_mean_absolute_error: 0.0661\n",
            "Epoch 7/50\n",
            "5393/5393 [==============================] - 114s 21ms/step - loss: 0.0135 - mean_absolute_error: 0.0135 - val_loss: 0.0551 - val_mean_absolute_error: 0.0551\n",
            "Epoch 8/50\n",
            "5393/5393 [==============================] - 114s 21ms/step - loss: 0.0130 - mean_absolute_error: 0.0130 - val_loss: 0.0795 - val_mean_absolute_error: 0.0795\n",
            "Epoch 9/50\n",
            "5393/5393 [==============================] - 113s 21ms/step - loss: 0.0125 - mean_absolute_error: 0.0125 - val_loss: 0.0659 - val_mean_absolute_error: 0.0659\n",
            "Epoch 10/50\n",
            "5393/5393 [==============================] - 114s 21ms/step - loss: 0.0120 - mean_absolute_error: 0.0120 - val_loss: 0.0768 - val_mean_absolute_error: 0.0768\n",
            "Epoch 11/50\n",
            "5393/5393 [==============================] - 113s 21ms/step - loss: 0.0118 - mean_absolute_error: 0.0118 - val_loss: 0.0718 - val_mean_absolute_error: 0.0718\n",
            "Epoch 12/50\n",
            "5393/5393 [==============================] - 112s 21ms/step - loss: 0.0114 - mean_absolute_error: 0.0114 - val_loss: 0.0974 - val_mean_absolute_error: 0.0974\n",
            "Epoch 13/50\n",
            "5393/5393 [==============================] - 112s 21ms/step - loss: 0.0115 - mean_absolute_error: 0.0115 - val_loss: 0.0704 - val_mean_absolute_error: 0.0704\n",
            "Epoch 14/50\n",
            "5393/5393 [==============================] - 111s 21ms/step - loss: 0.0110 - mean_absolute_error: 0.0110 - val_loss: 0.0765 - val_mean_absolute_error: 0.0765\n",
            "Epoch 15/50\n",
            "5393/5393 [==============================] - 111s 20ms/step - loss: 0.0108 - mean_absolute_error: 0.0108 - val_loss: 0.0810 - val_mean_absolute_error: 0.0810\n",
            "Epoch 16/50\n",
            "5393/5393 [==============================] - 110s 20ms/step - loss: 0.0108 - mean_absolute_error: 0.0108 - val_loss: 0.0523 - val_mean_absolute_error: 0.0523\n",
            "Epoch 17/50\n",
            "5393/5393 [==============================] - 110s 20ms/step - loss: 0.0106 - mean_absolute_error: 0.0106 - val_loss: 0.0647 - val_mean_absolute_error: 0.0647\n",
            "Epoch 18/50\n",
            "5393/5393 [==============================] - 111s 21ms/step - loss: 0.0104 - mean_absolute_error: 0.0104 - val_loss: 0.0662 - val_mean_absolute_error: 0.0662\n",
            "Epoch 19/50\n",
            "5393/5393 [==============================] - 110s 20ms/step - loss: 0.0102 - mean_absolute_error: 0.0102 - val_loss: 0.0717 - val_mean_absolute_error: 0.0717\n",
            "Epoch 20/50\n",
            "5393/5393 [==============================] - 110s 20ms/step - loss: 0.0100 - mean_absolute_error: 0.0100 - val_loss: 0.0867 - val_mean_absolute_error: 0.0867\n",
            "Epoch 21/50\n",
            "5393/5393 [==============================] - 110s 20ms/step - loss: 0.0099 - mean_absolute_error: 0.0099 - val_loss: 0.0884 - val_mean_absolute_error: 0.0884\n",
            "Epoch 22/50\n",
            "5393/5393 [==============================] - 110s 20ms/step - loss: 0.0099 - mean_absolute_error: 0.0099 - val_loss: 0.0682 - val_mean_absolute_error: 0.0682\n",
            "Epoch 23/50\n",
            "5393/5393 [==============================] - 110s 20ms/step - loss: 0.0100 - mean_absolute_error: 0.0100 - val_loss: 0.0553 - val_mean_absolute_error: 0.0553\n",
            "Epoch 24/50\n",
            "5393/5393 [==============================] - 112s 21ms/step - loss: 0.0096 - mean_absolute_error: 0.0096 - val_loss: 0.0783 - val_mean_absolute_error: 0.0783\n",
            "Epoch 25/50\n",
            "5393/5393 [==============================] - 110s 20ms/step - loss: 0.0098 - mean_absolute_error: 0.0098 - val_loss: 0.0765 - val_mean_absolute_error: 0.0765\n",
            "Epoch 26/50\n",
            "5393/5393 [==============================] - 112s 21ms/step - loss: 0.0096 - mean_absolute_error: 0.0096 - val_loss: 0.0545 - val_mean_absolute_error: 0.0545\n",
            "Epoch 27/50\n",
            "5393/5393 [==============================] - 111s 21ms/step - loss: 0.0096 - mean_absolute_error: 0.0096 - val_loss: 0.0721 - val_mean_absolute_error: 0.0721\n",
            "Epoch 28/50\n",
            "5393/5393 [==============================] - 112s 21ms/step - loss: 0.0095 - mean_absolute_error: 0.0095 - val_loss: 0.0561 - val_mean_absolute_error: 0.0561\n",
            "Epoch 29/50\n",
            "5393/5393 [==============================] - 115s 21ms/step - loss: 0.0094 - mean_absolute_error: 0.0094 - val_loss: 0.0829 - val_mean_absolute_error: 0.0829\n",
            "Epoch 30/50\n",
            "5393/5393 [==============================] - 114s 21ms/step - loss: 0.0095 - mean_absolute_error: 0.0095 - val_loss: 0.0541 - val_mean_absolute_error: 0.0541\n",
            "Epoch 31/50\n",
            "5393/5393 [==============================] - 114s 21ms/step - loss: 0.0092 - mean_absolute_error: 0.0092 - val_loss: 0.0776 - val_mean_absolute_error: 0.0776\n",
            "Epoch 32/50\n",
            "5393/5393 [==============================] - 115s 21ms/step - loss: 0.0092 - mean_absolute_error: 0.0092 - val_loss: 0.0884 - val_mean_absolute_error: 0.0884\n",
            "Epoch 33/50\n",
            "5393/5393 [==============================] - 114s 21ms/step - loss: 0.0091 - mean_absolute_error: 0.0091 - val_loss: 0.0719 - val_mean_absolute_error: 0.0719\n",
            "Epoch 34/50\n",
            "5393/5393 [==============================] - 113s 21ms/step - loss: 0.0091 - mean_absolute_error: 0.0091 - val_loss: 0.0676 - val_mean_absolute_error: 0.0676\n",
            "Epoch 35/50\n",
            "5393/5393 [==============================] - 113s 21ms/step - loss: 0.0091 - mean_absolute_error: 0.0091 - val_loss: 0.0607 - val_mean_absolute_error: 0.0607\n",
            "Epoch 36/50\n",
            "5393/5393 [==============================] - 113s 21ms/step - loss: 0.0089 - mean_absolute_error: 0.0089 - val_loss: 0.0759 - val_mean_absolute_error: 0.0759\n",
            "Epoch 37/50\n",
            "5393/5393 [==============================] - 113s 21ms/step - loss: 0.0090 - mean_absolute_error: 0.0090 - val_loss: 0.0787 - val_mean_absolute_error: 0.0787\n",
            "Epoch 38/50\n",
            "5393/5393 [==============================] - 115s 21ms/step - loss: 0.0090 - mean_absolute_error: 0.0090 - val_loss: 0.0758 - val_mean_absolute_error: 0.0758\n",
            "Epoch 39/50\n",
            "5393/5393 [==============================] - 114s 21ms/step - loss: 0.0088 - mean_absolute_error: 0.0088 - val_loss: 0.0586 - val_mean_absolute_error: 0.0586\n",
            "Epoch 40/50\n",
            "5393/5393 [==============================] - 114s 21ms/step - loss: 0.0087 - mean_absolute_error: 0.0087 - val_loss: 0.0712 - val_mean_absolute_error: 0.0712\n",
            "Epoch 41/50\n",
            "5393/5393 [==============================] - 114s 21ms/step - loss: 0.0087 - mean_absolute_error: 0.0087 - val_loss: 0.0461 - val_mean_absolute_error: 0.0461\n",
            "Epoch 42/50\n",
            "5393/5393 [==============================] - 114s 21ms/step - loss: 0.0088 - mean_absolute_error: 0.0088 - val_loss: 0.0574 - val_mean_absolute_error: 0.0574\n",
            "Epoch 43/50\n",
            "5393/5393 [==============================] - 114s 21ms/step - loss: 0.0088 - mean_absolute_error: 0.0088 - val_loss: 0.0659 - val_mean_absolute_error: 0.0659\n",
            "Epoch 44/50\n",
            "5393/5393 [==============================] - 113s 21ms/step - loss: 0.0087 - mean_absolute_error: 0.0087 - val_loss: 0.0742 - val_mean_absolute_error: 0.0742\n",
            "Epoch 45/50\n",
            "5393/5393 [==============================] - 112s 21ms/step - loss: 0.0086 - mean_absolute_error: 0.0086 - val_loss: 0.0769 - val_mean_absolute_error: 0.0769\n",
            "Epoch 46/50\n",
            "5393/5393 [==============================] - 111s 21ms/step - loss: 0.0085 - mean_absolute_error: 0.0085 - val_loss: 0.0741 - val_mean_absolute_error: 0.0741\n",
            "Epoch 47/50\n",
            "5393/5393 [==============================] - 110s 20ms/step - loss: 0.0086 - mean_absolute_error: 0.0086 - val_loss: 0.0761 - val_mean_absolute_error: 0.0761\n",
            "Epoch 48/50\n",
            "5393/5393 [==============================] - 112s 21ms/step - loss: 0.0087 - mean_absolute_error: 0.0087 - val_loss: 0.0732 - val_mean_absolute_error: 0.0732\n",
            "Epoch 49/50\n",
            "5393/5393 [==============================] - 113s 21ms/step - loss: 0.0085 - mean_absolute_error: 0.0085 - val_loss: 0.0560 - val_mean_absolute_error: 0.0560\n",
            "Epoch 50/50\n",
            "5393/5393 [==============================] - 113s 21ms/step - loss: 0.0084 - mean_absolute_error: 0.0084 - val_loss: 0.0719 - val_mean_absolute_error: 0.0719\n"
          ],
          "name": "stdout"
        }
      ]
    },
    {
      "cell_type": "code",
      "metadata": {
        "id": "jfyjhE-Z3-4S",
        "colab_type": "code",
        "outputId": "8cc2dfce-ddef-4ee3-b52f-e16a08dbeb64",
        "colab": {
          "base_uri": "https://localhost:8080/",
          "height": 34
        }
      },
      "source": [
        "score=model.evaluate(X_test,Y_test,verbose=0)\n",
        "score"
      ],
      "execution_count": 162,
      "outputs": [
        {
          "output_type": "execute_result",
          "data": {
            "text/plain": [
              "[0.14629918463313074, 0.14629919826984406]"
            ]
          },
          "metadata": {
            "tags": []
          },
          "execution_count": 162
        }
      ]
    },
    {
      "cell_type": "code",
      "metadata": {
        "id": "-kl4ST-uq1XO",
        "colab_type": "code",
        "outputId": "60921a3e-f564-4caf-e4b7-4d4de6db8eb7",
        "colab": {
          "base_uri": "https://localhost:8080/",
          "height": 282
        }
      },
      "source": [
        "plt.plot(history.history['loss'])"
      ],
      "execution_count": 163,
      "outputs": [
        {
          "output_type": "execute_result",
          "data": {
            "text/plain": [
              "[<matplotlib.lines.Line2D at 0x7f759b6bbf60>]"
            ]
          },
          "metadata": {
            "tags": []
          },
          "execution_count": 163
        },
        {
          "output_type": "display_data",
          "data": {
            "image/png": "[encoded data removed]",
            "text/plain": [
              "<Figure size 432x288 with 1 Axes>"
            ]
          },
          "metadata": {
            "tags": [],
            "needs_background": "light"
          }
        }
      ]
    },
    {
      "cell_type": "code",
      "metadata": {
        "id": "BAi4WlgAtVMr",
        "colab_type": "code",
        "colab": {}
      },
      "source": [
        "real_stock_price = Y_test"
      ],
      "execution_count": 0,
      "outputs": []
    },
    {
      "cell_type": "code",
      "metadata": {
        "id": "n8YaHjlJuhtt",
        "colab_type": "code",
        "outputId": "fef07d9d-df36-460d-beca-822e65b919cd",
        "colab": {
          "base_uri": "https://localhost:8080/",
          "height": 136
        }
      },
      "source": [
        "real_stock_price"
      ],
      "execution_count": 165,
      "outputs": [
        {
          "output_type": "execute_result",
          "data": {
            "text/plain": [
              "array([[0.06351146],\n",
              "       [0.05069824],\n",
              "       [0.05923385],\n",
              "       ...,\n",
              "       [0.94639214],\n",
              "       [0.96387517],\n",
              "       [0.95149591]])"
            ]
          },
          "metadata": {
            "tags": []
          },
          "execution_count": 165
        }
      ]
    },
    {
      "cell_type": "code",
      "metadata": {
        "id": "-IUbRMRntabV",
        "colab_type": "code",
        "outputId": "c50122c6-628d-40ed-cda6-d4fe1c18a1d3",
        "colab": {
          "base_uri": "https://localhost:8080/",
          "height": 284
        }
      },
      "source": [
        "plt.plot(real_stock_price, color = 'black', label = 'DOW Stock Price')"
      ],
      "execution_count": 166,
      "outputs": [
        {
          "output_type": "execute_result",
          "data": {
            "text/plain": [
              "[<matplotlib.lines.Line2D at 0x7f759bb702e8>]"
            ]
          },
          "metadata": {
            "tags": []
          },
          "execution_count": 166
        },
        {
          "output_type": "display_data",
          "data": {
            "image/png": "[encoded data removed]",
            "text/plain": [
              "<Figure size 432x288 with 1 Axes>"
            ]
          },
          "metadata": {
            "tags": [],
            "needs_background": "light"
          }
        }
      ]
    },
    {
      "cell_type": "code",
      "metadata": {
        "id": "Q3vVZbAGvgdG",
        "colab_type": "code",
        "colab": {}
      },
      "source": [
        "predicted_stock_price = model.predict(X_test)"
      ],
      "execution_count": 0,
      "outputs": []
    },
    {
      "cell_type": "code",
      "metadata": {
        "id": "Ki7I64iJvkyS",
        "colab_type": "code",
        "outputId": "6947997e-fed1-43ca-c8ff-9aff90f99b48",
        "colab": {
          "base_uri": "https://localhost:8080/",
          "height": 282
        }
      },
      "source": [
        "plt.plot(predicted_stock_price, color = 'green', label = 'Predicted DOW Stock Price')"
      ],
      "execution_count": 168,
      "outputs": [
        {
          "output_type": "execute_result",
          "data": {
            "text/plain": [
              "[<matplotlib.lines.Line2D at 0x7f759b75ceb8>]"
            ]
          },
          "metadata": {
            "tags": []
          },
          "execution_count": 168
        },
        {
          "output_type": "display_data",
          "data": {
            "image/png": "[encoded data removed]",
            "text/plain": [
              "<Figure size 432x288 with 1 Axes>"
            ]
          },
          "metadata": {
            "tags": [],
            "needs_background": "light"
          }
        }
      ]
    },
    {
      "cell_type": "code",
      "metadata": {
        "id": "07h_uo1rwddC",
        "colab_type": "code",
        "outputId": "a20e0981-e6a4-47db-a482-9e7d43e042d6",
        "colab": {
          "base_uri": "https://localhost:8080/",
          "height": 295
        }
      },
      "source": [
        "plt.plot(real_stock_price, color = 'black', label = 'DOW Stock Price')\n",
        "plt.plot(predicted_stock_price, color = 'green', label = 'Predicted DOW Stock Price')\n",
        "plt.title('DOW Stock Price Prediction')\n",
        "plt.xlabel('Time')\n",
        "plt.ylabel('DOW Stock Price')\n",
        "plt.show()"
      ],
      "execution_count": 169,
      "outputs": [
        {
          "output_type": "display_data",
          "data": {
            "image/png": "[encoded data removed]",
            "text/plain": [
              "<Figure size 432x288 with 1 Axes>"
            ]
          },
          "metadata": {
            "tags": [],
            "needs_background": "light"
          }
        }
      ]
    },
    {
      "cell_type": "code",
      "metadata": {
        "id": "Myz3spGHxiHT",
        "colab_type": "code",
        "colab": {}
      },
      "source": [
        "def RNNmodel_predict(n):\n",
        "    print(\"實際的道瓊指數是：\", real_stock_price[n:n+10])\n",
        "    print(\"神經網路RNN的預測是：\", predicted_stock_price[n:n+10])\n",
        " \n",
        "    "
      ],
      "execution_count": 0,
      "outputs": []
    },
    {
      "cell_type": "code",
      "metadata": {
        "id": "2sDAK87oxRrH",
        "colab_type": "code",
        "outputId": "ef8a47c4-a6e7-4a86-c9ab-f4517591e19b",
        "colab": {
          "base_uri": "https://localhost:8080/",
          "height": 438,
          "referenced_widgets": [
            "41a0d05be24e4f2182aa9197ec19b735",
            "185be88bb5ca427bb024642a815eb5c6",
            "aa933147b51145be8e7b46465340da77",
            "3e275492b242403d9d62d7584724a2c5",
            "9752a86ccd0c482e8393dfafe1f762ab",
            "49cd713b3c7d4423b5b9600ad136230f",
            "fd6b76d737fa40a28c084ede5a2f9521",
            "c2456ec917ec4283a456bf54f094c85c",
            "f491d914fd3845979defa7b618706507",
            "8f25ecbc56aa413e80c307312d696b1c"
          ]
        }
      },
      "source": [
        "from ipywidgets import interact_manual\n",
        "interact_manual(RNNmodel_predict, n=(0, 2216))"
      ],
      "execution_count": 171,
      "outputs": [
        {
          "output_type": "display_data",
          "data": {
            "application/vnd.jupyter.widget-view+json": {
              "model_id": "41a0d05be24e4f2182aa9197ec19b735",
              "version_minor": 0,
              "version_major": 2
            },
            "text/plain": [
              "interactive(children=(IntSlider(value=1108, description='n', max=2216), Button(description='Run Interact', sty…"
            ]
          },
          "metadata": {
            "tags": []
          }
        },
        {
          "output_type": "execute_result",
          "data": {
            "text/plain": [
              "<function __main__.RNNmodel_predict>"
            ]
          },
          "metadata": {
            "tags": []
          },
          "execution_count": 171
        }
      ]
    },
    {
      "cell_type": "code",
      "metadata": {
        "id": "QuxPTLtoxa4v",
        "colab_type": "code",
        "colab": {}
      },
      "source": [
        ""
      ],
      "execution_count": 0,
      "outputs": []
    }
  ]
}