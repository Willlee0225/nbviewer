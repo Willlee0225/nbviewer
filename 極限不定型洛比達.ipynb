{
  "nbformat": 4,
  "nbformat_minor": 0,
  "metadata": {
    "colab": {
      "name": "極限不定型洛比達",
      "provenance": [],
      "authorship_tag": "ABX9TyMYgIWmrrd/N3yh0/lX/aCW",
      "include_colab_link": true
    },
    "kernelspec": {
      "name": "python3",
      "display_name": "Python 3"
    }
  },
  "cells": [
    {
      "cell_type": "markdown",
      "metadata": {
        "id": "view-in-github",
        "colab_type": "text"
      },
      "source": [
        "<a href=\"https://colab.research.google.com/github/Willlee0225/nbviewer/blob/master/%E6%A5%B5%E9%99%90%E4%B8%8D%E5%AE%9A%E5%9E%8B%E6%B4%9B%E6%AF%94%E9%81%94.ipynb\" target=\"_parent\"><img src=\"https://colab.research.google.com/assets/colab-badge.svg\" alt=\"Open In Colab\"/></a>"
      ]
    },
    {
      "cell_type": "code",
      "metadata": {
        "id": "ZA4bcOSXEvtB",
        "colab_type": "code",
        "colab": {
          "base_uri": "https://localhost:8080/",
          "height": 34
        },
        "outputId": "b9684251-b5b8-4333-852b-f58b8c57744d"
      },
      "source": [
        "from sympy import *   #載入模組\n",
        "x = symbols('x')    #宣告代數符號的變數，須記得此步一定要\n",
        "limit((1+3*x)**(1/(2*x)), x, 0)"
      ],
      "execution_count": 1,
      "outputs": [
        {
          "output_type": "execute_result",
          "data": {
            "text/plain": [
              "exp(3/2)"
            ]
          },
          "metadata": {
            "tags": []
          },
          "execution_count": 1
        }
      ]
    },
    {
      "cell_type": "code",
      "metadata": {
        "id": "01nsPGaOEwYC",
        "colab_type": "code",
        "colab": {}
      },
      "source": [
        ""
      ],
      "execution_count": 0,
      "outputs": []
    }
  ]
}