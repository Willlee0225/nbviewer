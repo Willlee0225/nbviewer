{
 "cells": [
  {
   "cell_type": "code",
   "execution_count": 2,
   "metadata": {},
   "outputs": [],
   "source": [
    "import pandas as pd\n",
    "import numpy as np\n",
    "import matplotlib.pyplot as plt\n",
    "from functools import reduce\n",
    "import seaborn as sns\n",
    "import quandl\n",
    "from scipy.optimize import minimize\n",
    "from pandas import Series\n",
    "from pandas import DataFrame"
   ]
  },
  {
   "cell_type": "markdown",
   "metadata": {},
   "source": [
    "#### define sample size"
   ]
  },
  {
   "cell_type": "code",
   "execution_count": 3,
   "metadata": {},
   "outputs": [],
   "source": [
    "s=10000"
   ]
  },
  {
   "cell_type": "markdown",
   "metadata": {},
   "source": [
    "#### Simulate ϵ with 10000 random draws from a standard normal distribution"
   ]
  },
  {
   "cell_type": "code",
   "execution_count": 4,
   "metadata": {},
   "outputs": [
    {
     "data": {
      "text/plain": [
       "array([-1.05632604, -1.53330315, -0.48280635, ...,  0.77267953,\n",
       "        0.26509789, -1.42339401])"
      ]
     },
     "execution_count": 4,
     "metadata": {},
     "output_type": "execute_result"
    }
   ],
   "source": [
    "epsilon = np.random.standard_normal(s)\n",
    "epsilon"
   ]
  },
  {
   "cell_type": "markdown",
   "metadata": {},
   "source": [
    "### consumption growth has a lognormal distribution: \n",
    "\n",
    "## $\\ln$$g̃$ =0.02+0.02$ϵ̃$"
   ]
  },
  {
   "cell_type": "markdown",
   "metadata": {},
   "source": [
    "### Define $g̃$ value"
   ]
  },
  {
   "cell_type": "code",
   "execution_count": 7,
   "metadata": {},
   "outputs": [],
   "source": [
    "g = []\n",
    "for i in np.arange(0, s):\n",
    "    g_val = np.exp(0.02 + 0.02 * epsilon[i])\n",
    "    g.append(g_val)"
   ]
  },
  {
   "cell_type": "code",
   "execution_count": 8,
   "metadata": {},
   "outputs": [],
   "source": [
    "G = np.array(g)"
   ]
  },
  {
   "cell_type": "code",
   "execution_count": 9,
   "metadata": {},
   "outputs": [
    {
     "data": {
      "text/plain": [
       "1.0203422556445052"
      ]
     },
     "execution_count": 9,
     "metadata": {},
     "output_type": "execute_result"
    }
   ],
   "source": [
    "G.mean()"
   ]
  },
  {
   "cell_type": "markdown",
   "metadata": {},
   "source": [
    "### Calculate utility of financial gain or loss $ν̃$ and Calculate the equilibrium values of x for b0 in the range [0, 10], in increments of 0.1, using an iterative procedure known as bisection search"
   ]
  },
  {
   "cell_type": "code",
   "execution_count": 10,
   "metadata": {},
   "outputs": [],
   "source": [
    "import statistics"
   ]
  },
  {
   "cell_type": "code",
   "execution_count": 11,
   "metadata": {},
   "outputs": [],
   "source": [
    "def myex(b0,x):\n",
    "    nu=[]\n",
    "    global G\n",
    "    R=x*G;\n",
    "    n=len(R);\n",
    "    for i in range(0,n):\n",
    "        if(R[i]>=1.0303):\n",
    "            v=R[i]-1.0303;\n",
    "            nu.append(v)\n",
    "        else:\n",
    "            k=2*(R[i]-1.0303);\n",
    "            nu.append(k)\n",
    "            \n",
    "    return 0.99*b0*statistics.mean(nu)+0.99*x-1;\n",
    "    "
   ]
  },
  {
   "cell_type": "code",
   "execution_count": 12,
   "metadata": {},
   "outputs": [],
   "source": [
    "def mybisection(b0):\n",
    "    a=1;\n",
    "    b=1.1;\n",
    "    signa=-1; # when x=1, the value is negative;\n",
    "    signb=1;  # when x=1.1, the value is positive;\n",
    "    x=(a+b)/2;\n",
    "    ex=myex(b0,x)\n",
    "    while(abs(ex)>=0.00001):\n",
    "        if (ex*signb>0):\n",
    "            b=x;\n",
    "        else:\n",
    "            a=x; \n",
    "        x=(a+b)/2;\n",
    "        ex=myex(b0,x);\n",
    "    return x"
   ]
  },
  {
   "cell_type": "code",
   "execution_count": 13,
   "metadata": {},
   "outputs": [],
   "source": [
    "b0=np.arange(0,10,0.1)"
   ]
  },
  {
   "cell_type": "code",
   "execution_count": 14,
   "metadata": {},
   "outputs": [],
   "source": [
    "x=[]\n",
    "for i in np.arange(0,10,0.1):\n",
    "    x.append(mybisection(i))"
   ]
  },
  {
   "cell_type": "code",
   "execution_count": 15,
   "metadata": {},
   "outputs": [],
   "source": [
    "X = np.array(x)"
   ]
  },
  {
   "cell_type": "markdown",
   "metadata": {},
   "source": [
    "### Use x to calculate the price-dividend ratio for the market portfolio:"
   ]
  },
  {
   "cell_type": "code",
   "execution_count": 16,
   "metadata": {},
   "outputs": [],
   "source": [
    "price_dividend_ratio=1/(X-1)"
   ]
  },
  {
   "cell_type": "code",
   "execution_count": 17,
   "metadata": {
    "scrolled": false
   },
   "outputs": [
    {
     "data": {
      "text/plain": [
       "Text(0, 0.5, 'price_dividend_ratio')"
      ]
     },
     "execution_count": 17,
     "metadata": {},
     "output_type": "execute_result"
    },
    {
     "data": {
      "image/png": "[encoded data removed]",
      "text/plain": [
       "<Figure size 864x504 with 1 Axes>"
      ]
     },
     "metadata": {
      "needs_background": "light"
     },
     "output_type": "display_data"
    }
   ],
   "source": [
    "plt.figure(figsize=(12,7))\n",
    "plt.plot(b0, price_dividend_ratio)\n",
    "plt.scatter(b0, price_dividend_ratio, s=10, c='r')\n",
    "plt.title('price_dividend_ratio vs b0 ',fontsize=15)\n",
    "plt.xlabel('b0', fontsize=15)\n",
    "plt.ylabel('price_dividend_ratio', fontsize=15)"
   ]
  },
  {
   "cell_type": "markdown",
   "metadata": {},
   "source": [
    "### calculate the expected market return"
   ]
  },
  {
   "cell_type": "markdown",
   "metadata": {},
   "source": [
    "#expected market return\n",
    "Rm=[]\n",
    "for i in np.arange(0,100) :\n",
    "    R_m=X[i]*G.mean()\n",
    "    Rm.append(R_m)"
   ]
  },
  {
   "cell_type": "code",
   "execution_count": 39,
   "metadata": {},
   "outputs": [],
   "source": [
    "Expected_Market_Return=np.array(Rm)"
   ]
  },
  {
   "cell_type": "code",
   "execution_count": 41,
   "metadata": {},
   "outputs": [],
   "source": [
    "#Calculate equity premium\n",
    "Equity_Premium = Expected_Market_Return-1.0303"
   ]
  },
  {
   "cell_type": "code",
   "execution_count": 43,
   "metadata": {},
   "outputs": [
    {
     "data": {
      "text/plain": [
       "Text(0, 0.5, 'Equity_Premium')"
      ]
     },
     "execution_count": 43,
     "metadata": {},
     "output_type": "execute_result"
    },
    {
     "data": {
      "image/png": "[encoded data removed]",
      "text/plain": [
       "<Figure size 864x504 with 1 Axes>"
      ]
     },
     "metadata": {
      "needs_background": "light"
     },
     "output_type": "display_data"
    }
   ],
   "source": [
    "plt.figure(figsize=(12,7))\n",
    "plt.plot(b0, Equity_Premium)\n",
    "plt.scatter(b0, Equity_Premium, s=10, c='r')\n",
    "plt.title('equity premium  vs b0 ',fontsize=15)\n",
    "plt.xlabel('b0', fontsize=15)\n",
    "plt.ylabel('Equity_Premium', fontsize=15)"
   ]
  },
  {
   "cell_type": "markdown",
   "metadata": {},
   "source": [
    "## Briefly explain the economic significance of the investor's utility function for financial gain or loss [i.e., 𝜈(R)], as well as the economic significance of the parameters b0 and 𝜆.:\n"
   ]
  },
  {
   "cell_type": "markdown",
   "metadata": {},
   "source": [
    "## Economic Significance:\n",
    "\n",
    "### Economic Significance of the utility function\n",
    "\n",
    "#### This utility function is about intertemporal consumption and asset allocation or portfolio choice. And this model incorporates two types of biases. These two are loss aversion and house money effect. The function is under the endowment economy. We could solve for equilibrium price and expected returns numerically. Also, Utility function combines power utility for consumption with prospect theory for utility from recent financial gains or losses\n",
    "\n",
    "### Economic Significance of b0\n",
    "\n",
    "#### b0 determines the importance of utility of recent gain or loss. It will rebalance the utility of consumption and the utility of recent gains or losses in financial wealth. So these two utilities will remain comparable in magnitude. Otherwise, the prospect theory term would dominate the conventional constant relative risk aversion term. \n",
    "\n",
    "### Economic Significance of lambda\n",
    "\n",
    "#### λ represents loss aversion. In particular, λ>1, it means that investor’s utility could be more sensitive to recent losses than recent gains in financial wealth. So losses have a disproportionately bigger impact on utility. \n",
    "\n",
    "### Economic Significance of the results\n",
    "\n",
    "#### Equity premium is increasing with b0, and the price-dividend ratio is decreasing with b0, because investor puts more emphasis on utility from recent gains or losses in financial wealth. But using simulated data, the model-based equity premium is much smaller than historical equity premium for  U.S. market.\n",
    "\n",
    "### In principle, can generate large market risk premium with small coefficient of relative risk aversion, so no equity premium puzzle\n",
    "\n",
    "### In practice, market risk premium is too small without house money effect"
   ]
  },
  {
   "attachments": {},
   "cell_type": "markdown",
   "metadata": {},
   "source": []
  },
  {
   "cell_type": "code",
   "execution_count": null,
   "metadata": {},
   "outputs": [],
   "source": []
  }
 ],
 "metadata": {
  "kernelspec": {
   "display_name": "Python 3",
   "language": "python",
   "name": "python3"
  },
  "language_info": {
   "codemirror_mode": {
    "name": "ipython",
    "version": 3
   },
   "file_extension": ".py",
   "mimetype": "text/x-python",
   "name": "python",
   "nbconvert_exporter": "python",
   "pygments_lexer": "ipython3",
   "version": "3.8.3"
  }
 },
 "nbformat": 4,
 "nbformat_minor": 4
}
