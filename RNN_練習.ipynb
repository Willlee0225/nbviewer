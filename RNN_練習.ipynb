{
  "nbformat": 4,
  "nbformat_minor": 0,
  "metadata": {
    "colab": {
      "name": "RNN 練習",
      "provenance": [],
      "collapsed_sections": [],
      "authorship_tag": "ABX9TyNp4pjnLsBqJsvdeYuObkYk",
      "include_colab_link": true
    },
    "kernelspec": {
      "name": "python3",
      "display_name": "Python 3"
    },
    "accelerator": "TPU"
  },
  "cells": [
    {
      "cell_type": "markdown",
      "metadata": {
        "id": "view-in-github",
        "colab_type": "text"
      },
      "source": [
        "<a href=\"https://colab.research.google.com/github/Willlee0225/nbviewer/blob/master/RNN_%E7%B7%B4%E7%BF%92.ipynb\" target=\"_parent\"><img src=\"https://colab.research.google.com/assets/colab-badge.svg\" alt=\"Open In Colab\"/></a>"
      ]
    },
    {
      "cell_type": "code",
      "metadata": {
        "id": "_jLRJpcWx7So",
        "colab_type": "code",
        "colab": {}
      },
      "source": [
        "%matplotlib inline\n",
        "\n",
        "import numpy as np\n",
        "import matplotlib.pyplot as plt\n",
        "import pandas as pd\n",
        "%tensorflow_version 2.x\n",
        "import tensorflow as tf"
      ],
      "execution_count": 0,
      "outputs": []
    },
    {
      "cell_type": "markdown",
      "metadata": {
        "id": "68FN8nLH3H_9",
        "colab_type": "text"
      },
      "source": [
        "##1. 讀入深度學習套件"
      ]
    },
    {
      "cell_type": "code",
      "metadata": {
        "id": "WNLSR9i73Blk",
        "colab_type": "code",
        "colab": {}
      },
      "source": [
        "from tensorflow.keras.preprocessing import sequence\n",
        "from tensorflow.keras.models import Sequential\n",
        "from tensorflow.keras.layers import Dense, Embedding\n",
        "from tensorflow.keras.layers import LSTM\n",
        "from tensorflow.keras.datasets import imdb"
      ],
      "execution_count": 0,
      "outputs": []
    },
    {
      "cell_type": "markdown",
      "metadata": {
        "id": "FyBOEjEf3Q_n",
        "colab_type": "text"
      },
      "source": [
        "##2. 讀入數據"
      ]
    },
    {
      "cell_type": "code",
      "metadata": {
        "id": "xjPm_AKm3MdN",
        "colab_type": "code",
        "colab": {
          "base_uri": "https://localhost:8080/",
          "height": 51
        },
        "outputId": "d85d1c86-bf88-464b-ca19-e2ddbc01e071"
      },
      "source": [
        "(x_train, y_train), (x_test, y_test) = imdb.load_data(num_words=10000)"
      ],
      "execution_count": 3,
      "outputs": [
        {
          "output_type": "stream",
          "text": [
            "Downloading data from https://storage.googleapis.com/tensorflow/tf-keras-datasets/imdb.npz\n",
            "17465344/17464789 [==============================] - 0s 0us/step\n"
          ],
          "name": "stdout"
        }
      ]
    },
    {
      "cell_type": "code",
      "metadata": {
        "id": "E6sKyPj13iDU",
        "colab_type": "code",
        "colab": {
          "base_uri": "https://localhost:8080/",
          "height": 34
        },
        "outputId": "78eb7762-ac2d-4d90-971f-fc6d762075fb"
      },
      "source": [
        "len(x_train)\n"
      ],
      "execution_count": 4,
      "outputs": [
        {
          "output_type": "execute_result",
          "data": {
            "text/plain": [
              "25000"
            ]
          },
          "metadata": {
            "tags": []
          },
          "execution_count": 4
        }
      ]
    },
    {
      "cell_type": "code",
      "metadata": {
        "id": "HYZN5R-G3pYE",
        "colab_type": "code",
        "colab": {
          "base_uri": "https://localhost:8080/",
          "height": 34
        },
        "outputId": "b6410abf-3f8e-49bd-e9c5-716e82af972c"
      },
      "source": [
        "len(x_test)"
      ],
      "execution_count": 5,
      "outputs": [
        {
          "output_type": "execute_result",
          "data": {
            "text/plain": [
              "25000"
            ]
          },
          "metadata": {
            "tags": []
          },
          "execution_count": 5
        }
      ]
    },
    {
      "cell_type": "code",
      "metadata": {
        "id": "rQ1U3UwB3m8n",
        "colab_type": "code",
        "colab": {
          "base_uri": "https://localhost:8080/",
          "height": 34
        },
        "outputId": "e5adca77-c939-4786-b078-80922481e627"
      },
      "source": [
        "n=0\n",
        "len(x_train[n])"
      ],
      "execution_count": 6,
      "outputs": [
        {
          "output_type": "execute_result",
          "data": {
            "text/plain": [
              "218"
            ]
          },
          "metadata": {
            "tags": []
          },
          "execution_count": 6
        }
      ]
    },
    {
      "cell_type": "code",
      "metadata": {
        "id": "JLO5k8Rm3noO",
        "colab_type": "code",
        "colab": {
          "base_uri": "https://localhost:8080/",
          "height": 34
        },
        "outputId": "6636724c-afb7-4938-e009-137fbbf45f2c"
      },
      "source": [
        "len(x_train[1])"
      ],
      "execution_count": 7,
      "outputs": [
        {
          "output_type": "execute_result",
          "data": {
            "text/plain": [
              "189"
            ]
          },
          "metadata": {
            "tags": []
          },
          "execution_count": 7
        }
      ]
    },
    {
      "cell_type": "code",
      "metadata": {
        "id": "i5cKofY63tLb",
        "colab_type": "code",
        "colab": {
          "base_uri": "https://localhost:8080/",
          "height": 34
        },
        "outputId": "fe72c3b7-acd4-45f1-8536-ccb8c933bb8f"
      },
      "source": [
        "len(x_train[2])"
      ],
      "execution_count": 8,
      "outputs": [
        {
          "output_type": "execute_result",
          "data": {
            "text/plain": [
              "141"
            ]
          },
          "metadata": {
            "tags": []
          },
          "execution_count": 8
        }
      ]
    },
    {
      "cell_type": "markdown",
      "metadata": {
        "id": "JyQEoEdn3vZ7",
        "colab_type": "text"
      },
      "source": [
        "##3. 資料處理"
      ]
    },
    {
      "cell_type": "code",
      "metadata": {
        "id": "ZfFv2-uS31MD",
        "colab_type": "code",
        "colab": {}
      },
      "source": [
        "x_train=sequence.pad_sequences(x_train,maxlen=100)\n",
        "x_test=sequence.pad_sequences(x_train,maxlen=100)"
      ],
      "execution_count": 0,
      "outputs": []
    },
    {
      "cell_type": "markdown",
      "metadata": {
        "id": "_TmTETYp39CZ",
        "colab_type": "text"
      },
      "source": [
        "##4.打造RNN神經網路"
      ]
    },
    {
      "cell_type": "code",
      "metadata": {
        "id": "Eijht2t833Wi",
        "colab_type": "code",
        "colab": {}
      },
      "source": [
        "model = Sequential()"
      ],
      "execution_count": 0,
      "outputs": []
    },
    {
      "cell_type": "code",
      "metadata": {
        "id": "mB1KcKEV4OE0",
        "colab_type": "code",
        "colab": {}
      },
      "source": [
        "model.add(Embedding(10000,128))#壓縮到128維"
      ],
      "execution_count": 0,
      "outputs": []
    },
    {
      "cell_type": "markdown",
      "metadata": {
        "id": "1yvnp4Ik4xik",
        "colab_type": "text"
      },
      "source": [
        "#### 修改dropout"
      ]
    },
    {
      "cell_type": "code",
      "metadata": {
        "id": "9zk67Snj4P-Q",
        "colab_type": "code",
        "colab": {}
      },
      "source": [
        "model.add(LSTM(128,dropout=0.4, recurrent_dropout=0.4))"
      ],
      "execution_count": 0,
      "outputs": []
    },
    {
      "cell_type": "markdown",
      "metadata": {
        "id": "fnlY-c-T5yrS",
        "colab_type": "text"
      },
      "source": [
        "#### 這邊新增了一層神經元，數量為500，激發函數依然選用relu"
      ]
    },
    {
      "cell_type": "code",
      "metadata": {
        "id": "qjw6dDC64YhA",
        "colab_type": "code",
        "colab": {
          "base_uri": "https://localhost:8080/",
          "height": 289
        },
        "outputId": "046b24c2-cc06-40bf-bce4-866d2aa73525"
      },
      "source": [
        "model.add(Dense(500, activation='relu'))\n",
        "model.add(Dense(1,activation='sigmoid'))\n",
        "model.compile(loss='binary_crossentropy', optimizer='adam',\n",
        "             metrics=['accuracy'])\n",
        "model.summary()"
      ],
      "execution_count": 13,
      "outputs": [
        {
          "output_type": "stream",
          "text": [
            "Model: \"sequential\"\n",
            "_________________________________________________________________\n",
            "Layer (type)                 Output Shape              Param #   \n",
            "=================================================================\n",
            "embedding (Embedding)        (None, None, 128)         1280000   \n",
            "_________________________________________________________________\n",
            "lstm (LSTM)                  (None, 128)               131584    \n",
            "_________________________________________________________________\n",
            "dense (Dense)                (None, 500)               64500     \n",
            "_________________________________________________________________\n",
            "dense_1 (Dense)              (None, 1)                 501       \n",
            "=================================================================\n",
            "Total params: 1,476,585\n",
            "Trainable params: 1,476,585\n",
            "Non-trainable params: 0\n",
            "_________________________________________________________________\n"
          ],
          "name": "stdout"
        }
      ]
    },
    {
      "cell_type": "markdown",
      "metadata": {
        "id": "BE4tSQfw5C4O",
        "colab_type": "text"
      },
      "source": [
        "#### 這裡改變了batch_size,每做100題就檢查一次,epochs改成做5次"
      ]
    },
    {
      "cell_type": "code",
      "metadata": {
        "id": "V3mKO_il4_1f",
        "colab_type": "code",
        "colab": {
          "base_uri": "https://localhost:8080/",
          "height": 204
        },
        "outputId": "458f7973-cb04-4f70-b665-b623494bfb2c"
      },
      "source": [
        "model.fit(x_train, y_train, validation_data=(x_test, y_test),epochs=5, batch_size=100)"
      ],
      "execution_count": 14,
      "outputs": [
        {
          "output_type": "stream",
          "text": [
            "Epoch 1/5\n",
            "250/250 [==============================] - 130s 521ms/step - loss: 0.4207 - accuracy: 0.8013 - val_loss: 1.4554 - val_accuracy: 0.4964\n",
            "Epoch 2/5\n",
            "250/250 [==============================] - 130s 521ms/step - loss: 0.2781 - accuracy: 0.8877 - val_loss: 1.8403 - val_accuracy: 0.4953\n",
            "Epoch 3/5\n",
            "250/250 [==============================] - 130s 520ms/step - loss: 0.2237 - accuracy: 0.9122 - val_loss: 2.0237 - val_accuracy: 0.4947\n",
            "Epoch 4/5\n",
            "250/250 [==============================] - 130s 521ms/step - loss: 0.1751 - accuracy: 0.9329 - val_loss: 2.3640 - val_accuracy: 0.4958\n",
            "Epoch 5/5\n",
            "250/250 [==============================] - 130s 520ms/step - loss: 0.1388 - accuracy: 0.9487 - val_loss: 2.5464 - val_accuracy: 0.4964\n"
          ],
          "name": "stdout"
        },
        {
          "output_type": "execute_result",
          "data": {
            "text/plain": [
              "<tensorflow.python.keras.callbacks.History at 0x7f72a6a940f0>"
            ]
          },
          "metadata": {
            "tags": []
          },
          "execution_count": 14
        }
      ]
    },
    {
      "cell_type": "markdown",
      "metadata": {
        "id": "ouLYNwBr6i7R",
        "colab_type": "text"
      },
      "source": [
        "##組裝第二台函數學習機\n",
        "#### dropout 改變，層數改變，batch size一樣100題檢查一次"
      ]
    },
    {
      "cell_type": "code",
      "metadata": {
        "id": "z5vSiY455dD2",
        "colab_type": "code",
        "colab": {}
      },
      "source": [
        "model2 = Sequential()"
      ],
      "execution_count": 0,
      "outputs": []
    },
    {
      "cell_type": "code",
      "metadata": {
        "id": "lI4LbjMW67H7",
        "colab_type": "code",
        "colab": {}
      },
      "source": [
        "model2.add(Embedding(10000,128))#壓縮到128維"
      ],
      "execution_count": 0,
      "outputs": []
    },
    {
      "cell_type": "code",
      "metadata": {
        "id": "w0O6_jje67LJ",
        "colab_type": "code",
        "colab": {}
      },
      "source": [
        "model2.add(LSTM(128,dropout=0.1, recurrent_dropout=0.1))"
      ],
      "execution_count": 0,
      "outputs": []
    },
    {
      "cell_type": "code",
      "metadata": {
        "id": "aa47ZKMn67VG",
        "colab_type": "code",
        "colab": {
          "base_uri": "https://localhost:8080/",
          "height": 323
        },
        "outputId": "a2fb71bb-00c2-418f-a29d-fc226e0d973a"
      },
      "source": [
        "model2.add(Dense(500, activation='relu'))\n",
        "model2.add(Dense(200, activation = \"relu\"))\n",
        "model2.add(Dense(1,activation='sigmoid'))\n",
        "model2.compile(loss='binary_crossentropy', optimizer='adam',\n",
        "             metrics=['accuracy'])\n",
        "model2.summary()"
      ],
      "execution_count": 18,
      "outputs": [
        {
          "output_type": "stream",
          "text": [
            "Model: \"sequential_1\"\n",
            "_________________________________________________________________\n",
            "Layer (type)                 Output Shape              Param #   \n",
            "=================================================================\n",
            "embedding_1 (Embedding)      (None, None, 128)         1280000   \n",
            "_________________________________________________________________\n",
            "lstm_1 (LSTM)                (None, 128)               131584    \n",
            "_________________________________________________________________\n",
            "dense_2 (Dense)              (None, 500)               64500     \n",
            "_________________________________________________________________\n",
            "dense_3 (Dense)              (None, 200)               100200    \n",
            "_________________________________________________________________\n",
            "dense_4 (Dense)              (None, 1)                 201       \n",
            "=================================================================\n",
            "Total params: 1,576,485\n",
            "Trainable params: 1,576,485\n",
            "Non-trainable params: 0\n",
            "_________________________________________________________________\n"
          ],
          "name": "stdout"
        }
      ]
    },
    {
      "cell_type": "code",
      "metadata": {
        "id": "eDcyjsGS67Sr",
        "colab_type": "code",
        "colab": {
          "base_uri": "https://localhost:8080/",
          "height": 204
        },
        "outputId": "1dfc0c93-86ad-4da7-add6-87b37608d753"
      },
      "source": [
        "model2.fit(x_train, y_train, validation_data=(x_test, y_test),epochs=5, batch_size=100)"
      ],
      "execution_count": 19,
      "outputs": [
        {
          "output_type": "stream",
          "text": [
            "Epoch 1/5\n",
            "250/250 [==============================] - 130s 522ms/step - loss: 0.4314 - accuracy: 0.7915 - val_loss: 1.3611 - val_accuracy: 0.4959\n",
            "Epoch 2/5\n",
            "250/250 [==============================] - 130s 521ms/step - loss: 0.2631 - accuracy: 0.8931 - val_loss: 1.4559 - val_accuracy: 0.4952\n",
            "Epoch 3/5\n",
            "250/250 [==============================] - 130s 522ms/step - loss: 0.1878 - accuracy: 0.9277 - val_loss: 2.5888 - val_accuracy: 0.4972\n",
            "Epoch 4/5\n",
            "250/250 [==============================] - 130s 521ms/step - loss: 0.1294 - accuracy: 0.9513 - val_loss: 2.7753 - val_accuracy: 0.4964\n",
            "Epoch 5/5\n",
            "250/250 [==============================] - 130s 522ms/step - loss: 0.0868 - accuracy: 0.9691 - val_loss: 3.1187 - val_accuracy: 0.4955\n"
          ],
          "name": "stdout"
        },
        {
          "output_type": "execute_result",
          "data": {
            "text/plain": [
              "<tensorflow.python.keras.callbacks.History at 0x7f72ab0e55c0>"
            ]
          },
          "metadata": {
            "tags": []
          },
          "execution_count": 19
        }
      ]
    },
    {
      "cell_type": "code",
      "metadata": {
        "id": "KQQf8EJo-hCu",
        "colab_type": "code",
        "colab": {}
      },
      "source": [
        ""
      ],
      "execution_count": 0,
      "outputs": []
    }
  ]
}