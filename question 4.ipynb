{
 "cells": [
  {
   "cell_type": "code",
   "execution_count": 1,
   "metadata": {},
   "outputs": [],
   "source": [
    "import pandas as pd\n",
    "import numpy as np\n",
    "import matplotlib.pyplot as plt\n",
    "from functools import reduce\n",
    "import seaborn as sns\n",
    "import quandl\n",
    "from scipy.optimize import minimize\n",
    "from pandas import Series\n",
    "from pandas import DataFrame"
   ]
  },
  {
   "cell_type": "markdown",
   "metadata": {},
   "source": [
    "#### define sample size"
   ]
  },
  {
   "cell_type": "code",
   "execution_count": 3,
   "metadata": {},
   "outputs": [],
   "source": [
    "s=10000"
   ]
  },
  {
   "cell_type": "markdown",
   "metadata": {},
   "source": [
    "#### Define rare disaster rate"
   ]
  },
  {
   "cell_type": "code",
   "execution_count": 4,
   "metadata": {},
   "outputs": [],
   "source": [
    "r_disaster_rate = 0.02"
   ]
  },
  {
   "cell_type": "markdown",
   "metadata": {},
   "source": [
    "#### Simulate ϵ with 10000 random draws from a standard normal distribution"
   ]
  },
  {
   "cell_type": "code",
   "execution_count": 5,
   "metadata": {},
   "outputs": [
    {
     "data": {
      "text/plain": [
       "array([-0.41472576, -0.60666849,  0.30840325, ..., -1.3349049 ,\n",
       "       -2.32079997,  0.39763373])"
      ]
     },
     "execution_count": 5,
     "metadata": {},
     "output_type": "execute_result"
    }
   ],
   "source": [
    "epsilon = np.random.randn(s)\n",
    "epsilon"
   ]
  },
  {
   "cell_type": "markdown",
   "metadata": {},
   "source": [
    "####  Simulate $\\nu$ with 10000 random draws from a standard uniform distribution"
   ]
  },
  {
   "cell_type": "code",
   "execution_count": 6,
   "metadata": {},
   "outputs": [],
   "source": [
    "mu=np.random.uniform(0,1,s)"
   ]
  },
  {
   "cell_type": "code",
   "execution_count": 7,
   "metadata": {},
   "outputs": [
    {
     "data": {
      "text/plain": [
       "array([0.33282713, 0.77196494, 0.746882  , ..., 0.13672004, 0.29924804,\n",
       "       0.7974529 ])"
      ]
     },
     "execution_count": 7,
     "metadata": {},
     "output_type": "execute_result"
    }
   ],
   "source": [
    "mu"
   ]
  },
  {
   "cell_type": "markdown",
   "metadata": {},
   "source": [
    "#### Rare disaster $\\nu$ has value of either zero (probability 98.3%) or ln(0.65) (with probability 1.7%)\n"
   ]
  },
  {
   "cell_type": "code",
   "execution_count": 8,
   "metadata": {
    "scrolled": true
   },
   "outputs": [],
   "source": [
    "n = []\n",
    "val = np.log(0.7)\n",
    "for i in mu:\n",
    "    if i <= r_disaster_rate:\n",
    "        n.append(val)\n",
    "    else:\n",
    "        n.append(0.0)\n",
    "      "
   ]
  },
  {
   "cell_type": "code",
   "execution_count": 9,
   "metadata": {},
   "outputs": [
    {
     "data": {
      "text/plain": [
       "array([0., 0., 0., ..., 0., 0., 0.])"
      ]
     },
     "execution_count": 9,
     "metadata": {},
     "output_type": "execute_result"
    }
   ],
   "source": [
    "nu_values = np.array(n)\n",
    "nu_values"
   ]
  },
  {
   "cell_type": "markdown",
   "metadata": {},
   "source": [
    "#### there should be around 170 with value ln(0.7)"
   ]
  },
  {
   "cell_type": "markdown",
   "metadata": {},
   "source": [
    "### consumption growth has a lognormal distribution with the possibility of rare disasters:\n",
    "\n",
    "## $\\ln$$g̃$ =0.02+0.02$ϵ̃$ +$ν̃$ "
   ]
  },
  {
   "cell_type": "markdown",
   "metadata": {},
   "source": [
    "### Define $g̃$ value"
   ]
  },
  {
   "cell_type": "code",
   "execution_count": 10,
   "metadata": {},
   "outputs": [],
   "source": [
    "g = []\n",
    "for i in np.arange(0, s):\n",
    "    g_val = np.exp(0.02 + 0.02 * epsilon[i] + nu_values[i])\n",
    "    g.append(g_val)"
   ]
  },
  {
   "cell_type": "code",
   "execution_count": 11,
   "metadata": {},
   "outputs": [],
   "source": [
    "G = np.array(g)"
   ]
  },
  {
   "cell_type": "code",
   "execution_count": 12,
   "metadata": {},
   "outputs": [
    {
     "data": {
      "text/plain": [
       "array([1.01177426, 1.00789765, 1.02651345, ..., 0.99332428, 0.97392985,\n",
       "       1.02834702])"
      ]
     },
     "execution_count": 12,
     "metadata": {},
     "output_type": "execute_result"
    }
   ],
   "source": [
    "G"
   ]
  },
  {
   "cell_type": "markdown",
   "metadata": {},
   "source": [
    "### Calculate utility of financial gain or loss $ν̃$ and Calculate the equilibrium values of x for b0 in the range [0, 10], in increments of 0.1, using an iterative procedure known as bisection search"
   ]
  },
  {
   "cell_type": "code",
   "execution_count": 13,
   "metadata": {},
   "outputs": [],
   "source": [
    "import statistics"
   ]
  },
  {
   "cell_type": "code",
   "execution_count": 14,
   "metadata": {},
   "outputs": [],
   "source": [
    "def myex(b0,x):\n",
    "    nu=[]\n",
    "    global G\n",
    "    R=x*G;\n",
    "    n=len(R);\n",
    "    for i in range(0,n):\n",
    "        if(R[i]>=1.0303):\n",
    "            v=R[i]-1.0303;\n",
    "            nu.append(v)\n",
    "        else:\n",
    "            k=2*(R[i]-1.0303);\n",
    "            nu.append(k)\n",
    "            \n",
    "    return 0.99*b0*statistics.mean(nu)+0.99*x-1;\n",
    "    "
   ]
  },
  {
   "cell_type": "code",
   "execution_count": 15,
   "metadata": {},
   "outputs": [],
   "source": [
    "def mybisection(b0):\n",
    "    a=1;\n",
    "    b=1.1;\n",
    "    signa=-1; # when x=1, the value is negative;\n",
    "    signb=1;  # when x=1.1, the value is positive;\n",
    "    x=(a+b)/2;\n",
    "    ex=myex(b0,x)\n",
    "    while(abs(ex)>=0.00001):\n",
    "        if (ex*signb>0):\n",
    "            b=x;\n",
    "        else:\n",
    "            a=x; \n",
    "        x=(a+b)/2;\n",
    "        ex=myex(b0,x);\n",
    "    return x"
   ]
  },
  {
   "cell_type": "code",
   "execution_count": 16,
   "metadata": {},
   "outputs": [],
   "source": [
    "b0=np.arange(0,10,0.1)"
   ]
  },
  {
   "cell_type": "code",
   "execution_count": 17,
   "metadata": {},
   "outputs": [],
   "source": [
    "x=[]\n",
    "for i in b0:\n",
    "    x.append(mybisection(i))"
   ]
  },
  {
   "cell_type": "code",
   "execution_count": 18,
   "metadata": {},
   "outputs": [],
   "source": [
    "X = np.array(x)"
   ]
  },
  {
   "cell_type": "markdown",
   "metadata": {},
   "source": [
    "### Use x to calculate the price-dividend ratio for the market portfolio:"
   ]
  },
  {
   "cell_type": "code",
   "execution_count": 19,
   "metadata": {},
   "outputs": [],
   "source": [
    "price_dividend_ratio=1/(X-1)"
   ]
  },
  {
   "cell_type": "code",
   "execution_count": 20,
   "metadata": {
    "scrolled": false
   },
   "outputs": [
    {
     "data": {
      "text/plain": [
       "Text(0, 0.5, 'price_dividend_ratio')"
      ]
     },
     "execution_count": 20,
     "metadata": {},
     "output_type": "execute_result"
    },
    {
     "data": {
      "image/png": "[encoded data removed]",
      "text/plain": [
       "<Figure size 864x504 with 1 Axes>"
      ]
     },
     "metadata": {
      "needs_background": "light"
     },
     "output_type": "display_data"
    }
   ],
   "source": [
    "plt.figure(figsize=(12,7))\n",
    "plt.plot(b0, price_dividend_ratio)\n",
    "plt.scatter(b0, price_dividend_ratio, s=10, c='r')\n",
    "plt.title('price_dividend_ratio vs b0 ',fontsize=15)\n",
    "plt.xlabel('b0', fontsize=15)\n",
    "plt.ylabel('price_dividend_ratio', fontsize=15)"
   ]
  },
  {
   "cell_type": "markdown",
   "metadata": {},
   "source": [
    "### calculate the expected market return"
   ]
  },
  {
   "cell_type": "code",
   "execution_count": 21,
   "metadata": {},
   "outputs": [],
   "source": [
    "#expected market return\n",
    "Rm=[]\n",
    "for i in np.arange(0,100):\n",
    "    R_m=X[i]*G.mean()\n",
    "    Rm.append(R_m)"
   ]
  },
  {
   "cell_type": "code",
   "execution_count": 22,
   "metadata": {},
   "outputs": [],
   "source": [
    "Expected_Market_Return=np.array(Rm)"
   ]
  },
  {
   "cell_type": "code",
   "execution_count": 23,
   "metadata": {},
   "outputs": [],
   "source": [
    "#Calculate equity premium\n",
    "Equity_Premium = Expected_Market_Return-1.0303"
   ]
  },
  {
   "cell_type": "code",
   "execution_count": 24,
   "metadata": {},
   "outputs": [
    {
     "data": {
      "text/plain": [
       "Text(0, 0.5, 'Equity_Premium')"
      ]
     },
     "execution_count": 24,
     "metadata": {},
     "output_type": "execute_result"
    },
    {
     "data": {
      "image/png": "[encoded data removed]",
      "text/plain": [
       "<Figure size 864x504 with 1 Axes>"
      ]
     },
     "metadata": {
      "needs_background": "light"
     },
     "output_type": "display_data"
    }
   ],
   "source": [
    "plt.figure(figsize=(12,7))\n",
    "plt.plot(b0, Equity_Premium)\n",
    "plt.scatter(b0, Equity_Premium, s=10, c='r')\n",
    "plt.title('equity premium  vs b0 ',fontsize=15)\n",
    "plt.xlabel('b0', fontsize=15)\n",
    "plt.ylabel('Equity_Premium', fontsize=15)"
   ]
  },
  {
   "cell_type": "code",
   "execution_count": null,
   "metadata": {},
   "outputs": [],
   "source": []
  },
  {
   "cell_type": "code",
   "execution_count": null,
   "metadata": {},
   "outputs": [],
   "source": []
  },
  {
   "cell_type": "code",
   "execution_count": null,
   "metadata": {},
   "outputs": [],
   "source": []
  },
  {
   "cell_type": "code",
   "execution_count": null,
   "metadata": {},
   "outputs": [],
   "source": []
  },
  {
   "cell_type": "code",
   "execution_count": null,
   "metadata": {},
   "outputs": [],
   "source": []
  },
  {
   "cell_type": "code",
   "execution_count": null,
   "metadata": {},
   "outputs": [],
   "source": []
  }
 ],
 "metadata": {
  "kernelspec": {
   "display_name": "Python 3",
   "language": "python",
   "name": "python3"
  },
  "language_info": {
   "codemirror_mode": {
    "name": "ipython",
    "version": 3
   },
   "file_extension": ".py",
   "mimetype": "text/x-python",
   "name": "python",
   "nbconvert_exporter": "python",
   "pygments_lexer": "ipython3",
   "version": "3.8.3"
  }
 },
 "nbformat": 4,
 "nbformat_minor": 4
}
