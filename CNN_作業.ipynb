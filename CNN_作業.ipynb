{
  "nbformat": 4,
  "nbformat_minor": 0,
  "metadata": {
    "colab": {
      "name": "CNN 作業",
      "provenance": [],
      "collapsed_sections": [],
      "authorship_tag": "ABX9TyPtVM78oGXBmXnpFEfEU7Tf",
      "include_colab_link": true
    },
    "kernelspec": {
      "name": "python3",
      "display_name": "Python 3"
    },
    "widgets": {
      "application/vnd.jupyter.widget-state+json": {
        "ecf6f338f5b348b1b62d179b849f4914": {
          "model_module": "@jupyter-widgets/controls",
          "model_name": "VBoxModel",
          "state": {
            "_view_name": "VBoxView",
            "_dom_classes": [
              "widget-interact"
            ],
            "_model_name": "VBoxModel",
            "_view_module": "@jupyter-widgets/controls",
            "_model_module_version": "1.5.0",
            "_view_count": null,
            "_view_module_version": "1.5.0",
            "box_style": "",
            "layout": "IPY_MODEL_bd9353b54d564a739b69f266ec87e559",
            "_model_module": "@jupyter-widgets/controls",
            "children": [
              "IPY_MODEL_0f8afebcc9be46588f7fa78a8f33a2f4",
              "IPY_MODEL_2dc6ba6117114c14a9a10018a6faa6f8",
              "IPY_MODEL_b2ea028a7c474f11908c2f1284e81ad4"
            ]
          }
        },
        "bd9353b54d564a739b69f266ec87e559": {
          "model_module": "@jupyter-widgets/base",
          "model_name": "LayoutModel",
          "state": {
            "_view_name": "LayoutView",
            "grid_template_rows": null,
            "right": null,
            "justify_content": null,
            "_view_module": "@jupyter-widgets/base",
            "overflow": null,
            "_model_module_version": "1.2.0",
            "_view_count": null,
            "flex_flow": null,
            "width": null,
            "min_width": null,
            "border": null,
            "align_items": null,
            "bottom": null,
            "_model_module": "@jupyter-widgets/base",
            "top": null,
            "grid_column": null,
            "overflow_y": null,
            "overflow_x": null,
            "grid_auto_flow": null,
            "grid_area": null,
            "grid_template_columns": null,
            "flex": null,
            "_model_name": "LayoutModel",
            "justify_items": null,
            "grid_row": null,
            "max_height": null,
            "align_content": null,
            "visibility": null,
            "align_self": null,
            "height": null,
            "min_height": null,
            "padding": null,
            "grid_auto_rows": null,
            "grid_gap": null,
            "max_width": null,
            "order": null,
            "_view_module_version": "1.2.0",
            "grid_template_areas": null,
            "object_position": null,
            "object_fit": null,
            "grid_auto_columns": null,
            "margin": null,
            "display": null,
            "left": null
          }
        },
        "0f8afebcc9be46588f7fa78a8f33a2f4": {
          "model_module": "@jupyter-widgets/controls",
          "model_name": "IntSliderModel",
          "state": {
            "_view_name": "IntSliderView",
            "style": "IPY_MODEL_30f449f62ca548a3a5d88e61a90300fc",
            "_dom_classes": [],
            "description": "n",
            "step": 1,
            "_model_name": "IntSliderModel",
            "orientation": "horizontal",
            "max": 9999,
            "_view_module": "@jupyter-widgets/controls",
            "_model_module_version": "1.5.0",
            "value": 7853,
            "_view_count": null,
            "disabled": false,
            "_view_module_version": "1.5.0",
            "min": 0,
            "continuous_update": true,
            "readout_format": "d",
            "description_tooltip": null,
            "readout": true,
            "_model_module": "@jupyter-widgets/controls",
            "layout": "IPY_MODEL_0d3114e57bb24cec9fe7cb773d94a3ca"
          }
        },
        "2dc6ba6117114c14a9a10018a6faa6f8": {
          "model_module": "@jupyter-widgets/controls",
          "model_name": "ButtonModel",
          "state": {
            "_view_name": "ButtonView",
            "style": "IPY_MODEL_232cede38b03448aab9162327a0142c2",
            "_dom_classes": [],
            "description": "Run Interact",
            "_model_name": "ButtonModel",
            "button_style": "",
            "_view_module": "@jupyter-widgets/controls",
            "_model_module_version": "1.5.0",
            "tooltip": "",
            "_view_count": null,
            "disabled": false,
            "_view_module_version": "1.5.0",
            "layout": "IPY_MODEL_87058532c0cd4c4989531dc765ecaaa8",
            "_model_module": "@jupyter-widgets/controls",
            "icon": ""
          }
        },
        "b2ea028a7c474f11908c2f1284e81ad4": {
          "model_module": "@jupyter-widgets/output",
          "model_name": "OutputModel",
          "state": {
            "_view_name": "OutputView",
            "msg_id": "",
            "_dom_classes": [],
            "_model_name": "OutputModel",
            "outputs": [],
            "_view_module": "@jupyter-widgets/output",
            "_model_module_version": "1.0.0",
            "_view_count": null,
            "_view_module_version": "1.0.0",
            "layout": "IPY_MODEL_06afd77d90ec48c5a27c706becc581d0",
            "_model_module": "@jupyter-widgets/output"
          }
        },
        "30f449f62ca548a3a5d88e61a90300fc": {
          "model_module": "@jupyter-widgets/controls",
          "model_name": "SliderStyleModel",
          "state": {
            "_view_name": "StyleView",
            "handle_color": null,
            "_model_name": "SliderStyleModel",
            "description_width": "",
            "_view_module": "@jupyter-widgets/base",
            "_model_module_version": "1.5.0",
            "_view_count": null,
            "_view_module_version": "1.2.0",
            "_model_module": "@jupyter-widgets/controls"
          }
        },
        "0d3114e57bb24cec9fe7cb773d94a3ca": {
          "model_module": "@jupyter-widgets/base",
          "model_name": "LayoutModel",
          "state": {
            "_view_name": "LayoutView",
            "grid_template_rows": null,
            "right": null,
            "justify_content": null,
            "_view_module": "@jupyter-widgets/base",
            "overflow": null,
            "_model_module_version": "1.2.0",
            "_view_count": null,
            "flex_flow": null,
            "width": null,
            "min_width": null,
            "border": null,
            "align_items": null,
            "bottom": null,
            "_model_module": "@jupyter-widgets/base",
            "top": null,
            "grid_column": null,
            "overflow_y": null,
            "overflow_x": null,
            "grid_auto_flow": null,
            "grid_area": null,
            "grid_template_columns": null,
            "flex": null,
            "_model_name": "LayoutModel",
            "justify_items": null,
            "grid_row": null,
            "max_height": null,
            "align_content": null,
            "visibility": null,
            "align_self": null,
            "height": null,
            "min_height": null,
            "padding": null,
            "grid_auto_rows": null,
            "grid_gap": null,
            "max_width": null,
            "order": null,
            "_view_module_version": "1.2.0",
            "grid_template_areas": null,
            "object_position": null,
            "object_fit": null,
            "grid_auto_columns": null,
            "margin": null,
            "display": null,
            "left": null
          }
        },
        "232cede38b03448aab9162327a0142c2": {
          "model_module": "@jupyter-widgets/controls",
          "model_name": "ButtonStyleModel",
          "state": {
            "_view_name": "StyleView",
            "_model_name": "ButtonStyleModel",
            "_view_module": "@jupyter-widgets/base",
            "_model_module_version": "1.5.0",
            "_view_count": null,
            "button_color": null,
            "font_weight": "",
            "_view_module_version": "1.2.0",
            "_model_module": "@jupyter-widgets/controls"
          }
        },
        "87058532c0cd4c4989531dc765ecaaa8": {
          "model_module": "@jupyter-widgets/base",
          "model_name": "LayoutModel",
          "state": {
            "_view_name": "LayoutView",
            "grid_template_rows": null,
            "right": null,
            "justify_content": null,
            "_view_module": "@jupyter-widgets/base",
            "overflow": null,
            "_model_module_version": "1.2.0",
            "_view_count": null,
            "flex_flow": null,
            "width": null,
            "min_width": null,
            "border": null,
            "align_items": null,
            "bottom": null,
            "_model_module": "@jupyter-widgets/base",
            "top": null,
            "grid_column": null,
            "overflow_y": null,
            "overflow_x": null,
            "grid_auto_flow": null,
            "grid_area": null,
            "grid_template_columns": null,
            "flex": null,
            "_model_name": "LayoutModel",
            "justify_items": null,
            "grid_row": null,
            "max_height": null,
            "align_content": null,
            "visibility": null,
            "align_self": null,
            "height": null,
            "min_height": null,
            "padding": null,
            "grid_auto_rows": null,
            "grid_gap": null,
            "max_width": null,
            "order": null,
            "_view_module_version": "1.2.0",
            "grid_template_areas": null,
            "object_position": null,
            "object_fit": null,
            "grid_auto_columns": null,
            "margin": null,
            "display": null,
            "left": null
          }
        },
        "06afd77d90ec48c5a27c706becc581d0": {
          "model_module": "@jupyter-widgets/base",
          "model_name": "LayoutModel",
          "state": {
            "_view_name": "LayoutView",
            "grid_template_rows": null,
            "right": null,
            "justify_content": null,
            "_view_module": "@jupyter-widgets/base",
            "overflow": null,
            "_model_module_version": "1.2.0",
            "_view_count": null,
            "flex_flow": null,
            "width": null,
            "min_width": null,
            "border": null,
            "align_items": null,
            "bottom": null,
            "_model_module": "@jupyter-widgets/base",
            "top": null,
            "grid_column": null,
            "overflow_y": null,
            "overflow_x": null,
            "grid_auto_flow": null,
            "grid_area": null,
            "grid_template_columns": null,
            "flex": null,
            "_model_name": "LayoutModel",
            "justify_items": null,
            "grid_row": null,
            "max_height": null,
            "align_content": null,
            "visibility": null,
            "align_self": null,
            "height": null,
            "min_height": null,
            "padding": null,
            "grid_auto_rows": null,
            "grid_gap": null,
            "max_width": null,
            "order": null,
            "_view_module_version": "1.2.0",
            "grid_template_areas": null,
            "object_position": null,
            "object_fit": null,
            "grid_auto_columns": null,
            "margin": null,
            "display": null,
            "left": null
          }
        },
        "47d9fbf48f14489bbd0faf557e6acc65": {
          "model_module": "@jupyter-widgets/controls",
          "model_name": "VBoxModel",
          "state": {
            "_view_name": "VBoxView",
            "_dom_classes": [
              "widget-interact"
            ],
            "_model_name": "VBoxModel",
            "_view_module": "@jupyter-widgets/controls",
            "_model_module_version": "1.5.0",
            "_view_count": null,
            "_view_module_version": "1.5.0",
            "box_style": "",
            "layout": "IPY_MODEL_5d11999c28e44493a22aa029f271a450",
            "_model_module": "@jupyter-widgets/controls",
            "children": [
              "IPY_MODEL_e82f2a2aaa6f496b807f15f5bfacecd0",
              "IPY_MODEL_249a0cc1cd4643869a669e932d2b7815",
              "IPY_MODEL_508a21e8508c423f8b41bbb55cbdb46a"
            ]
          }
        },
        "5d11999c28e44493a22aa029f271a450": {
          "model_module": "@jupyter-widgets/base",
          "model_name": "LayoutModel",
          "state": {
            "_view_name": "LayoutView",
            "grid_template_rows": null,
            "right": null,
            "justify_content": null,
            "_view_module": "@jupyter-widgets/base",
            "overflow": null,
            "_model_module_version": "1.2.0",
            "_view_count": null,
            "flex_flow": null,
            "width": null,
            "min_width": null,
            "border": null,
            "align_items": null,
            "bottom": null,
            "_model_module": "@jupyter-widgets/base",
            "top": null,
            "grid_column": null,
            "overflow_y": null,
            "overflow_x": null,
            "grid_auto_flow": null,
            "grid_area": null,
            "grid_template_columns": null,
            "flex": null,
            "_model_name": "LayoutModel",
            "justify_items": null,
            "grid_row": null,
            "max_height": null,
            "align_content": null,
            "visibility": null,
            "align_self": null,
            "height": null,
            "min_height": null,
            "padding": null,
            "grid_auto_rows": null,
            "grid_gap": null,
            "max_width": null,
            "order": null,
            "_view_module_version": "1.2.0",
            "grid_template_areas": null,
            "object_position": null,
            "object_fit": null,
            "grid_auto_columns": null,
            "margin": null,
            "display": null,
            "left": null
          }
        },
        "e82f2a2aaa6f496b807f15f5bfacecd0": {
          "model_module": "@jupyter-widgets/controls",
          "model_name": "IntSliderModel",
          "state": {
            "_view_name": "IntSliderView",
            "style": "IPY_MODEL_ae6eba8ef36742b19a0a1686a347ea8e",
            "_dom_classes": [],
            "description": "n",
            "step": 1,
            "_model_name": "IntSliderModel",
            "orientation": "horizontal",
            "max": 9999,
            "_view_module": "@jupyter-widgets/controls",
            "_model_module_version": "1.5.0",
            "value": 7617,
            "_view_count": null,
            "disabled": false,
            "_view_module_version": "1.5.0",
            "min": 0,
            "continuous_update": true,
            "readout_format": "d",
            "description_tooltip": null,
            "readout": true,
            "_model_module": "@jupyter-widgets/controls",
            "layout": "IPY_MODEL_c0ddace0f432476d9115cba4c785ad5c"
          }
        },
        "249a0cc1cd4643869a669e932d2b7815": {
          "model_module": "@jupyter-widgets/controls",
          "model_name": "ButtonModel",
          "state": {
            "_view_name": "ButtonView",
            "style": "IPY_MODEL_1c8ff51ec1974859b989c81a418d2877",
            "_dom_classes": [],
            "description": "Run Interact",
            "_model_name": "ButtonModel",
            "button_style": "",
            "_view_module": "@jupyter-widgets/controls",
            "_model_module_version": "1.5.0",
            "tooltip": "",
            "_view_count": null,
            "disabled": false,
            "_view_module_version": "1.5.0",
            "layout": "IPY_MODEL_8b038616e4e845229fd1e11255627de6",
            "_model_module": "@jupyter-widgets/controls",
            "icon": ""
          }
        },
        "508a21e8508c423f8b41bbb55cbdb46a": {
          "model_module": "@jupyter-widgets/output",
          "model_name": "OutputModel",
          "state": {
            "_view_name": "OutputView",
            "msg_id": "",
            "_dom_classes": [],
            "_model_name": "OutputModel",
            "outputs": [
              {
                "output_type": "stream",
                "metadata": {
                  "tags": []
                },
                "text": "神經網路CNN的預測是： Sandal\n",
                "stream": "stdout"
              },
              {
                "output_type": "display_data",
                "metadata": {
                  "tags": [],
                  "needs_background": "light"
                },
                "image/png": "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\n",
                "text/plain": "<Figure size 432x288 with 1 Axes>"
              }
            ],
            "_view_module": "@jupyter-widgets/output",
            "_model_module_version": "1.0.0",
            "_view_count": null,
            "_view_module_version": "1.0.0",
            "layout": "IPY_MODEL_4fc63ea58b9946a0aa81ad89d4f65518",
            "_model_module": "@jupyter-widgets/output"
          }
        },
        "ae6eba8ef36742b19a0a1686a347ea8e": {
          "model_module": "@jupyter-widgets/controls",
          "model_name": "SliderStyleModel",
          "state": {
            "_view_name": "StyleView",
            "handle_color": null,
            "_model_name": "SliderStyleModel",
            "description_width": "",
            "_view_module": "@jupyter-widgets/base",
            "_model_module_version": "1.5.0",
            "_view_count": null,
            "_view_module_version": "1.2.0",
            "_model_module": "@jupyter-widgets/controls"
          }
        },
        "c0ddace0f432476d9115cba4c785ad5c": {
          "model_module": "@jupyter-widgets/base",
          "model_name": "LayoutModel",
          "state": {
            "_view_name": "LayoutView",
            "grid_template_rows": null,
            "right": null,
            "justify_content": null,
            "_view_module": "@jupyter-widgets/base",
            "overflow": null,
            "_model_module_version": "1.2.0",
            "_view_count": null,
            "flex_flow": null,
            "width": null,
            "min_width": null,
            "border": null,
            "align_items": null,
            "bottom": null,
            "_model_module": "@jupyter-widgets/base",
            "top": null,
            "grid_column": null,
            "overflow_y": null,
            "overflow_x": null,
            "grid_auto_flow": null,
            "grid_area": null,
            "grid_template_columns": null,
            "flex": null,
            "_model_name": "LayoutModel",
            "justify_items": null,
            "grid_row": null,
            "max_height": null,
            "align_content": null,
            "visibility": null,
            "align_self": null,
            "height": null,
            "min_height": null,
            "padding": null,
            "grid_auto_rows": null,
            "grid_gap": null,
            "max_width": null,
            "order": null,
            "_view_module_version": "1.2.0",
            "grid_template_areas": null,
            "object_position": null,
            "object_fit": null,
            "grid_auto_columns": null,
            "margin": null,
            "display": null,
            "left": null
          }
        },
        "1c8ff51ec1974859b989c81a418d2877": {
          "model_module": "@jupyter-widgets/controls",
          "model_name": "ButtonStyleModel",
          "state": {
            "_view_name": "StyleView",
            "_model_name": "ButtonStyleModel",
            "_view_module": "@jupyter-widgets/base",
            "_model_module_version": "1.5.0",
            "_view_count": null,
            "button_color": null,
            "font_weight": "",
            "_view_module_version": "1.2.0",
            "_model_module": "@jupyter-widgets/controls"
          }
        },
        "8b038616e4e845229fd1e11255627de6": {
          "model_module": "@jupyter-widgets/base",
          "model_name": "LayoutModel",
          "state": {
            "_view_name": "LayoutView",
            "grid_template_rows": null,
            "right": null,
            "justify_content": null,
            "_view_module": "@jupyter-widgets/base",
            "overflow": null,
            "_model_module_version": "1.2.0",
            "_view_count": null,
            "flex_flow": null,
            "width": null,
            "min_width": null,
            "border": null,
            "align_items": null,
            "bottom": null,
            "_model_module": "@jupyter-widgets/base",
            "top": null,
            "grid_column": null,
            "overflow_y": null,
            "overflow_x": null,
            "grid_auto_flow": null,
            "grid_area": null,
            "grid_template_columns": null,
            "flex": null,
            "_model_name": "LayoutModel",
            "justify_items": null,
            "grid_row": null,
            "max_height": null,
            "align_content": null,
            "visibility": null,
            "align_self": null,
            "height": null,
            "min_height": null,
            "padding": null,
            "grid_auto_rows": null,
            "grid_gap": null,
            "max_width": null,
            "order": null,
            "_view_module_version": "1.2.0",
            "grid_template_areas": null,
            "object_position": null,
            "object_fit": null,
            "grid_auto_columns": null,
            "margin": null,
            "display": null,
            "left": null
          }
        },
        "4fc63ea58b9946a0aa81ad89d4f65518": {
          "model_module": "@jupyter-widgets/base",
          "model_name": "LayoutModel",
          "state": {
            "_view_name": "LayoutView",
            "grid_template_rows": null,
            "right": null,
            "justify_content": null,
            "_view_module": "@jupyter-widgets/base",
            "overflow": null,
            "_model_module_version": "1.2.0",
            "_view_count": null,
            "flex_flow": null,
            "width": null,
            "min_width": null,
            "border": null,
            "align_items": null,
            "bottom": null,
            "_model_module": "@jupyter-widgets/base",
            "top": null,
            "grid_column": null,
            "overflow_y": null,
            "overflow_x": null,
            "grid_auto_flow": null,
            "grid_area": null,
            "grid_template_columns": null,
            "flex": null,
            "_model_name": "LayoutModel",
            "justify_items": null,
            "grid_row": null,
            "max_height": null,
            "align_content": null,
            "visibility": null,
            "align_self": null,
            "height": null,
            "min_height": null,
            "padding": null,
            "grid_auto_rows": null,
            "grid_gap": null,
            "max_width": null,
            "order": null,
            "_view_module_version": "1.2.0",
            "grid_template_areas": null,
            "object_position": null,
            "object_fit": null,
            "grid_auto_columns": null,
            "margin": null,
            "display": null,
            "left": null
          }
        }
      }
    }
  },
  "cells": [
    {
      "cell_type": "markdown",
      "metadata": {
        "id": "view-in-github",
        "colab_type": "text"
      },
      "source": [
        "<a href=\"https://colab.research.google.com/github/Willlee0225/nbviewer/blob/master/CNN_%E4%BD%9C%E6%A5%AD.ipynb\" target=\"_parent\"><img src=\"https://colab.research.google.com/assets/colab-badge.svg\" alt=\"Open In Colab\"/></a>"
      ]
    },
    {
      "cell_type": "code",
      "metadata": {
        "id": "QuamYBeTGyyJ",
        "colab_type": "code",
        "colab": {}
      },
      "source": [
        "%matplotlib inline\n",
        "\n",
        "import numpy as np\n",
        "import matplotlib.pyplot as plt\n",
        "\n",
        "%tensorflow_version 2.x"
      ],
      "execution_count": 0,
      "outputs": []
    },
    {
      "cell_type": "code",
      "metadata": {
        "id": "go1ZwTKBG1mz",
        "colab_type": "code",
        "colab": {}
      },
      "source": [
        "import tensorflow as tf"
      ],
      "execution_count": 0,
      "outputs": []
    },
    {
      "cell_type": "markdown",
      "metadata": {
        "id": "PZadYQ_IHEow",
        "colab_type": "text"
      },
      "source": [
        "##1. 讀入 Fashion MNSIT 數據集\n"
      ]
    },
    {
      "cell_type": "code",
      "metadata": {
        "id": "Sryxk76UHF6G",
        "colab_type": "code",
        "colab": {}
      },
      "source": [
        "from tensorflow.keras.datasets import fashion_mnist"
      ],
      "execution_count": 0,
      "outputs": []
    },
    {
      "cell_type": "code",
      "metadata": {
        "id": "ZRL0KKHRHI0T",
        "colab_type": "code",
        "colab": {}
      },
      "source": [
        "(x_train, y_train), (x_test, y_test) = fashion_mnist.load_data()"
      ],
      "execution_count": 0,
      "outputs": []
    },
    {
      "cell_type": "markdown",
      "metadata": {
        "id": "rpzase4fHSz3",
        "colab_type": "text"
      },
      "source": [
        "##2. 欣賞數據集內容"
      ]
    },
    {
      "cell_type": "code",
      "metadata": {
        "id": "N9jT31V_HN_P",
        "colab_type": "code",
        "colab": {
          "base_uri": "https://localhost:8080/",
          "height": 34
        },
        "outputId": "4257ea4e-d9de-4a1d-cee6-85b001853ac3"
      },
      "source": [
        "len(x_train)"
      ],
      "execution_count": 35,
      "outputs": [
        {
          "output_type": "execute_result",
          "data": {
            "text/plain": [
              "60000"
            ]
          },
          "metadata": {
            "tags": []
          },
          "execution_count": 35
        }
      ]
    },
    {
      "cell_type": "code",
      "metadata": {
        "id": "ijTeCRWnHV9k",
        "colab_type": "code",
        "colab": {
          "base_uri": "https://localhost:8080/",
          "height": 34
        },
        "outputId": "7b1f8fdc-dc3b-4fab-d7d1-fe36c489aa64"
      },
      "source": [
        "len(x_test)"
      ],
      "execution_count": 36,
      "outputs": [
        {
          "output_type": "execute_result",
          "data": {
            "text/plain": [
              "10000"
            ]
          },
          "metadata": {
            "tags": []
          },
          "execution_count": 36
        }
      ]
    },
    {
      "cell_type": "markdown",
      "metadata": {
        "id": "eW82MijxHZQQ",
        "colab_type": "text"
      },
      "source": [
        "##觀察資料\n",
        "### 有十個類別"
      ]
    },
    {
      "cell_type": "code",
      "metadata": {
        "id": "MChyshSQHYmi",
        "colab_type": "code",
        "colab": {}
      },
      "source": [
        "class_names = ['T-shirt/top', 'Trouser', 'Pullover', 'Dress', 'Coat',\n",
        "               'Sandal', 'Shirt', 'Sneaker', 'Bag', 'Ankle boot']"
      ],
      "execution_count": 0,
      "outputs": []
    },
    {
      "cell_type": "code",
      "metadata": {
        "id": "tsI7fCPnHd1X",
        "colab_type": "code",
        "colab": {
          "base_uri": "https://localhost:8080/",
          "height": 1000
        },
        "outputId": "4bd987cb-5aa0-4ee5-94fb-c6452f76fc23"
      },
      "source": [
        "n=2000\n",
        "x_train[n]"
      ],
      "execution_count": 38,
      "outputs": [
        {
          "output_type": "execute_result",
          "data": {
            "text/plain": [
              "array([[  0,   0,   0,   0,   0,   0,   0,   0,   0,   0,   0,   0,   0,\n",
              "         53,  70,  30,   0,   0,   0,   0,   0,   0,   0,   0,   0,   0,\n",
              "          0,   0],\n",
              "       [  0,   0,   0,   0,   0,   0,   0,   0,   0,   0,  83, 223, 220,\n",
              "        231, 233, 231, 218, 191,  33,   0,   0,   1,   0,   0,   0,   0,\n",
              "          0,   0],\n",
              "       [  0,   0,   0,   0,   0,   0,   0,   0,   0, 142, 248, 228, 215,\n",
              "        217, 219, 219, 220, 235, 234, 107,   0,   0,   1,   0,   0,   0,\n",
              "          0,   0],\n",
              "       [  0,   0,   0,   0,   0,   0,   3,   0,  69, 245, 221, 229, 213,\n",
              "        219, 206, 210, 217, 222, 218, 243,  64,   0,   4,   0,   0,   0,\n",
              "          0,   0],\n",
              "       [  0,   0,   0,   0,   0,   0,   0,   0, 116, 231, 224, 230, 222,\n",
              "        217, 222, 224, 215, 215, 222, 219,   0,   0,   0,   0,   0,   0,\n",
              "          0,   0],\n",
              "       [  0,   0,   0,   0,   1,   0,   0, 193, 238, 216, 222, 218, 213,\n",
              "        211, 208, 210, 217, 224, 217, 222, 169,   0,   0,   0,   0,   0,\n",
              "          0,   0],\n",
              "       [  0,   0,   0,   0,   2,   0,  66, 230, 210, 217, 217, 212, 214,\n",
              "        224, 221, 216, 212, 214, 218, 212, 236, 115,   0,   2,   0,   0,\n",
              "          0,   0],\n",
              "       [  0,   0,   0,   0,   0,   0, 167, 227, 212, 216, 222, 222, 220,\n",
              "        219, 217, 216, 216, 219, 221, 217, 221, 188,   0,   0,   0,   0,\n",
              "          0,   0],\n",
              "       [  0,   0,   0,   0,   0,   0, 220, 223, 219, 217, 215, 216, 216,\n",
              "        216, 215, 218, 220, 216, 218, 213, 216, 193,   0,   0,   0,   0,\n",
              "          0,   0],\n",
              "       [  0,   0,   0,   0,   0,   0, 208, 223, 227, 216, 215, 214, 215,\n",
              "        211, 213, 217, 211, 214, 209, 218, 208, 212,  20,   0,   0,   0,\n",
              "          0,   0],\n",
              "       [  0,   0,   0,   0,   0,  29, 222, 218, 234, 221, 211, 211, 212,\n",
              "        207, 211, 214, 210, 210, 207, 233, 207, 222,  63,   0,   0,   0,\n",
              "          0,   0],\n",
              "       [  0,   0,   0,   0,   0,  74, 228, 217, 236, 222, 209, 209, 210,\n",
              "        209, 218, 211, 210, 206, 211, 236, 207, 224, 128,   0,   0,   0,\n",
              "          0,   0],\n",
              "       [  0,   0,   0,   0,   0, 128, 228, 220, 239, 219, 214, 210, 215,\n",
              "        205, 201, 215, 211, 209, 211, 243, 215, 222, 164,   0,   0,   0,\n",
              "          0,   0],\n",
              "       [  0,   0,   0,   0,   0, 163, 224, 220, 242, 221, 213, 211, 215,\n",
              "        210, 212, 210, 213, 211, 212, 247, 220, 220, 205,   0,   0,   0,\n",
              "          0,   0],\n",
              "       [  0,   0,   0,   0,   0, 193, 222, 218, 246, 229, 212, 211, 217,\n",
              "        212, 211, 211, 212, 213, 212, 251, 219, 215, 236,   0,   0,   0,\n",
              "          0,   0],\n",
              "       [  0,   0,   0,   0,   0, 220, 219, 216, 242, 231, 216, 211, 219,\n",
              "        209, 210, 209, 208, 213, 216, 222, 223, 214, 250,   0,   0,   0,\n",
              "          0,   0],\n",
              "       [  0,   0,   0,   0,   0, 238, 216, 219, 242, 221, 220, 214, 222,\n",
              "        213, 216, 213, 210, 212, 231, 113, 227, 217, 250,  25,   0,   0,\n",
              "          0,   0],\n",
              "       [  0,   0,   0,   0,   0, 248, 211, 236, 180, 218, 225, 212, 219,\n",
              "        214, 214, 214, 210, 204, 241, 114, 207, 220, 245,  55,   0,   0,\n",
              "          0,   0],\n",
              "       [  0,   0,   0,   0,   5, 252, 214, 225, 150, 234, 222, 215, 215,\n",
              "        219, 219, 215, 212, 208, 230, 163, 197, 220, 243,  78,   0,   0,\n",
              "          0,   0],\n",
              "       [  0,   0,   0,   0,  27, 250, 217, 200, 181, 232, 214, 218, 221,\n",
              "        204, 207, 216, 215, 208, 212, 208, 215, 217, 241,  91,   0,   0,\n",
              "          0,   0],\n",
              "       [  0,   0,   0,   0,  48, 251, 219, 189, 205, 229, 224, 216, 220,\n",
              "        221, 216, 215, 214, 214, 211, 210, 223, 210, 235, 100,   0,   0,\n",
              "          0,   0],\n",
              "       [  0,   0,   0,   0,  69, 254, 214, 226, 228, 216, 221, 219, 217,\n",
              "        219, 218, 216, 215, 215, 210, 211, 230, 210, 231, 116,   0,   0,\n",
              "          0,   0],\n",
              "       [  0,   0,   0,   0,  96, 250, 205, 243, 223, 215, 222, 218, 215,\n",
              "        219, 220, 216, 217, 215, 212, 208, 232, 221, 225, 133,   0,   0,\n",
              "          0,   0],\n",
              "       [  0,   0,   0,   0, 106, 246, 207, 239, 222, 216, 221, 219, 218,\n",
              "        220, 220, 214, 215, 213, 211, 208, 230, 225, 224, 144,   0,   0,\n",
              "          0,   0],\n",
              "       [  0,   0,   0,   0, 135, 222, 216, 234, 222, 216, 217, 218, 219,\n",
              "        226, 224, 217, 218, 216, 214, 210, 231, 226, 226, 144,   0,   0,\n",
              "          0,   0],\n",
              "       [  0,   0,   0,   0, 174, 220, 211, 228, 224, 214, 208, 212, 212,\n",
              "        219, 221, 214, 214, 209, 207, 208, 224, 224, 212, 136,   0,   0,\n",
              "          0,   0],\n",
              "       [  0,   0,   0,   0, 198, 223, 240, 194, 255, 255, 255, 255, 245,\n",
              "        233, 242, 248, 250, 252, 252, 255, 254, 227, 255, 198,   0,   0,\n",
              "          0,   0],\n",
              "       [  0,   0,   0,   0,   0,  24,   8,   0,  32,  73, 101, 114, 148,\n",
              "        172, 164, 142, 130, 114, 108,  66,   1, 139, 131,  58,   0,   0,\n",
              "          0,   0]], dtype=uint8)"
            ]
          },
          "metadata": {
            "tags": []
          },
          "execution_count": 38
        }
      ]
    },
    {
      "cell_type": "code",
      "metadata": {
        "id": "8GQTDJtZHhak",
        "colab_type": "code",
        "colab": {
          "base_uri": "https://localhost:8080/",
          "height": 34
        },
        "outputId": "a52ba144-4461-4833-8029-9c699d35fefa"
      },
      "source": [
        "y_train[n]"
      ],
      "execution_count": 39,
      "outputs": [
        {
          "output_type": "execute_result",
          "data": {
            "text/plain": [
              "4"
            ]
          },
          "metadata": {
            "tags": []
          },
          "execution_count": 39
        }
      ]
    },
    {
      "cell_type": "markdown",
      "metadata": {
        "id": "eyJxXFiSHoIZ",
        "colab_type": "text"
      },
      "source": [
        "##將顏色稍微改變了一下"
      ]
    },
    {
      "cell_type": "code",
      "metadata": {
        "id": "LevCRLJDHkZ8",
        "colab_type": "code",
        "colab": {
          "base_uri": "https://localhost:8080/",
          "height": 282
        },
        "outputId": "36614657-5c11-478a-95b8-6932bb1fd8fe"
      },
      "source": [
        "n = 2000\n",
        "print('這是', class_names[y_train[n]])\n",
        "plt.imshow(x_train[n], cmap='Greens');"
      ],
      "execution_count": 40,
      "outputs": [
        {
          "output_type": "stream",
          "text": [
            "這是 Coat\n"
          ],
          "name": "stdout"
        },
        {
          "output_type": "display_data",
          "data": {
            "image/png": "[encoded data removed]",
            "text/plain": [
              "<Figure size 432x288 with 1 Axes>"
            ]
          },
          "metadata": {
            "tags": [],
            "needs_background": "light"
          }
        }
      ]
    },
    {
      "cell_type": "markdown",
      "metadata": {
        "id": "FQi5fzdlHvlg",
        "colab_type": "text"
      },
      "source": [
        "##看一下每個種類長怎樣"
      ]
    },
    {
      "cell_type": "code",
      "metadata": {
        "id": "bztrC7W5HrhA",
        "colab_type": "code",
        "colab": {
          "base_uri": "https://localhost:8080/",
          "height": 1000
        },
        "outputId": "59591b43-feee-4156-a7b9-4f85321c036a"
      },
      "source": [
        "pick = np.random.choice(60000, 10, replace=False)\n",
        "\n",
        "for i in range(10):\n",
        "    n = pick[i]\n",
        "    a = plt.figure(figsize=(15,15))\n",
        "    ax = a.add_subplot(1,10,i+1)\n",
        "    ax.set_xticks([])\n",
        "    ax.set_yticks([])\n",
        "    ax.set_title(class_names[y_train[n]], fontsize=10)\n",
        "    plt.imshow(x_train[n], cmap='Greens')"
      ],
      "execution_count": 41,
      "outputs": [
        {
          "output_type": "display_data",
          "data": {
            "image/png": "[encoded data removed]",
            "text/plain": [
              "<Figure size 1080x1080 with 1 Axes>"
            ]
          },
          "metadata": {
            "tags": []
          }
        },
        {
          "output_type": "display_data",
          "data": {
            "image/png": "[encoded data removed]",
            "text/plain": [
              "<Figure size 1080x1080 with 1 Axes>"
            ]
          },
          "metadata": {
            "tags": []
          }
        },
        {
          "output_type": "display_data",
          "data": {
            "image/png": "[encoded data removed]",
            "text/plain": [
              "<Figure size 1080x1080 with 1 Axes>"
            ]
          },
          "metadata": {
            "tags": []
          }
        },
        {
          "output_type": "display_data",
          "data": {
            "image/png": "[encoded data removed]",
            "text/plain": [
              "<Figure size 1080x1080 with 1 Axes>"
            ]
          },
          "metadata": {
            "tags": []
          }
        },
        {
          "output_type": "display_data",
          "data": {
            "image/png": "[encoded data removed]",
            "text/plain": [
              "<Figure size 1080x1080 with 1 Axes>"
            ]
          },
          "metadata": {
            "tags": []
          }
        },
        {
          "output_type": "display_data",
          "data": {
            "image/png": "[encoded data removed]",
            "text/plain": [
              "<Figure size 1080x1080 with 1 Axes>"
            ]
          },
          "metadata": {
            "tags": []
          }
        },
        {
          "output_type": "display_data",
          "data": {
            "image/png": "[encoded data removed]",
            "text/plain": [
              "<Figure size 1080x1080 with 1 Axes>"
            ]
          },
          "metadata": {
            "tags": []
          }
        },
        {
          "output_type": "display_data",
          "data": {
            "image/png": "[encoded data removed]",
            "text/plain": [
              "<Figure size 1080x1080 with 1 Axes>"
            ]
          },
          "metadata": {
            "tags": []
          }
        },
        {
          "output_type": "display_data",
          "data": {
            "image/png": "[encoded data removed]",
            "text/plain": [
              "<Figure size 1080x1080 with 1 Axes>"
            ]
          },
          "metadata": {
            "tags": []
          }
        },
        {
          "output_type": "display_data",
          "data": {
            "image/png": "[encoded data removed]",
            "text/plain": [
              "<Figure size 1080x1080 with 1 Axes>"
            ]
          },
          "metadata": {
            "tags": []
          }
        }
      ]
    },
    {
      "cell_type": "markdown",
      "metadata": {
        "id": "ZuwYTzflH2Ft",
        "colab_type": "text"
      },
      "source": [
        "##3. 資料整理\n",
        "###先將資料標準化"
      ]
    },
    {
      "cell_type": "code",
      "metadata": {
        "id": "TjGTf27dHyns",
        "colab_type": "code",
        "colab": {}
      },
      "source": [
        "x_train = x_train.reshape(60000, 28, 28, 1) / 255 #告知我們只有1個channel"
      ],
      "execution_count": 0,
      "outputs": []
    },
    {
      "cell_type": "code",
      "metadata": {
        "id": "vnifqfLoH9I6",
        "colab_type": "code",
        "colab": {}
      },
      "source": [
        "x_test = x_test.reshape(10000, 28, 28, 1) / 255"
      ],
      "execution_count": 0,
      "outputs": []
    },
    {
      "cell_type": "markdown",
      "metadata": {
        "id": "h4eiEXJ6IKBj",
        "colab_type": "text"
      },
      "source": [
        "###將y改成one hot encoding，因為有十種，所以輸出十種"
      ]
    },
    {
      "cell_type": "code",
      "metadata": {
        "id": "sHjNcoE6IDGt",
        "colab_type": "code",
        "colab": {
          "base_uri": "https://localhost:8080/",
          "height": 34
        },
        "outputId": "c0e71b05-e2ed-4f01-c69f-28907376fa22"
      },
      "source": [
        "from tensorflow.keras.utils import to_categorical\n",
        "y_train = to_categorical(y_train, 10)\n",
        "y_test = to_categorical(y_test, 10)\n",
        "y_train[2000]"
      ],
      "execution_count": 44,
      "outputs": [
        {
          "output_type": "execute_result",
          "data": {
            "text/plain": [
              "array([0., 0., 0., 0., 1., 0., 0., 0., 0., 0.], dtype=float32)"
            ]
          },
          "metadata": {
            "tags": []
          },
          "execution_count": 44
        }
      ]
    },
    {
      "cell_type": "markdown",
      "metadata": {
        "id": "lcaRV9KSITyg",
        "colab_type": "text"
      },
      "source": [
        "##4.打造CNN神經網路"
      ]
    },
    {
      "cell_type": "code",
      "metadata": {
        "id": "CbQl-Z3HIP6J",
        "colab_type": "code",
        "colab": {}
      },
      "source": [
        "from tensorflow.keras.models import Sequential\n",
        "from tensorflow.keras.layers import Conv2D, MaxPooling2D\n",
        "from tensorflow.keras.layers import Dense, Flatten \n",
        "from tensorflow.keras.optimizers import SGD"
      ],
      "execution_count": 0,
      "outputs": []
    },
    {
      "cell_type": "markdown",
      "metadata": {
        "id": "4fpZNj1cIevb",
        "colab_type": "text"
      },
      "source": [
        "##組裝一台空白學習機"
      ]
    },
    {
      "cell_type": "code",
      "metadata": {
        "id": "bXsTF26hIavO",
        "colab_type": "code",
        "colab": {}
      },
      "source": [
        "model = Sequential()"
      ],
      "execution_count": 0,
      "outputs": []
    },
    {
      "cell_type": "markdown",
      "metadata": {
        "id": "1RZTk-jQI1zO",
        "colab_type": "text"
      },
      "source": [
        "###取2倍數的filter數量"
      ]
    },
    {
      "cell_type": "code",
      "metadata": {
        "id": "b0xoheWzIiB-",
        "colab_type": "code",
        "colab": {}
      },
      "source": [
        "model.add(Conv2D(32, (3,3), padding='same',\n",
        "                input_shape=(28,28,1),\n",
        "                activation='relu'))"
      ],
      "execution_count": 0,
      "outputs": []
    },
    {
      "cell_type": "code",
      "metadata": {
        "id": "6hS4O_gEI4Am",
        "colab_type": "code",
        "colab": {}
      },
      "source": [
        "model.add(MaxPooling2D(pool_size=(2,2)))"
      ],
      "execution_count": 0,
      "outputs": []
    },
    {
      "cell_type": "code",
      "metadata": {
        "id": "CIK-_YObI7UT",
        "colab_type": "code",
        "colab": {}
      },
      "source": [
        "model.add(Conv2D(64, (3,3), padding='same',\n",
        "                activation='relu'))"
      ],
      "execution_count": 0,
      "outputs": []
    },
    {
      "cell_type": "code",
      "metadata": {
        "id": "y4tuCkjCJC9O",
        "colab_type": "code",
        "colab": {}
      },
      "source": [
        "model.add(MaxPooling2D(pool_size = (2, 2)))"
      ],
      "execution_count": 0,
      "outputs": []
    },
    {
      "cell_type": "code",
      "metadata": {
        "id": "49cUcRAFJDfc",
        "colab_type": "code",
        "colab": {}
      },
      "source": [
        "model.add(Conv2D(128, (3,3), padding='same',\n",
        "                activation='relu'))"
      ],
      "execution_count": 0,
      "outputs": []
    },
    {
      "cell_type": "code",
      "metadata": {
        "id": "ipfXf3lnJHOu",
        "colab_type": "code",
        "colab": {}
      },
      "source": [
        "model.add(MaxPooling2D(pool_size = (2, 2)))"
      ],
      "execution_count": 0,
      "outputs": []
    },
    {
      "cell_type": "markdown",
      "metadata": {
        "id": "VgxLLlhFJLni",
        "colab_type": "text"
      },
      "source": [
        "###拉平"
      ]
    },
    {
      "cell_type": "code",
      "metadata": {
        "id": "yf6qwDppJIJO",
        "colab_type": "code",
        "colab": {}
      },
      "source": [
        "model.add(Flatten())"
      ],
      "execution_count": 0,
      "outputs": []
    },
    {
      "cell_type": "markdown",
      "metadata": {
        "id": "BoGhm74LJXPi",
        "colab_type": "text"
      },
      "source": [
        "###這邊改變了神經元的數量改為200,100,總共2層，激發函數依然選用relu"
      ]
    },
    {
      "cell_type": "code",
      "metadata": {
        "id": "vob-0akGJMT2",
        "colab_type": "code",
        "colab": {}
      },
      "source": [
        "model.add(Dense(200, activation = \"relu\"))"
      ],
      "execution_count": 0,
      "outputs": []
    },
    {
      "cell_type": "code",
      "metadata": {
        "id": "dIoi8eHAJSX-",
        "colab_type": "code",
        "colab": {}
      },
      "source": [
        "model.add(Dense(100, activation = \"relu\"))"
      ],
      "execution_count": 0,
      "outputs": []
    },
    {
      "cell_type": "code",
      "metadata": {
        "id": "BXZLWjuyJdhN",
        "colab_type": "code",
        "colab": {}
      },
      "source": [
        "model.add(Dense(10, activation='softmax'))"
      ],
      "execution_count": 0,
      "outputs": []
    },
    {
      "cell_type": "markdown",
      "metadata": {
        "id": "3GkEkfUgJrN9",
        "colab_type": "text"
      },
      "source": [
        "###檢視神經網路"
      ]
    },
    {
      "cell_type": "code",
      "metadata": {
        "id": "f3xZIhbtJoWj",
        "colab_type": "code",
        "colab": {
          "base_uri": "https://localhost:8080/",
          "height": 493
        },
        "outputId": "d1b6e692-4bdc-4cf5-c9e9-545ade53d86b"
      },
      "source": [
        "model.summary()"
      ],
      "execution_count": 57,
      "outputs": [
        {
          "output_type": "stream",
          "text": [
            "Model: \"sequential_1\"\n",
            "_________________________________________________________________\n",
            "Layer (type)                 Output Shape              Param #   \n",
            "=================================================================\n",
            "conv2d_3 (Conv2D)            (None, 28, 28, 32)        320       \n",
            "_________________________________________________________________\n",
            "max_pooling2d_3 (MaxPooling2 (None, 14, 14, 32)        0         \n",
            "_________________________________________________________________\n",
            "conv2d_4 (Conv2D)            (None, 14, 14, 64)        18496     \n",
            "_________________________________________________________________\n",
            "max_pooling2d_4 (MaxPooling2 (None, 7, 7, 64)          0         \n",
            "_________________________________________________________________\n",
            "conv2d_5 (Conv2D)            (None, 7, 7, 128)         73856     \n",
            "_________________________________________________________________\n",
            "max_pooling2d_5 (MaxPooling2 (None, 3, 3, 128)         0         \n",
            "_________________________________________________________________\n",
            "flatten_1 (Flatten)          (None, 1152)              0         \n",
            "_________________________________________________________________\n",
            "dense_5 (Dense)              (None, 200)               230600    \n",
            "_________________________________________________________________\n",
            "dense_6 (Dense)              (None, 100)               20100     \n",
            "_________________________________________________________________\n",
            "dense_7 (Dense)              (None, 10)                1010      \n",
            "=================================================================\n",
            "Total params: 344,382\n",
            "Trainable params: 344,382\n",
            "Non-trainable params: 0\n",
            "_________________________________________________________________\n"
          ],
          "name": "stdout"
        }
      ]
    },
    {
      "cell_type": "code",
      "metadata": {
        "id": "F__I231BJrmD",
        "colab_type": "code",
        "colab": {
          "base_uri": "https://localhost:8080/",
          "height": 34
        },
        "outputId": "2fde3185-2109-417e-b32c-9758471cd357"
      },
      "source": [
        "(3*3+1)*32 #驗證summary中第一層所需要調整的參數"
      ],
      "execution_count": 58,
      "outputs": [
        {
          "output_type": "execute_result",
          "data": {
            "text/plain": [
              "320"
            ]
          },
          "metadata": {
            "tags": []
          },
          "execution_count": 58
        }
      ]
    },
    {
      "cell_type": "markdown",
      "metadata": {
        "id": "X8GTalqGKb_o",
        "colab_type": "text"
      },
      "source": [
        "###組裝神經網路\n",
        "###這邊我改變了learning rate改為0.099"
      ]
    },
    {
      "cell_type": "code",
      "metadata": {
        "id": "Y7QuPJ9JKTLq",
        "colab_type": "code",
        "colab": {}
      },
      "source": [
        "model.compile(loss='mse', optimizer=SGD(lr=0.099),\n",
        "             metrics=['accuracy'])"
      ],
      "execution_count": 0,
      "outputs": []
    },
    {
      "cell_type": "markdown",
      "metadata": {
        "id": "CXURZhVLKvUh",
        "colab_type": "text"
      },
      "source": [
        "###訓練\n",
        "一個epoch要跑（訓練樣本數/Batch_Size）個Iterations\n",
        "###這裡改變了batch_size,每做100題就檢查一次,epochs改成做20次"
      ]
    },
    {
      "cell_type": "code",
      "metadata": {
        "id": "Ca5Yfm6pKius",
        "colab_type": "code",
        "colab": {
          "base_uri": "https://localhost:8080/",
          "height": 714
        },
        "outputId": "e762de01-2dbb-4e12-9eee-742e431dc534"
      },
      "source": [
        "model.fit(x_train, y_train, batch_size=100, epochs=20)"
      ],
      "execution_count": 61,
      "outputs": [
        {
          "output_type": "stream",
          "text": [
            "Epoch 1/20\n",
            "600/600 [==============================] - 88s 146ms/step - loss: 0.0892 - accuracy: 0.2536\n",
            "Epoch 2/20\n",
            "600/600 [==============================] - 89s 148ms/step - loss: 0.0721 - accuracy: 0.4941\n",
            "Epoch 3/20\n",
            "600/600 [==============================] - 88s 147ms/step - loss: 0.0414 - accuracy: 0.6990\n",
            "Epoch 4/20\n",
            "600/600 [==============================] - 89s 148ms/step - loss: 0.0355 - accuracy: 0.7456\n",
            "Epoch 5/20\n",
            "600/600 [==============================] - 89s 148ms/step - loss: 0.0323 - accuracy: 0.7721\n",
            "Epoch 6/20\n",
            "600/600 [==============================] - 89s 148ms/step - loss: 0.0300 - accuracy: 0.7905\n",
            "Epoch 7/20\n",
            "600/600 [==============================] - 89s 148ms/step - loss: 0.0282 - accuracy: 0.8048\n",
            "Epoch 8/20\n",
            "600/600 [==============================] - 89s 148ms/step - loss: 0.0268 - accuracy: 0.8139\n",
            "Epoch 9/20\n",
            "600/600 [==============================] - 89s 148ms/step - loss: 0.0256 - accuracy: 0.8226\n",
            "Epoch 10/20\n",
            "600/600 [==============================] - 88s 147ms/step - loss: 0.0243 - accuracy: 0.8323\n",
            "Epoch 11/20\n",
            "600/600 [==============================] - 90s 150ms/step - loss: 0.0235 - accuracy: 0.8395\n",
            "Epoch 12/20\n",
            "600/600 [==============================] - 90s 149ms/step - loss: 0.0227 - accuracy: 0.8443\n",
            "Epoch 13/20\n",
            "600/600 [==============================] - 88s 147ms/step - loss: 0.0221 - accuracy: 0.8488\n",
            "Epoch 14/20\n",
            "600/600 [==============================] - 88s 146ms/step - loss: 0.0212 - accuracy: 0.8548\n",
            "Epoch 15/20\n",
            "600/600 [==============================] - 88s 147ms/step - loss: 0.0207 - accuracy: 0.8574\n",
            "Epoch 16/20\n",
            "600/600 [==============================] - 89s 148ms/step - loss: 0.0201 - accuracy: 0.8616\n",
            "Epoch 17/20\n",
            "600/600 [==============================] - 88s 147ms/step - loss: 0.0198 - accuracy: 0.8636\n",
            "Epoch 18/20\n",
            "600/600 [==============================] - 88s 147ms/step - loss: 0.0193 - accuracy: 0.8674\n",
            "Epoch 19/20\n",
            "600/600 [==============================] - 90s 149ms/step - loss: 0.0188 - accuracy: 0.8720\n",
            "Epoch 20/20\n",
            "600/600 [==============================] - 89s 148ms/step - loss: 0.0185 - accuracy: 0.8728\n"
          ],
          "name": "stdout"
        },
        {
          "output_type": "execute_result",
          "data": {
            "text/plain": [
              "<tensorflow.python.keras.callbacks.History at 0x7f051c1199e8>"
            ]
          },
          "metadata": {
            "tags": []
          },
          "execution_count": 61
        }
      ]
    },
    {
      "cell_type": "markdown",
      "metadata": {
        "id": "v5dlvAvmLPxB",
        "colab_type": "text"
      },
      "source": [
        "###預測"
      ]
    },
    {
      "cell_type": "code",
      "metadata": {
        "id": "QbcDNmZmLDgH",
        "colab_type": "code",
        "colab": {
          "base_uri": "https://localhost:8080/",
          "height": 88
        },
        "outputId": "f842174a-e13b-4b76-83e7-3a5161970dc0"
      },
      "source": [
        "result = model.predict_classes(x_test)"
      ],
      "execution_count": 62,
      "outputs": [
        {
          "output_type": "stream",
          "text": [
            "WARNING:tensorflow:From <ipython-input-62-63af5bb2f9b6>:1: Sequential.predict_classes (from tensorflow.python.keras.engine.sequential) is deprecated and will be removed after 2021-01-01.\n",
            "Instructions for updating:\n",
            "Please use instead:* `np.argmax(model.predict(x), axis=-1)`,   if your model does multi-class classification   (e.g. if it uses a `softmax` last-layer activation).* `(model.predict(x) > 0.5).astype(\"int32\")`,   if your model does binary classification   (e.g. if it uses a `sigmoid` last-layer activation).\n"
          ],
          "name": "stdout"
        }
      ]
    },
    {
      "cell_type": "code",
      "metadata": {
        "id": "iDQBLMlULWf0",
        "colab_type": "code",
        "colab": {}
      },
      "source": [
        "def CNNmodel_predict(n):\n",
        "    print(\"神經網路CNN的預測是：\", class_names[result[n]])\n",
        "    X = x_test[n].reshape(28, 28)\n",
        "    plt.imshow(X, cmap = \"Reds\")"
      ],
      "execution_count": 0,
      "outputs": []
    },
    {
      "cell_type": "code",
      "metadata": {
        "id": "u3Bveii0LpIc",
        "colab_type": "code",
        "colab": {
          "base_uri": "https://localhost:8080/",
          "height": 282
        },
        "outputId": "81ac034c-d1f8-4236-d9e7-d79aa479aa4b"
      },
      "source": [
        "CNNmodel_predict(1784)"
      ],
      "execution_count": 64,
      "outputs": [
        {
          "output_type": "stream",
          "text": [
            "神經網路CNN的預測是： Coat\n"
          ],
          "name": "stdout"
        },
        {
          "output_type": "display_data",
          "data": {
            "image/png": "[encoded data removed]",
            "text/plain": [
              "<Figure size 432x288 with 1 Axes>"
            ]
          },
          "metadata": {
            "tags": [],
            "needs_background": "light"
          }
        }
      ]
    },
    {
      "cell_type": "code",
      "metadata": {
        "id": "RwGXfVI5L9sX",
        "colab_type": "code",
        "colab": {}
      },
      "source": [
        "from ipywidgets import interact_manual"
      ],
      "execution_count": 0,
      "outputs": []
    },
    {
      "cell_type": "code",
      "metadata": {
        "id": "Cpih4WBcL_HF",
        "colab_type": "code",
        "colab": {
          "base_uri": "https://localhost:8080/",
          "height": 98,
          "referenced_widgets": [
            "ecf6f338f5b348b1b62d179b849f4914",
            "bd9353b54d564a739b69f266ec87e559",
            "0f8afebcc9be46588f7fa78a8f33a2f4",
            "2dc6ba6117114c14a9a10018a6faa6f8",
            "b2ea028a7c474f11908c2f1284e81ad4",
            "30f449f62ca548a3a5d88e61a90300fc",
            "0d3114e57bb24cec9fe7cb773d94a3ca",
            "232cede38b03448aab9162327a0142c2",
            "87058532c0cd4c4989531dc765ecaaa8",
            "06afd77d90ec48c5a27c706becc581d0"
          ]
        },
        "outputId": "64d6e5d4-bb1b-4d35-f016-1a03456253c1"
      },
      "source": [
        "interact_manual(CNNmodel_predict, n=(0, 9999))"
      ],
      "execution_count": 67,
      "outputs": [
        {
          "output_type": "display_data",
          "data": {
            "application/vnd.jupyter.widget-view+json": {
              "model_id": "ecf6f338f5b348b1b62d179b849f4914",
              "version_minor": 0,
              "version_major": 2
            },
            "text/plain": [
              "interactive(children=(IntSlider(value=4999, description='n', max=9999), Button(description='Run Interact', sty…"
            ]
          },
          "metadata": {
            "tags": []
          }
        },
        {
          "output_type": "execute_result",
          "data": {
            "text/plain": [
              "<function __main__.CNNmodel_predict>"
            ]
          },
          "metadata": {
            "tags": []
          },
          "execution_count": 67
        }
      ]
    },
    {
      "cell_type": "markdown",
      "metadata": {
        "id": "o_Fa1DNQLvfF",
        "colab_type": "text"
      },
      "source": [
        "###檢查是否有違背答案的傾向\n",
        "\n",
        "> Indented block\n",
        "\n"
      ]
    },
    {
      "cell_type": "code",
      "metadata": {
        "id": "kDcIew8uLyjG",
        "colab_type": "code",
        "colab": {
          "base_uri": "https://localhost:8080/",
          "height": 51
        },
        "outputId": "d3d62571-70b2-4ca3-9c85-36f84bc5e831"
      },
      "source": [
        "score = model.evaluate(x_test, y_test)\n",
        "loss, acc = score\n",
        "print('測試資料的正確率為', acc)"
      ],
      "execution_count": 68,
      "outputs": [
        {
          "output_type": "stream",
          "text": [
            "313/313 [==============================] - 5s 16ms/step - loss: 0.0194 - accuracy: 0.8661\n",
            "測試資料的正確率為 0.866100013256073\n"
          ],
          "name": "stdout"
        }
      ]
    },
    {
      "cell_type": "markdown",
      "metadata": {
        "id": "hlBiuSA6OiI8",
        "colab_type": "text"
      },
      "source": [
        "##組裝第二台函數學習機\n",
        "###神經元數量，層數接改變，batch size 一樣100題檢查一次"
      ]
    },
    {
      "cell_type": "code",
      "metadata": {
        "id": "-eSMKJ-SMLr8",
        "colab_type": "code",
        "colab": {}
      },
      "source": [
        "model2 = Sequential()"
      ],
      "execution_count": 0,
      "outputs": []
    },
    {
      "cell_type": "code",
      "metadata": {
        "id": "EA8EDGjhOyE8",
        "colab_type": "code",
        "colab": {}
      },
      "source": [
        "model2.add(Conv2D(32, (3,3), padding='same',\n",
        "                input_shape=(28,28,1),\n",
        "                activation='relu'))"
      ],
      "execution_count": 0,
      "outputs": []
    },
    {
      "cell_type": "code",
      "metadata": {
        "id": "SN0rQy1qO1ln",
        "colab_type": "code",
        "colab": {}
      },
      "source": [
        "model2.add(MaxPooling2D(pool_size=(2,2)))"
      ],
      "execution_count": 0,
      "outputs": []
    },
    {
      "cell_type": "code",
      "metadata": {
        "id": "gPyQgvE0O27l",
        "colab_type": "code",
        "colab": {}
      },
      "source": [
        "model2.add(Conv2D(64, (3,3), padding='same',\n",
        "                input_shape=(28,28,1),\n",
        "                activation='relu'))"
      ],
      "execution_count": 0,
      "outputs": []
    },
    {
      "cell_type": "code",
      "metadata": {
        "id": "CROrUC7PO2_7",
        "colab_type": "code",
        "colab": {}
      },
      "source": [
        "model2.add(MaxPooling2D(pool_size=(2,2)))"
      ],
      "execution_count": 0,
      "outputs": []
    },
    {
      "cell_type": "code",
      "metadata": {
        "id": "O9iFBwQTO3Dv",
        "colab_type": "code",
        "colab": {}
      },
      "source": [
        "model2.add(Conv2D(128, (3,3), padding='same',\n",
        "                input_shape=(28,28,1),\n",
        "                activation='relu'))"
      ],
      "execution_count": 0,
      "outputs": []
    },
    {
      "cell_type": "code",
      "metadata": {
        "id": "pqSNTbffO3Jc",
        "colab_type": "code",
        "colab": {}
      },
      "source": [
        "model2.add(MaxPooling2D(pool_size=(2,2)))"
      ],
      "execution_count": 0,
      "outputs": []
    },
    {
      "cell_type": "code",
      "metadata": {
        "id": "PjosZsyTO3G6",
        "colab_type": "code",
        "colab": {}
      },
      "source": [
        "model2.add(Flatten())"
      ],
      "execution_count": 0,
      "outputs": []
    },
    {
      "cell_type": "code",
      "metadata": {
        "id": "CLUJTZyJPDkk",
        "colab_type": "code",
        "colab": {}
      },
      "source": [
        "model2.add(Dense(200, activation = \"relu\"))"
      ],
      "execution_count": 0,
      "outputs": []
    },
    {
      "cell_type": "code",
      "metadata": {
        "id": "TfiJnkRFPDpb",
        "colab_type": "code",
        "colab": {}
      },
      "source": [
        "model2.add(Dense(100, activation = \"relu\"))"
      ],
      "execution_count": 0,
      "outputs": []
    },
    {
      "cell_type": "code",
      "metadata": {
        "id": "b6tQxJYvPDtS",
        "colab_type": "code",
        "colab": {}
      },
      "source": [
        "model2.add(Dense(100, activation = \"relu\"))"
      ],
      "execution_count": 0,
      "outputs": []
    },
    {
      "cell_type": "code",
      "metadata": {
        "id": "gVxLX9erPD0J",
        "colab_type": "code",
        "colab": {}
      },
      "source": [
        "model2.add(Dense(10, activation='softmax'))"
      ],
      "execution_count": 0,
      "outputs": []
    },
    {
      "cell_type": "markdown",
      "metadata": {
        "id": "jm3aC3xHPQ7e",
        "colab_type": "text"
      },
      "source": [
        "###這邊改變了神經元的數量改為200,100,100,總共3層，激發函數依然選用relu"
      ]
    },
    {
      "cell_type": "code",
      "metadata": {
        "id": "HD4t0OV0PD9s",
        "colab_type": "code",
        "colab": {
          "base_uri": "https://localhost:8080/",
          "height": 527
        },
        "outputId": "eb427c05-e2c0-4ea0-8a3c-c7a1e8b43b5d"
      },
      "source": [
        "model2.summary()"
      ],
      "execution_count": 97,
      "outputs": [
        {
          "output_type": "stream",
          "text": [
            "Model: \"sequential_4\"\n",
            "_________________________________________________________________\n",
            "Layer (type)                 Output Shape              Param #   \n",
            "=================================================================\n",
            "conv2d_9 (Conv2D)            (None, 28, 28, 32)        320       \n",
            "_________________________________________________________________\n",
            "max_pooling2d_9 (MaxPooling2 (None, 14, 14, 32)        0         \n",
            "_________________________________________________________________\n",
            "conv2d_10 (Conv2D)           (None, 14, 14, 64)        18496     \n",
            "_________________________________________________________________\n",
            "max_pooling2d_10 (MaxPooling (None, 7, 7, 64)          0         \n",
            "_________________________________________________________________\n",
            "conv2d_11 (Conv2D)           (None, 7, 7, 128)         73856     \n",
            "_________________________________________________________________\n",
            "max_pooling2d_11 (MaxPooling (None, 3, 3, 128)         0         \n",
            "_________________________________________________________________\n",
            "flatten_3 (Flatten)          (None, 1152)              0         \n",
            "_________________________________________________________________\n",
            "dense_12 (Dense)             (None, 200)               230600    \n",
            "_________________________________________________________________\n",
            "dense_13 (Dense)             (None, 100)               20100     \n",
            "_________________________________________________________________\n",
            "dense_14 (Dense)             (None, 100)               10100     \n",
            "_________________________________________________________________\n",
            "dense_15 (Dense)             (None, 10)                1010      \n",
            "=================================================================\n",
            "Total params: 354,482\n",
            "Trainable params: 354,482\n",
            "Non-trainable params: 0\n",
            "_________________________________________________________________\n"
          ],
          "name": "stdout"
        }
      ]
    },
    {
      "cell_type": "code",
      "metadata": {
        "id": "xBNyVwzIPDyT",
        "colab_type": "code",
        "colab": {}
      },
      "source": [
        "model2.compile(loss='mse', optimizer=SGD(lr=0.099),\n",
        "             metrics=['accuracy'])"
      ],
      "execution_count": 0,
      "outputs": []
    },
    {
      "cell_type": "markdown",
      "metadata": {
        "id": "6UANfFxMPaKP",
        "colab_type": "text"
      },
      "source": [
        "###根據前一次經驗，epochs超過10次之後，增幅有限，故這次epochs改成10次。"
      ]
    },
    {
      "cell_type": "code",
      "metadata": {
        "id": "0yj3w5AEPZlH",
        "colab_type": "code",
        "colab": {
          "base_uri": "https://localhost:8080/",
          "height": 374
        },
        "outputId": "b8403c9b-e86c-4a23-ca33-5807066e68a9"
      },
      "source": [
        "model2.fit(x_train, y_train, batch_size=100, epochs=10)"
      ],
      "execution_count": 99,
      "outputs": [
        {
          "output_type": "stream",
          "text": [
            "Epoch 1/10\n",
            "600/600 [==============================] - 90s 149ms/step - loss: 0.0889 - accuracy: 0.2271\n",
            "Epoch 2/10\n",
            "600/600 [==============================] - 89s 148ms/step - loss: 0.0668 - accuracy: 0.4985\n",
            "Epoch 3/10\n",
            "600/600 [==============================] - 90s 149ms/step - loss: 0.0424 - accuracy: 0.6852\n",
            "Epoch 4/10\n",
            "600/600 [==============================] - 90s 149ms/step - loss: 0.0370 - accuracy: 0.7304\n",
            "Epoch 5/10\n",
            "600/600 [==============================] - 90s 149ms/step - loss: 0.0338 - accuracy: 0.7592\n",
            "Epoch 6/10\n",
            "600/600 [==============================] - 89s 149ms/step - loss: 0.0314 - accuracy: 0.7794\n",
            "Epoch 7/10\n",
            "600/600 [==============================] - 90s 149ms/step - loss: 0.0297 - accuracy: 0.7912\n",
            "Epoch 8/10\n",
            "600/600 [==============================] - 90s 149ms/step - loss: 0.0282 - accuracy: 0.8037\n",
            "Epoch 9/10\n",
            "600/600 [==============================] - 90s 149ms/step - loss: 0.0270 - accuracy: 0.8108\n",
            "Epoch 10/10\n",
            "600/600 [==============================] - 90s 150ms/step - loss: 0.0258 - accuracy: 0.8196\n"
          ],
          "name": "stdout"
        },
        {
          "output_type": "execute_result",
          "data": {
            "text/plain": [
              "<tensorflow.python.keras.callbacks.History at 0x7f05229c8208>"
            ]
          },
          "metadata": {
            "tags": []
          },
          "execution_count": 99
        }
      ]
    },
    {
      "cell_type": "markdown",
      "metadata": {
        "id": "svKgMxwaPsDy",
        "colab_type": "text"
      },
      "source": [
        "###預測"
      ]
    },
    {
      "cell_type": "code",
      "metadata": {
        "id": "67f_i5rEPsm7",
        "colab_type": "code",
        "colab": {}
      },
      "source": [
        "result = model2.predict_classes(x_test)"
      ],
      "execution_count": 0,
      "outputs": []
    },
    {
      "cell_type": "code",
      "metadata": {
        "id": "OGEgunsWP6R1",
        "colab_type": "code",
        "colab": {}
      },
      "source": [
        "def CNNmodel2_predict(n):\n",
        "    print(\"神經網路CNN的預測是：\", class_names[result[n]])\n",
        "    X = x_test[n].reshape(28, 28)\n",
        "    plt.imshow(X, cmap = \"Blues\")"
      ],
      "execution_count": 0,
      "outputs": []
    },
    {
      "cell_type": "code",
      "metadata": {
        "id": "6rjryPAYQAHg",
        "colab_type": "code",
        "colab": {
          "base_uri": "https://localhost:8080/",
          "height": 282
        },
        "outputId": "68d019c5-761a-4a52-d78f-824931662e58"
      },
      "source": [
        "CNNmodel2_predict(1784)"
      ],
      "execution_count": 102,
      "outputs": [
        {
          "output_type": "stream",
          "text": [
            "神經網路CNN的預測是： Coat\n"
          ],
          "name": "stdout"
        },
        {
          "output_type": "display_data",
          "data": {
            "image/png": "[encoded data removed]",
            "text/plain": [
              "<Figure size 432x288 with 1 Axes>"
            ]
          },
          "metadata": {
            "tags": [],
            "needs_background": "light"
          }
        }
      ]
    },
    {
      "cell_type": "code",
      "metadata": {
        "id": "3DCFUmpqQFqd",
        "colab_type": "code",
        "colab": {}
      },
      "source": [
        "from ipywidgets import interact_manual"
      ],
      "execution_count": 0,
      "outputs": []
    },
    {
      "cell_type": "code",
      "metadata": {
        "id": "yVsqU3SBQISQ",
        "colab_type": "code",
        "colab": {
          "base_uri": "https://localhost:8080/",
          "height": 363,
          "referenced_widgets": [
            "47d9fbf48f14489bbd0faf557e6acc65",
            "5d11999c28e44493a22aa029f271a450",
            "e82f2a2aaa6f496b807f15f5bfacecd0",
            "249a0cc1cd4643869a669e932d2b7815",
            "508a21e8508c423f8b41bbb55cbdb46a",
            "ae6eba8ef36742b19a0a1686a347ea8e",
            "c0ddace0f432476d9115cba4c785ad5c",
            "1c8ff51ec1974859b989c81a418d2877",
            "8b038616e4e845229fd1e11255627de6",
            "4fc63ea58b9946a0aa81ad89d4f65518"
          ]
        },
        "outputId": "982bc7ec-69e2-4cb2-c3a3-68ee7bb31e49"
      },
      "source": [
        "interact_manual(CNNmodel_predict, n=(0, 9999))"
      ],
      "execution_count": 104,
      "outputs": [
        {
          "output_type": "display_data",
          "data": {
            "application/vnd.jupyter.widget-view+json": {
              "model_id": "47d9fbf48f14489bbd0faf557e6acc65",
              "version_minor": 0,
              "version_major": 2
            },
            "text/plain": [
              "interactive(children=(IntSlider(value=4999, description='n', max=9999), Button(description='Run Interact', sty…"
            ]
          },
          "metadata": {
            "tags": []
          }
        },
        {
          "output_type": "execute_result",
          "data": {
            "text/plain": [
              "<function __main__.CNNmodel_predict>"
            ]
          },
          "metadata": {
            "tags": []
          },
          "execution_count": 104
        }
      ]
    },
    {
      "cell_type": "markdown",
      "metadata": {
        "id": "mHX9S5cHQIuI",
        "colab_type": "text"
      },
      "source": [
        "###檢查是否有違背答案的傾向"
      ]
    },
    {
      "cell_type": "code",
      "metadata": {
        "id": "Vr5a9XYqQK63",
        "colab_type": "code",
        "colab": {
          "base_uri": "https://localhost:8080/",
          "height": 51
        },
        "outputId": "56910f98-f031-4087-bc49-724028752ac9"
      },
      "source": [
        "score = model2.evaluate(x_test, y_test)\n",
        "loss, acc = score\n",
        "print('測試資料的正確率為', acc)"
      ],
      "execution_count": 105,
      "outputs": [
        {
          "output_type": "stream",
          "text": [
            "313/313 [==============================] - 5s 16ms/step - loss: 0.0257 - accuracy: 0.8222\n",
            "測試資料的正確率為 0.8222000002861023\n"
          ],
          "name": "stdout"
        }
      ]
    },
    {
      "cell_type": "markdown",
      "metadata": {
        "id": "f1SQYlKeQOAn",
        "colab_type": "text"
      },
      "source": [
        "##總結\n",
        "###本次作業在神經元個數，層數，都有做更改\n",
        "###可以發現，神經元個數跟層數增加，正確率其實沒有顯著增加"
      ]
    },
    {
      "cell_type": "code",
      "metadata": {
        "id": "Z64fqOBgWYSO",
        "colab_type": "code",
        "colab": {}
      },
      "source": [
        ""
      ],
      "execution_count": 0,
      "outputs": []
    }
  ]
}