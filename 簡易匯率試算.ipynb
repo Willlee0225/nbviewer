{
  "nbformat": 4,
  "nbformat_minor": 0,
  "metadata": {
    "colab": {
      "name": "簡易匯率試算",
      "provenance": [],
      "collapsed_sections": [],
      "authorship_tag": "ABX9TyMH/1HWU8JvT0ExxI8TQF0n",
      "include_colab_link": true
    },
    "kernelspec": {
      "name": "python3",
      "display_name": "Python 3"
    }
  },
  "cells": [
    {
      "cell_type": "markdown",
      "metadata": {
        "id": "view-in-github",
        "colab_type": "text"
      },
      "source": [
        "<a href=\"https://colab.research.google.com/github/Willlee0225/nbviewer/blob/master/%E7%B0%A1%E6%98%93%E5%8C%AF%E7%8E%87%E8%A9%A6%E7%AE%97.ipynb\" target=\"_parent\"><img src=\"https://colab.research.google.com/assets/colab-badge.svg\" alt=\"Open In Colab\"/></a>"
      ]
    },
    {
      "cell_type": "code",
      "metadata": {
        "id": "GjfoqUHR4PeD",
        "colab_type": "code",
        "colab": {
          "base_uri": "https://localhost:8080/",
          "height": 204
        },
        "outputId": "a7d3ee9e-c4ac-4cb6-b44a-a37c0bac02f7"
      },
      "source": [
        "def main():\n",
        "\n",
        "    #定義美元兌英幫匯率\n",
        "    USD_TO_GBP = 1.2665\n",
        "\n",
        "    input_str_value = input('Please input GBP amount(EX: 100GBP)，input\"Q\" to quit:')\n",
        "\n",
        "    while input_str_value != \"Q\":\n",
        "        unit = input_str_value[-3:]\n",
        "        if unit == \"GBP\":\n",
        "          exchange_rate = 1/USD_TO_GBP\n",
        "\n",
        "        elif unit == \"USD\":\n",
        "\n",
        "            exchange_rate = USD_TO_GBP\n",
        "\n",
        "        else:\n",
        "\n",
        "            exchange_rate = -1\n",
        "\n",
        "        if exchange_rate == -1:\n",
        "\n",
        "            print(\"Sorry，wrong type\")\n",
        "\n",
        "        else:\n",
        "            input_money = eval(input_str_value[:-3])\n",
        "            #使用lambda\n",
        "            exchange_money = lambda x: x*exchange_rate\n",
        "            output_money = exchange_money(input_money)\n",
        "            print(\"The amount is：\",output_money)\n",
        "\n",
        "\n",
        "        print(\"**************************************************************\")\n",
        "        input_str_value = input('Please input GBP amount(EX: 100GBP)，input\"Q\" to quit:')\n",
        "\n",
        "\n",
        "    print(\"Exchange over\")\n",
        "\n",
        "if __name__ == '__main__':\n",
        "    main()\n"
      ],
      "execution_count": 5,
      "outputs": [
        {
          "output_type": "stream",
          "text": [
            "Please input GBP amount(EX: 100GBP)，input\"Q\" to quit:1000GBP\n",
            "The amount is： 789.5775759968418\n",
            "**************************************************************\n",
            "Please input GBP amount(EX: 100GBP)，input\"Q\" to quit:850GBP\n",
            "The amount is： 671.1409395973155\n",
            "**************************************************************\n",
            "Please input GBP amount(EX: 100GBP)，input\"Q\" to quit:1000USD\n",
            "The amount is： 1266.5\n",
            "**************************************************************\n",
            "Please input GBP amount(EX: 100GBP)，input\"Q\" to quit:Q\n",
            "Exchange over\n"
          ],
          "name": "stdout"
        }
      ]
    },
    {
      "cell_type": "code",
      "metadata": {
        "id": "76EkBsK77XuV",
        "colab_type": "code",
        "colab": {}
      },
      "source": [
        ""
      ],
      "execution_count": 0,
      "outputs": []
    }
  ]
}