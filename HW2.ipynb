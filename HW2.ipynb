{
 "cells": [
  {
   "cell_type": "code",
   "execution_count": 1,
   "metadata": {},
   "outputs": [
    {
     "name": "stdout",
     "output_type": "stream",
     "text": [
      "783280\n",
      "201501    False\n",
      "201502    False\n",
      "201503    False\n",
      "201504     True\n",
      "201505    False\n",
      "201506    False\n",
      "201508    False\n",
      "201509    False\n",
      "201510     True\n",
      "201511     True\n",
      "201512     True\n",
      "201507    False\n",
      "dtype: bool\n",
      "201504    1311412\n",
      "201510    1083767\n",
      "201511     839940\n",
      "201512     786951\n",
      "dtype: int64\n"
     ]
    }
   ],
   "source": [
    "import pandas as pd\n",
    "sales = pd.Series({'201501':692466 , '201502':537141, '201503':753741,'201504':1311412, '201505':632371,\n",
    "                   '201506':631696,'201508':693530,'201509':741845,'201510':1083767,'201511':839940,'201512':786951})\n",
    "\n",
    "sales['201507'] = 694510\n",
    "\n",
    "average = int(sales.mean())\n",
    "print(average)\n",
    "print(sales>average)\n",
    "print(sales[sales > average])"
   ]
  },
  {
   "cell_type": "code",
   "execution_count": null,
   "metadata": {},
   "outputs": [],
   "source": []
  }
 ],
 "metadata": {
  "kernelspec": {
   "display_name": "Python 3",
   "language": "python",
   "name": "python3"
  },
  "language_info": {
   "codemirror_mode": {
    "name": "ipython",
    "version": 3
   },
   "file_extension": ".py",
   "mimetype": "text/x-python",
   "name": "python",
   "nbconvert_exporter": "python",
   "pygments_lexer": "ipython3",
   "version": "3.7.4"
  }
 },
 "nbformat": 4,
 "nbformat_minor": 2
}
