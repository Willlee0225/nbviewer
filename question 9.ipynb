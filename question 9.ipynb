{
 "cells": [
  {
   "cell_type": "code",
   "execution_count": 1,
   "metadata": {},
   "outputs": [],
   "source": [
    "import pandas as pd\n",
    "import numpy as np\n",
    "import matplotlib.pyplot as plt\n",
    "from functools import reduce\n",
    "import seaborn as sns\n",
    "import quandl\n",
    "from scipy.optimize import minimize\n",
    "from pandas import Series\n",
    "from pandas import DataFrame"
   ]
  },
  {
   "cell_type": "code",
   "execution_count": 2,
   "metadata": {},
   "outputs": [],
   "source": [
    "df = pd.read_csv('Exam_Industry.csv',index_col=0,parse_dates=True)\n",
    "mk = pd.read_csv('Exam_Market.csv',index_col=0,parse_dates=True)"
   ]
  },
  {
   "cell_type": "markdown",
   "metadata": {},
   "source": [
    "#### import regression tools"
   ]
  },
  {
   "cell_type": "code",
   "execution_count": 3,
   "metadata": {},
   "outputs": [],
   "source": [
    "import statsmodels.api as sm"
   ]
  },
  {
   "cell_type": "code",
   "execution_count": 4,
   "metadata": {},
   "outputs": [],
   "source": [
    "mk_excess_return = mk['Mkt']\n",
    "mk_add_constant = sm.add_constant(mk_excess_return)"
   ]
  },
  {
   "cell_type": "code",
   "execution_count": 5,
   "metadata": {},
   "outputs": [],
   "source": [
    "stock_names  = df.columns"
   ]
  },
  {
   "cell_type": "code",
   "execution_count": 6,
   "metadata": {},
   "outputs": [
    {
     "data": {
      "text/plain": [
       "Index(['Cnsmr', 'Manuf', 'HiTec', 'Hlth ', 'Other'], dtype='object')"
      ]
     },
     "execution_count": 6,
     "metadata": {},
     "output_type": "execute_result"
    }
   ],
   "source": [
    "stock_names "
   ]
  },
  {
   "cell_type": "markdown",
   "metadata": {},
   "source": [
    "### write a for loop to run ten industry portfolios Simultaneously"
   ]
  },
  {
   "cell_type": "code",
   "execution_count": 7,
   "metadata": {
    "scrolled": true
   },
   "outputs": [
    {
     "name": "stdout",
     "output_type": "stream",
     "text": [
      "Cnsmr\n",
      "\n",
      "                            OLS Regression Results                            \n",
      "==============================================================================\n",
      "Dep. Variable:                  Cnsmr   R-squared:                       0.866\n",
      "Model:                            OLS   Adj. R-squared:                  0.865\n",
      "Method:                 Least Squares   F-statistic:                     609.0\n",
      "Date:                Tue, 01 Dec 2020   Prob (F-statistic):           7.48e-43\n",
      "Time:                        21:04:29   Log-Likelihood:                -160.42\n",
      "No. Observations:                  96   AIC:                             324.8\n",
      "Df Residuals:                      94   BIC:                             330.0\n",
      "Df Model:                           1                                         \n",
      "Covariance Type:            nonrobust                                         \n",
      "==============================================================================\n",
      "                 coef    std err          t      P>|t|      [0.025      0.975]\n",
      "------------------------------------------------------------------------------\n",
      "const          0.3687      0.138      2.662      0.009       0.094       0.644\n",
      "Mkt            0.7864      0.032     24.678      0.000       0.723       0.850\n",
      "==============================================================================\n",
      "Omnibus:                        2.893   Durbin-Watson:                   1.808\n",
      "Prob(Omnibus):                  0.235   Jarque-Bera (JB):                2.280\n",
      "Skew:                          -0.260   Prob(JB):                        0.320\n",
      "Kurtosis:                       3.547   Cond. No.                         4.55\n",
      "==============================================================================\n",
      "\n",
      "Warnings:\n",
      "[1] Standard Errors assume that the covariance matrix of the errors is correctly specified.\n",
      "\n",
      "\n",
      "\n",
      "Manuf\n",
      "\n",
      "                            OLS Regression Results                            \n",
      "==============================================================================\n",
      "Dep. Variable:                  Manuf   R-squared:                       0.868\n",
      "Model:                            OLS   Adj. R-squared:                  0.867\n",
      "Method:                 Least Squares   F-statistic:                     620.5\n",
      "Date:                Tue, 01 Dec 2020   Prob (F-statistic):           3.48e-43\n",
      "Time:                        21:04:29   Log-Likelihood:                -182.19\n",
      "No. Observations:                  96   AIC:                             368.4\n",
      "Df Residuals:                      94   BIC:                             373.5\n",
      "Df Model:                           1                                         \n",
      "Covariance Type:            nonrobust                                         \n",
      "==============================================================================\n",
      "                 coef    std err          t      P>|t|      [0.025      0.975]\n",
      "------------------------------------------------------------------------------\n",
      "const         -0.2373      0.174     -1.366      0.175      -0.582       0.108\n",
      "Mkt            0.9958      0.040     24.911      0.000       0.916       1.075\n",
      "==============================================================================\n",
      "Omnibus:                        2.689   Durbin-Watson:                   2.013\n",
      "Prob(Omnibus):                  0.261   Jarque-Bera (JB):                2.233\n",
      "Skew:                          -0.368   Prob(JB):                        0.327\n",
      "Kurtosis:                       3.127   Cond. No.                         4.55\n",
      "==============================================================================\n",
      "\n",
      "Warnings:\n",
      "[1] Standard Errors assume that the covariance matrix of the errors is correctly specified.\n",
      "\n",
      "\n",
      "\n",
      "HiTec\n",
      "\n",
      "                            OLS Regression Results                            \n",
      "==============================================================================\n",
      "Dep. Variable:                  HiTec   R-squared:                       0.879\n",
      "Model:                            OLS   Adj. R-squared:                  0.878\n",
      "Method:                 Least Squares   F-statistic:                     685.0\n",
      "Date:                Tue, 01 Dec 2020   Prob (F-statistic):           5.99e-45\n",
      "Time:                        21:04:29   Log-Likelihood:                -177.40\n",
      "No. Observations:                  96   AIC:                             358.8\n",
      "Df Residuals:                      94   BIC:                             363.9\n",
      "Df Model:                           1                                         \n",
      "Covariance Type:            nonrobust                                         \n",
      "==============================================================================\n",
      "                 coef    std err          t      P>|t|      [0.025      0.975]\n",
      "------------------------------------------------------------------------------\n",
      "const          0.2407      0.165      1.456      0.149      -0.087       0.569\n",
      "Mkt            0.9953      0.038     26.172      0.000       0.920       1.071\n",
      "==============================================================================\n",
      "Omnibus:                        3.957   Durbin-Watson:                   2.302\n",
      "Prob(Omnibus):                  0.138   Jarque-Bera (JB):                3.814\n",
      "Skew:                          -0.242   Prob(JB):                        0.149\n",
      "Kurtosis:                       3.848   Cond. No.                         4.55\n",
      "==============================================================================\n",
      "\n",
      "Warnings:\n",
      "[1] Standard Errors assume that the covariance matrix of the errors is correctly specified.\n",
      "\n",
      "\n",
      "\n",
      "Hlth \n",
      "\n",
      "                            OLS Regression Results                            \n",
      "==============================================================================\n",
      "Dep. Variable:                  Hlth    R-squared:                       0.603\n",
      "Model:                            OLS   Adj. R-squared:                  0.599\n",
      "Method:                 Least Squares   F-statistic:                     142.8\n",
      "Date:                Tue, 01 Dec 2020   Prob (F-statistic):           1.45e-20\n",
      "Time:                        21:04:29   Log-Likelihood:                -224.38\n",
      "No. Observations:                  96   AIC:                             452.8\n",
      "Df Residuals:                      94   BIC:                             457.9\n",
      "Df Model:                           1                                         \n",
      "Covariance Type:            nonrobust                                         \n",
      "==============================================================================\n",
      "                 coef    std err          t      P>|t|      [0.025      0.975]\n",
      "------------------------------------------------------------------------------\n",
      "const          0.3182      0.270      1.180      0.241      -0.217       0.853\n",
      "Mkt            0.7413      0.062     11.950      0.000       0.618       0.865\n",
      "==============================================================================\n",
      "Omnibus:                        9.254   Durbin-Watson:                   2.091\n",
      "Prob(Omnibus):                  0.010   Jarque-Bera (JB):                9.026\n",
      "Skew:                          -0.697   Prob(JB):                       0.0110\n",
      "Kurtosis:                       3.558   Cond. No.                         4.55\n",
      "==============================================================================\n",
      "\n",
      "Warnings:\n",
      "[1] Standard Errors assume that the covariance matrix of the errors is correctly specified.\n",
      "\n",
      "\n",
      "\n",
      "Other\n",
      "\n",
      "                            OLS Regression Results                            \n",
      "==============================================================================\n",
      "Dep. Variable:                  Other   R-squared:                       0.900\n",
      "Model:                            OLS   Adj. R-squared:                  0.899\n",
      "Method:                 Least Squares   F-statistic:                     848.9\n",
      "Date:                Tue, 01 Dec 2020   Prob (F-statistic):           7.48e-49\n",
      "Time:                        21:04:29   Log-Likelihood:                -190.39\n",
      "No. Observations:                  96   AIC:                             384.8\n",
      "Df Residuals:                      94   BIC:                             389.9\n",
      "Df Model:                           1                                         \n",
      "Covariance Type:            nonrobust                                         \n",
      "==============================================================================\n",
      "                 coef    std err          t      P>|t|      [0.025      0.975]\n",
      "------------------------------------------------------------------------------\n",
      "const         -0.3096      0.189     -1.636      0.105      -0.685       0.066\n",
      "Mkt            1.2686      0.044     29.136      0.000       1.182       1.355\n",
      "==============================================================================\n",
      "Omnibus:                       14.273   Durbin-Watson:                   1.689\n",
      "Prob(Omnibus):                  0.001   Jarque-Bera (JB):               46.999\n",
      "Skew:                          -0.240   Prob(JB):                     6.23e-11\n",
      "Kurtosis:                       6.394   Cond. No.                         4.55\n",
      "==============================================================================\n",
      "\n",
      "Warnings:\n",
      "[1] Standard Errors assume that the covariance matrix of the errors is correctly specified.\n",
      "\n",
      "\n",
      "\n"
     ]
    }
   ],
   "source": [
    "import statsmodels.api as sm \n",
    "\n",
    "for stock in stock_names: \n",
    "    model = sm.OLS(endog = df[stock], exog = mk_add_constant) \n",
    "    result = model.fit() \n",
    "    print(stock + '\\n') \n",
    "    print(result.summary())\n",
    "    print('\\n\\n')"
   ]
  },
  {
   "cell_type": "markdown",
   "metadata": {},
   "source": [
    "#### Print the result of  the intercept coefficient (alpha) and slope coefficient (beta) for each of the ten industry portfolios and also the t statistic respectively."
   ]
  },
  {
   "cell_type": "code",
   "execution_count": 8,
   "metadata": {},
   "outputs": [],
   "source": [
    "result_pd = []\n",
    "result_td = []\n",
    "result_rd = []"
   ]
  },
  {
   "cell_type": "code",
   "execution_count": 9,
   "metadata": {},
   "outputs": [],
   "source": [
    "for stock in stock_names: \n",
    "    model = sm.OLS(endog = df[stock], exog = mk_add_constant) \n",
    "    result = model.fit() \n",
    "    result_p = result.params\n",
    "    result_t = result.tvalues\n",
    "    result_r = result.rsquared\n",
    "    result_pd.append(result_p)\n",
    "    result_td.append(result_t)\n",
    "    result_rd.append(result_r)\n"
   ]
  },
  {
   "cell_type": "code",
   "execution_count": 10,
   "metadata": {},
   "outputs": [],
   "source": [
    "resultp = pd.DataFrame(result_pd)\n",
    "resultt = pd.DataFrame(result_td)\n",
    "resultr = pd.DataFrame(result_rd)"
   ]
  },
  {
   "cell_type": "code",
   "execution_count": 11,
   "metadata": {},
   "outputs": [],
   "source": [
    "resultp = resultp.rename(columns = {'const': 'alpha', 'Mkt': 'Beta'}, inplace = False)\n",
    "resultt = resultt.rename(columns = {'const': 'alpha_tstat', 'Mkt': 'Beta_tstat'}, inplace = False)\n",
    "resultr = resultr.rename(columns = { 0 : 'adjust_R^2'}, inplace = False)\n"
   ]
  },
  {
   "cell_type": "code",
   "execution_count": 12,
   "metadata": {},
   "outputs": [],
   "source": [
    "Name = ['Cnsmr', 'Manuf', 'HiTec', 'Hlth ', 'Other']\n",
    "Name_table = pd.DataFrame(data = Name,columns = ['Company'])\n",
    "table2=pd.concat([Name_table,resultp, resultt,resultr],axis=1)"
   ]
  },
  {
   "cell_type": "code",
   "execution_count": 13,
   "metadata": {},
   "outputs": [],
   "source": [
    "table2 = table2.set_index('Company')"
   ]
  },
  {
   "cell_type": "code",
   "execution_count": 14,
   "metadata": {
    "scrolled": true
   },
   "outputs": [
    {
     "data": {
      "text/html": [
       "<div>\n",
       "<style scoped>\n",
       "    .dataframe tbody tr th:only-of-type {\n",
       "        vertical-align: middle;\n",
       "    }\n",
       "\n",
       "    .dataframe tbody tr th {\n",
       "        vertical-align: top;\n",
       "    }\n",
       "\n",
       "    .dataframe thead th {\n",
       "        text-align: right;\n",
       "    }\n",
       "</style>\n",
       "<table border=\"1\" class=\"dataframe\">\n",
       "  <thead>\n",
       "    <tr style=\"text-align: right;\">\n",
       "      <th></th>\n",
       "      <th>alpha</th>\n",
       "      <th>Beta</th>\n",
       "      <th>alpha_tstat</th>\n",
       "      <th>Beta_tstat</th>\n",
       "      <th>adjust_R^2</th>\n",
       "    </tr>\n",
       "    <tr>\n",
       "      <th>Company</th>\n",
       "      <th></th>\n",
       "      <th></th>\n",
       "      <th></th>\n",
       "      <th></th>\n",
       "      <th></th>\n",
       "    </tr>\n",
       "  </thead>\n",
       "  <tbody>\n",
       "    <tr>\n",
       "      <th>Cnsmr</th>\n",
       "      <td>0.368663</td>\n",
       "      <td>0.786378</td>\n",
       "      <td>2.662373</td>\n",
       "      <td>24.678481</td>\n",
       "      <td>0.866293</td>\n",
       "    </tr>\n",
       "    <tr>\n",
       "      <th>Manuf</th>\n",
       "      <td>-0.237342</td>\n",
       "      <td>0.995841</td>\n",
       "      <td>-1.366217</td>\n",
       "      <td>24.910533</td>\n",
       "      <td>0.868446</td>\n",
       "    </tr>\n",
       "    <tr>\n",
       "      <th>HiTec</th>\n",
       "      <td>0.240676</td>\n",
       "      <td>0.995339</td>\n",
       "      <td>1.456285</td>\n",
       "      <td>26.171749</td>\n",
       "      <td>0.879326</td>\n",
       "    </tr>\n",
       "    <tr>\n",
       "      <th>Hlth</th>\n",
       "      <td>0.318161</td>\n",
       "      <td>0.741340</td>\n",
       "      <td>1.180184</td>\n",
       "      <td>11.949988</td>\n",
       "      <td>0.603044</td>\n",
       "    </tr>\n",
       "    <tr>\n",
       "      <th>Other</th>\n",
       "      <td>-0.309610</td>\n",
       "      <td>1.268648</td>\n",
       "      <td>-1.636248</td>\n",
       "      <td>29.135551</td>\n",
       "      <td>0.900305</td>\n",
       "    </tr>\n",
       "  </tbody>\n",
       "</table>\n",
       "</div>"
      ],
      "text/plain": [
       "            alpha      Beta  alpha_tstat  Beta_tstat  adjust_R^2\n",
       "Company                                                         \n",
       "Cnsmr    0.368663  0.786378     2.662373   24.678481    0.866293\n",
       "Manuf   -0.237342  0.995841    -1.366217   24.910533    0.868446\n",
       "HiTec    0.240676  0.995339     1.456285   26.171749    0.879326\n",
       "Hlth     0.318161  0.741340     1.180184   11.949988    0.603044\n",
       "Other   -0.309610  1.268648    -1.636248   29.135551    0.900305"
      ]
     },
     "execution_count": 14,
     "metadata": {},
     "output_type": "execute_result"
    }
   ],
   "source": [
    "table2"
   ]
  },
  {
   "cell_type": "markdown",
   "metadata": {},
   "source": [
    "## Part Two\n",
    "### Calculate the mean monthly return for each of the ten industry portfolios, as well as the market portfolio. Regress the mean monthly returns of the ten industry portfolios and the market portfolio on the corresponding betas\n"
   ]
  },
  {
   "cell_type": "code",
   "execution_count": 15,
   "metadata": {
    "scrolled": false
   },
   "outputs": [],
   "source": [
    "df_m = df.mean()"
   ]
  },
  {
   "cell_type": "code",
   "execution_count": 16,
   "metadata": {
    "scrolled": false
   },
   "outputs": [],
   "source": [
    "mk_m = mk.mean()"
   ]
  },
  {
   "cell_type": "code",
   "execution_count": 17,
   "metadata": {
    "scrolled": false
   },
   "outputs": [
    {
     "data": {
      "text/plain": [
       "Cnsmr    1.343854\n",
       "Manuf    0.997604\n",
       "HiTec    1.475000\n",
       "Hlth     1.237500\n",
       "Other    1.263646\n",
       "dtype: float64"
      ]
     },
     "execution_count": 17,
     "metadata": {},
     "output_type": "execute_result"
    }
   ],
   "source": [
    "df_m"
   ]
  },
  {
   "cell_type": "code",
   "execution_count": 18,
   "metadata": {},
   "outputs": [
    {
     "data": {
      "text/plain": [
       "Mkt    1.240104\n",
       "dtype: float64"
      ]
     },
     "execution_count": 18,
     "metadata": {},
     "output_type": "execute_result"
    }
   ],
   "source": [
    "mk_m"
   ]
  },
  {
   "cell_type": "code",
   "execution_count": 19,
   "metadata": {},
   "outputs": [],
   "source": [
    "mean_return = pd.concat([df_m, mk_m], axis=0)"
   ]
  },
  {
   "cell_type": "code",
   "execution_count": 20,
   "metadata": {
    "scrolled": true
   },
   "outputs": [
    {
     "data": {
      "text/plain": [
       "Cnsmr    1.343854\n",
       "Manuf    0.997604\n",
       "HiTec    1.475000\n",
       "Hlth     1.237500\n",
       "Other    1.263646\n",
       "Mkt      1.240104\n",
       "dtype: float64"
      ]
     },
     "execution_count": 20,
     "metadata": {},
     "output_type": "execute_result"
    }
   ],
   "source": [
    "mean_return"
   ]
  },
  {
   "cell_type": "code",
   "execution_count": 21,
   "metadata": {},
   "outputs": [
    {
     "data": {
      "text/html": [
       "<div>\n",
       "<style scoped>\n",
       "    .dataframe tbody tr th:only-of-type {\n",
       "        vertical-align: middle;\n",
       "    }\n",
       "\n",
       "    .dataframe tbody tr th {\n",
       "        vertical-align: top;\n",
       "    }\n",
       "\n",
       "    .dataframe thead th {\n",
       "        text-align: right;\n",
       "    }\n",
       "</style>\n",
       "<table border=\"1\" class=\"dataframe\">\n",
       "  <thead>\n",
       "    <tr style=\"text-align: right;\">\n",
       "      <th></th>\n",
       "      <th>Mean Return</th>\n",
       "    </tr>\n",
       "  </thead>\n",
       "  <tbody>\n",
       "    <tr>\n",
       "      <th>Cnsmr</th>\n",
       "      <td>1.343854</td>\n",
       "    </tr>\n",
       "    <tr>\n",
       "      <th>Manuf</th>\n",
       "      <td>0.997604</td>\n",
       "    </tr>\n",
       "    <tr>\n",
       "      <th>HiTec</th>\n",
       "      <td>1.475000</td>\n",
       "    </tr>\n",
       "    <tr>\n",
       "      <th>Hlth</th>\n",
       "      <td>1.237500</td>\n",
       "    </tr>\n",
       "    <tr>\n",
       "      <th>Other</th>\n",
       "      <td>1.263646</td>\n",
       "    </tr>\n",
       "    <tr>\n",
       "      <th>Mkt</th>\n",
       "      <td>1.240104</td>\n",
       "    </tr>\n",
       "  </tbody>\n",
       "</table>\n",
       "</div>"
      ],
      "text/plain": [
       "       Mean Return\n",
       "Cnsmr     1.343854\n",
       "Manuf     0.997604\n",
       "HiTec     1.475000\n",
       "Hlth      1.237500\n",
       "Other     1.263646\n",
       "Mkt       1.240104"
      ]
     },
     "execution_count": 21,
     "metadata": {},
     "output_type": "execute_result"
    }
   ],
   "source": [
    "Mean_table = pd.DataFrame(data = mean_return,columns = ['Mean Return'])\n",
    "Mean_table"
   ]
  },
  {
   "cell_type": "code",
   "execution_count": 22,
   "metadata": {},
   "outputs": [],
   "source": [
    "beta = table2['Beta']"
   ]
  },
  {
   "cell_type": "code",
   "execution_count": 23,
   "metadata": {},
   "outputs": [
    {
     "data": {
      "text/plain": [
       "Company\n",
       "Cnsmr    0.786378\n",
       "Manuf    0.995841\n",
       "HiTec    0.995339\n",
       "Hlth     0.741340\n",
       "Other    1.268648\n",
       "Name: Beta, dtype: float64"
      ]
     },
     "execution_count": 23,
     "metadata": {},
     "output_type": "execute_result"
    }
   ],
   "source": [
    "beta"
   ]
  },
  {
   "cell_type": "code",
   "execution_count": 24,
   "metadata": {},
   "outputs": [
    {
     "name": "stdout",
     "output_type": "stream",
     "text": [
      "Mkt    1\n",
      "dtype: int64\n"
     ]
    }
   ],
   "source": [
    "# simple array \n",
    "data = np.array([1]) \n",
    "  \n",
    "# providing an index \n",
    "ser = pd.Series(data, index =['Mkt']) \n",
    "print(ser) "
   ]
  },
  {
   "cell_type": "code",
   "execution_count": 25,
   "metadata": {},
   "outputs": [],
   "source": [
    "beta = pd.concat([beta, ser], axis=0)"
   ]
  },
  {
   "cell_type": "code",
   "execution_count": 26,
   "metadata": {},
   "outputs": [
    {
     "data": {
      "text/html": [
       "<div>\n",
       "<style scoped>\n",
       "    .dataframe tbody tr th:only-of-type {\n",
       "        vertical-align: middle;\n",
       "    }\n",
       "\n",
       "    .dataframe tbody tr th {\n",
       "        vertical-align: top;\n",
       "    }\n",
       "\n",
       "    .dataframe thead th {\n",
       "        text-align: right;\n",
       "    }\n",
       "</style>\n",
       "<table border=\"1\" class=\"dataframe\">\n",
       "  <thead>\n",
       "    <tr style=\"text-align: right;\">\n",
       "      <th></th>\n",
       "      <th>Beta</th>\n",
       "    </tr>\n",
       "  </thead>\n",
       "  <tbody>\n",
       "    <tr>\n",
       "      <th>Cnsmr</th>\n",
       "      <td>0.786378</td>\n",
       "    </tr>\n",
       "    <tr>\n",
       "      <th>Manuf</th>\n",
       "      <td>0.995841</td>\n",
       "    </tr>\n",
       "    <tr>\n",
       "      <th>HiTec</th>\n",
       "      <td>0.995339</td>\n",
       "    </tr>\n",
       "    <tr>\n",
       "      <th>Hlth</th>\n",
       "      <td>0.741340</td>\n",
       "    </tr>\n",
       "    <tr>\n",
       "      <th>Other</th>\n",
       "      <td>1.268648</td>\n",
       "    </tr>\n",
       "    <tr>\n",
       "      <th>Mkt</th>\n",
       "      <td>1.000000</td>\n",
       "    </tr>\n",
       "  </tbody>\n",
       "</table>\n",
       "</div>"
      ],
      "text/plain": [
       "           Beta\n",
       "Cnsmr  0.786378\n",
       "Manuf  0.995841\n",
       "HiTec  0.995339\n",
       "Hlth   0.741340\n",
       "Other  1.268648\n",
       "Mkt    1.000000"
      ]
     },
     "execution_count": 26,
     "metadata": {},
     "output_type": "execute_result"
    }
   ],
   "source": [
    "Beta_table = pd.DataFrame(data = beta,columns = ['Beta'])\n",
    "Beta_table"
   ]
  },
  {
   "cell_type": "code",
   "execution_count": 27,
   "metadata": {},
   "outputs": [],
   "source": [
    "beta_add_constant = sm.add_constant(Beta_table)"
   ]
  },
  {
   "cell_type": "code",
   "execution_count": 28,
   "metadata": {},
   "outputs": [],
   "source": [
    "model2 = sm.OLS(endog = Mean_table, exog = beta_add_constant) \n",
    "result_beta = model2.fit()"
   ]
  },
  {
   "cell_type": "code",
   "execution_count": 29,
   "metadata": {
    "scrolled": true
   },
   "outputs": [
    {
     "name": "stderr",
     "output_type": "stream",
     "text": [
      "/Users/willlee/opt/anaconda3/lib/python3.8/site-packages/statsmodels/stats/stattools.py:70: ValueWarning: omni_normtest is not valid with less than 8 observations; 6 samples were given.\n",
      "  warn(\"omni_normtest is not valid with less than 8 observations; %i \"\n"
     ]
    },
    {
     "data": {
      "text/html": [
       "<table class=\"simpletable\">\n",
       "<caption>OLS Regression Results</caption>\n",
       "<tr>\n",
       "  <th>Dep. Variable:</th>       <td>Mean Return</td>   <th>  R-squared:         </th> <td>   0.006</td>\n",
       "</tr>\n",
       "<tr>\n",
       "  <th>Model:</th>                   <td>OLS</td>       <th>  Adj. R-squared:    </th> <td>  -0.243</td>\n",
       "</tr>\n",
       "<tr>\n",
       "  <th>Method:</th>             <td>Least Squares</td>  <th>  F-statistic:       </th> <td> 0.02276</td>\n",
       "</tr>\n",
       "<tr>\n",
       "  <th>Date:</th>             <td>Tue, 01 Dec 2020</td> <th>  Prob (F-statistic):</th>  <td> 0.887</td> \n",
       "</tr>\n",
       "<tr>\n",
       "  <th>Time:</th>                 <td>21:05:19</td>     <th>  Log-Likelihood:    </th> <td>  3.1648</td>\n",
       "</tr>\n",
       "<tr>\n",
       "  <th>No. Observations:</th>      <td>     6</td>      <th>  AIC:               </th> <td>  -2.330</td>\n",
       "</tr>\n",
       "<tr>\n",
       "  <th>Df Residuals:</th>          <td>     4</td>      <th>  BIC:               </th> <td>  -2.746</td>\n",
       "</tr>\n",
       "<tr>\n",
       "  <th>Df Model:</th>              <td>     1</td>      <th>                     </th>     <td> </td>   \n",
       "</tr>\n",
       "<tr>\n",
       "  <th>Covariance Type:</th>      <td>nonrobust</td>    <th>                     </th>     <td> </td>   \n",
       "</tr>\n",
       "</table>\n",
       "<table class=\"simpletable\">\n",
       "<tr>\n",
       "    <td></td>       <th>coef</th>     <th>std err</th>      <th>t</th>      <th>P>|t|</th>  <th>[0.025</th>    <th>0.975]</th>  \n",
       "</tr>\n",
       "<tr>\n",
       "  <th>const</th> <td>    1.3201</td> <td>    0.407</td> <td>    3.243</td> <td> 0.032</td> <td>    0.190</td> <td>    2.450</td>\n",
       "</tr>\n",
       "<tr>\n",
       "  <th>Beta</th>  <td>   -0.0627</td> <td>    0.415</td> <td>   -0.151</td> <td> 0.887</td> <td>   -1.216</td> <td>    1.091</td>\n",
       "</tr>\n",
       "</table>\n",
       "<table class=\"simpletable\">\n",
       "<tr>\n",
       "  <th>Omnibus:</th>       <td>   nan</td> <th>  Durbin-Watson:     </th> <td>   3.337</td>\n",
       "</tr>\n",
       "<tr>\n",
       "  <th>Prob(Omnibus):</th> <td>   nan</td> <th>  Jarque-Bera (JB):  </th> <td>   0.176</td>\n",
       "</tr>\n",
       "<tr>\n",
       "  <th>Skew:</th>          <td>-0.399</td> <th>  Prob(JB):          </th> <td>   0.916</td>\n",
       "</tr>\n",
       "<tr>\n",
       "  <th>Kurtosis:</th>      <td> 2.740</td> <th>  Cond. No.          </th> <td>    11.3</td>\n",
       "</tr>\n",
       "</table><br/><br/>Warnings:<br/>[1] Standard Errors assume that the covariance matrix of the errors is correctly specified."
      ],
      "text/plain": [
       "<class 'statsmodels.iolib.summary.Summary'>\n",
       "\"\"\"\n",
       "                            OLS Regression Results                            \n",
       "==============================================================================\n",
       "Dep. Variable:            Mean Return   R-squared:                       0.006\n",
       "Model:                            OLS   Adj. R-squared:                 -0.243\n",
       "Method:                 Least Squares   F-statistic:                   0.02276\n",
       "Date:                Tue, 01 Dec 2020   Prob (F-statistic):              0.887\n",
       "Time:                        21:05:19   Log-Likelihood:                 3.1648\n",
       "No. Observations:                   6   AIC:                            -2.330\n",
       "Df Residuals:                       4   BIC:                            -2.746\n",
       "Df Model:                           1                                         \n",
       "Covariance Type:            nonrobust                                         \n",
       "==============================================================================\n",
       "                 coef    std err          t      P>|t|      [0.025      0.975]\n",
       "------------------------------------------------------------------------------\n",
       "const          1.3201      0.407      3.243      0.032       0.190       2.450\n",
       "Beta          -0.0627      0.415     -0.151      0.887      -1.216       1.091\n",
       "==============================================================================\n",
       "Omnibus:                          nan   Durbin-Watson:                   3.337\n",
       "Prob(Omnibus):                    nan   Jarque-Bera (JB):                0.176\n",
       "Skew:                          -0.399   Prob(JB):                        0.916\n",
       "Kurtosis:                       2.740   Cond. No.                         11.3\n",
       "==============================================================================\n",
       "\n",
       "Warnings:\n",
       "[1] Standard Errors assume that the covariance matrix of the errors is correctly specified.\n",
       "\"\"\""
      ]
     },
     "execution_count": 29,
     "metadata": {},
     "output_type": "execute_result"
    }
   ],
   "source": [
    "result_beta.summary()"
   ]
  },
  {
   "cell_type": "code",
   "execution_count": 30,
   "metadata": {},
   "outputs": [],
   "source": [
    "import statsmodels.api as sm\n",
    "model2 = sm.OLS(endog = Mean_table, exog = beta_add_constant) \n",
    "p = model2.fit().params"
   ]
  },
  {
   "cell_type": "markdown",
   "metadata": {},
   "source": [
    "### Using the estimated slope and intercept coefficients, plot the SML in the range of beta from zero to two on the horizontal axis. Also plot the positions of the ten industry portfolios and the market portfolio. (You are NOT required to label the individual portfolios.) Briefly explain the economic significance of the SML."
   ]
  },
  {
   "cell_type": "code",
   "execution_count": 31,
   "metadata": {},
   "outputs": [
    {
     "data": {
      "image/png": "[encoded data removed]",
      "text/plain": [
       "<Figure size 1440x576 with 1 Axes>"
      ]
     },
     "metadata": {
      "needs_background": "light"
     },
     "output_type": "display_data"
    }
   ],
   "source": [
    "plt.figure(figsize=(20,8))\n",
    "# scatter-plot data\n",
    "plt.axis('equal')\n",
    "x = np.array([0, 2])\n",
    "y = p.const + p.Beta * x\n",
    "plt.xlabel('Beta',fontsize=16)\n",
    "plt.ylabel('mean return',fontsize=16)  \n",
    "plt.title('Security Market Line', fontsize=22)\n",
    "plt.grid(axis='y')\n",
    "\n",
    "\n",
    "plt.plot(Beta_table, Mean_table, 'b*',color = 'green',label='Portfolios')\n",
    "\n",
    "plt.plot(x, y, label='SML', color = 'red')\n",
    "plt.legend(fontsize=14)\n",
    "\n",
    "plt.show()\n",
    "\n"
   ]
  },
  {
   "cell_type": "code",
   "execution_count": null,
   "metadata": {},
   "outputs": [],
   "source": []
  },
  {
   "cell_type": "code",
   "execution_count": null,
   "metadata": {},
   "outputs": [],
   "source": []
  }
 ],
 "metadata": {
  "kernelspec": {
   "display_name": "Python 3",
   "language": "python",
   "name": "python3"
  },
  "language_info": {
   "codemirror_mode": {
    "name": "ipython",
    "version": 3
   },
   "file_extension": ".py",
   "mimetype": "text/x-python",
   "name": "python",
   "nbconvert_exporter": "python",
   "pygments_lexer": "ipython3",
   "version": "3.8.3"
  }
 },
 "nbformat": 4,
 "nbformat_minor": 4
}
