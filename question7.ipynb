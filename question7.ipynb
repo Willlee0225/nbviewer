{
 "cells": [
  {
   "cell_type": "code",
   "execution_count": 46,
   "metadata": {},
   "outputs": [],
   "source": [
    "import pandas as pd\n",
    "import numpy as np\n",
    "import matplotlib.pyplot as plt\n",
    "from functools import reduce\n",
    "import seaborn as sns\n",
    "import quandl\n",
    "from scipy.optimize import minimize\n",
    "from pandas import Series\n",
    "from pandas import DataFrame"
   ]
  },
  {
   "cell_type": "code",
   "execution_count": 47,
   "metadata": {},
   "outputs": [],
   "source": [
    "df = pd.read_csv('Exam_Industry.csv',index_col=0,parse_dates=True)\n",
    "mk = pd.read_csv('Exam_Market.csv',index_col=0,parse_dates=True)"
   ]
  },
  {
   "cell_type": "code",
   "execution_count": 48,
   "metadata": {},
   "outputs": [
    {
     "data": {
      "text/plain": [
       "Index(['Cnsmr', 'Manuf', 'HiTec', 'Hlth ', 'Other', 'downside_returns'], dtype='object')"
      ]
     },
     "execution_count": 48,
     "metadata": {},
     "output_type": "execute_result"
    }
   ],
   "source": [
    "stock_names "
   ]
  },
  {
   "cell_type": "code",
   "execution_count": 49,
   "metadata": {},
   "outputs": [],
   "source": [
    "stock_names  = df.columns"
   ]
  },
  {
   "cell_type": "code",
   "execution_count": 50,
   "metadata": {},
   "outputs": [],
   "source": [
    "sharpe_ratio = []\n",
    "treynor_ratio = []\n",
    "sortino_ratio =[]\n",
    "jensens_alpha =[]\n",
    "information_ratio=[]"
   ]
  },
  {
   "cell_type": "code",
   "execution_count": 51,
   "metadata": {},
   "outputs": [],
   "source": [
    "## sharp ratio\n",
    "for i in stock_names:\n",
    "    ex_return = df[i]\n",
    "    mean_ex_return = ex_return.mean()\n",
    "    std__ex_return = ex_return.std()\n",
    "    sharpe_r = mean_ex_return/std__ex_return\n",
    "    sharpe_ratio.append(sharpe_r)"
   ]
  },
  {
   "cell_type": "markdown",
   "metadata": {},
   "source": [
    "#### Before we calculate treynor ratio, we have to get beta again"
   ]
  },
  {
   "cell_type": "code",
   "execution_count": 52,
   "metadata": {},
   "outputs": [],
   "source": [
    "import statsmodels.api as sm\n",
    "mk_excess_return = mk['Mkt']\n",
    "mk_add_constant = sm.add_constant(mk_excess_return)\n",
    "stock_names  = df.columns\n",
    "\n",
    "result_pd = []\n",
    "for stock in stock_names: \n",
    "    model = sm.OLS(endog = df[stock], exog = mk_add_constant) \n",
    "    result = model.fit() \n",
    "    result_p = result.params\n",
    "    result_pd.append(result_p)\n",
    "\n",
    "resultp = pd.DataFrame(result_pd)\n",
    "resultp = resultp.rename(columns = {'const': 'alpha', 'Mkt': 'Beta'}, inplace = False)\n",
    "Name = ['Cnsmr', 'Manuf', 'HiTec', 'Hlth ', 'Other']\n",
    "Name_table = pd.DataFrame(data = Name,columns = ['Company'])\n",
    "table=pd.concat([Name_table,resultp],axis=1)\n",
    "table = table.set_index('Company')\n"
   ]
  },
  {
   "cell_type": "code",
   "execution_count": 53,
   "metadata": {},
   "outputs": [
    {
     "data": {
      "text/html": [
       "<div>\n",
       "<style scoped>\n",
       "    .dataframe tbody tr th:only-of-type {\n",
       "        vertical-align: middle;\n",
       "    }\n",
       "\n",
       "    .dataframe tbody tr th {\n",
       "        vertical-align: top;\n",
       "    }\n",
       "\n",
       "    .dataframe thead th {\n",
       "        text-align: right;\n",
       "    }\n",
       "</style>\n",
       "<table border=\"1\" class=\"dataframe\">\n",
       "  <thead>\n",
       "    <tr style=\"text-align: right;\">\n",
       "      <th></th>\n",
       "      <th>alpha</th>\n",
       "      <th>Beta</th>\n",
       "    </tr>\n",
       "    <tr>\n",
       "      <th>Company</th>\n",
       "      <th></th>\n",
       "      <th></th>\n",
       "    </tr>\n",
       "  </thead>\n",
       "  <tbody>\n",
       "    <tr>\n",
       "      <th>Cnsmr</th>\n",
       "      <td>0.368663</td>\n",
       "      <td>0.786378</td>\n",
       "    </tr>\n",
       "    <tr>\n",
       "      <th>Manuf</th>\n",
       "      <td>-0.237342</td>\n",
       "      <td>0.995841</td>\n",
       "    </tr>\n",
       "    <tr>\n",
       "      <th>HiTec</th>\n",
       "      <td>0.240676</td>\n",
       "      <td>0.995339</td>\n",
       "    </tr>\n",
       "    <tr>\n",
       "      <th>Hlth</th>\n",
       "      <td>0.318161</td>\n",
       "      <td>0.741340</td>\n",
       "    </tr>\n",
       "    <tr>\n",
       "      <th>Other</th>\n",
       "      <td>-0.309610</td>\n",
       "      <td>1.268648</td>\n",
       "    </tr>\n",
       "  </tbody>\n",
       "</table>\n",
       "</div>"
      ],
      "text/plain": [
       "            alpha      Beta\n",
       "Company                    \n",
       "Cnsmr    0.368663  0.786378\n",
       "Manuf   -0.237342  0.995841\n",
       "HiTec    0.240676  0.995339\n",
       "Hlth     0.318161  0.741340\n",
       "Other   -0.309610  1.268648"
      ]
     },
     "execution_count": 53,
     "metadata": {},
     "output_type": "execute_result"
    }
   ],
   "source": [
    "table"
   ]
  },
  {
   "cell_type": "code",
   "execution_count": 54,
   "metadata": {},
   "outputs": [
    {
     "data": {
      "text/plain": [
       "Company\n",
       "Cnsmr    0.786378\n",
       "Manuf    0.995841\n",
       "HiTec    0.995339\n",
       "Hlth     0.741340\n",
       "Other    1.268648\n",
       "Name: Beta, dtype: float64"
      ]
     },
     "execution_count": 54,
     "metadata": {},
     "output_type": "execute_result"
    }
   ],
   "source": [
    "table2 = table['Beta'].T\n",
    "table2"
   ]
  },
  {
   "cell_type": "code",
   "execution_count": 55,
   "metadata": {},
   "outputs": [],
   "source": [
    "## treynor ratio\n",
    "for i in stock_names:\n",
    "    ex_return = df[i]\n",
    "    mean_ex_return = ex_return.mean()\n",
    "    treynor_r = mean_ex_return/table2[i]\n",
    "    treynor_ratio.append(treynor_r)"
   ]
  },
  {
   "cell_type": "code",
   "execution_count": 56,
   "metadata": {},
   "outputs": [
    {
     "data": {
      "text/plain": [
       "[1.7089160036058637,\n",
       " 1.0017708593836943,\n",
       " 1.4819071412296514,\n",
       " 1.6692750665054858,\n",
       " 0.9960569200895226]"
      ]
     },
     "execution_count": 56,
     "metadata": {},
     "output_type": "execute_result"
    }
   ],
   "source": [
    " treynor_ratio"
   ]
  },
  {
   "cell_type": "code",
   "execution_count": 57,
   "metadata": {},
   "outputs": [],
   "source": [
    "## jensen's alpha\n",
    "for i in stock_names:\n",
    "    ex_return = df[i]\n",
    "    mean_ex_return = ex_return.mean()\n",
    "    ex_mk_return = mk['Mkt']\n",
    "    mean_ex_mk_return = ex_mk_return.mean()\n",
    "    jensens_a = mean_ex_return -(table2[i]*mean_ex_mk_return)\n",
    "    jensens_alpha.append(jensens_a)"
   ]
  },
  {
   "cell_type": "code",
   "execution_count": 58,
   "metadata": {
    "scrolled": false
   },
   "outputs": [
    {
     "data": {
      "text/plain": [
       "[0.3686633743987672,\n",
       " -0.23734200109116343,\n",
       " 0.24067593546006827,\n",
       " 0.31816145775324967,\n",
       " -0.30961010365347796]"
      ]
     },
     "execution_count": 58,
     "metadata": {},
     "output_type": "execute_result"
    }
   ],
   "source": [
    "jensens_alpha"
   ]
  },
  {
   "cell_type": "code",
   "execution_count": 60,
   "metadata": {},
   "outputs": [
    {
     "data": {
      "text/plain": [
       "Mkt    1.240104\n",
       "dtype: float64"
      ]
     },
     "execution_count": 60,
     "metadata": {},
     "output_type": "execute_result"
    }
   ],
   "source": [
    "mk.mean()"
   ]
  },
  {
   "cell_type": "code",
   "execution_count": 62,
   "metadata": {},
   "outputs": [],
   "source": [
    "## sortino_ratio\n",
    "target = 1.24\n",
    "for i in stock_names:\n",
    "    df['downside_returns'] = 0\n",
    "    df.loc[df[i] < target, 'downside_returns'] = df[i]**2\n",
    "    ex_return = df[i]\n",
    "    mean_ex_return = ex_return.mean()\n",
    "    down_stdev = np.sqrt(df['downside_returns'].mean())\n",
    "    sortino_r = (mean_ex_return)/down_stdev\n",
    "    sortino_ratio.append(sortino_r )"
   ]
  },
  {
   "cell_type": "code",
   "execution_count": 63,
   "metadata": {},
   "outputs": [
    {
     "data": {
      "text/plain": [
       "[0.7255174267091338,\n",
       " 0.35983427762320175,\n",
       " 0.6348399760030492,\n",
       " 0.5079420321059436,\n",
       " 0.3530238543274675]"
      ]
     },
     "execution_count": 63,
     "metadata": {},
     "output_type": "execute_result"
    }
   ],
   "source": [
    "sortino_ratio"
   ]
  },
  {
   "cell_type": "code",
   "execution_count": 64,
   "metadata": {},
   "outputs": [],
   "source": [
    "## information ratio\n",
    "for i in stock_names:\n",
    "    ex_return = df[i]-1.24\n",
    "    mean_ex_return = ex_return.mean()\n",
    "    std__ex_return = ex_return.std()\n",
    "    information_r = mean_ex_return/std__ex_return\n",
    "    information_ratio.append(information_r )"
   ]
  },
  {
   "cell_type": "code",
   "execution_count": 65,
   "metadata": {},
   "outputs": [
    {
     "data": {
      "text/plain": [
       "[0.029359473812757927,\n",
       " -0.05417889433146324,\n",
       " 0.05288047574366025,\n",
       " -0.0006254905852370766,\n",
       " 0.0042240770995652785]"
      ]
     },
     "execution_count": 65,
     "metadata": {},
     "output_type": "execute_result"
    }
   ],
   "source": [
    "information_ratio"
   ]
  },
  {
   "cell_type": "code",
   "execution_count": 66,
   "metadata": {},
   "outputs": [],
   "source": [
    "## Sorting data\n",
    "sharpe_ratio = pd.DataFrame(sharpe_ratio)\n",
    "sharpe_ratio = sharpe_ratio.rename(columns = {0: 'sharpe_ratio'}, inplace = False)\n",
    "sortino_ratio = pd.DataFrame(sortino_ratio)\n",
    "sortino_ratio = sortino_ratio.rename(columns = {0: 'sortino_ratio'}, inplace = False)\n",
    "treynor_ratio = pd.DataFrame(treynor_ratio)\n",
    "treynor_ratio = treynor_ratio.rename(columns = {0: 'treynor_ratio'}, inplace = False)\n",
    "jensens_alpha = pd.DataFrame(jensens_alpha)\n",
    "jensens_alpha= jensens_alpha.rename(columns = {0: 'jensens_alpha'}, inplace = False)\n",
    "information_ratio= pd.DataFrame(information_ratio)\n",
    "information_ratio= information_ratio.rename(columns = {0: 'information_ratio'}, inplace = False)"
   ]
  },
  {
   "cell_type": "code",
   "execution_count": 68,
   "metadata": {},
   "outputs": [],
   "source": [
    "## Create a table showing the performance metrics for the ten industry portfolios\n",
    "Name = ['Cnsmr', 'Manuf', 'HiTec', 'Hlth ', 'Other']\n",
    "Name_table = pd.DataFrame(data = Name,columns = ['Company'])\n",
    "table_sum=pd.concat([Name_table,sharpe_ratio, sortino_ratio,treynor_ratio,jensens_alpha,information_ratio],axis=1)\n",
    "table_sum = table_sum.set_index('Company')"
   ]
  },
  {
   "cell_type": "code",
   "execution_count": 69,
   "metadata": {},
   "outputs": [
    {
     "data": {
      "text/html": [
       "<div>\n",
       "<style scoped>\n",
       "    .dataframe tbody tr th:only-of-type {\n",
       "        vertical-align: middle;\n",
       "    }\n",
       "\n",
       "    .dataframe tbody tr th {\n",
       "        vertical-align: top;\n",
       "    }\n",
       "\n",
       "    .dataframe thead th {\n",
       "        text-align: right;\n",
       "    }\n",
       "</style>\n",
       "<table border=\"1\" class=\"dataframe\">\n",
       "  <thead>\n",
       "    <tr style=\"text-align: right;\">\n",
       "      <th></th>\n",
       "      <th>sharpe_ratio</th>\n",
       "      <th>sortino_ratio</th>\n",
       "      <th>treynor_ratio</th>\n",
       "      <th>jensens_alpha</th>\n",
       "      <th>information_ratio</th>\n",
       "    </tr>\n",
       "    <tr>\n",
       "      <th>Company</th>\n",
       "      <th></th>\n",
       "      <th></th>\n",
       "      <th></th>\n",
       "      <th></th>\n",
       "      <th></th>\n",
       "    </tr>\n",
       "  </thead>\n",
       "  <tbody>\n",
       "    <tr>\n",
       "      <th>Cnsmr</th>\n",
       "      <td>0.379906</td>\n",
       "      <td>0.725517</td>\n",
       "      <td>1.708916</td>\n",
       "      <td>0.368663</td>\n",
       "      <td>0.029359</td>\n",
       "    </tr>\n",
       "    <tr>\n",
       "      <th>Manuf</th>\n",
       "      <td>0.222979</td>\n",
       "      <td>0.359834</td>\n",
       "      <td>1.001771</td>\n",
       "      <td>-0.237342</td>\n",
       "      <td>-0.054179</td>\n",
       "    </tr>\n",
       "    <tr>\n",
       "      <th>HiTec</th>\n",
       "      <td>0.331909</td>\n",
       "      <td>0.634840</td>\n",
       "      <td>1.481907</td>\n",
       "      <td>0.240676</td>\n",
       "      <td>0.052880</td>\n",
       "    </tr>\n",
       "    <tr>\n",
       "      <th>Hlth</th>\n",
       "      <td>0.309618</td>\n",
       "      <td>0.507942</td>\n",
       "      <td>1.669275</td>\n",
       "      <td>0.318161</td>\n",
       "      <td>-0.000625</td>\n",
       "    </tr>\n",
       "    <tr>\n",
       "      <th>Other</th>\n",
       "      <td>0.225737</td>\n",
       "      <td>0.353024</td>\n",
       "      <td>0.996057</td>\n",
       "      <td>-0.309610</td>\n",
       "      <td>0.004224</td>\n",
       "    </tr>\n",
       "  </tbody>\n",
       "</table>\n",
       "</div>"
      ],
      "text/plain": [
       "         sharpe_ratio  sortino_ratio  treynor_ratio  jensens_alpha  \\\n",
       "Company                                                              \n",
       "Cnsmr        0.379906       0.725517       1.708916       0.368663   \n",
       "Manuf        0.222979       0.359834       1.001771      -0.237342   \n",
       "HiTec        0.331909       0.634840       1.481907       0.240676   \n",
       "Hlth         0.309618       0.507942       1.669275       0.318161   \n",
       "Other        0.225737       0.353024       0.996057      -0.309610   \n",
       "\n",
       "         information_ratio  \n",
       "Company                     \n",
       "Cnsmr             0.029359  \n",
       "Manuf            -0.054179  \n",
       "HiTec             0.052880  \n",
       "Hlth             -0.000625  \n",
       "Other             0.004224  "
      ]
     },
     "execution_count": 69,
     "metadata": {},
     "output_type": "execute_result"
    }
   ],
   "source": [
    "table_sum"
   ]
  },
  {
   "cell_type": "code",
   "execution_count": null,
   "metadata": {},
   "outputs": [],
   "source": []
  },
  {
   "cell_type": "code",
   "execution_count": null,
   "metadata": {},
   "outputs": [],
   "source": []
  }
 ],
 "metadata": {
  "kernelspec": {
   "display_name": "Python 3",
   "language": "python",
   "name": "python3"
  },
  "language_info": {
   "codemirror_mode": {
    "name": "ipython",
    "version": 3
   },
   "file_extension": ".py",
   "mimetype": "text/x-python",
   "name": "python",
   "nbconvert_exporter": "python",
   "pygments_lexer": "ipython3",
   "version": "3.8.3"
  }
 },
 "nbformat": 4,
 "nbformat_minor": 4
}
