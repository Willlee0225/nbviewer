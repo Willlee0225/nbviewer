{
  "nbformat": 4,
  "nbformat_minor": 0,
  "metadata": {
    "colab": {
      "name": "第二週作業-挑戰題",
      "provenance": [],
      "authorship_tag": "ABX9TyNY6RWDZJHenOCwQ85CC8o7",
      "include_colab_link": true
    },
    "kernelspec": {
      "name": "python3",
      "display_name": "Python 3"
    }
  },
  "cells": [
    {
      "cell_type": "markdown",
      "metadata": {
        "id": "view-in-github",
        "colab_type": "text"
      },
      "source": [
        "<a href=\"https://colab.research.google.com/github/Willlee0225/nbviewer/blob/master/%E7%AC%AC%E4%BA%8C%E9%80%B1%E4%BD%9C%E6%A5%AD_%E6%8C%91%E6%88%B0%E9%A1%8C.ipynb\" target=\"_parent\"><img src=\"https://colab.research.google.com/assets/colab-badge.svg\" alt=\"Open In Colab\"/></a>"
      ]
    },
    {
      "cell_type": "markdown",
      "metadata": {
        "id": "M_RLdjyigyS1",
        "colab_type": "text"
      },
      "source": [
        "##挑戰題一【天干地支】：\n",
        "\n",
        "年份是用天干地支\n",
        "\n",
        "天干:甲乙丙丁戊己庚辛壬癸\n",
        "\n",
        "地支:子醜寅卯辰巳午未申酉戌亥\n",
        "\n",
        "2014年是甲午年\n",
        "\n",
        "2015年是乙未年"
      ]
    },
    {
      "cell_type": "code",
      "metadata": {
        "id": "3EY-WeRhgz_X",
        "colab_type": "code",
        "colab": {
          "base_uri": "https://localhost:8080/",
          "height": 1000
        },
        "outputId": "2e952e83-6c5b-41d6-cc3c-e92f30fab9b6"
      },
      "source": [
        "天干=list('甲乙丙丁戊己庚辛壬癸')\n",
        "地支=list('午未申酉戌亥子醜寅卯辰巳')\n",
        "year =2014\n",
        "for j in range(60):\n",
        "    a= j%10\n",
        "    b= j%12\n",
        "    print(str(year) +': '+天干[a]+地支[b])\n",
        "    year+=1"
      ],
      "execution_count": 2,
      "outputs": [
        {
          "output_type": "stream",
          "text": [
            "2014: 甲午\n",
            "2015: 乙未\n",
            "2016: 丙申\n",
            "2017: 丁酉\n",
            "2018: 戊戌\n",
            "2019: 己亥\n",
            "2020: 庚子\n",
            "2021: 辛醜\n",
            "2022: 壬寅\n",
            "2023: 癸卯\n",
            "2024: 甲辰\n",
            "2025: 乙巳\n",
            "2026: 丙午\n",
            "2027: 丁未\n",
            "2028: 戊申\n",
            "2029: 己酉\n",
            "2030: 庚戌\n",
            "2031: 辛亥\n",
            "2032: 壬子\n",
            "2033: 癸醜\n",
            "2034: 甲寅\n",
            "2035: 乙卯\n",
            "2036: 丙辰\n",
            "2037: 丁巳\n",
            "2038: 戊午\n",
            "2039: 己未\n",
            "2040: 庚申\n",
            "2041: 辛酉\n",
            "2042: 壬戌\n",
            "2043: 癸亥\n",
            "2044: 甲子\n",
            "2045: 乙醜\n",
            "2046: 丙寅\n",
            "2047: 丁卯\n",
            "2048: 戊辰\n",
            "2049: 己巳\n",
            "2050: 庚午\n",
            "2051: 辛未\n",
            "2052: 壬申\n",
            "2053: 癸酉\n",
            "2054: 甲戌\n",
            "2055: 乙亥\n",
            "2056: 丙子\n",
            "2057: 丁醜\n",
            "2058: 戊寅\n",
            "2059: 己卯\n",
            "2060: 庚辰\n",
            "2061: 辛巳\n",
            "2062: 壬午\n",
            "2063: 癸未\n",
            "2064: 甲申\n",
            "2065: 乙酉\n",
            "2066: 丙戌\n",
            "2067: 丁亥\n",
            "2068: 戊子\n",
            "2069: 己醜\n",
            "2070: 庚寅\n",
            "2071: 辛卯\n",
            "2072: 壬辰\n",
            "2073: 癸巳\n"
          ],
          "name": "stdout"
        }
      ]
    },
    {
      "cell_type": "markdown",
      "metadata": {
        "id": "rlmZ9vJLg-g3",
        "colab_type": "text"
      },
      "source": [
        "##挑戰題二【我有一棵樹】：\n",
        "\n",
        "寫個 tree 函數, 給一個數字就會畫出如下的畫面。"
      ]
    },
    {
      "cell_type": "code",
      "metadata": {
        "id": "JZMy7TnihAYK",
        "colab_type": "code",
        "colab": {
          "base_uri": "https://localhost:8080/",
          "height": 136
        },
        "outputId": "71442bb8-66c2-474d-a05c-fde551b80d7c"
      },
      "source": [
        "\n",
        "def tree(s):\n",
        "  for i in range(s+1):\n",
        "   print(' '*(s-i)+'*'*(i*2-1))\n",
        "tree(6)\n"
      ],
      "execution_count": 3,
      "outputs": [
        {
          "output_type": "stream",
          "text": [
            "      \n",
            "     *\n",
            "    ***\n",
            "   *****\n",
            "  *******\n",
            " *********\n",
            "***********\n"
          ],
          "name": "stdout"
        }
      ]
    },
    {
      "cell_type": "code",
      "metadata": {
        "id": "cWN7jjeshCGQ",
        "colab_type": "code",
        "colab": {}
      },
      "source": [
        ""
      ],
      "execution_count": 0,
      "outputs": []
    }
  ]
}