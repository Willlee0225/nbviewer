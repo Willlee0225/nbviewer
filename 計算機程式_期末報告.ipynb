{
  "nbformat": 4,
  "nbformat_minor": 0,
  "metadata": {
    "colab": {
      "name": "計算機程式 - 期末報告",
      "provenance": [],
      "collapsed_sections": [],
      "include_colab_link": true
    },
    "kernelspec": {
      "name": "python3",
      "display_name": "Python 3"
    },
    "accelerator": "GPU",
    "widgets": {
      "application/vnd.jupyter.widget-state+json": {
        "d411931047914075bd47a4a16eecd5fd": {
          "model_module": "@jupyter-widgets/controls",
          "model_name": "VBoxModel",
          "state": {
            "_view_name": "VBoxView",
            "_dom_classes": [
              "widget-interact"
            ],
            "_model_name": "VBoxModel",
            "_view_module": "@jupyter-widgets/controls",
            "_model_module_version": "1.5.0",
            "_view_count": null,
            "_view_module_version": "1.5.0",
            "box_style": "",
            "layout": "IPY_MODEL_bca003d1ab2641dc9f6cf4d069520a09",
            "_model_module": "@jupyter-widgets/controls",
            "children": [
              "IPY_MODEL_54c1c3694bb64035812897f58c2e7d8c",
              "IPY_MODEL_1bbe3b6429aa4b0e8d345d6811821d64",
              "IPY_MODEL_2eff217a4ce64089a5683a1506374b30"
            ]
          }
        },
        "bca003d1ab2641dc9f6cf4d069520a09": {
          "model_module": "@jupyter-widgets/base",
          "model_name": "LayoutModel",
          "state": {
            "_view_name": "LayoutView",
            "grid_template_rows": null,
            "right": null,
            "justify_content": null,
            "_view_module": "@jupyter-widgets/base",
            "overflow": null,
            "_model_module_version": "1.2.0",
            "_view_count": null,
            "flex_flow": null,
            "width": null,
            "min_width": null,
            "border": null,
            "align_items": null,
            "bottom": null,
            "_model_module": "@jupyter-widgets/base",
            "top": null,
            "grid_column": null,
            "overflow_y": null,
            "overflow_x": null,
            "grid_auto_flow": null,
            "grid_area": null,
            "grid_template_columns": null,
            "flex": null,
            "_model_name": "LayoutModel",
            "justify_items": null,
            "grid_row": null,
            "max_height": null,
            "align_content": null,
            "visibility": null,
            "align_self": null,
            "height": null,
            "min_height": null,
            "padding": null,
            "grid_auto_rows": null,
            "grid_gap": null,
            "max_width": null,
            "order": null,
            "_view_module_version": "1.2.0",
            "grid_template_areas": null,
            "object_position": null,
            "object_fit": null,
            "grid_auto_columns": null,
            "margin": null,
            "display": null,
            "left": null
          }
        },
        "54c1c3694bb64035812897f58c2e7d8c": {
          "model_module": "@jupyter-widgets/controls",
          "model_name": "IntSliderModel",
          "state": {
            "_view_name": "IntSliderView",
            "style": "IPY_MODEL_b4a266cb866642c18826944d7ec29128",
            "_dom_classes": [],
            "description": "n",
            "step": 1,
            "_model_name": "IntSliderModel",
            "orientation": "horizontal",
            "max": 2216,
            "_view_module": "@jupyter-widgets/controls",
            "_model_module_version": "1.5.0",
            "value": 2216,
            "_view_count": null,
            "disabled": false,
            "_view_module_version": "1.5.0",
            "min": 2211,
            "continuous_update": true,
            "readout_format": "d",
            "description_tooltip": null,
            "readout": true,
            "_model_module": "@jupyter-widgets/controls",
            "layout": "IPY_MODEL_f3cbe7f3c19042058f58a65b00d5339e"
          }
        },
        "1bbe3b6429aa4b0e8d345d6811821d64": {
          "model_module": "@jupyter-widgets/controls",
          "model_name": "ButtonModel",
          "state": {
            "_view_name": "ButtonView",
            "style": "IPY_MODEL_0d789f3c8f874d319822d6406dc8894a",
            "_dom_classes": [],
            "description": "Run Interact",
            "_model_name": "ButtonModel",
            "button_style": "",
            "_view_module": "@jupyter-widgets/controls",
            "_model_module_version": "1.5.0",
            "tooltip": "",
            "_view_count": null,
            "disabled": false,
            "_view_module_version": "1.5.0",
            "layout": "IPY_MODEL_368b2d29fc2944eaa65c93ad11af06e3",
            "_model_module": "@jupyter-widgets/controls",
            "icon": ""
          }
        },
        "2eff217a4ce64089a5683a1506374b30": {
          "model_module": "@jupyter-widgets/output",
          "model_name": "OutputModel",
          "state": {
            "_view_name": "OutputView",
            "msg_id": "",
            "_dom_classes": [],
            "_model_name": "OutputModel",
            "outputs": [
              {
                "output_type": "stream",
                "metadata": {
                  "tags": []
                },
                "text": "實際的道瓊指數是： [[0.95149591]\n [0.955121  ]\n [0.9487863 ]\n [0.95732827]\n [0.96853748]]\n神經網路RNN的預測是： [[0.93614006]\n [0.9367196 ]\n [0.9371283 ]\n [0.93747926]\n [0.9380141 ]]\n",
                "stream": "stdout"
              }
            ],
            "_view_module": "@jupyter-widgets/output",
            "_model_module_version": "1.0.0",
            "_view_count": null,
            "_view_module_version": "1.0.0",
            "layout": "IPY_MODEL_26201c1bb5ae45d7bc56652d4360745c",
            "_model_module": "@jupyter-widgets/output"
          }
        },
        "b4a266cb866642c18826944d7ec29128": {
          "model_module": "@jupyter-widgets/controls",
          "model_name": "SliderStyleModel",
          "state": {
            "_view_name": "StyleView",
            "handle_color": null,
            "_model_name": "SliderStyleModel",
            "description_width": "",
            "_view_module": "@jupyter-widgets/base",
            "_model_module_version": "1.5.0",
            "_view_count": null,
            "_view_module_version": "1.2.0",
            "_model_module": "@jupyter-widgets/controls"
          }
        },
        "f3cbe7f3c19042058f58a65b00d5339e": {
          "model_module": "@jupyter-widgets/base",
          "model_name": "LayoutModel",
          "state": {
            "_view_name": "LayoutView",
            "grid_template_rows": null,
            "right": null,
            "justify_content": null,
            "_view_module": "@jupyter-widgets/base",
            "overflow": null,
            "_model_module_version": "1.2.0",
            "_view_count": null,
            "flex_flow": null,
            "width": null,
            "min_width": null,
            "border": null,
            "align_items": null,
            "bottom": null,
            "_model_module": "@jupyter-widgets/base",
            "top": null,
            "grid_column": null,
            "overflow_y": null,
            "overflow_x": null,
            "grid_auto_flow": null,
            "grid_area": null,
            "grid_template_columns": null,
            "flex": null,
            "_model_name": "LayoutModel",
            "justify_items": null,
            "grid_row": null,
            "max_height": null,
            "align_content": null,
            "visibility": null,
            "align_self": null,
            "height": null,
            "min_height": null,
            "padding": null,
            "grid_auto_rows": null,
            "grid_gap": null,
            "max_width": null,
            "order": null,
            "_view_module_version": "1.2.0",
            "grid_template_areas": null,
            "object_position": null,
            "object_fit": null,
            "grid_auto_columns": null,
            "margin": null,
            "display": null,
            "left": null
          }
        },
        "0d789f3c8f874d319822d6406dc8894a": {
          "model_module": "@jupyter-widgets/controls",
          "model_name": "ButtonStyleModel",
          "state": {
            "_view_name": "StyleView",
            "_model_name": "ButtonStyleModel",
            "_view_module": "@jupyter-widgets/base",
            "_model_module_version": "1.5.0",
            "_view_count": null,
            "button_color": null,
            "font_weight": "",
            "_view_module_version": "1.2.0",
            "_model_module": "@jupyter-widgets/controls"
          }
        },
        "368b2d29fc2944eaa65c93ad11af06e3": {
          "model_module": "@jupyter-widgets/base",
          "model_name": "LayoutModel",
          "state": {
            "_view_name": "LayoutView",
            "grid_template_rows": null,
            "right": null,
            "justify_content": null,
            "_view_module": "@jupyter-widgets/base",
            "overflow": null,
            "_model_module_version": "1.2.0",
            "_view_count": null,
            "flex_flow": null,
            "width": null,
            "min_width": null,
            "border": null,
            "align_items": null,
            "bottom": null,
            "_model_module": "@jupyter-widgets/base",
            "top": null,
            "grid_column": null,
            "overflow_y": null,
            "overflow_x": null,
            "grid_auto_flow": null,
            "grid_area": null,
            "grid_template_columns": null,
            "flex": null,
            "_model_name": "LayoutModel",
            "justify_items": null,
            "grid_row": null,
            "max_height": null,
            "align_content": null,
            "visibility": null,
            "align_self": null,
            "height": null,
            "min_height": null,
            "padding": null,
            "grid_auto_rows": null,
            "grid_gap": null,
            "max_width": null,
            "order": null,
            "_view_module_version": "1.2.0",
            "grid_template_areas": null,
            "object_position": null,
            "object_fit": null,
            "grid_auto_columns": null,
            "margin": null,
            "display": null,
            "left": null
          }
        },
        "26201c1bb5ae45d7bc56652d4360745c": {
          "model_module": "@jupyter-widgets/base",
          "model_name": "LayoutModel",
          "state": {
            "_view_name": "LayoutView",
            "grid_template_rows": null,
            "right": null,
            "justify_content": null,
            "_view_module": "@jupyter-widgets/base",
            "overflow": null,
            "_model_module_version": "1.2.0",
            "_view_count": null,
            "flex_flow": null,
            "width": null,
            "min_width": null,
            "border": null,
            "align_items": null,
            "bottom": null,
            "_model_module": "@jupyter-widgets/base",
            "top": null,
            "grid_column": null,
            "overflow_y": null,
            "overflow_x": null,
            "grid_auto_flow": null,
            "grid_area": null,
            "grid_template_columns": null,
            "flex": null,
            "_model_name": "LayoutModel",
            "justify_items": null,
            "grid_row": null,
            "max_height": null,
            "align_content": null,
            "visibility": null,
            "align_self": null,
            "height": null,
            "min_height": null,
            "padding": null,
            "grid_auto_rows": null,
            "grid_gap": null,
            "max_width": null,
            "order": null,
            "_view_module_version": "1.2.0",
            "grid_template_areas": null,
            "object_position": null,
            "object_fit": null,
            "grid_auto_columns": null,
            "margin": null,
            "display": null,
            "left": null
          }
        }
      }
    }
  },
  "cells": [
    {
      "cell_type": "markdown",
      "metadata": {
        "id": "view-in-github",
        "colab_type": "text"
      },
      "source": [
        "<a href=\"https://colab.research.google.com/github/Willlee0225/nbviewer/blob/master/%E8%A8%88%E7%AE%97%E6%A9%9F%E7%A8%8B%E5%BC%8F_%E6%9C%9F%E6%9C%AB%E5%A0%B1%E5%91%8A.ipynb\" target=\"_parent\"><img src=\"https://colab.research.google.com/assets/colab-badge.svg\" alt=\"Open In Colab\"/></a>"
      ]
    },
    {
      "cell_type": "markdown",
      "metadata": {
        "id": "xlMkOLb2WSOa",
        "colab_type": "text"
      },
      "source": [
        "# 計算機程式 - 期末報告\n",
        "### 組員名單:\n",
        "### 應數一 金函柔\n",
        "### 應數一 王智萱\n",
        "### 教育一 張鈞庭\n",
        "### 金融四 李昱慶\n",
        "### 專案分工\n",
        "### 蒐集資料： 金函柔，王智萱，張鈞庭，李昱慶\n",
        "### 模型建立： 李昱慶\n",
        "### 模型回測： 金函柔，王智萱，張鈞庭\n",
        "### 預測分析： 李昱慶，金函柔，王智萱，張鈞庭"
      ]
    },
    {
      "cell_type": "markdown",
      "metadata": {
        "id": "sQipI7kbU0-G",
        "colab_type": "text"
      },
      "source": [
        "## 專案動機\n",
        "### 1.油價戰爭\n",
        "### 2.武漢肺炎\n",
        "### 3.影響美股\n",
        "### 4.研究原油與美股的走勢\n",
        "## 挫折與嘗試\n",
        "### 1.利用原油預測，結果不符預期\n",
        "### 2.影響股價的原因不只一種\n",
        "### 3.放入道瓊成分股一起預測\n",
        "### 4.五天預測五天範圍太大，改成五天預測一天\n"
      ]
    },
    {
      "cell_type": "markdown",
      "metadata": {
        "id": "IHUzvanmVrnV",
        "colab_type": "text"
      },
      "source": [
        "## 問題\n",
        "### 利用道瓊指數成分股、石油價格和相關指數走勢來預測道瓊指數的漲跌\n",
        "## 主題介紹\n",
        "### 輸入：道瓊成分股（24支）、S&P500、NASDAQ、BP從1987/5/20至2020/5/13的每日歷史收盤價格\n",
        "### 輸出：道瓊未來五天預測收盤價格模型：因處理與時間相關的資料，我們選擇使用RNN的LSTM模型\n"
      ]
    },
    {
      "cell_type": "markdown",
      "metadata": {
        "id": "AsNKncBeVrv2",
        "colab_type": "text"
      },
      "source": [
        "## 實作方法\n",
        "### 我們這次是使用RNN裡面的LSTM，因為RNN可以解決時間序列的問題，一般的標準神經網路，在inpute資料通常是沒有時間性的資料。而RNN透過將Hidden layer的output存在Memory裡，當下次input資料進去時，會同時考慮上一次存在Memory的值進行計算。"
      ]
    },
    {
      "cell_type": "markdown",
      "metadata": {
        "id": "-5p1EJ4_Vrt3",
        "colab_type": "text"
      },
      "source": [
        "## 先將所需的套件獨進來"
      ]
    },
    {
      "cell_type": "code",
      "metadata": {
        "id": "SzMs1IyuQQMf",
        "colab_type": "code",
        "colab": {}
      },
      "source": [
        "#coding=utf-8\n",
        "import pandas as pd\n",
        "import numpy as np\n",
        "from keras.models import Sequential,Model\n",
        "from keras.layers import Dense, Dropout, Activation, Flatten, LSTM, TimeDistributed, RepeatVector,Input\n",
        "from keras.optimizers import Adam\n",
        "from keras.callbacks import EarlyStopping, ModelCheckpoint\n",
        "import matplotlib.pyplot as plt\n",
        "from keras.utils import to_categorical\n",
        "%matplotlib inline"
      ],
      "execution_count": 0,
      "outputs": []
    },
    {
      "cell_type": "code",
      "metadata": {
        "id": "WglPWokaQT3R",
        "colab_type": "code",
        "colab": {}
      },
      "source": [
        "%tensorflow_version 2.x"
      ],
      "execution_count": 0,
      "outputs": []
    },
    {
      "cell_type": "markdown",
      "metadata": {
        "id": "rxfWdohLWdYo",
        "colab_type": "text"
      },
      "source": [
        "## 資料來源\n",
        "### 我們都是從yahoo finance 上面抓資料下來，存成csv檔，再把他讀入colab"
      ]
    },
    {
      "cell_type": "code",
      "metadata": {
        "id": "zUKf2nCtQe3o",
        "colab_type": "code",
        "colab": {}
      },
      "source": [
        "ur1 = 'https://raw.githubusercontent.com/108102018/AIwork/master/data.csv'\n",
        "df1 = pd.read_csv(ur1)"
      ],
      "execution_count": 0,
      "outputs": []
    },
    {
      "cell_type": "markdown",
      "metadata": {
        "id": "7XZdy7tdWps2",
        "colab_type": "text"
      },
      "source": [
        "## 由於各項Features 的差距其實蠻大的，為了不要失真，我們將所有資料進行標準化，讓所有資料都介於-1~1之間"
      ]
    },
    {
      "cell_type": "code",
      "metadata": {
        "id": "oNtS9Ud5Q0b9",
        "colab_type": "code",
        "colab": {}
      },
      "source": [
        "def normalize(df):\n",
        "    norm = df.apply(lambda x: (x - np.min(x)) / (np.max(x) - np.min(x)))\n",
        "    return norm"
      ],
      "execution_count": 0,
      "outputs": []
    },
    {
      "cell_type": "markdown",
      "metadata": {
        "id": "cbVBSuSVWtae",
        "colab_type": "text"
      },
      "source": [
        "## 1. LSTM model 有許多種變化，One to One 、 One to many 、 Many to one 或者 Many to many，經過多次嘗試，我們決定使用Many to one，亦即利用前五天的資料來預測下一天的漲跌，因此Input就是前五天的股價，而輸出就是第六天的股價。將5天的資料視為一句話(一個序列的意思)\n",
        "## 2. 用迴圈方式依序創建 X_train 跟 Y_train"
      ]
    },
    {
      "cell_type": "code",
      "metadata": {
        "id": "3Bhc0b1FQ3D5",
        "colab_type": "code",
        "colab": {}
      },
      "source": [
        "def train_windows(df, ref_day=5, predict_day=1):\n",
        "    X_train, Y_train = [], []\n",
        "    for i in range(df.shape[0]-predict_day-ref_day):\n",
        "        X_train.append(np.array(df.iloc[i:i+ref_day,:-1]))\n",
        "        Y_train.append(np.array(df.iloc[i+ref_day:i+ref_day+predict_day][\"y\"]))\n",
        "    return np.array(X_train), np.array(Y_train)"
      ],
      "execution_count": 0,
      "outputs": []
    },
    {
      "cell_type": "markdown",
      "metadata": {
        "id": "z0XwJWNkWygo",
        "colab_type": "text"
      },
      "source": [
        "### 將DOW 的每一個值都往前移一天"
      ]
    },
    {
      "cell_type": "code",
      "metadata": {
        "id": "A319J1KiQ5pL",
        "colab_type": "code",
        "colab": {}
      },
      "source": [
        "df1['y'] = df1['DOW'].shift(-1)"
      ],
      "execution_count": 0,
      "outputs": []
    },
    {
      "cell_type": "markdown",
      "metadata": {
        "id": "Z5O_H_NgW1Bv",
        "colab_type": "text"
      },
      "source": [
        "### 進行標準化"
      ]
    },
    {
      "cell_type": "code",
      "metadata": {
        "id": "ELR-WDSdRAeK",
        "colab_type": "code",
        "colab": {}
      },
      "source": [
        "df1.iloc[:,[1,2,3,4,5,5,6,7,8,9,10,11,12,13,14,15,16,17,18,19,20,21,22,23,24,25,26,27,28,29]]=normalize(df1.iloc[:,[1,2,3,4,5,5,6,7,8,9,10,11,12,13,14,15,16,17,18,19,20,21,22,23,24,25,26,27,28,29]])"
      ],
      "execution_count": 0,
      "outputs": []
    },
    {
      "cell_type": "markdown",
      "metadata": {
        "id": "elqWdknuW1we",
        "colab_type": "text"
      },
      "source": [
        "### 整理資料"
      ]
    },
    {
      "cell_type": "code",
      "metadata": {
        "id": "RM10eqPaRVxP",
        "colab_type": "code",
        "colab": {}
      },
      "source": [
        "df1 = df1.dropna()"
      ],
      "execution_count": 0,
      "outputs": []
    },
    {
      "cell_type": "code",
      "metadata": {
        "id": "om6GvpmDQtxv",
        "colab_type": "code",
        "outputId": "32854202-e8a0-4558-fd09-1636834b18a6",
        "colab": {
          "base_uri": "https://localhost:8080/",
          "height": 439
        }
      },
      "source": [
        "df1"
      ],
      "execution_count": 151,
      "outputs": [
        {
          "output_type": "execute_result",
          "data": {
            "text/html": [
              "<div>\n",
              "<style scoped>\n",
              "    .dataframe tbody tr th:only-of-type {\n",
              "        vertical-align: middle;\n",
              "    }\n",
              "\n",
              "    .dataframe tbody tr th {\n",
              "        vertical-align: top;\n",
              "    }\n",
              "\n",
              "    .dataframe thead th {\n",
              "        text-align: right;\n",
              "    }\n",
              "</style>\n",
              "<table border=\"1\" class=\"dataframe\">\n",
              "  <thead>\n",
              "    <tr style=\"text-align: right;\">\n",
              "      <th></th>\n",
              "      <th>Date</th>\n",
              "      <th>MMM</th>\n",
              "      <th>KO</th>\n",
              "      <th>CVX</th>\n",
              "      <th>CAT</th>\n",
              "      <th>BA</th>\n",
              "      <th>AXP</th>\n",
              "      <th>AAPL</th>\n",
              "      <th>XOM</th>\n",
              "      <th>WMT</th>\n",
              "      <th>WBA</th>\n",
              "      <th>VZ</th>\n",
              "      <th>UNH</th>\n",
              "      <th>TRV</th>\n",
              "      <th>PG</th>\n",
              "      <th>NIKE</th>\n",
              "      <th>MSFT</th>\n",
              "      <th>MRK</th>\n",
              "      <th>JPM</th>\n",
              "      <th>JNJ</th>\n",
              "      <th>INTC</th>\n",
              "      <th>IBM</th>\n",
              "      <th>HD</th>\n",
              "      <th>DIS</th>\n",
              "      <th>MCD</th>\n",
              "      <th>SP</th>\n",
              "      <th>NASDAQ</th>\n",
              "      <th>DOW</th>\n",
              "      <th>BP</th>\n",
              "      <th>y</th>\n",
              "    </tr>\n",
              "  </thead>\n",
              "  <tbody>\n",
              "    <tr>\n",
              "      <th>0</th>\n",
              "      <td>1987/5/20</td>\n",
              "      <td>0.028840</td>\n",
              "      <td>0.012630</td>\n",
              "      <td>0.052596</td>\n",
              "      <td>0.015463</td>\n",
              "      <td>0.018688</td>\n",
              "      <td>0.061161</td>\n",
              "      <td>0.016889</td>\n",
              "      <td>0.029384</td>\n",
              "      <td>0.010524</td>\n",
              "      <td>0.011279</td>\n",
              "      <td>0.007471</td>\n",
              "      <td>0.001533</td>\n",
              "      <td>0.019495</td>\n",
              "      <td>0.023713</td>\n",
              "      <td>0.000171</td>\n",
              "      <td>0.001815</td>\n",
              "      <td>0.002160</td>\n",
              "      <td>0.157860</td>\n",
              "      <td>0.016498</td>\n",
              "      <td>0.004135</td>\n",
              "      <td>0.185534</td>\n",
              "      <td>0.003513</td>\n",
              "      <td>0.028567</td>\n",
              "      <td>0.022746</td>\n",
              "      <td>0.040478</td>\n",
              "      <td>0.024113</td>\n",
              "      <td>0.038398</td>\n",
              "      <td>0.070671</td>\n",
              "      <td>0.039195</td>\n",
              "    </tr>\n",
              "    <tr>\n",
              "      <th>1</th>\n",
              "      <td>1987/5/21</td>\n",
              "      <td>0.027702</td>\n",
              "      <td>0.012259</td>\n",
              "      <td>0.052924</td>\n",
              "      <td>0.015772</td>\n",
              "      <td>0.018688</td>\n",
              "      <td>0.065379</td>\n",
              "      <td>0.016889</td>\n",
              "      <td>0.029204</td>\n",
              "      <td>0.012395</td>\n",
              "      <td>0.011279</td>\n",
              "      <td>0.004598</td>\n",
              "      <td>0.001533</td>\n",
              "      <td>0.020714</td>\n",
              "      <td>0.022169</td>\n",
              "      <td>0.000342</td>\n",
              "      <td>0.001933</td>\n",
              "      <td>0.003361</td>\n",
              "      <td>0.165886</td>\n",
              "      <td>0.016613</td>\n",
              "      <td>0.004135</td>\n",
              "      <td>0.186537</td>\n",
              "      <td>0.003634</td>\n",
              "      <td>0.030607</td>\n",
              "      <td>0.023845</td>\n",
              "      <td>0.041939</td>\n",
              "      <td>0.024513</td>\n",
              "      <td>0.039195</td>\n",
              "      <td>0.069336</td>\n",
              "      <td>0.040598</td>\n",
              "    </tr>\n",
              "    <tr>\n",
              "      <th>2</th>\n",
              "      <td>1987/5/22</td>\n",
              "      <td>0.028651</td>\n",
              "      <td>0.013930</td>\n",
              "      <td>0.052596</td>\n",
              "      <td>0.016082</td>\n",
              "      <td>0.019803</td>\n",
              "      <td>0.065906</td>\n",
              "      <td>0.016758</td>\n",
              "      <td>0.028483</td>\n",
              "      <td>0.012979</td>\n",
              "      <td>0.011279</td>\n",
              "      <td>0.011494</td>\n",
              "      <td>0.001533</td>\n",
              "      <td>0.020714</td>\n",
              "      <td>0.023492</td>\n",
              "      <td>0.000342</td>\n",
              "      <td>0.001742</td>\n",
              "      <td>0.004801</td>\n",
              "      <td>0.169231</td>\n",
              "      <td>0.016957</td>\n",
              "      <td>0.003609</td>\n",
              "      <td>0.185534</td>\n",
              "      <td>0.003674</td>\n",
              "      <td>0.030862</td>\n",
              "      <td>0.026456</td>\n",
              "      <td>0.043423</td>\n",
              "      <td>0.024281</td>\n",
              "      <td>0.040598</td>\n",
              "      <td>0.070078</td>\n",
              "      <td>0.045003</td>\n",
              "    </tr>\n",
              "    <tr>\n",
              "      <th>3</th>\n",
              "      <td>1987/5/26</td>\n",
              "      <td>0.032256</td>\n",
              "      <td>0.016716</td>\n",
              "      <td>0.054568</td>\n",
              "      <td>0.017782</td>\n",
              "      <td>0.020640</td>\n",
              "      <td>0.073815</td>\n",
              "      <td>0.018104</td>\n",
              "      <td>0.030105</td>\n",
              "      <td>0.014032</td>\n",
              "      <td>0.012062</td>\n",
              "      <td>0.017241</td>\n",
              "      <td>0.001594</td>\n",
              "      <td>0.026806</td>\n",
              "      <td>0.027353</td>\n",
              "      <td>0.000342</td>\n",
              "      <td>0.001815</td>\n",
              "      <td>0.004561</td>\n",
              "      <td>0.176589</td>\n",
              "      <td>0.018446</td>\n",
              "      <td>0.004345</td>\n",
              "      <td>0.191953</td>\n",
              "      <td>0.003875</td>\n",
              "      <td>0.035709</td>\n",
              "      <td>0.028655</td>\n",
              "      <td>0.048605</td>\n",
              "      <td>0.025122</td>\n",
              "      <td>0.045003</td>\n",
              "      <td>0.070671</td>\n",
              "      <td>0.044832</td>\n",
              "    </tr>\n",
              "    <tr>\n",
              "      <th>4</th>\n",
              "      <td>1987/5/27</td>\n",
              "      <td>0.032635</td>\n",
              "      <td>0.015973</td>\n",
              "      <td>0.054897</td>\n",
              "      <td>0.019020</td>\n",
              "      <td>0.024266</td>\n",
              "      <td>0.072233</td>\n",
              "      <td>0.018625</td>\n",
              "      <td>0.029564</td>\n",
              "      <td>0.014500</td>\n",
              "      <td>0.012376</td>\n",
              "      <td>0.022988</td>\n",
              "      <td>0.001533</td>\n",
              "      <td>0.028024</td>\n",
              "      <td>0.026470</td>\n",
              "      <td>0.000513</td>\n",
              "      <td>0.001815</td>\n",
              "      <td>0.005761</td>\n",
              "      <td>0.170569</td>\n",
              "      <td>0.018217</td>\n",
              "      <td>0.004345</td>\n",
              "      <td>0.192555</td>\n",
              "      <td>0.004517</td>\n",
              "      <td>0.036729</td>\n",
              "      <td>0.028518</td>\n",
              "      <td>0.048321</td>\n",
              "      <td>0.025375</td>\n",
              "      <td>0.044832</td>\n",
              "      <td>0.070449</td>\n",
              "      <td>0.046028</td>\n",
              "    </tr>\n",
              "    <tr>\n",
              "      <th>...</th>\n",
              "      <td>...</td>\n",
              "      <td>...</td>\n",
              "      <td>...</td>\n",
              "      <td>...</td>\n",
              "      <td>...</td>\n",
              "      <td>...</td>\n",
              "      <td>...</td>\n",
              "      <td>...</td>\n",
              "      <td>...</td>\n",
              "      <td>...</td>\n",
              "      <td>...</td>\n",
              "      <td>...</td>\n",
              "      <td>...</td>\n",
              "      <td>...</td>\n",
              "      <td>...</td>\n",
              "      <td>...</td>\n",
              "      <td>...</td>\n",
              "      <td>...</td>\n",
              "      <td>...</td>\n",
              "      <td>...</td>\n",
              "      <td>...</td>\n",
              "      <td>...</td>\n",
              "      <td>...</td>\n",
              "      <td>...</td>\n",
              "      <td>...</td>\n",
              "      <td>...</td>\n",
              "      <td>...</td>\n",
              "      <td>...</td>\n",
              "      <td>...</td>\n",
              "      <td>...</td>\n",
              "    </tr>\n",
              "    <tr>\n",
              "      <th>5994</th>\n",
              "      <td>2011/2/25</td>\n",
              "      <td>0.931998</td>\n",
              "      <td>0.719138</td>\n",
              "      <td>0.978015</td>\n",
              "      <td>0.961800</td>\n",
              "      <td>0.649266</td>\n",
              "      <td>0.639277</td>\n",
              "      <td>0.958405</td>\n",
              "      <td>0.887972</td>\n",
              "      <td>0.735267</td>\n",
              "      <td>0.809307</td>\n",
              "      <td>0.457412</td>\n",
              "      <td>0.666112</td>\n",
              "      <td>0.974266</td>\n",
              "      <td>0.832990</td>\n",
              "      <td>0.952716</td>\n",
              "      <td>0.443202</td>\n",
              "      <td>0.277753</td>\n",
              "      <td>0.695197</td>\n",
              "      <td>0.815512</td>\n",
              "      <td>0.286594</td>\n",
              "      <td>0.975802</td>\n",
              "      <td>0.536488</td>\n",
              "      <td>0.972200</td>\n",
              "      <td>0.922157</td>\n",
              "      <td>0.817131</td>\n",
              "      <td>0.523291</td>\n",
              "      <td>0.836302</td>\n",
              "      <td>0.788283</td>\n",
              "      <td>0.844019</td>\n",
              "    </tr>\n",
              "    <tr>\n",
              "      <th>5995</th>\n",
              "      <td>2011/2/28</td>\n",
              "      <td>0.956041</td>\n",
              "      <td>0.714502</td>\n",
              "      <td>0.995372</td>\n",
              "      <td>0.971004</td>\n",
              "      <td>0.646354</td>\n",
              "      <td>0.639932</td>\n",
              "      <td>0.972436</td>\n",
              "      <td>0.890164</td>\n",
              "      <td>0.738709</td>\n",
              "      <td>0.836778</td>\n",
              "      <td>0.476839</td>\n",
              "      <td>0.667054</td>\n",
              "      <td>0.980700</td>\n",
              "      <td>0.835955</td>\n",
              "      <td>0.964208</td>\n",
              "      <td>0.443708</td>\n",
              "      <td>0.282132</td>\n",
              "      <td>0.695358</td>\n",
              "      <td>0.841909</td>\n",
              "      <td>0.281346</td>\n",
              "      <td>0.973235</td>\n",
              "      <td>0.542196</td>\n",
              "      <td>0.991809</td>\n",
              "      <td>0.938517</td>\n",
              "      <td>0.822603</td>\n",
              "      <td>0.523548</td>\n",
              "      <td>0.844019</td>\n",
              "      <td>0.793771</td>\n",
              "      <td>0.830473</td>\n",
              "    </tr>\n",
              "    <tr>\n",
              "      <th>5996</th>\n",
              "      <td>2011/3/1</td>\n",
              "      <td>0.934548</td>\n",
              "      <td>0.726270</td>\n",
              "      <td>0.986430</td>\n",
              "      <td>0.940622</td>\n",
              "      <td>0.627376</td>\n",
              "      <td>0.633052</td>\n",
              "      <td>0.961600</td>\n",
              "      <td>0.881742</td>\n",
              "      <td>0.740056</td>\n",
              "      <td>0.824346</td>\n",
              "      <td>0.458434</td>\n",
              "      <td>0.665014</td>\n",
              "      <td>0.966858</td>\n",
              "      <td>0.831578</td>\n",
              "      <td>0.949651</td>\n",
              "      <td>0.436624</td>\n",
              "      <td>0.280864</td>\n",
              "      <td>0.677860</td>\n",
              "      <td>0.831057</td>\n",
              "      <td>0.280269</td>\n",
              "      <td>0.960976</td>\n",
              "      <td>0.531804</td>\n",
              "      <td>0.973193</td>\n",
              "      <td>0.928094</td>\n",
              "      <td>0.807028</td>\n",
              "      <td>0.514117</td>\n",
              "      <td>0.830473</td>\n",
              "      <td>0.810753</td>\n",
              "      <td>0.831179</td>\n",
              "    </tr>\n",
              "    <tr>\n",
              "      <th>5997</th>\n",
              "      <td>2011/3/2</td>\n",
              "      <td>0.944991</td>\n",
              "      <td>0.720565</td>\n",
              "      <td>0.992426</td>\n",
              "      <td>0.951607</td>\n",
              "      <td>0.621854</td>\n",
              "      <td>0.630922</td>\n",
              "      <td>0.969408</td>\n",
              "      <td>0.884973</td>\n",
              "      <td>0.738559</td>\n",
              "      <td>0.806700</td>\n",
              "      <td>0.464978</td>\n",
              "      <td>0.682438</td>\n",
              "      <td>0.958865</td>\n",
              "      <td>0.826919</td>\n",
              "      <td>0.956547</td>\n",
              "      <td>0.435275</td>\n",
              "      <td>0.282247</td>\n",
              "      <td>0.671599</td>\n",
              "      <td>0.832670</td>\n",
              "      <td>0.281615</td>\n",
              "      <td>0.962195</td>\n",
              "      <td>0.530341</td>\n",
              "      <td>0.980640</td>\n",
              "      <td>0.925455</td>\n",
              "      <td>0.808601</td>\n",
              "      <td>0.516358</td>\n",
              "      <td>0.831179</td>\n",
              "      <td>0.822024</td>\n",
              "      <td>0.846583</td>\n",
              "    </tr>\n",
              "    <tr>\n",
              "      <th>5998</th>\n",
              "      <td>2011/3/3</td>\n",
              "      <td>0.963084</td>\n",
              "      <td>0.734116</td>\n",
              "      <td>1.000000</td>\n",
              "      <td>0.984067</td>\n",
              "      <td>0.643342</td>\n",
              "      <td>0.651891</td>\n",
              "      <td>0.990080</td>\n",
              "      <td>0.893510</td>\n",
              "      <td>0.739158</td>\n",
              "      <td>0.820536</td>\n",
              "      <td>0.465387</td>\n",
              "      <td>0.701746</td>\n",
              "      <td>0.963544</td>\n",
              "      <td>0.828896</td>\n",
              "      <td>0.973074</td>\n",
              "      <td>0.437299</td>\n",
              "      <td>0.288238</td>\n",
              "      <td>0.685565</td>\n",
              "      <td>0.836190</td>\n",
              "      <td>0.285652</td>\n",
              "      <td>0.983504</td>\n",
              "      <td>0.543366</td>\n",
              "      <td>1.000000</td>\n",
              "      <td>0.945905</td>\n",
              "      <td>0.825399</td>\n",
              "      <td>0.527010</td>\n",
              "      <td>0.846583</td>\n",
              "      <td>0.812829</td>\n",
              "      <td>0.839475</td>\n",
              "    </tr>\n",
              "  </tbody>\n",
              "</table>\n",
              "<p>5999 rows × 30 columns</p>\n",
              "</div>"
            ],
            "text/plain": [
              "           Date       MMM        KO  ...       DOW        BP         y\n",
              "0     1987/5/20  0.028840  0.012630  ...  0.038398  0.070671  0.039195\n",
              "1     1987/5/21  0.027702  0.012259  ...  0.039195  0.069336  0.040598\n",
              "2     1987/5/22  0.028651  0.013930  ...  0.040598  0.070078  0.045003\n",
              "3     1987/5/26  0.032256  0.016716  ...  0.045003  0.070671  0.044832\n",
              "4     1987/5/27  0.032635  0.015973  ...  0.044832  0.070449  0.046028\n",
              "...         ...       ...       ...  ...       ...       ...       ...\n",
              "5994  2011/2/25  0.931998  0.719138  ...  0.836302  0.788283  0.844019\n",
              "5995  2011/2/28  0.956041  0.714502  ...  0.844019  0.793771  0.830473\n",
              "5996   2011/3/1  0.934548  0.726270  ...  0.830473  0.810753  0.831179\n",
              "5997   2011/3/2  0.944991  0.720565  ...  0.831179  0.822024  0.846583\n",
              "5998   2011/3/3  0.963084  0.734116  ...  0.846583  0.812829  0.839475\n",
              "\n",
              "[5999 rows x 30 columns]"
            ]
          },
          "metadata": {
            "tags": []
          },
          "execution_count": 151
        }
      ]
    },
    {
      "cell_type": "markdown",
      "metadata": {
        "id": "5qai2FPbW5xV",
        "colab_type": "text"
      },
      "source": [
        "## 將測試資料讀進來"
      ]
    },
    {
      "cell_type": "code",
      "metadata": {
        "id": "Rrl48rb7RVLv",
        "colab_type": "code",
        "colab": {}
      },
      "source": [
        "ur2 = 'https://raw.githubusercontent.com/108102018/AIwork/master/test.csv'\n",
        "df2 = pd.read_csv(ur2)"
      ],
      "execution_count": 0,
      "outputs": []
    },
    {
      "cell_type": "code",
      "metadata": {
        "id": "XWh1JJUSQw98",
        "colab_type": "code",
        "colab": {}
      },
      "source": [
        "df2['y'] = df2['DOW'].shift(-1)"
      ],
      "execution_count": 0,
      "outputs": []
    },
    {
      "cell_type": "code",
      "metadata": {
        "id": "LZQzbZbiRj57",
        "colab_type": "code",
        "colab": {}
      },
      "source": [
        "df2.iloc[:,[1,2,3,4,5,5,6,7,8,9,10,11,12,13,14,15,16,17,18,19,20,21,22,23,24,25,26,27,28,29]]=normalize(df2.iloc[:,[1,2,3,4,5,5,6,7,8,9,10,11,12,13,14,15,16,17,18,19,20,21,22,23,24,25,26,27,28,29]])"
      ],
      "execution_count": 0,
      "outputs": []
    },
    {
      "cell_type": "code",
      "metadata": {
        "id": "_OWt-zGKRmPZ",
        "colab_type": "code",
        "colab": {}
      },
      "source": [
        "df2 = df2.dropna()"
      ],
      "execution_count": 0,
      "outputs": []
    },
    {
      "cell_type": "code",
      "metadata": {
        "id": "AIeIsy6t24u4",
        "colab_type": "code",
        "colab": {
          "base_uri": "https://localhost:8080/",
          "height": 439
        },
        "outputId": "c49c1c34-63ce-4e35-be70-6745950601e1"
      },
      "source": [
        "df2"
      ],
      "execution_count": 161,
      "outputs": [
        {
          "output_type": "execute_result",
          "data": {
            "text/html": [
              "<div>\n",
              "<style scoped>\n",
              "    .dataframe tbody tr th:only-of-type {\n",
              "        vertical-align: middle;\n",
              "    }\n",
              "\n",
              "    .dataframe tbody tr th {\n",
              "        vertical-align: top;\n",
              "    }\n",
              "\n",
              "    .dataframe thead th {\n",
              "        text-align: right;\n",
              "    }\n",
              "</style>\n",
              "<table border=\"1\" class=\"dataframe\">\n",
              "  <thead>\n",
              "    <tr style=\"text-align: right;\">\n",
              "      <th></th>\n",
              "      <th>Date</th>\n",
              "      <th>MMM</th>\n",
              "      <th>KO</th>\n",
              "      <th>CVX</th>\n",
              "      <th>CAT</th>\n",
              "      <th>BA</th>\n",
              "      <th>AXP</th>\n",
              "      <th>AAPL</th>\n",
              "      <th>XOM</th>\n",
              "      <th>WMT</th>\n",
              "      <th>WBA</th>\n",
              "      <th>VZ</th>\n",
              "      <th>UNH</th>\n",
              "      <th>TRV</th>\n",
              "      <th>PG</th>\n",
              "      <th>NIKE</th>\n",
              "      <th>MSFT</th>\n",
              "      <th>MRK</th>\n",
              "      <th>JPM</th>\n",
              "      <th>JNJ</th>\n",
              "      <th>INTC</th>\n",
              "      <th>IBM</th>\n",
              "      <th>HD</th>\n",
              "      <th>DIS</th>\n",
              "      <th>MCD</th>\n",
              "      <th>SP</th>\n",
              "      <th>NASDAQ</th>\n",
              "      <th>DOW</th>\n",
              "      <th>BP</th>\n",
              "      <th>y</th>\n",
              "    </tr>\n",
              "  </thead>\n",
              "  <tbody>\n",
              "    <tr>\n",
              "      <th>0</th>\n",
              "      <td>2011/3/7</td>\n",
              "      <td>0.114385</td>\n",
              "      <td>0.061712</td>\n",
              "      <td>0.605110</td>\n",
              "      <td>0.391397</td>\n",
              "      <td>0.035150</td>\n",
              "      <td>0.014275</td>\n",
              "      <td>0.020273</td>\n",
              "      <td>0.730426</td>\n",
              "      <td>0.043017</td>\n",
              "      <td>0.189984</td>\n",
              "      <td>0.099827</td>\n",
              "      <td>0.006491</td>\n",
              "      <td>0.112561</td>\n",
              "      <td>0.046627</td>\n",
              "      <td>0.039286</td>\n",
              "      <td>0.012183</td>\n",
              "      <td>0.048530</td>\n",
              "      <td>0.149144</td>\n",
              "      <td>0.028002</td>\n",
              "      <td>0.040990</td>\n",
              "      <td>0.538379</td>\n",
              "      <td>0.038259</td>\n",
              "      <td>0.114318</td>\n",
              "      <td>0.022273</td>\n",
              "      <td>0.092220</td>\n",
              "      <td>0.054776</td>\n",
              "      <td>0.075927</td>\n",
              "      <td>0.930465</td>\n",
              "      <td>0.082508</td>\n",
              "    </tr>\n",
              "    <tr>\n",
              "      <th>1</th>\n",
              "      <td>2011/3/8</td>\n",
              "      <td>0.121577</td>\n",
              "      <td>0.068871</td>\n",
              "      <td>0.614535</td>\n",
              "      <td>0.409099</td>\n",
              "      <td>0.038178</td>\n",
              "      <td>0.030454</td>\n",
              "      <td>0.020475</td>\n",
              "      <td>0.728781</td>\n",
              "      <td>0.048022</td>\n",
              "      <td>0.197961</td>\n",
              "      <td>0.116062</td>\n",
              "      <td>0.007515</td>\n",
              "      <td>0.113487</td>\n",
              "      <td>0.051581</td>\n",
              "      <td>0.040074</td>\n",
              "      <td>0.013334</td>\n",
              "      <td>0.050940</td>\n",
              "      <td>0.159879</td>\n",
              "      <td>0.031170</td>\n",
              "      <td>0.039367</td>\n",
              "      <td>0.557796</td>\n",
              "      <td>0.039037</td>\n",
              "      <td>0.115786</td>\n",
              "      <td>0.017211</td>\n",
              "      <td>0.097332</td>\n",
              "      <td>0.057468</td>\n",
              "      <td>0.082508</td>\n",
              "      <td>0.879764</td>\n",
              "      <td>0.082440</td>\n",
              "    </tr>\n",
              "    <tr>\n",
              "      <th>2</th>\n",
              "      <td>2011/3/9</td>\n",
              "      <td>0.118487</td>\n",
              "      <td>0.068531</td>\n",
              "      <td>0.594320</td>\n",
              "      <td>0.393432</td>\n",
              "      <td>0.038308</td>\n",
              "      <td>0.028445</td>\n",
              "      <td>0.018809</td>\n",
              "      <td>0.725764</td>\n",
              "      <td>0.050763</td>\n",
              "      <td>0.201211</td>\n",
              "      <td>0.121934</td>\n",
              "      <td>0.010021</td>\n",
              "      <td>0.116634</td>\n",
              "      <td>0.050852</td>\n",
              "      <td>0.039374</td>\n",
              "      <td>0.013213</td>\n",
              "      <td>0.055922</td>\n",
              "      <td>0.161299</td>\n",
              "      <td>0.028002</td>\n",
              "      <td>0.040787</td>\n",
              "      <td>0.587375</td>\n",
              "      <td>0.041920</td>\n",
              "      <td>0.115134</td>\n",
              "      <td>0.018831</td>\n",
              "      <td>0.096545</td>\n",
              "      <td>0.055590</td>\n",
              "      <td>0.082440</td>\n",
              "      <td>0.879943</td>\n",
              "      <td>0.070348</td>\n",
              "    </tr>\n",
              "    <tr>\n",
              "      <th>3</th>\n",
              "      <td>2011/3/10</td>\n",
              "      <td>0.101652</td>\n",
              "      <td>0.062905</td>\n",
              "      <td>0.556369</td>\n",
              "      <td>0.358293</td>\n",
              "      <td>0.036220</td>\n",
              "      <td>0.017553</td>\n",
              "      <td>0.015873</td>\n",
              "      <td>0.684629</td>\n",
              "      <td>0.050524</td>\n",
              "      <td>0.191609</td>\n",
              "      <td>0.113299</td>\n",
              "      <td>0.007364</td>\n",
              "      <td>0.108488</td>\n",
              "      <td>0.043421</td>\n",
              "      <td>0.037128</td>\n",
              "      <td>0.010304</td>\n",
              "      <td>0.049655</td>\n",
              "      <td>0.152160</td>\n",
              "      <td>0.019928</td>\n",
              "      <td>0.032468</td>\n",
              "      <td>0.555647</td>\n",
              "      <td>0.039174</td>\n",
              "      <td>0.109834</td>\n",
              "      <td>0.024906</td>\n",
              "      <td>0.085652</td>\n",
              "      <td>0.048813</td>\n",
              "      <td>0.070348</td>\n",
              "      <td>0.871463</td>\n",
              "      <td>0.073512</td>\n",
              "    </tr>\n",
              "    <tr>\n",
              "      <th>4</th>\n",
              "      <td>2011/3/11</td>\n",
              "      <td>0.110176</td>\n",
              "      <td>0.054722</td>\n",
              "      <td>0.566911</td>\n",
              "      <td>0.372721</td>\n",
              "      <td>0.037134</td>\n",
              "      <td>0.020302</td>\n",
              "      <td>0.018566</td>\n",
              "      <td>0.694776</td>\n",
              "      <td>0.049809</td>\n",
              "      <td>0.191166</td>\n",
              "      <td>0.094300</td>\n",
              "      <td>0.006604</td>\n",
              "      <td>0.111821</td>\n",
              "      <td>0.043421</td>\n",
              "      <td>0.034182</td>\n",
              "      <td>0.011940</td>\n",
              "      <td>0.046923</td>\n",
              "      <td>0.154024</td>\n",
              "      <td>0.020746</td>\n",
              "      <td>0.034091</td>\n",
              "      <td>0.559035</td>\n",
              "      <td>0.039495</td>\n",
              "      <td>0.113584</td>\n",
              "      <td>0.025243</td>\n",
              "      <td>0.089662</td>\n",
              "      <td>0.050764</td>\n",
              "      <td>0.073512</td>\n",
              "      <td>0.857806</td>\n",
              "      <td>0.070801</td>\n",
              "    </tr>\n",
              "    <tr>\n",
              "      <th>...</th>\n",
              "      <td>...</td>\n",
              "      <td>...</td>\n",
              "      <td>...</td>\n",
              "      <td>...</td>\n",
              "      <td>...</td>\n",
              "      <td>...</td>\n",
              "      <td>...</td>\n",
              "      <td>...</td>\n",
              "      <td>...</td>\n",
              "      <td>...</td>\n",
              "      <td>...</td>\n",
              "      <td>...</td>\n",
              "      <td>...</td>\n",
              "      <td>...</td>\n",
              "      <td>...</td>\n",
              "      <td>...</td>\n",
              "      <td>...</td>\n",
              "      <td>...</td>\n",
              "      <td>...</td>\n",
              "      <td>...</td>\n",
              "      <td>...</td>\n",
              "      <td>...</td>\n",
              "      <td>...</td>\n",
              "      <td>...</td>\n",
              "      <td>...</td>\n",
              "      <td>...</td>\n",
              "      <td>...</td>\n",
              "      <td>...</td>\n",
              "      <td>...</td>\n",
              "      <td>...</td>\n",
              "    </tr>\n",
              "    <tr>\n",
              "      <th>2307</th>\n",
              "      <td>2020/5/6</td>\n",
              "      <td>0.401012</td>\n",
              "      <td>0.475622</td>\n",
              "      <td>0.444376</td>\n",
              "      <td>0.440432</td>\n",
              "      <td>0.168185</td>\n",
              "      <td>0.440309</td>\n",
              "      <td>0.905832</td>\n",
              "      <td>0.171946</td>\n",
              "      <td>0.892398</td>\n",
              "      <td>0.180381</td>\n",
              "      <td>0.777893</td>\n",
              "      <td>0.937220</td>\n",
              "      <td>0.430343</td>\n",
              "      <td>0.795425</td>\n",
              "      <td>0.811707</td>\n",
              "      <td>0.962664</td>\n",
              "      <td>0.760244</td>\n",
              "      <td>0.549108</td>\n",
              "      <td>0.924068</td>\n",
              "      <td>0.811485</td>\n",
              "      <td>0.234653</td>\n",
              "      <td>0.894284</td>\n",
              "      <td>0.586106</td>\n",
              "      <td>0.701809</td>\n",
              "      <td>0.764867</td>\n",
              "      <td>0.871308</td>\n",
              "      <td>0.688466</td>\n",
              "      <td>0.066679</td>\n",
              "      <td>0.699646</td>\n",
              "    </tr>\n",
              "    <tr>\n",
              "      <th>2308</th>\n",
              "      <td>2020/5/7</td>\n",
              "      <td>0.398562</td>\n",
              "      <td>0.470508</td>\n",
              "      <td>0.476498</td>\n",
              "      <td>0.437069</td>\n",
              "      <td>0.185903</td>\n",
              "      <td>0.469176</td>\n",
              "      <td>0.916854</td>\n",
              "      <td>0.175374</td>\n",
              "      <td>0.875596</td>\n",
              "      <td>0.172404</td>\n",
              "      <td>0.775820</td>\n",
              "      <td>0.922911</td>\n",
              "      <td>0.453578</td>\n",
              "      <td>0.781874</td>\n",
              "      <td>0.813107</td>\n",
              "      <td>0.969089</td>\n",
              "      <td>0.735819</td>\n",
              "      <td>0.557448</td>\n",
              "      <td>0.919060</td>\n",
              "      <td>0.811282</td>\n",
              "      <td>0.218624</td>\n",
              "      <td>0.919592</td>\n",
              "      <td>0.624348</td>\n",
              "      <td>0.729819</td>\n",
              "      <td>0.779196</td>\n",
              "      <td>0.888052</td>\n",
              "      <td>0.699646</td>\n",
              "      <td>0.070963</td>\n",
              "      <td>0.723748</td>\n",
              "    </tr>\n",
              "    <tr>\n",
              "      <th>2309</th>\n",
              "      <td>2020/5/8</td>\n",
              "      <td>0.413319</td>\n",
              "      <td>0.521991</td>\n",
              "      <td>0.511596</td>\n",
              "      <td>0.479731</td>\n",
              "      <td>0.198403</td>\n",
              "      <td>0.498467</td>\n",
              "      <td>0.939501</td>\n",
              "      <td>0.201974</td>\n",
              "      <td>0.888108</td>\n",
              "      <td>0.187325</td>\n",
              "      <td>0.824870</td>\n",
              "      <td>0.930502</td>\n",
              "      <td>0.467833</td>\n",
              "      <td>0.836952</td>\n",
              "      <td>0.835273</td>\n",
              "      <td>0.975635</td>\n",
              "      <td>0.748674</td>\n",
              "      <td>0.570668</td>\n",
              "      <td>0.930404</td>\n",
              "      <td>0.821429</td>\n",
              "      <td>0.233165</td>\n",
              "      <td>0.942382</td>\n",
              "      <td>0.653620</td>\n",
              "      <td>0.730562</td>\n",
              "      <td>0.800452</td>\n",
              "      <td>0.906987</td>\n",
              "      <td>0.723748</td>\n",
              "      <td>0.070695</td>\n",
              "      <td>0.717962</td>\n",
              "    </tr>\n",
              "    <tr>\n",
              "      <th>2310</th>\n",
              "      <td>2020/5/11</td>\n",
              "      <td>0.398508</td>\n",
              "      <td>0.502557</td>\n",
              "      <td>0.485551</td>\n",
              "      <td>0.448752</td>\n",
              "      <td>0.186582</td>\n",
              "      <td>0.454372</td>\n",
              "      <td>0.956797</td>\n",
              "      <td>0.195941</td>\n",
              "      <td>0.896806</td>\n",
              "      <td>0.187915</td>\n",
              "      <td>0.804145</td>\n",
              "      <td>0.936916</td>\n",
              "      <td>0.450893</td>\n",
              "      <td>0.827626</td>\n",
              "      <td>0.840756</td>\n",
              "      <td>0.988121</td>\n",
              "      <td>0.772939</td>\n",
              "      <td>0.546447</td>\n",
              "      <td>0.934594</td>\n",
              "      <td>0.830763</td>\n",
              "      <td>0.229860</td>\n",
              "      <td>0.952130</td>\n",
              "      <td>0.642286</td>\n",
              "      <td>0.728199</td>\n",
              "      <td>0.800623</td>\n",
              "      <td>0.916480</td>\n",
              "      <td>0.717962</td>\n",
              "      <td>0.065964</td>\n",
              "      <td>0.693766</td>\n",
              "    </tr>\n",
              "    <tr>\n",
              "      <th>2311</th>\n",
              "      <td>2020/5/12</td>\n",
              "      <td>0.376079</td>\n",
              "      <td>0.478009</td>\n",
              "      <td>0.457398</td>\n",
              "      <td>0.416799</td>\n",
              "      <td>0.176953</td>\n",
              "      <td>0.431215</td>\n",
              "      <td>0.944038</td>\n",
              "      <td>0.173728</td>\n",
              "      <td>0.898117</td>\n",
              "      <td>0.170483</td>\n",
              "      <td>0.771675</td>\n",
              "      <td>0.933159</td>\n",
              "      <td>0.436545</td>\n",
              "      <td>0.816553</td>\n",
              "      <td>0.809607</td>\n",
              "      <td>0.962483</td>\n",
              "      <td>0.761369</td>\n",
              "      <td>0.520362</td>\n",
              "      <td>0.914461</td>\n",
              "      <td>0.795455</td>\n",
              "      <td>0.210609</td>\n",
              "      <td>0.935380</td>\n",
              "      <td>0.616112</td>\n",
              "      <td>0.698907</td>\n",
              "      <td>0.774356</td>\n",
              "      <td>0.891112</td>\n",
              "      <td>0.693766</td>\n",
              "      <td>0.062037</td>\n",
              "      <td>0.666416</td>\n",
              "    </tr>\n",
              "  </tbody>\n",
              "</table>\n",
              "<p>2312 rows × 30 columns</p>\n",
              "</div>"
            ],
            "text/plain": [
              "           Date       MMM        KO  ...       DOW        BP         y\n",
              "0      2011/3/7  0.114385  0.061712  ...  0.075927  0.930465  0.082508\n",
              "1      2011/3/8  0.121577  0.068871  ...  0.082508  0.879764  0.082440\n",
              "2      2011/3/9  0.118487  0.068531  ...  0.082440  0.879943  0.070348\n",
              "3     2011/3/10  0.101652  0.062905  ...  0.070348  0.871463  0.073512\n",
              "4     2011/3/11  0.110176  0.054722  ...  0.073512  0.857806  0.070801\n",
              "...         ...       ...       ...  ...       ...       ...       ...\n",
              "2307   2020/5/6  0.401012  0.475622  ...  0.688466  0.066679  0.699646\n",
              "2308   2020/5/7  0.398562  0.470508  ...  0.699646  0.070963  0.723748\n",
              "2309   2020/5/8  0.413319  0.521991  ...  0.723748  0.070695  0.717962\n",
              "2310  2020/5/11  0.398508  0.502557  ...  0.717962  0.065964  0.693766\n",
              "2311  2020/5/12  0.376079  0.478009  ...  0.693766  0.062037  0.666416\n",
              "\n",
              "[2312 rows x 30 columns]"
            ]
          },
          "metadata": {
            "tags": []
          },
          "execution_count": 161
        }
      ]
    },
    {
      "cell_type": "code",
      "metadata": {
        "id": "Z4mB1vFfRnoF",
        "colab_type": "code",
        "colab": {}
      },
      "source": [
        "df1.drop(['Date'], axis=1, inplace=True)"
      ],
      "execution_count": 0,
      "outputs": []
    },
    {
      "cell_type": "code",
      "metadata": {
        "id": "jpTYkmTiRpjV",
        "colab_type": "code",
        "colab": {}
      },
      "source": [
        "df2.drop(['Date'], axis=1, inplace=True)"
      ],
      "execution_count": 0,
      "outputs": []
    },
    {
      "cell_type": "code",
      "metadata": {
        "id": "aL_KhV2_3GFG",
        "colab_type": "code",
        "colab": {
          "base_uri": "https://localhost:8080/",
          "height": 34
        },
        "outputId": "69ffdd39-ebb4-46c3-9be7-e040f78ec704"
      },
      "source": [
        "df1.shape"
      ],
      "execution_count": 164,
      "outputs": [
        {
          "output_type": "execute_result",
          "data": {
            "text/plain": [
              "(5999, 29)"
            ]
          },
          "metadata": {
            "tags": []
          },
          "execution_count": 164
        }
      ]
    },
    {
      "cell_type": "code",
      "metadata": {
        "id": "xmSZ-WnvRrKA",
        "colab_type": "code",
        "outputId": "84f1d392-ff0d-4ed1-8e11-86e0b79f4948",
        "colab": {
          "base_uri": "https://localhost:8080/",
          "height": 34
        }
      },
      "source": [
        "df2.shape"
      ],
      "execution_count": 165,
      "outputs": [
        {
          "output_type": "execute_result",
          "data": {
            "text/plain": [
              "(2312, 29)"
            ]
          },
          "metadata": {
            "tags": []
          },
          "execution_count": 165
        }
      ]
    },
    {
      "cell_type": "markdown",
      "metadata": {
        "id": "rUxGiI9rW8oz",
        "colab_type": "text"
      },
      "source": [
        "### 建立LSTM模型，LSTM輸入必須是三維的，我們可以把一個二維序列映射成有5個樣本、時間步長為5、28個特徵的三維序列，主要使用兩層lstm以及兩層dense進行預測，activation function 選擇sigmoid，在利用TimeDistributed層來處理LSTM隱藏層的輸出，解決序列預測問題。\n",
        "\n",
        "1. 輸入必須(至少)是三維的。這就意味著需要在TimeDistributed包裝密集層前配置最後一個LSTM層以便返回序列(例如將「return_sequences」參數設置為「True」)\n",
        "2. 輸出將也是三維的。如果TimeDistributed包裝密集層是輸出層，並且是用於預測序列，那麼就得將y數組的大小調整成三維的向量。\n",
        "3. 通過將「return_sequences」參數設置為「True」來定義LSTM隱藏層返回序列而不是單獨的一個值。\n",
        "4. 之後在使用Flatten 壓縮回二維\n",
        "\n",
        "\n",
        "### 定義一個每次有1個輸入的網絡模型，第一個隱藏層是有5個神經元的DENSEs，輸出層是只有一個輸出的全連接層，模型採用有效的ADAM優化算法，均方差誤差作為損失函數。"
      ]
    },
    {
      "cell_type": "code",
      "metadata": {
        "id": "v15K8MhQRuCd",
        "colab_type": "code",
        "colab": {}
      },
      "source": [
        "X_train, Y_train = train_windows(df1, 5, 1)\n",
        "X_test, Y_test = train_windows(df2, 5, 1)"
      ],
      "execution_count": 0,
      "outputs": []
    },
    {
      "cell_type": "code",
      "metadata": {
        "id": "-2QSQKgo3XT7",
        "colab_type": "code",
        "colab": {}
      },
      "source": [
        "def train_windows(df, ref_day=5, predict_day=1):\n",
        "    X_train, Y_train = [], []\n",
        "    for i in range(df.shape[0]-predict_day-ref_day):\n",
        "        X_train.append(np.array(df[i:i+ref_day,:-1]))\n",
        "        Y_train.append(np.array(df[i+ref_day:i+ref_day+predict_day][\"y\"]))\n",
        "    return np.array(X_train), np.array(Y_train)"
      ],
      "execution_count": 0,
      "outputs": []
    },
    {
      "cell_type": "code",
      "metadata": {
        "id": "RQAmbWAarHHZ",
        "colab_type": "code",
        "colab": {
          "base_uri": "https://localhost:8080/",
          "height": 34
        },
        "outputId": "cd9c6ec3-fb89-49c4-96b2-edd244376e58"
      },
      "source": [
        "X_train.shape"
      ],
      "execution_count": 168,
      "outputs": [
        {
          "output_type": "execute_result",
          "data": {
            "text/plain": [
              "(5993, 5, 28)"
            ]
          },
          "metadata": {
            "tags": []
          },
          "execution_count": 168
        }
      ]
    },
    {
      "cell_type": "code",
      "metadata": {
        "id": "ltsd9NTurSsa",
        "colab_type": "code",
        "colab": {
          "base_uri": "https://localhost:8080/",
          "height": 34
        },
        "outputId": "b6e045e1-33de-4991-968b-f486cfb0d085"
      },
      "source": [
        "Y_train.shape"
      ],
      "execution_count": 169,
      "outputs": [
        {
          "output_type": "execute_result",
          "data": {
            "text/plain": [
              "(5993, 1)"
            ]
          },
          "metadata": {
            "tags": []
          },
          "execution_count": 169
        }
      ]
    },
    {
      "cell_type": "code",
      "metadata": {
        "id": "3upSXLfSRsLQ",
        "colab_type": "code",
        "colab": {}
      },
      "source": [
        "def lstm_stock_model(shape):\n",
        "    model = Sequential()\n",
        "    model.add(LSTM(256, input_shape=(shape[1], shape[2]), return_sequences=True))\n",
        "    model.add(LSTM(256, return_sequences=True))\n",
        "    model.add(TimeDistributed(Dense(1)))\n",
        "    model.add(Flatten())\n",
        "    model.add(Dense(5,activation='tanh'))\n",
        "    model.add(Dense(1,activation='tanh'))\n",
        "    model.compile(loss=\"MAE\", optimizer=\"adam\",metrics=['mean_absolute_error'])\n",
        "    model.summary()\n",
        "    return model\n"
      ],
      "execution_count": 0,
      "outputs": []
    },
    {
      "cell_type": "code",
      "metadata": {
        "id": "P3YsKKLsRvI_",
        "colab_type": "code",
        "outputId": "88117266-529b-4bca-c119-f720c013af5a",
        "colab": {
          "base_uri": "https://localhost:8080/",
          "height": 357
        }
      },
      "source": [
        "model = lstm_stock_model(X_train.shape)\n",
        "callback = EarlyStopping(monitor=\"mean_absolute_error\", patience=10, verbose=5, mode=\"auto\")"
      ],
      "execution_count": 172,
      "outputs": [
        {
          "output_type": "stream",
          "text": [
            "Model: \"sequential_2\"\n",
            "_________________________________________________________________\n",
            "Layer (type)                 Output Shape              Param #   \n",
            "=================================================================\n",
            "lstm_3 (LSTM)                (None, 5, 256)            291840    \n",
            "_________________________________________________________________\n",
            "lstm_4 (LSTM)                (None, 5, 256)            525312    \n",
            "_________________________________________________________________\n",
            "time_distributed_2 (TimeDist (None, 5, 1)              257       \n",
            "_________________________________________________________________\n",
            "flatten_2 (Flatten)          (None, 5)                 0         \n",
            "_________________________________________________________________\n",
            "dense_5 (Dense)              (None, 5)                 30        \n",
            "_________________________________________________________________\n",
            "dense_6 (Dense)              (None, 1)                 6         \n",
            "=================================================================\n",
            "Total params: 817,445\n",
            "Trainable params: 817,445\n",
            "Non-trainable params: 0\n",
            "_________________________________________________________________\n"
          ],
          "name": "stdout"
        }
      ]
    },
    {
      "cell_type": "markdown",
      "metadata": {
        "id": "ju3yZPIiXSGn",
        "colab_type": "text"
      },
      "source": [
        "### 訓練資料"
      ]
    },
    {
      "cell_type": "code",
      "metadata": {
        "id": "UMMF1mn1RzU7",
        "colab_type": "code",
        "outputId": "4856f65c-210b-41dd-a9b7-1f19d83869ae",
        "colab": {
          "base_uri": "https://localhost:8080/",
          "height": 394
        }
      },
      "source": [
        "history = model.fit(X_train, Y_train, epochs=10, batch_size=1, validation_split=0.1, callbacks=[callback],shuffle=True)"
      ],
      "execution_count": 176,
      "outputs": [
        {
          "output_type": "stream",
          "text": [
            "Train on 5393 samples, validate on 600 samples\n",
            "Epoch 1/10\n",
            "5393/5393 [==============================] - 227s 42ms/step - loss: 0.0195 - mean_absolute_error: 0.0195 - val_loss: 0.0841 - val_mean_absolute_error: 0.0841\n",
            "Epoch 2/10\n",
            "5393/5393 [==============================] - 227s 42ms/step - loss: 0.0170 - mean_absolute_error: 0.0170 - val_loss: 0.0980 - val_mean_absolute_error: 0.0980\n",
            "Epoch 3/10\n",
            "5393/5393 [==============================] - 227s 42ms/step - loss: 0.0164 - mean_absolute_error: 0.0164 - val_loss: 0.1096 - val_mean_absolute_error: 0.1096\n",
            "Epoch 4/10\n",
            "5393/5393 [==============================] - 229s 42ms/step - loss: 0.0157 - mean_absolute_error: 0.0157 - val_loss: 0.0976 - val_mean_absolute_error: 0.0976\n",
            "Epoch 5/10\n",
            "5393/5393 [==============================] - 231s 43ms/step - loss: 0.0153 - mean_absolute_error: 0.0153 - val_loss: 0.0781 - val_mean_absolute_error: 0.0781\n",
            "Epoch 6/10\n",
            "5393/5393 [==============================] - 230s 43ms/step - loss: 0.0146 - mean_absolute_error: 0.0146 - val_loss: 0.0936 - val_mean_absolute_error: 0.0936\n",
            "Epoch 7/10\n",
            "5393/5393 [==============================] - 227s 42ms/step - loss: 0.0142 - mean_absolute_error: 0.0142 - val_loss: 0.0928 - val_mean_absolute_error: 0.0928\n",
            "Epoch 8/10\n",
            "5393/5393 [==============================] - 227s 42ms/step - loss: 0.0146 - mean_absolute_error: 0.0146 - val_loss: 0.0595 - val_mean_absolute_error: 0.0595\n",
            "Epoch 9/10\n",
            "5393/5393 [==============================] - 227s 42ms/step - loss: 0.0135 - mean_absolute_error: 0.0135 - val_loss: 0.0766 - val_mean_absolute_error: 0.0766\n",
            "Epoch 10/10\n",
            "5393/5393 [==============================] - 227s 42ms/step - loss: 0.0133 - mean_absolute_error: 0.0133 - val_loss: 0.0537 - val_mean_absolute_error: 0.0537\n"
          ],
          "name": "stdout"
        }
      ]
    },
    {
      "cell_type": "markdown",
      "metadata": {
        "id": "l_gNwsXtXm-x",
        "colab_type": "text"
      },
      "source": [
        "### 將損失函數讀出來"
      ]
    },
    {
      "cell_type": "code",
      "metadata": {
        "id": "XLV9j-m34MPZ",
        "colab_type": "code",
        "outputId": "a09b1eea-5899-4b65-9576-9360711e9d5c",
        "colab": {
          "base_uri": "https://localhost:8080/",
          "height": 282
        }
      },
      "source": [
        "plt.plot(history.history['loss'])"
      ],
      "execution_count": 177,
      "outputs": [
        {
          "output_type": "execute_result",
          "data": {
            "text/plain": [
              "[<matplotlib.lines.Line2D at 0x7ff9190f8438>]"
            ]
          },
          "metadata": {
            "tags": []
          },
          "execution_count": 177
        },
        {
          "output_type": "display_data",
          "data": {
            "image/png": "[encoded data removed]",
            "text/plain": [
              "<Figure size 432x288 with 1 Axes>"
            ]
          },
          "metadata": {
            "tags": [],
            "needs_background": "light"
          }
        }
      ]
    },
    {
      "cell_type": "markdown",
      "metadata": {
        "id": "HRWdcstlXsXE",
        "colab_type": "text"
      },
      "source": [
        "## 劃出預測結果"
      ]
    },
    {
      "cell_type": "code",
      "metadata": {
        "id": "2ZUUqc5W4O9B",
        "colab_type": "code",
        "colab": {}
      },
      "source": [
        "real_stock_price = Y_test"
      ],
      "execution_count": 0,
      "outputs": []
    },
    {
      "cell_type": "code",
      "metadata": {
        "id": "SosefC3b4SDX",
        "colab_type": "code",
        "outputId": "22351e37-4763-4b8c-b932-8bdf982a4e2f",
        "colab": {
          "base_uri": "https://localhost:8080/",
          "height": 136
        }
      },
      "source": [
        "real_stock_price"
      ],
      "execution_count": 179,
      "outputs": [
        {
          "output_type": "execute_result",
          "data": {
            "text/plain": [
              "array([[0.06351146],\n",
              "       [0.05069824],\n",
              "       [0.05923385],\n",
              "       ...,\n",
              "       [0.72374754],\n",
              "       [0.71796169],\n",
              "       [0.69376567]])"
            ]
          },
          "metadata": {
            "tags": []
          },
          "execution_count": 179
        }
      ]
    },
    {
      "cell_type": "code",
      "metadata": {
        "id": "OXQ0J6gx4TdY",
        "colab_type": "code",
        "outputId": "b0d9cda3-5a8c-44f5-ccc7-9dce61a1a72b",
        "colab": {
          "base_uri": "https://localhost:8080/",
          "height": 282
        }
      },
      "source": [
        "plt.plot(real_stock_price, color = 'black', label = 'DOW Stock Price')"
      ],
      "execution_count": 180,
      "outputs": [
        {
          "output_type": "execute_result",
          "data": {
            "text/plain": [
              "[<matplotlib.lines.Line2D at 0x7ff9190d9518>]"
            ]
          },
          "metadata": {
            "tags": []
          },
          "execution_count": 180
        },
        {
          "output_type": "display_data",
          "data": {
            "image/png": "[encoded data removed]",
            "text/plain": [
              "<Figure size 432x288 with 1 Axes>"
            ]
          },
          "metadata": {
            "tags": [],
            "needs_background": "light"
          }
        }
      ]
    },
    {
      "cell_type": "code",
      "metadata": {
        "id": "3A5Vtu7q4U0z",
        "colab_type": "code",
        "colab": {}
      },
      "source": [
        "predicted_stock_price = model.predict(X_test)"
      ],
      "execution_count": 0,
      "outputs": []
    },
    {
      "cell_type": "code",
      "metadata": {
        "id": "_si7FF3L4WO_",
        "colab_type": "code",
        "outputId": "9693a58a-21d5-4462-cfa0-8e92e005267e",
        "colab": {
          "base_uri": "https://localhost:8080/",
          "height": 282
        }
      },
      "source": [
        "plt.plot(predicted_stock_price, color = 'green', label = 'Predicted DOW Stock Price')"
      ],
      "execution_count": 182,
      "outputs": [
        {
          "output_type": "execute_result",
          "data": {
            "text/plain": [
              "[<matplotlib.lines.Line2D at 0x7ff918f06160>]"
            ]
          },
          "metadata": {
            "tags": []
          },
          "execution_count": 182
        },
        {
          "output_type": "display_data",
          "data": {
            "image/png": "[encoded data removed]",
            "text/plain": [
              "<Figure size 432x288 with 1 Axes>"
            ]
          },
          "metadata": {
            "tags": [],
            "needs_background": "light"
          }
        }
      ]
    },
    {
      "cell_type": "markdown",
      "metadata": {
        "id": "CL-awUdAX3Ej",
        "colab_type": "text"
      },
      "source": [
        "## 可以發現預測結果跟實際的Dow 指數漲跌大多數的時候其實是同步的，代表我們用前五天訓練的結果來預測第六天漲跌效果還不錯。\n",
        "## 從上圖仔細看的，可看出上下偏移有時候問題其實蠻嚴重的，從視覺化來看還好，但是如果在想完全照這個方式去做股票買賣一定會造成很大問題，所以目前只建了漲跌預測比對。"
      ]
    },
    {
      "cell_type": "code",
      "metadata": {
        "id": "7D-AD-094XmT",
        "colab_type": "code",
        "outputId": "a5c96841-edda-4c9e-eeff-549fd8f522b3",
        "colab": {
          "base_uri": "https://localhost:8080/",
          "height": 295
        }
      },
      "source": [
        "plt.plot(real_stock_price, color = 'black', label = 'DOW Stock Price')\n",
        "plt.plot(predicted_stock_price, color = 'green', label = 'Predicted DOW Stock Price')\n",
        "plt.title('DOW Stock Price Prediction')\n",
        "plt.xlabel('Time')\n",
        "plt.ylabel('DOW Stock Price')\n",
        "plt.show()"
      ],
      "execution_count": 183,
      "outputs": [
        {
          "output_type": "display_data",
          "data": {
            "image/png": "[encoded data removed]",
            "text/plain": [
              "<Figure size 432x288 with 1 Axes>"
            ]
          },
          "metadata": {
            "tags": [],
            "needs_background": "light"
          }
        }
      ]
    },
    {
      "cell_type": "code",
      "metadata": {
        "id": "9_6cJ4jLyp6q",
        "colab_type": "code",
        "colab": {}
      },
      "source": [
        "data=pd.DataFrame({'Real':real_stock_price.flatten(),'Predicted':predicted_stock_price.flatten()})"
      ],
      "execution_count": 0,
      "outputs": []
    },
    {
      "cell_type": "code",
      "metadata": {
        "id": "zidA2H5vzWSx",
        "colab_type": "code",
        "colab": {
          "base_uri": "https://localhost:8080/",
          "height": 359
        },
        "outputId": "c82bfab6-84e3-4d4b-8a9f-1358b9be96a7"
      },
      "source": [
        "data.tail(10)"
      ],
      "execution_count": 203,
      "outputs": [
        {
          "output_type": "execute_result",
          "data": {
            "text/html": [
              "<div>\n",
              "<style scoped>\n",
              "    .dataframe tbody tr th:only-of-type {\n",
              "        vertical-align: middle;\n",
              "    }\n",
              "\n",
              "    .dataframe tbody tr th {\n",
              "        vertical-align: top;\n",
              "    }\n",
              "\n",
              "    .dataframe thead th {\n",
              "        text-align: right;\n",
              "    }\n",
              "</style>\n",
              "<table border=\"1\" class=\"dataframe\">\n",
              "  <thead>\n",
              "    <tr style=\"text-align: right;\">\n",
              "      <th></th>\n",
              "      <th>Real</th>\n",
              "      <th>Predicted</th>\n",
              "    </tr>\n",
              "  </thead>\n",
              "  <tbody>\n",
              "    <tr>\n",
              "      <th>2296</th>\n",
              "      <td>0.739758</td>\n",
              "      <td>0.735065</td>\n",
              "    </tr>\n",
              "    <tr>\n",
              "      <th>2297</th>\n",
              "      <td>0.724510</td>\n",
              "      <td>0.748542</td>\n",
              "    </tr>\n",
              "    <tr>\n",
              "      <th>2298</th>\n",
              "      <td>0.691591</td>\n",
              "      <td>0.766710</td>\n",
              "    </tr>\n",
              "    <tr>\n",
              "      <th>2299</th>\n",
              "      <td>0.692971</td>\n",
              "      <td>0.765692</td>\n",
              "    </tr>\n",
              "    <tr>\n",
              "      <th>2300</th>\n",
              "      <td>0.700027</td>\n",
              "      <td>0.738329</td>\n",
              "    </tr>\n",
              "    <tr>\n",
              "      <th>2301</th>\n",
              "      <td>0.688466</td>\n",
              "      <td>0.731765</td>\n",
              "    </tr>\n",
              "    <tr>\n",
              "      <th>2302</th>\n",
              "      <td>0.699646</td>\n",
              "      <td>0.734966</td>\n",
              "    </tr>\n",
              "    <tr>\n",
              "      <th>2303</th>\n",
              "      <td>0.723748</td>\n",
              "      <td>0.726011</td>\n",
              "    </tr>\n",
              "    <tr>\n",
              "      <th>2304</th>\n",
              "      <td>0.717962</td>\n",
              "      <td>0.719696</td>\n",
              "    </tr>\n",
              "    <tr>\n",
              "      <th>2305</th>\n",
              "      <td>0.693766</td>\n",
              "      <td>0.728799</td>\n",
              "    </tr>\n",
              "  </tbody>\n",
              "</table>\n",
              "</div>"
            ],
            "text/plain": [
              "          Real  Predicted\n",
              "2296  0.739758   0.735065\n",
              "2297  0.724510   0.748542\n",
              "2298  0.691591   0.766710\n",
              "2299  0.692971   0.765692\n",
              "2300  0.700027   0.738329\n",
              "2301  0.688466   0.731765\n",
              "2302  0.699646   0.734966\n",
              "2303  0.723748   0.726011\n",
              "2304  0.717962   0.719696\n",
              "2305  0.693766   0.728799"
            ]
          },
          "metadata": {
            "tags": []
          },
          "execution_count": 203
        }
      ]
    },
    {
      "cell_type": "code",
      "metadata": {
        "id": "hE47P-5JNEzF",
        "colab_type": "code",
        "colab": {}
      },
      "source": [
        "data[\"Real_Return\"] = data[\"Real\"].shift(-1)\n",
        "data[\"Predicted_Return\"] = data[\"Predicted\"].shift(-1)\n",
        "data = data.dropna()"
      ],
      "execution_count": 0,
      "outputs": []
    },
    {
      "cell_type": "code",
      "metadata": {
        "id": "B0WPYXIWNZb8",
        "colab_type": "code",
        "colab": {}
      },
      "source": [
        "data[\"Real_Return2\"] = data[\"Real_Return\"]-data[\"Real\"]\n",
        "data[\"Predicted_Return2\"] = data[\"Predicted_Return\"]-data[\"Predicted\"]\n"
      ],
      "execution_count": 0,
      "outputs": []
    },
    {
      "cell_type": "code",
      "metadata": {
        "id": "OTpKulHdNhQf",
        "colab_type": "code",
        "colab": {
          "base_uri": "https://localhost:8080/",
          "height": 419
        },
        "outputId": "674c8c07-4715-4351-ef29-c05b16171d1d"
      },
      "source": [
        "\n",
        "data[(data[\"Real_Return2\"]>0) & (data[\"Predicted_Return2\"]>0)]\n"
      ],
      "execution_count": 208,
      "outputs": [
        {
          "output_type": "execute_result",
          "data": {
            "text/html": [
              "<div>\n",
              "<style scoped>\n",
              "    .dataframe tbody tr th:only-of-type {\n",
              "        vertical-align: middle;\n",
              "    }\n",
              "\n",
              "    .dataframe tbody tr th {\n",
              "        vertical-align: top;\n",
              "    }\n",
              "\n",
              "    .dataframe thead th {\n",
              "        text-align: right;\n",
              "    }\n",
              "</style>\n",
              "<table border=\"1\" class=\"dataframe\">\n",
              "  <thead>\n",
              "    <tr style=\"text-align: right;\">\n",
              "      <th></th>\n",
              "      <th>Real</th>\n",
              "      <th>Predicted</th>\n",
              "      <th>Real_Return</th>\n",
              "      <th>Predicted_Return</th>\n",
              "      <th>Real_Return2</th>\n",
              "      <th>Predicted_Return2</th>\n",
              "    </tr>\n",
              "  </thead>\n",
              "  <tbody>\n",
              "    <tr>\n",
              "      <th>3</th>\n",
              "      <td>0.063675</td>\n",
              "      <td>0.139509</td>\n",
              "      <td>0.073096</td>\n",
              "      <td>0.149150</td>\n",
              "      <td>0.009420</td>\n",
              "      <td>0.009641</td>\n",
              "    </tr>\n",
              "    <tr>\n",
              "      <th>7</th>\n",
              "      <td>0.080189</td>\n",
              "      <td>0.118195</td>\n",
              "      <td>0.082837</td>\n",
              "      <td>0.127830</td>\n",
              "      <td>0.002648</td>\n",
              "      <td>0.009635</td>\n",
              "    </tr>\n",
              "    <tr>\n",
              "      <th>9</th>\n",
              "      <td>0.081635</td>\n",
              "      <td>0.137959</td>\n",
              "      <td>0.085928</td>\n",
              "      <td>0.151695</td>\n",
              "      <td>0.004293</td>\n",
              "      <td>0.013736</td>\n",
              "    </tr>\n",
              "    <tr>\n",
              "      <th>12</th>\n",
              "      <td>0.088083</td>\n",
              "      <td>0.151470</td>\n",
              "      <td>0.091099</td>\n",
              "      <td>0.157172</td>\n",
              "      <td>0.003016</td>\n",
              "      <td>0.005702</td>\n",
              "    </tr>\n",
              "    <tr>\n",
              "      <th>13</th>\n",
              "      <td>0.091099</td>\n",
              "      <td>0.157172</td>\n",
              "      <td>0.092333</td>\n",
              "      <td>0.160692</td>\n",
              "      <td>0.001234</td>\n",
              "      <td>0.003521</td>\n",
              "    </tr>\n",
              "    <tr>\n",
              "      <th>...</th>\n",
              "      <td>...</td>\n",
              "      <td>...</td>\n",
              "      <td>...</td>\n",
              "      <td>...</td>\n",
              "      <td>...</td>\n",
              "      <td>...</td>\n",
              "    </tr>\n",
              "    <tr>\n",
              "      <th>2286</th>\n",
              "      <td>0.679983</td>\n",
              "      <td>0.734281</td>\n",
              "      <td>0.681747</td>\n",
              "      <td>0.742996</td>\n",
              "      <td>0.001764</td>\n",
              "      <td>0.008716</td>\n",
              "    </tr>\n",
              "    <tr>\n",
              "      <th>2292</th>\n",
              "      <td>0.680561</td>\n",
              "      <td>0.719038</td>\n",
              "      <td>0.694321</td>\n",
              "      <td>0.719848</td>\n",
              "      <td>0.013760</td>\n",
              "      <td>0.000811</td>\n",
              "    </tr>\n",
              "    <tr>\n",
              "      <th>2293</th>\n",
              "      <td>0.694321</td>\n",
              "      <td>0.719848</td>\n",
              "      <td>0.713293</td>\n",
              "      <td>0.725812</td>\n",
              "      <td>0.018973</td>\n",
              "      <td>0.005964</td>\n",
              "    </tr>\n",
              "    <tr>\n",
              "      <th>2295</th>\n",
              "      <td>0.711588</td>\n",
              "      <td>0.726637</td>\n",
              "      <td>0.739758</td>\n",
              "      <td>0.735065</td>\n",
              "      <td>0.028170</td>\n",
              "      <td>0.008428</td>\n",
              "    </tr>\n",
              "    <tr>\n",
              "      <th>2301</th>\n",
              "      <td>0.688466</td>\n",
              "      <td>0.731765</td>\n",
              "      <td>0.699646</td>\n",
              "      <td>0.734966</td>\n",
              "      <td>0.011180</td>\n",
              "      <td>0.003201</td>\n",
              "    </tr>\n",
              "  </tbody>\n",
              "</table>\n",
              "<p>661 rows × 6 columns</p>\n",
              "</div>"
            ],
            "text/plain": [
              "          Real  Predicted  ...  Real_Return2  Predicted_Return2\n",
              "3     0.063675   0.139509  ...      0.009420           0.009641\n",
              "7     0.080189   0.118195  ...      0.002648           0.009635\n",
              "9     0.081635   0.137959  ...      0.004293           0.013736\n",
              "12    0.088083   0.151470  ...      0.003016           0.005702\n",
              "13    0.091099   0.157172  ...      0.001234           0.003521\n",
              "...        ...        ...  ...           ...                ...\n",
              "2286  0.679983   0.734281  ...      0.001764           0.008716\n",
              "2292  0.680561   0.719038  ...      0.013760           0.000811\n",
              "2293  0.694321   0.719848  ...      0.018973           0.005964\n",
              "2295  0.711588   0.726637  ...      0.028170           0.008428\n",
              "2301  0.688466   0.731765  ...      0.011180           0.003201\n",
              "\n",
              "[661 rows x 6 columns]"
            ]
          },
          "metadata": {
            "tags": []
          },
          "execution_count": 208
        }
      ]
    },
    {
      "cell_type": "code",
      "metadata": {
        "id": "bO628Yu3PAMI",
        "colab_type": "code",
        "colab": {
          "base_uri": "https://localhost:8080/",
          "height": 419
        },
        "outputId": "1aca966d-82c7-4d64-c992-26c7d3de93fb"
      },
      "source": [
        "data[(data[\"Real_Return2\"]<0) & (data[\"Predicted_Return2\"]<0)]\n"
      ],
      "execution_count": 209,
      "outputs": [
        {
          "output_type": "execute_result",
          "data": {
            "text/html": [
              "<div>\n",
              "<style scoped>\n",
              "    .dataframe tbody tr th:only-of-type {\n",
              "        vertical-align: middle;\n",
              "    }\n",
              "\n",
              "    .dataframe tbody tr th {\n",
              "        vertical-align: top;\n",
              "    }\n",
              "\n",
              "    .dataframe thead th {\n",
              "        text-align: right;\n",
              "    }\n",
              "</style>\n",
              "<table border=\"1\" class=\"dataframe\">\n",
              "  <thead>\n",
              "    <tr style=\"text-align: right;\">\n",
              "      <th></th>\n",
              "      <th>Real</th>\n",
              "      <th>Predicted</th>\n",
              "      <th>Real_Return</th>\n",
              "      <th>Predicted_Return</th>\n",
              "      <th>Real_Return2</th>\n",
              "      <th>Predicted_Return2</th>\n",
              "    </tr>\n",
              "  </thead>\n",
              "  <tbody>\n",
              "    <tr>\n",
              "      <th>4</th>\n",
              "      <td>0.073096</td>\n",
              "      <td>0.149150</td>\n",
              "      <td>0.072149</td>\n",
              "      <td>0.148061</td>\n",
              "      <td>-0.000947</td>\n",
              "      <td>-0.001089</td>\n",
              "    </tr>\n",
              "    <tr>\n",
              "      <th>14</th>\n",
              "      <td>0.092333</td>\n",
              "      <td>0.160692</td>\n",
              "      <td>0.092008</td>\n",
              "      <td>0.158168</td>\n",
              "      <td>-0.000324</td>\n",
              "      <td>-0.002524</td>\n",
              "    </tr>\n",
              "    <tr>\n",
              "      <th>17</th>\n",
              "      <td>0.092833</td>\n",
              "      <td>0.169863</td>\n",
              "      <td>0.091275</td>\n",
              "      <td>0.168277</td>\n",
              "      <td>-0.001558</td>\n",
              "      <td>-0.001586</td>\n",
              "    </tr>\n",
              "    <tr>\n",
              "      <th>23</th>\n",
              "      <td>0.089253</td>\n",
              "      <td>0.176138</td>\n",
              "      <td>0.081831</td>\n",
              "      <td>0.174024</td>\n",
              "      <td>-0.007422</td>\n",
              "      <td>-0.002114</td>\n",
              "    </tr>\n",
              "    <tr>\n",
              "      <th>39</th>\n",
              "      <td>0.111402</td>\n",
              "      <td>0.221537</td>\n",
              "      <td>0.104505</td>\n",
              "      <td>0.217909</td>\n",
              "      <td>-0.006897</td>\n",
              "      <td>-0.003628</td>\n",
              "    </tr>\n",
              "    <tr>\n",
              "      <th>...</th>\n",
              "      <td>...</td>\n",
              "      <td>...</td>\n",
              "      <td>...</td>\n",
              "      <td>...</td>\n",
              "      <td>...</td>\n",
              "      <td>...</td>\n",
              "    </tr>\n",
              "    <tr>\n",
              "      <th>2269</th>\n",
              "      <td>0.450816</td>\n",
              "      <td>0.599062</td>\n",
              "      <td>0.420014</td>\n",
              "      <td>0.589417</td>\n",
              "      <td>-0.030803</td>\n",
              "      <td>-0.009646</td>\n",
              "    </tr>\n",
              "    <tr>\n",
              "      <th>2280</th>\n",
              "      <td>0.636358</td>\n",
              "      <td>0.636335</td>\n",
              "      <td>0.634975</td>\n",
              "      <td>0.629976</td>\n",
              "      <td>-0.001383</td>\n",
              "      <td>-0.006359</td>\n",
              "    </tr>\n",
              "    <tr>\n",
              "      <th>2288</th>\n",
              "      <td>0.719047</td>\n",
              "      <td>0.738507</td>\n",
              "      <td>0.687715</td>\n",
              "      <td>0.732708</td>\n",
              "      <td>-0.031332</td>\n",
              "      <td>-0.005799</td>\n",
              "    </tr>\n",
              "    <tr>\n",
              "      <th>2300</th>\n",
              "      <td>0.700027</td>\n",
              "      <td>0.738329</td>\n",
              "      <td>0.688466</td>\n",
              "      <td>0.731765</td>\n",
              "      <td>-0.011561</td>\n",
              "      <td>-0.006564</td>\n",
              "    </tr>\n",
              "    <tr>\n",
              "      <th>2303</th>\n",
              "      <td>0.723748</td>\n",
              "      <td>0.726011</td>\n",
              "      <td>0.717962</td>\n",
              "      <td>0.719696</td>\n",
              "      <td>-0.005786</td>\n",
              "      <td>-0.006315</td>\n",
              "    </tr>\n",
              "  </tbody>\n",
              "</table>\n",
              "<p>488 rows × 6 columns</p>\n",
              "</div>"
            ],
            "text/plain": [
              "          Real  Predicted  ...  Real_Return2  Predicted_Return2\n",
              "4     0.073096   0.149150  ...     -0.000947          -0.001089\n",
              "14    0.092333   0.160692  ...     -0.000324          -0.002524\n",
              "17    0.092833   0.169863  ...     -0.001558          -0.001586\n",
              "23    0.089253   0.176138  ...     -0.007422          -0.002114\n",
              "39    0.111402   0.221537  ...     -0.006897          -0.003628\n",
              "...        ...        ...  ...           ...                ...\n",
              "2269  0.450816   0.599062  ...     -0.030803          -0.009646\n",
              "2280  0.636358   0.636335  ...     -0.001383          -0.006359\n",
              "2288  0.719047   0.738507  ...     -0.031332          -0.005799\n",
              "2300  0.700027   0.738329  ...     -0.011561          -0.006564\n",
              "2303  0.723748   0.726011  ...     -0.005786          -0.006315\n",
              "\n",
              "[488 rows x 6 columns]"
            ]
          },
          "metadata": {
            "tags": []
          },
          "execution_count": 209
        }
      ]
    },
    {
      "cell_type": "code",
      "metadata": {
        "id": "Jeq263PDNvrL",
        "colab_type": "code",
        "colab": {
          "base_uri": "https://localhost:8080/",
          "height": 419
        },
        "outputId": "e6149954-6a53-439b-ee41-7d64de3c5106"
      },
      "source": [
        "df3"
      ],
      "execution_count": 210,
      "outputs": [
        {
          "output_type": "execute_result",
          "data": {
            "text/html": [
              "<div>\n",
              "<style scoped>\n",
              "    .dataframe tbody tr th:only-of-type {\n",
              "        vertical-align: middle;\n",
              "    }\n",
              "\n",
              "    .dataframe tbody tr th {\n",
              "        vertical-align: top;\n",
              "    }\n",
              "\n",
              "    .dataframe thead th {\n",
              "        text-align: right;\n",
              "    }\n",
              "</style>\n",
              "<table border=\"1\" class=\"dataframe\">\n",
              "  <thead>\n",
              "    <tr style=\"text-align: right;\">\n",
              "      <th></th>\n",
              "      <th>Real</th>\n",
              "      <th>Predicted</th>\n",
              "      <th>Return</th>\n",
              "      <th>Real_Return</th>\n",
              "    </tr>\n",
              "  </thead>\n",
              "  <tbody>\n",
              "    <tr>\n",
              "      <th>0</th>\n",
              "      <td>0.063511</td>\n",
              "      <td>0.149255</td>\n",
              "      <td>0.158961</td>\n",
              "      <td>0.050698</td>\n",
              "    </tr>\n",
              "    <tr>\n",
              "      <th>1</th>\n",
              "      <td>0.050698</td>\n",
              "      <td>0.158961</td>\n",
              "      <td>0.158313</td>\n",
              "      <td>0.059234</td>\n",
              "    </tr>\n",
              "    <tr>\n",
              "      <th>2</th>\n",
              "      <td>0.059234</td>\n",
              "      <td>0.158313</td>\n",
              "      <td>0.139509</td>\n",
              "      <td>0.063675</td>\n",
              "    </tr>\n",
              "    <tr>\n",
              "      <th>3</th>\n",
              "      <td>0.063675</td>\n",
              "      <td>0.139509</td>\n",
              "      <td>0.149150</td>\n",
              "      <td>0.073096</td>\n",
              "    </tr>\n",
              "    <tr>\n",
              "      <th>4</th>\n",
              "      <td>0.073096</td>\n",
              "      <td>0.149150</td>\n",
              "      <td>0.148061</td>\n",
              "      <td>0.072149</td>\n",
              "    </tr>\n",
              "    <tr>\n",
              "      <th>...</th>\n",
              "      <td>...</td>\n",
              "      <td>...</td>\n",
              "      <td>...</td>\n",
              "      <td>...</td>\n",
              "    </tr>\n",
              "    <tr>\n",
              "      <th>2300</th>\n",
              "      <td>0.700027</td>\n",
              "      <td>0.738329</td>\n",
              "      <td>0.731765</td>\n",
              "      <td>0.688466</td>\n",
              "    </tr>\n",
              "    <tr>\n",
              "      <th>2301</th>\n",
              "      <td>0.688466</td>\n",
              "      <td>0.731765</td>\n",
              "      <td>0.734966</td>\n",
              "      <td>0.699646</td>\n",
              "    </tr>\n",
              "    <tr>\n",
              "      <th>2302</th>\n",
              "      <td>0.699646</td>\n",
              "      <td>0.734966</td>\n",
              "      <td>0.726011</td>\n",
              "      <td>0.723748</td>\n",
              "    </tr>\n",
              "    <tr>\n",
              "      <th>2303</th>\n",
              "      <td>0.723748</td>\n",
              "      <td>0.726011</td>\n",
              "      <td>0.719696</td>\n",
              "      <td>0.717962</td>\n",
              "    </tr>\n",
              "    <tr>\n",
              "      <th>2304</th>\n",
              "      <td>0.717962</td>\n",
              "      <td>0.719696</td>\n",
              "      <td>0.728799</td>\n",
              "      <td>NaN</td>\n",
              "    </tr>\n",
              "  </tbody>\n",
              "</table>\n",
              "<p>2305 rows × 4 columns</p>\n",
              "</div>"
            ],
            "text/plain": [
              "          Real  Predicted    Return  Real_Return\n",
              "0     0.063511   0.149255  0.158961     0.050698\n",
              "1     0.050698   0.158961  0.158313     0.059234\n",
              "2     0.059234   0.158313  0.139509     0.063675\n",
              "3     0.063675   0.139509  0.149150     0.073096\n",
              "4     0.073096   0.149150  0.148061     0.072149\n",
              "...        ...        ...       ...          ...\n",
              "2300  0.700027   0.738329  0.731765     0.688466\n",
              "2301  0.688466   0.731765  0.734966     0.699646\n",
              "2302  0.699646   0.734966  0.726011     0.723748\n",
              "2303  0.723748   0.726011  0.719696     0.717962\n",
              "2304  0.717962   0.719696  0.728799          NaN\n",
              "\n",
              "[2305 rows x 4 columns]"
            ]
          },
          "metadata": {
            "tags": []
          },
          "execution_count": 210
        }
      ]
    },
    {
      "cell_type": "code",
      "metadata": {
        "id": "ZfcFWWuDPGGa",
        "colab_type": "code",
        "colab": {
          "base_uri": "https://localhost:8080/",
          "height": 34
        },
        "outputId": "12b183e6-c5db-413e-d4a7-9fd5e76ffaea"
      },
      "source": [
        "### 準確率：\n",
        "(661+488)/2305"
      ],
      "execution_count": 212,
      "outputs": [
        {
          "output_type": "execute_result",
          "data": {
            "text/plain": [
              "0.49848156182212583"
            ]
          },
          "metadata": {
            "tags": []
          },
          "execution_count": 212
        }
      ]
    },
    {
      "cell_type": "markdown",
      "metadata": {
        "id": "1_vKz1CtYin_",
        "colab_type": "text"
      },
      "source": [
        "### 將漲跌預測做成互動，可以觀察測試資料的準確度\n",
        "### 因為使用colab，所以會在報告中展現。"
      ]
    },
    {
      "cell_type": "code",
      "metadata": {
        "id": "4pWDLhZI4ZgO",
        "colab_type": "code",
        "colab": {}
      },
      "source": [
        "def RNNmodel_predict(n):\n",
        "    print(\"實際的道瓊指數是：\", real_stock_price[n:n+5])\n",
        "    print(\"神經網路RNN的預測是：\", predicted_stock_price[n:n+5])"
      ],
      "execution_count": 0,
      "outputs": []
    },
    {
      "cell_type": "code",
      "metadata": {
        "id": "8JORhN374bMN",
        "colab_type": "code",
        "outputId": "e1f6fedb-c901-4cfd-a7e8-94a38d6571c7",
        "colab": {
          "base_uri": "https://localhost:8080/",
          "height": 268,
          "referenced_widgets": [
            "d411931047914075bd47a4a16eecd5fd",
            "bca003d1ab2641dc9f6cf4d069520a09",
            "54c1c3694bb64035812897f58c2e7d8c",
            "1bbe3b6429aa4b0e8d345d6811821d64",
            "2eff217a4ce64089a5683a1506374b30",
            "b4a266cb866642c18826944d7ec29128",
            "f3cbe7f3c19042058f58a65b00d5339e",
            "0d789f3c8f874d319822d6406dc8894a",
            "368b2d29fc2944eaa65c93ad11af06e3",
            "26201c1bb5ae45d7bc56652d4360745c"
          ]
        }
      },
      "source": [
        "from ipywidgets import interact_manual\n",
        "interact_manual(RNNmodel_predict, n=(2211, 2216))"
      ],
      "execution_count": 189,
      "outputs": [
        {
          "output_type": "display_data",
          "data": {
            "application/vnd.jupyter.widget-view+json": {
              "model_id": "d411931047914075bd47a4a16eecd5fd",
              "version_minor": 0,
              "version_major": 2
            },
            "text/plain": [
              "interactive(children=(IntSlider(value=2213, description='n', max=2216, min=2211), Button(description='Run Inte…"
            ]
          },
          "metadata": {
            "tags": []
          }
        },
        {
          "output_type": "execute_result",
          "data": {
            "text/plain": [
              "<function __main__.RNNmodel_predict>"
            ]
          },
          "metadata": {
            "tags": []
          },
          "execution_count": 189
        }
      ]
    },
    {
      "cell_type": "code",
      "metadata": {
        "id": "0K69gPQAJRGr",
        "colab_type": "code",
        "colab": {}
      },
      "source": [
        ""
      ],
      "execution_count": 0,
      "outputs": []
    }
  ]
}