{
 "cells": [
  {
   "cell_type": "code",
   "execution_count": 1,
   "metadata": {},
   "outputs": [],
   "source": [
    "\n",
    "%matplotlib inline\n",
    "import numpy as np\n",
    "import pandas as pd\n",
    "import matplotlib as plt"
   ]
  },
  {
   "cell_type": "code",
   "execution_count": 2,
   "metadata": {},
   "outputs": [],
   "source": [
    "def chinese_zodiac(year):  \n",
    "    zodiac_types = {  \n",
    "        '鼠':1996,  \n",
    "        '牛':1997,  \n",
    "        '虎':1998,  \n",
    "        '兔':1999,  \n",
    "        '龍':2000,  \n",
    "        '蛇':2001,  \n",
    "        '馬':2002,  \n",
    "        '羊':2003,  \n",
    "        '猴':2004,  \n",
    "        '雞':2005,  \n",
    "        '狗':2006,  \n",
    "        '豬':2007}  \n",
    "  \n",
    "    for i, j in zodiac_types.items():  \n",
    "        if (year % j % 12) == 0:  \n",
    "            return i "
   ]
  },
  {
   "cell_type": "code",
   "execution_count": 3,
   "metadata": {},
   "outputs": [
    {
     "data": {
      "text/plain": [
       "'鼠'"
      ]
     },
     "execution_count": 3,
     "metadata": {},
     "output_type": "execute_result"
    }
   ],
   "source": [
    "chinese_zodiac(2020)"
   ]
  },
  {
   "cell_type": "code",
   "execution_count": null,
   "metadata": {},
   "outputs": [],
   "source": []
  }
 ],
 "metadata": {
  "kernelspec": {
   "display_name": "Python 3",
   "language": "python",
   "name": "python3"
  },
  "language_info": {
   "codemirror_mode": {
    "name": "ipython",
    "version": 3
   },
   "file_extension": ".py",
   "mimetype": "text/x-python",
   "name": "python",
   "nbconvert_exporter": "python",
   "pygments_lexer": "ipython3",
   "version": "3.7.4"
  }
 },
 "nbformat": 4,
 "nbformat_minor": 2
}
