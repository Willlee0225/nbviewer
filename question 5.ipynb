{
 "cells": [
  {
   "cell_type": "code",
   "execution_count": 1,
   "metadata": {},
   "outputs": [],
   "source": [
    "import pandas as pd\n",
    "import numpy as np\n",
    "import matplotlib.pyplot as plt\n",
    "from functools import reduce\n",
    "import seaborn as sns\n",
    "import quandl\n",
    "from scipy.optimize import minimize\n",
    "from pandas import Series\n",
    "from pandas import DataFrame"
   ]
  },
  {
   "cell_type": "markdown",
   "metadata": {},
   "source": [
    "## Hansen-Jagannathan Bound\n"
   ]
  },
  {
   "cell_type": "markdown",
   "metadata": {},
   "source": [
    "#### define sample size"
   ]
  },
  {
   "cell_type": "code",
   "execution_count": 2,
   "metadata": {},
   "outputs": [],
   "source": [
    "s=10000"
   ]
  },
  {
   "cell_type": "markdown",
   "metadata": {},
   "source": [
    "#### Define rare disaster rate"
   ]
  },
  {
   "cell_type": "code",
   "execution_count": 3,
   "metadata": {},
   "outputs": [],
   "source": [
    "r_disaster_rate = 0.02"
   ]
  },
  {
   "cell_type": "markdown",
   "metadata": {},
   "source": [
    "#### Simulate ϵ with 10000 random draws from a standard normal distribution"
   ]
  },
  {
   "cell_type": "code",
   "execution_count": 4,
   "metadata": {},
   "outputs": [
    {
     "data": {
      "text/plain": [
       "array([-3.26825993,  1.91586525,  0.12585489, ...,  0.27547818,\n",
       "       -1.56154351, -0.97591191])"
      ]
     },
     "execution_count": 4,
     "metadata": {},
     "output_type": "execute_result"
    }
   ],
   "source": [
    "epsilon = np.random.randn(s)\n",
    "epsilon"
   ]
  },
  {
   "cell_type": "markdown",
   "metadata": {},
   "source": [
    "####  Simulate $\\nu$ with 10000 random draws from a standard uniform distribution"
   ]
  },
  {
   "cell_type": "code",
   "execution_count": 5,
   "metadata": {},
   "outputs": [],
   "source": [
    "mu=np.random.uniform(0,1,s)"
   ]
  },
  {
   "cell_type": "code",
   "execution_count": 6,
   "metadata": {},
   "outputs": [
    {
     "data": {
      "text/plain": [
       "array([0.26866316, 0.1585852 , 0.64344   , ..., 0.78421826, 0.92376592,\n",
       "       0.56431881])"
      ]
     },
     "execution_count": 6,
     "metadata": {},
     "output_type": "execute_result"
    }
   ],
   "source": [
    "mu"
   ]
  },
  {
   "cell_type": "markdown",
   "metadata": {},
   "source": [
    "#### Rare disaster $\\nu$ has value of either zero (probability 98.3%) or ln(0.65) (with probability 1.7%)\n"
   ]
  },
  {
   "cell_type": "code",
   "execution_count": 7,
   "metadata": {
    "scrolled": true
   },
   "outputs": [],
   "source": [
    "n = []\n",
    "val = np.log(0.7)\n",
    "for i in mu:\n",
    "    if i <= r_disaster_rate:\n",
    "        n.append(val)\n",
    "    else:\n",
    "        n.append(0.0)\n",
    "      "
   ]
  },
  {
   "cell_type": "code",
   "execution_count": 8,
   "metadata": {},
   "outputs": [
    {
     "data": {
      "text/plain": [
       "array([0., 0., 0., ..., 0., 0., 0.])"
      ]
     },
     "execution_count": 8,
     "metadata": {},
     "output_type": "execute_result"
    }
   ],
   "source": [
    "nu_values = np.array(n)\n",
    "nu_values"
   ]
  },
  {
   "cell_type": "markdown",
   "metadata": {},
   "source": [
    "### consumption growth has a lognormal distribution with the possibility of rare disasters:\n",
    "\n",
    "## $\\ln$$g̃$ =0.02+0.02$ϵ̃$ +$ν̃$ "
   ]
  },
  {
   "cell_type": "markdown",
   "metadata": {},
   "source": [
    "### Define $g̃$ value"
   ]
  },
  {
   "cell_type": "code",
   "execution_count": 9,
   "metadata": {},
   "outputs": [],
   "source": [
    "g = []\n",
    "for i in np.arange(0, s):\n",
    "    g_val = np.exp(0.02 + 0.02 * epsilon[i] + nu_values[i])\n",
    "    g.append(g_val)"
   ]
  },
  {
   "cell_type": "code",
   "execution_count": 10,
   "metadata": {},
   "outputs": [],
   "source": [
    "G = np.array(g)"
   ]
  },
  {
   "cell_type": "code",
   "execution_count": 11,
   "metadata": {},
   "outputs": [
    {
     "data": {
      "text/plain": [
       "array([0.95564842, 1.0600513 , 1.02277252, ..., 1.02583772, 0.98883196,\n",
       "       1.00048188])"
      ]
     },
     "execution_count": 11,
     "metadata": {},
     "output_type": "execute_result"
    }
   ],
   "source": [
    "G"
   ]
  },
  {
   "cell_type": "markdown",
   "metadata": {},
   "source": [
    "### Calculate the mean and standard deviation of the pricing kernel for each values of 𝛾, and plot the ratio SD(M)/E(M) (on the vertical axis) vs 𝛾 (on the horizontal axis). \n",
    "\n",
    "### for 𝛾 in the range [0,5], in increments of 0.1 (or less)."
   ]
  },
  {
   "cell_type": "code",
   "execution_count": 17,
   "metadata": {},
   "outputs": [],
   "source": [
    "gamma0 = []\n",
    "ratio0 = []\n",
    "for b0 in np.arange(0, 5, 0.01):\n",
    "    M = 0.99*2.7182818284**(b0*(1-G))\n",
    "    ratio = M.std() / M.mean()\n",
    "    gamma0.append([b0])\n",
    "    ratio0.append([ratio])"
   ]
  },
  {
   "cell_type": "code",
   "execution_count": 18,
   "metadata": {},
   "outputs": [],
   "source": [
    "ratio = pd.DataFrame(data=ratio0)\n",
    "gamma = pd.DataFrame(data=gamma0)"
   ]
  },
  {
   "cell_type": "code",
   "execution_count": 19,
   "metadata": {},
   "outputs": [],
   "source": [
    "gamma = gamma.rename(columns = {0: 'gamma'}, inplace = False)\n",
    "ratio  = ratio .rename(columns = {0: 'Ratio'}, inplace = False)"
   ]
  },
  {
   "cell_type": "code",
   "execution_count": 20,
   "metadata": {},
   "outputs": [
    {
     "data": {
      "text/html": [
       "<div>\n",
       "<style scoped>\n",
       "    .dataframe tbody tr th:only-of-type {\n",
       "        vertical-align: middle;\n",
       "    }\n",
       "\n",
       "    .dataframe tbody tr th {\n",
       "        vertical-align: top;\n",
       "    }\n",
       "\n",
       "    .dataframe thead th {\n",
       "        text-align: right;\n",
       "    }\n",
       "</style>\n",
       "<table border=\"1\" class=\"dataframe\">\n",
       "  <thead>\n",
       "    <tr style=\"text-align: right;\">\n",
       "      <th></th>\n",
       "      <th>gamma</th>\n",
       "      <th>Ratio</th>\n",
       "    </tr>\n",
       "  </thead>\n",
       "  <tbody>\n",
       "    <tr>\n",
       "      <th>0</th>\n",
       "      <td>0.00</td>\n",
       "      <td>0.000000</td>\n",
       "    </tr>\n",
       "    <tr>\n",
       "      <th>1</th>\n",
       "      <td>0.01</td>\n",
       "      <td>0.000474</td>\n",
       "    </tr>\n",
       "    <tr>\n",
       "      <th>2</th>\n",
       "      <td>0.02</td>\n",
       "      <td>0.000950</td>\n",
       "    </tr>\n",
       "    <tr>\n",
       "      <th>3</th>\n",
       "      <td>0.03</td>\n",
       "      <td>0.001426</td>\n",
       "    </tr>\n",
       "    <tr>\n",
       "      <th>4</th>\n",
       "      <td>0.04</td>\n",
       "      <td>0.001904</td>\n",
       "    </tr>\n",
       "    <tr>\n",
       "      <th>...</th>\n",
       "      <td>...</td>\n",
       "      <td>...</td>\n",
       "    </tr>\n",
       "    <tr>\n",
       "      <th>495</th>\n",
       "      <td>4.95</td>\n",
       "      <td>0.473382</td>\n",
       "    </tr>\n",
       "    <tr>\n",
       "      <th>496</th>\n",
       "      <td>4.96</td>\n",
       "      <td>0.475085</td>\n",
       "    </tr>\n",
       "    <tr>\n",
       "      <th>497</th>\n",
       "      <td>4.97</td>\n",
       "      <td>0.476793</td>\n",
       "    </tr>\n",
       "    <tr>\n",
       "      <th>498</th>\n",
       "      <td>4.98</td>\n",
       "      <td>0.478505</td>\n",
       "    </tr>\n",
       "    <tr>\n",
       "      <th>499</th>\n",
       "      <td>4.99</td>\n",
       "      <td>0.480222</td>\n",
       "    </tr>\n",
       "  </tbody>\n",
       "</table>\n",
       "<p>500 rows × 2 columns</p>\n",
       "</div>"
      ],
      "text/plain": [
       "     gamma     Ratio\n",
       "0     0.00  0.000000\n",
       "1     0.01  0.000474\n",
       "2     0.02  0.000950\n",
       "3     0.03  0.001426\n",
       "4     0.04  0.001904\n",
       "..     ...       ...\n",
       "495   4.95  0.473382\n",
       "496   4.96  0.475085\n",
       "497   4.97  0.476793\n",
       "498   4.98  0.478505\n",
       "499   4.99  0.480222\n",
       "\n",
       "[500 rows x 2 columns]"
      ]
     },
     "execution_count": 20,
     "metadata": {},
     "output_type": "execute_result"
    }
   ],
   "source": [
    "table = pd.concat([gamma,ratio],axis=1)\n",
    "table"
   ]
  },
  {
   "cell_type": "code",
   "execution_count": 21,
   "metadata": {
    "collapsed": true
   },
   "outputs": [
    {
     "data": {
      "text/html": [
       "<div>\n",
       "<style scoped>\n",
       "    .dataframe tbody tr th:only-of-type {\n",
       "        vertical-align: middle;\n",
       "    }\n",
       "\n",
       "    .dataframe tbody tr th {\n",
       "        vertical-align: top;\n",
       "    }\n",
       "\n",
       "    .dataframe thead th {\n",
       "        text-align: right;\n",
       "    }\n",
       "</style>\n",
       "<table border=\"1\" class=\"dataframe\">\n",
       "  <thead>\n",
       "    <tr style=\"text-align: right;\">\n",
       "      <th></th>\n",
       "      <th>gamma</th>\n",
       "      <th>Ratio</th>\n",
       "    </tr>\n",
       "  </thead>\n",
       "  <tbody>\n",
       "    <tr>\n",
       "      <th>450</th>\n",
       "      <td>4.50</td>\n",
       "      <td>0.401033</td>\n",
       "    </tr>\n",
       "    <tr>\n",
       "      <th>451</th>\n",
       "      <td>4.51</td>\n",
       "      <td>0.402552</td>\n",
       "    </tr>\n",
       "    <tr>\n",
       "      <th>452</th>\n",
       "      <td>4.52</td>\n",
       "      <td>0.404075</td>\n",
       "    </tr>\n",
       "    <tr>\n",
       "      <th>453</th>\n",
       "      <td>4.53</td>\n",
       "      <td>0.405602</td>\n",
       "    </tr>\n",
       "    <tr>\n",
       "      <th>454</th>\n",
       "      <td>4.54</td>\n",
       "      <td>0.407132</td>\n",
       "    </tr>\n",
       "    <tr>\n",
       "      <th>455</th>\n",
       "      <td>4.55</td>\n",
       "      <td>0.408667</td>\n",
       "    </tr>\n",
       "    <tr>\n",
       "      <th>456</th>\n",
       "      <td>4.56</td>\n",
       "      <td>0.410206</td>\n",
       "    </tr>\n",
       "    <tr>\n",
       "      <th>457</th>\n",
       "      <td>4.57</td>\n",
       "      <td>0.411748</td>\n",
       "    </tr>\n",
       "    <tr>\n",
       "      <th>458</th>\n",
       "      <td>4.58</td>\n",
       "      <td>0.413295</td>\n",
       "    </tr>\n",
       "    <tr>\n",
       "      <th>459</th>\n",
       "      <td>4.59</td>\n",
       "      <td>0.414845</td>\n",
       "    </tr>\n",
       "    <tr>\n",
       "      <th>460</th>\n",
       "      <td>4.60</td>\n",
       "      <td>0.416400</td>\n",
       "    </tr>\n",
       "    <tr>\n",
       "      <th>461</th>\n",
       "      <td>4.61</td>\n",
       "      <td>0.417958</td>\n",
       "    </tr>\n",
       "    <tr>\n",
       "      <th>462</th>\n",
       "      <td>4.62</td>\n",
       "      <td>0.419521</td>\n",
       "    </tr>\n",
       "    <tr>\n",
       "      <th>463</th>\n",
       "      <td>4.63</td>\n",
       "      <td>0.421087</td>\n",
       "    </tr>\n",
       "    <tr>\n",
       "      <th>464</th>\n",
       "      <td>4.64</td>\n",
       "      <td>0.422658</td>\n",
       "    </tr>\n",
       "    <tr>\n",
       "      <th>465</th>\n",
       "      <td>4.65</td>\n",
       "      <td>0.424232</td>\n",
       "    </tr>\n",
       "    <tr>\n",
       "      <th>466</th>\n",
       "      <td>4.66</td>\n",
       "      <td>0.425811</td>\n",
       "    </tr>\n",
       "    <tr>\n",
       "      <th>467</th>\n",
       "      <td>4.67</td>\n",
       "      <td>0.427394</td>\n",
       "    </tr>\n",
       "    <tr>\n",
       "      <th>468</th>\n",
       "      <td>4.68</td>\n",
       "      <td>0.428980</td>\n",
       "    </tr>\n",
       "    <tr>\n",
       "      <th>469</th>\n",
       "      <td>4.69</td>\n",
       "      <td>0.430571</td>\n",
       "    </tr>\n",
       "    <tr>\n",
       "      <th>470</th>\n",
       "      <td>4.70</td>\n",
       "      <td>0.432166</td>\n",
       "    </tr>\n",
       "    <tr>\n",
       "      <th>471</th>\n",
       "      <td>4.71</td>\n",
       "      <td>0.433765</td>\n",
       "    </tr>\n",
       "    <tr>\n",
       "      <th>472</th>\n",
       "      <td>4.72</td>\n",
       "      <td>0.435367</td>\n",
       "    </tr>\n",
       "    <tr>\n",
       "      <th>473</th>\n",
       "      <td>4.73</td>\n",
       "      <td>0.436974</td>\n",
       "    </tr>\n",
       "    <tr>\n",
       "      <th>474</th>\n",
       "      <td>4.74</td>\n",
       "      <td>0.438586</td>\n",
       "    </tr>\n",
       "    <tr>\n",
       "      <th>475</th>\n",
       "      <td>4.75</td>\n",
       "      <td>0.440201</td>\n",
       "    </tr>\n",
       "    <tr>\n",
       "      <th>476</th>\n",
       "      <td>4.76</td>\n",
       "      <td>0.441820</td>\n",
       "    </tr>\n",
       "    <tr>\n",
       "      <th>477</th>\n",
       "      <td>4.77</td>\n",
       "      <td>0.443444</td>\n",
       "    </tr>\n",
       "    <tr>\n",
       "      <th>478</th>\n",
       "      <td>4.78</td>\n",
       "      <td>0.445071</td>\n",
       "    </tr>\n",
       "    <tr>\n",
       "      <th>479</th>\n",
       "      <td>4.79</td>\n",
       "      <td>0.446703</td>\n",
       "    </tr>\n",
       "    <tr>\n",
       "      <th>480</th>\n",
       "      <td>4.80</td>\n",
       "      <td>0.448339</td>\n",
       "    </tr>\n",
       "    <tr>\n",
       "      <th>481</th>\n",
       "      <td>4.81</td>\n",
       "      <td>0.449979</td>\n",
       "    </tr>\n",
       "    <tr>\n",
       "      <th>482</th>\n",
       "      <td>4.82</td>\n",
       "      <td>0.451623</td>\n",
       "    </tr>\n",
       "    <tr>\n",
       "      <th>483</th>\n",
       "      <td>4.83</td>\n",
       "      <td>0.453272</td>\n",
       "    </tr>\n",
       "    <tr>\n",
       "      <th>484</th>\n",
       "      <td>4.84</td>\n",
       "      <td>0.454924</td>\n",
       "    </tr>\n",
       "    <tr>\n",
       "      <th>485</th>\n",
       "      <td>4.85</td>\n",
       "      <td>0.456581</td>\n",
       "    </tr>\n",
       "    <tr>\n",
       "      <th>486</th>\n",
       "      <td>4.86</td>\n",
       "      <td>0.458242</td>\n",
       "    </tr>\n",
       "    <tr>\n",
       "      <th>487</th>\n",
       "      <td>4.87</td>\n",
       "      <td>0.459907</td>\n",
       "    </tr>\n",
       "    <tr>\n",
       "      <th>488</th>\n",
       "      <td>4.88</td>\n",
       "      <td>0.461577</td>\n",
       "    </tr>\n",
       "    <tr>\n",
       "      <th>489</th>\n",
       "      <td>4.89</td>\n",
       "      <td>0.463250</td>\n",
       "    </tr>\n",
       "    <tr>\n",
       "      <th>490</th>\n",
       "      <td>4.90</td>\n",
       "      <td>0.464928</td>\n",
       "    </tr>\n",
       "    <tr>\n",
       "      <th>491</th>\n",
       "      <td>4.91</td>\n",
       "      <td>0.466611</td>\n",
       "    </tr>\n",
       "    <tr>\n",
       "      <th>492</th>\n",
       "      <td>4.92</td>\n",
       "      <td>0.468297</td>\n",
       "    </tr>\n",
       "    <tr>\n",
       "      <th>493</th>\n",
       "      <td>4.93</td>\n",
       "      <td>0.469988</td>\n",
       "    </tr>\n",
       "    <tr>\n",
       "      <th>494</th>\n",
       "      <td>4.94</td>\n",
       "      <td>0.471683</td>\n",
       "    </tr>\n",
       "    <tr>\n",
       "      <th>495</th>\n",
       "      <td>4.95</td>\n",
       "      <td>0.473382</td>\n",
       "    </tr>\n",
       "    <tr>\n",
       "      <th>496</th>\n",
       "      <td>4.96</td>\n",
       "      <td>0.475085</td>\n",
       "    </tr>\n",
       "    <tr>\n",
       "      <th>497</th>\n",
       "      <td>4.97</td>\n",
       "      <td>0.476793</td>\n",
       "    </tr>\n",
       "    <tr>\n",
       "      <th>498</th>\n",
       "      <td>4.98</td>\n",
       "      <td>0.478505</td>\n",
       "    </tr>\n",
       "    <tr>\n",
       "      <th>499</th>\n",
       "      <td>4.99</td>\n",
       "      <td>0.480222</td>\n",
       "    </tr>\n",
       "  </tbody>\n",
       "</table>\n",
       "</div>"
      ],
      "text/plain": [
       "     gamma     Ratio\n",
       "450   4.50  0.401033\n",
       "451   4.51  0.402552\n",
       "452   4.52  0.404075\n",
       "453   4.53  0.405602\n",
       "454   4.54  0.407132\n",
       "455   4.55  0.408667\n",
       "456   4.56  0.410206\n",
       "457   4.57  0.411748\n",
       "458   4.58  0.413295\n",
       "459   4.59  0.414845\n",
       "460   4.60  0.416400\n",
       "461   4.61  0.417958\n",
       "462   4.62  0.419521\n",
       "463   4.63  0.421087\n",
       "464   4.64  0.422658\n",
       "465   4.65  0.424232\n",
       "466   4.66  0.425811\n",
       "467   4.67  0.427394\n",
       "468   4.68  0.428980\n",
       "469   4.69  0.430571\n",
       "470   4.70  0.432166\n",
       "471   4.71  0.433765\n",
       "472   4.72  0.435367\n",
       "473   4.73  0.436974\n",
       "474   4.74  0.438586\n",
       "475   4.75  0.440201\n",
       "476   4.76  0.441820\n",
       "477   4.77  0.443444\n",
       "478   4.78  0.445071\n",
       "479   4.79  0.446703\n",
       "480   4.80  0.448339\n",
       "481   4.81  0.449979\n",
       "482   4.82  0.451623\n",
       "483   4.83  0.453272\n",
       "484   4.84  0.454924\n",
       "485   4.85  0.456581\n",
       "486   4.86  0.458242\n",
       "487   4.87  0.459907\n",
       "488   4.88  0.461577\n",
       "489   4.89  0.463250\n",
       "490   4.90  0.464928\n",
       "491   4.91  0.466611\n",
       "492   4.92  0.468297\n",
       "493   4.93  0.469988\n",
       "494   4.94  0.471683\n",
       "495   4.95  0.473382\n",
       "496   4.96  0.475085\n",
       "497   4.97  0.476793\n",
       "498   4.98  0.478505\n",
       "499   4.99  0.480222"
      ]
     },
     "execution_count": 21,
     "metadata": {},
     "output_type": "execute_result"
    }
   ],
   "source": [
    "table_above_04 = table[table.Ratio>=0.4]\n",
    "table_above_04 "
   ]
  },
  {
   "cell_type": "code",
   "execution_count": 22,
   "metadata": {},
   "outputs": [
    {
     "data": {
      "text/html": [
       "<div>\n",
       "<style scoped>\n",
       "    .dataframe tbody tr th:only-of-type {\n",
       "        vertical-align: middle;\n",
       "    }\n",
       "\n",
       "    .dataframe tbody tr th {\n",
       "        vertical-align: top;\n",
       "    }\n",
       "\n",
       "    .dataframe thead th {\n",
       "        text-align: right;\n",
       "    }\n",
       "</style>\n",
       "<table border=\"1\" class=\"dataframe\">\n",
       "  <thead>\n",
       "    <tr style=\"text-align: right;\">\n",
       "      <th></th>\n",
       "      <th>gamma</th>\n",
       "      <th>Ratio</th>\n",
       "    </tr>\n",
       "  </thead>\n",
       "  <tbody>\n",
       "    <tr>\n",
       "      <th>450</th>\n",
       "      <td>4.5</td>\n",
       "      <td>0.401033</td>\n",
       "    </tr>\n",
       "  </tbody>\n",
       "</table>\n",
       "</div>"
      ],
      "text/plain": [
       "     gamma     Ratio\n",
       "450    4.5  0.401033"
      ]
     },
     "execution_count": 22,
     "metadata": {},
     "output_type": "execute_result"
    }
   ],
   "source": [
    "table_above_04[0:1]"
   ]
  },
  {
   "cell_type": "code",
   "execution_count": 25,
   "metadata": {},
   "outputs": [
    {
     "data": {
      "image/png": "[encoded data removed]",
      "text/plain": [
       "<Figure size 864x504 with 1 Axes>"
      ]
     },
     "metadata": {
      "needs_background": "light"
     },
     "output_type": "display_data"
    }
   ],
   "source": [
    "plt.figure(figsize=(12,7))\n",
    "plt.xlabel('b0 (Investor\\'s level of risk aversion)', fontsize=20)\n",
    "plt.ylabel('Pricing Kernal SD/E Ratio', fontsize=14)\n",
    "plt.title('b0 & PK SD/E Ratio Diagram', fontsize=20)\n",
    "\n",
    "plt.plot(table['gamma'], table['Ratio'])\n",
    "plt.plot(table_above_04['gamma'][0:1],table_above_04['Ratio'][0:1],'b*',color = 'red',markersize=20)\n",
    "plt.grid(axis='y')\n",
    "plt.show()"
   ]
  },
  {
   "cell_type": "code",
   "execution_count": null,
   "metadata": {},
   "outputs": [],
   "source": []
  },
  {
   "cell_type": "code",
   "execution_count": null,
   "metadata": {},
   "outputs": [],
   "source": []
  },
  {
   "cell_type": "code",
   "execution_count": null,
   "metadata": {},
   "outputs": [],
   "source": []
  },
  {
   "cell_type": "code",
   "execution_count": null,
   "metadata": {},
   "outputs": [],
   "source": []
  },
  {
   "cell_type": "code",
   "execution_count": null,
   "metadata": {},
   "outputs": [],
   "source": []
  },
  {
   "cell_type": "code",
   "execution_count": null,
   "metadata": {},
   "outputs": [],
   "source": []
  }
 ],
 "metadata": {
  "kernelspec": {
   "display_name": "Python 3",
   "language": "python",
   "name": "python3"
  },
  "language_info": {
   "codemirror_mode": {
    "name": "ipython",
    "version": 3
   },
   "file_extension": ".py",
   "mimetype": "text/x-python",
   "name": "python",
   "nbconvert_exporter": "python",
   "pygments_lexer": "ipython3",
   "version": "3.8.3"
  }
 },
 "nbformat": 4,
 "nbformat_minor": 4
}
