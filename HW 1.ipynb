{
 "cells": [
  {
   "cell_type": "code",
   "execution_count": 1,
   "metadata": {},
   "outputs": [],
   "source": [
    "\n",
    "%matplotlib inline\n",
    "import numpy as np\n",
    "import matplotlib.pyplot as plt\n",
    "import pandas as pd"
   ]
  },
  {
   "cell_type": "code",
   "execution_count": 2,
   "metadata": {},
   "outputs": [
    {
     "name": "stdout",
     "output_type": "stream",
     "text": [
      "student 1\n",
      " 1: 76\n",
      " 2: 73\n",
      " 3: 85\n",
      "\n",
      "student 2\n",
      " 1: 88\n",
      " 2: 84\n",
      " 3: 76\n",
      "\n",
      "student 3\n",
      " 1: 92\n",
      " 2: 82\n",
      " 3: 92\n",
      "\n"
     ]
    }
   ],
   "source": [
    "score = [[76,73,85],[88,84,76],[92,82,92]] \n",
    "\n",
    "\n",
    "\n",
    "\n",
    "for i in range(len(score)):\n",
    "    print('student',i+1)\n",
    "    for j in range(len(score[i])):\n",
    "        print(\" %d: %d\"%(j+1,score[i][j]))\n",
    "    print()\n",
    "\n",
    "\n",
    "\n",
    "   #print(*score[i])\n",
    "    "
   ]
  },
  {
   "cell_type": "code",
   "execution_count": 3,
   "metadata": {},
   "outputs": [
    {
     "name": "stdout",
     "output_type": "stream",
     "text": [
      "3\n",
      "* * * \n",
      "* * * \n",
      "* * * \n"
     ]
    }
   ],
   "source": [
    "n=eval(input())\n",
    "h=n\n",
    "w=n\n",
    "\n",
    "\n",
    "for i in range(h):\n",
    "    \n",
    "    for j in range(w):\n",
    "        print('*',end=\" \")\n",
    "    print()\n",
    "    \n"
   ]
  },
  {
   "cell_type": "code",
   "execution_count": null,
   "metadata": {},
   "outputs": [],
   "source": []
  }
 ],
 "metadata": {
  "kernelspec": {
   "display_name": "Python 3",
   "language": "python",
   "name": "python3"
  },
  "language_info": {
   "codemirror_mode": {
    "name": "ipython",
    "version": 3
   },
   "file_extension": ".py",
   "mimetype": "text/x-python",
   "name": "python",
   "nbconvert_exporter": "python",
   "pygments_lexer": "ipython3",
   "version": "3.7.4"
  }
 },
 "nbformat": 4,
 "nbformat_minor": 2
}
