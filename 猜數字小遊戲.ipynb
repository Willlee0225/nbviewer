{
  "nbformat": 4,
  "nbformat_minor": 0,
  "metadata": {
    "colab": {
      "name": "猜數字小遊戲",
      "provenance": [],
      "collapsed_sections": [],
      "authorship_tag": "ABX9TyMGSGKhYhoxb3VURV/4I17S",
      "include_colab_link": true
    },
    "kernelspec": {
      "name": "python3",
      "display_name": "Python 3"
    }
  },
  "cells": [
    {
      "cell_type": "markdown",
      "metadata": {
        "id": "view-in-github",
        "colab_type": "text"
      },
      "source": [
        "<a href=\"https://colab.research.google.com/github/Willlee0225/nbviewer/blob/master/%E7%8C%9C%E6%95%B8%E5%AD%97%E5%B0%8F%E9%81%8A%E6%88%B2.ipynb\" target=\"_parent\"><img src=\"https://colab.research.google.com/assets/colab-badge.svg\" alt=\"Open In Colab\"/></a>"
      ]
    },
    {
      "cell_type": "code",
      "metadata": {
        "id": "a5fWj15iC_Ir",
        "colab_type": "code",
        "colab": {
          "base_uri": "https://localhost:8080/",
          "height": 226
        },
        "outputId": "5027e8c8-1d97-41b0-b847-8f7eb9d292c5"
      },
      "source": [
        "import random\n",
        "rang1 = int(input(\"請設定本局遊戲的最小值:\"))\n",
        "rang2 = int(input(\"請設定本局遊戲的最大值:\"))\n",
        "num = random.randint(rang1,rang2)\n",
        "guess = \"guess\"\n",
        "print(\"數字猜謎遊戲！\")\n",
        "i = 0\n",
        "while guess != num:\n",
        "    i += 1\n",
        "    guess = int(input(\"請輸入你猜的數字：\"))\n",
        "\n",
        "    if guess == num:\n",
        "        print(\"恭喜，你猜對了！\")\n",
        "    elif guess < num:\n",
        "        print(\"你猜的數小了...\")\n",
        "    else:\n",
        "        print(\"你猜的數大了...\")\n",
        "\n",
        "print(\"你總共猜了%d\" %i + \"次\",end = '')\n",
        "print(\",快和你朋友較量一下...\")"
      ],
      "execution_count": 1,
      "outputs": [
        {
          "output_type": "stream",
          "text": [
            "請設定本局遊戲的最小值:3\n",
            "請設定本局遊戲的最大值:8\n",
            "數字猜謎遊戲！\n",
            "請輸入你猜的數字：2\n",
            "你猜的數小了...\n",
            "請輸入你猜的數字：7\n",
            "你猜的數大了...\n",
            "請輸入你猜的數字：5\n",
            "恭喜，你猜對了！\n",
            "你總共猜了3次,快和你朋友較量一下...\n"
          ],
          "name": "stdout"
        }
      ]
    },
    {
      "cell_type": "code",
      "metadata": {
        "id": "kMxs4qZRC_yc",
        "colab_type": "code",
        "colab": {}
      },
      "source": [
        ""
      ],
      "execution_count": 0,
      "outputs": []
    }
  ]
}