{
  "nbformat": 4,
  "nbformat_minor": 0,
  "metadata": {
    "colab": {
      "name": "Stock prediction 2",
      "provenance": [],
      "collapsed_sections": [],
      "include_colab_link": true
    },
    "kernelspec": {
      "name": "python3",
      "display_name": "Python 3"
    },
    "accelerator": "GPU",
    "widgets": {
      "application/vnd.jupyter.widget-state+json": {
        "9b58cce64ed744cebc8b3d45dc00ee71": {
          "model_module": "@jupyter-widgets/controls",
          "model_name": "VBoxModel",
          "state": {
            "_view_name": "VBoxView",
            "_dom_classes": [
              "widget-interact"
            ],
            "_model_name": "VBoxModel",
            "_view_module": "@jupyter-widgets/controls",
            "_model_module_version": "1.5.0",
            "_view_count": null,
            "_view_module_version": "1.5.0",
            "box_style": "",
            "layout": "IPY_MODEL_3c91d59bc10c47d5b9b7ca632d093dea",
            "_model_module": "@jupyter-widgets/controls",
            "children": [
              "IPY_MODEL_dd43f12fa31d48f199bad718fbc79efd",
              "IPY_MODEL_cc9e47d2a6094450ab5e60a225ec0ea1",
              "IPY_MODEL_4eccdcd7720140f0a98d73ce770ea926"
            ]
          }
        },
        "3c91d59bc10c47d5b9b7ca632d093dea": {
          "model_module": "@jupyter-widgets/base",
          "model_name": "LayoutModel",
          "state": {
            "_view_name": "LayoutView",
            "grid_template_rows": null,
            "right": null,
            "justify_content": null,
            "_view_module": "@jupyter-widgets/base",
            "overflow": null,
            "_model_module_version": "1.2.0",
            "_view_count": null,
            "flex_flow": null,
            "width": null,
            "min_width": null,
            "border": null,
            "align_items": null,
            "bottom": null,
            "_model_module": "@jupyter-widgets/base",
            "top": null,
            "grid_column": null,
            "overflow_y": null,
            "overflow_x": null,
            "grid_auto_flow": null,
            "grid_area": null,
            "grid_template_columns": null,
            "flex": null,
            "_model_name": "LayoutModel",
            "justify_items": null,
            "grid_row": null,
            "max_height": null,
            "align_content": null,
            "visibility": null,
            "align_self": null,
            "height": null,
            "min_height": null,
            "padding": null,
            "grid_auto_rows": null,
            "grid_gap": null,
            "max_width": null,
            "order": null,
            "_view_module_version": "1.2.0",
            "grid_template_areas": null,
            "object_position": null,
            "object_fit": null,
            "grid_auto_columns": null,
            "margin": null,
            "display": null,
            "left": null
          }
        },
        "dd43f12fa31d48f199bad718fbc79efd": {
          "model_module": "@jupyter-widgets/controls",
          "model_name": "IntSliderModel",
          "state": {
            "_view_name": "IntSliderView",
            "style": "IPY_MODEL_f87f93052ce6437fb55da34d30bd83cc",
            "_dom_classes": [],
            "description": "n",
            "step": 1,
            "_model_name": "IntSliderModel",
            "orientation": "horizontal",
            "max": 2216,
            "_view_module": "@jupyter-widgets/controls",
            "_model_module_version": "1.5.0",
            "value": 1108,
            "_view_count": null,
            "disabled": false,
            "_view_module_version": "1.5.0",
            "min": 0,
            "continuous_update": true,
            "readout_format": "d",
            "description_tooltip": null,
            "readout": true,
            "_model_module": "@jupyter-widgets/controls",
            "layout": "IPY_MODEL_b6fe1b20f60b45fc947dace81f391c7c"
          }
        },
        "cc9e47d2a6094450ab5e60a225ec0ea1": {
          "model_module": "@jupyter-widgets/controls",
          "model_name": "ButtonModel",
          "state": {
            "_view_name": "ButtonView",
            "style": "IPY_MODEL_9f3a99f07bec45c7b371331fa42adf6e",
            "_dom_classes": [],
            "description": "Run Interact",
            "_model_name": "ButtonModel",
            "button_style": "",
            "_view_module": "@jupyter-widgets/controls",
            "_model_module_version": "1.5.0",
            "tooltip": "",
            "_view_count": null,
            "disabled": false,
            "_view_module_version": "1.5.0",
            "layout": "IPY_MODEL_e597a386639a43a38ba02df8d25194af",
            "_model_module": "@jupyter-widgets/controls",
            "icon": ""
          }
        },
        "4eccdcd7720140f0a98d73ce770ea926": {
          "model_module": "@jupyter-widgets/output",
          "model_name": "OutputModel",
          "state": {
            "_view_name": "OutputView",
            "msg_id": "",
            "_dom_classes": [],
            "_model_name": "OutputModel",
            "outputs": [],
            "_view_module": "@jupyter-widgets/output",
            "_model_module_version": "1.0.0",
            "_view_count": null,
            "_view_module_version": "1.0.0",
            "layout": "IPY_MODEL_811ae74ff83e4610a0757e7870085cac",
            "_model_module": "@jupyter-widgets/output"
          }
        },
        "f87f93052ce6437fb55da34d30bd83cc": {
          "model_module": "@jupyter-widgets/controls",
          "model_name": "SliderStyleModel",
          "state": {
            "_view_name": "StyleView",
            "handle_color": null,
            "_model_name": "SliderStyleModel",
            "description_width": "",
            "_view_module": "@jupyter-widgets/base",
            "_model_module_version": "1.5.0",
            "_view_count": null,
            "_view_module_version": "1.2.0",
            "_model_module": "@jupyter-widgets/controls"
          }
        },
        "b6fe1b20f60b45fc947dace81f391c7c": {
          "model_module": "@jupyter-widgets/base",
          "model_name": "LayoutModel",
          "state": {
            "_view_name": "LayoutView",
            "grid_template_rows": null,
            "right": null,
            "justify_content": null,
            "_view_module": "@jupyter-widgets/base",
            "overflow": null,
            "_model_module_version": "1.2.0",
            "_view_count": null,
            "flex_flow": null,
            "width": null,
            "min_width": null,
            "border": null,
            "align_items": null,
            "bottom": null,
            "_model_module": "@jupyter-widgets/base",
            "top": null,
            "grid_column": null,
            "overflow_y": null,
            "overflow_x": null,
            "grid_auto_flow": null,
            "grid_area": null,
            "grid_template_columns": null,
            "flex": null,
            "_model_name": "LayoutModel",
            "justify_items": null,
            "grid_row": null,
            "max_height": null,
            "align_content": null,
            "visibility": null,
            "align_self": null,
            "height": null,
            "min_height": null,
            "padding": null,
            "grid_auto_rows": null,
            "grid_gap": null,
            "max_width": null,
            "order": null,
            "_view_module_version": "1.2.0",
            "grid_template_areas": null,
            "object_position": null,
            "object_fit": null,
            "grid_auto_columns": null,
            "margin": null,
            "display": null,
            "left": null
          }
        },
        "9f3a99f07bec45c7b371331fa42adf6e": {
          "model_module": "@jupyter-widgets/controls",
          "model_name": "ButtonStyleModel",
          "state": {
            "_view_name": "StyleView",
            "_model_name": "ButtonStyleModel",
            "_view_module": "@jupyter-widgets/base",
            "_model_module_version": "1.5.0",
            "_view_count": null,
            "button_color": null,
            "font_weight": "",
            "_view_module_version": "1.2.0",
            "_model_module": "@jupyter-widgets/controls"
          }
        },
        "e597a386639a43a38ba02df8d25194af": {
          "model_module": "@jupyter-widgets/base",
          "model_name": "LayoutModel",
          "state": {
            "_view_name": "LayoutView",
            "grid_template_rows": null,
            "right": null,
            "justify_content": null,
            "_view_module": "@jupyter-widgets/base",
            "overflow": null,
            "_model_module_version": "1.2.0",
            "_view_count": null,
            "flex_flow": null,
            "width": null,
            "min_width": null,
            "border": null,
            "align_items": null,
            "bottom": null,
            "_model_module": "@jupyter-widgets/base",
            "top": null,
            "grid_column": null,
            "overflow_y": null,
            "overflow_x": null,
            "grid_auto_flow": null,
            "grid_area": null,
            "grid_template_columns": null,
            "flex": null,
            "_model_name": "LayoutModel",
            "justify_items": null,
            "grid_row": null,
            "max_height": null,
            "align_content": null,
            "visibility": null,
            "align_self": null,
            "height": null,
            "min_height": null,
            "padding": null,
            "grid_auto_rows": null,
            "grid_gap": null,
            "max_width": null,
            "order": null,
            "_view_module_version": "1.2.0",
            "grid_template_areas": null,
            "object_position": null,
            "object_fit": null,
            "grid_auto_columns": null,
            "margin": null,
            "display": null,
            "left": null
          }
        },
        "811ae74ff83e4610a0757e7870085cac": {
          "model_module": "@jupyter-widgets/base",
          "model_name": "LayoutModel",
          "state": {
            "_view_name": "LayoutView",
            "grid_template_rows": null,
            "right": null,
            "justify_content": null,
            "_view_module": "@jupyter-widgets/base",
            "overflow": null,
            "_model_module_version": "1.2.0",
            "_view_count": null,
            "flex_flow": null,
            "width": null,
            "min_width": null,
            "border": null,
            "align_items": null,
            "bottom": null,
            "_model_module": "@jupyter-widgets/base",
            "top": null,
            "grid_column": null,
            "overflow_y": null,
            "overflow_x": null,
            "grid_auto_flow": null,
            "grid_area": null,
            "grid_template_columns": null,
            "flex": null,
            "_model_name": "LayoutModel",
            "justify_items": null,
            "grid_row": null,
            "max_height": null,
            "align_content": null,
            "visibility": null,
            "align_self": null,
            "height": null,
            "min_height": null,
            "padding": null,
            "grid_auto_rows": null,
            "grid_gap": null,
            "max_width": null,
            "order": null,
            "_view_module_version": "1.2.0",
            "grid_template_areas": null,
            "object_position": null,
            "object_fit": null,
            "grid_auto_columns": null,
            "margin": null,
            "display": null,
            "left": null
          }
        }
      }
    }
  },
  "cells": [
    {
      "cell_type": "markdown",
      "metadata": {
        "id": "view-in-github",
        "colab_type": "text"
      },
      "source": [
        "<a href=\"https://colab.research.google.com/github/Willlee0225/nbviewer/blob/master/Stock_prediction_2.ipynb\" target=\"_parent\"><img src=\"https://colab.research.google.com/assets/colab-badge.svg\" alt=\"Open In Colab\"/></a>"
      ]
    },
    {
      "cell_type": "markdown",
      "metadata": {
        "id": "l9-a9TYlAzey",
        "colab_type": "text"
      },
      "source": [
        "# 利用道瓊指數成分股，石油價格和相關指數來預測道瓊的漲跌\n",
        "\n"
      ]
    },
    {
      "cell_type": "markdown",
      "metadata": {
        "id": "TwefuIQwCu7G",
        "colab_type": "text"
      },
      "source": [
        "## 先將所需的套件獨進來\n",
        "##我們這次是使用RNN裡面的LSTM，因為RNN可以解決時間序列的問題，一般的標準神經網路，在inpute資料通常是沒有時間性的資料。而RNN透過將Hidden layer的output存在Memory裡，當下次input資料進去時，會同時考慮上一次存在Memory的值進行計算。"
      ]
    },
    {
      "cell_type": "code",
      "metadata": {
        "id": "JSKMphXHAx1L",
        "colab_type": "code",
        "colab": {}
      },
      "source": [
        "#coding=utf-8\n",
        "import pandas as pd\n",
        "import numpy as np\n",
        "from keras.models import Sequential,Model\n",
        "from keras.layers import Dense, Dropout, Activation, Flatten, LSTM, TimeDistributed, RepeatVector,Input\n",
        "from keras.optimizers import Adam\n",
        "from keras.callbacks import EarlyStopping, ModelCheckpoint\n",
        "import matplotlib.pyplot as plt\n",
        "from keras.utils import to_categorical\n",
        "%matplotlib inline"
      ],
      "execution_count": 0,
      "outputs": []
    },
    {
      "cell_type": "code",
      "metadata": {
        "id": "IoopMX83pBxH",
        "colab_type": "code",
        "colab": {}
      },
      "source": [
        "%tensorflow_version 2.x"
      ],
      "execution_count": 0,
      "outputs": []
    },
    {
      "cell_type": "code",
      "metadata": {
        "id": "NaHqLS-ipFmL",
        "colab_type": "code",
        "outputId": "08aa52c1-ba17-46f5-9390-583b8f9f6d3d",
        "colab": {
          "resources": {
            "http://localhost:8080/nbextensions/google.colab/files.js": {
              "data": "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",
              "ok": true,
              "headers": [
                [
                  "content-type",
                  "application/javascript"
                ]
              ],
              "status": 200,
              "status_text": ""
            }
          },
          "base_uri": "https://localhost:8080/",
          "height": 71
        }
      },
      "source": [
        "from google.colab import files\n",
        "uploaded = files.upload()"
      ],
      "execution_count": 93,
      "outputs": [
        {
          "output_type": "display_data",
          "data": {
            "text/html": [
              "\n",
              "     <input type=\"file\" id=\"files-23a6e959-02fc-4ee5-88cd-9d6163bf045d\" name=\"files[]\" multiple disabled />\n",
              "     <output id=\"result-23a6e959-02fc-4ee5-88cd-9d6163bf045d\">\n",
              "      Upload widget is only available when the cell has been executed in the\n",
              "      current browser session. Please rerun this cell to enable.\n",
              "      </output>\n",
              "      <script src=\"/nbextensions/google.colab/files.js\"></script> "
            ],
            "text/plain": [
              "<IPython.core.display.HTML object>"
            ]
          },
          "metadata": {
            "tags": []
          }
        },
        {
          "output_type": "stream",
          "text": [
            "Saving data3.csv to data3 (2).csv\n"
          ],
          "name": "stdout"
        }
      ]
    },
    {
      "cell_type": "code",
      "metadata": {
        "id": "mUqB1WuLpGGr",
        "colab_type": "code",
        "colab": {}
      },
      "source": [
        "import io\n",
        "df1 = pd.read_csv(io.BytesIO(uploaded['data3.csv']))"
      ],
      "execution_count": 0,
      "outputs": []
    },
    {
      "cell_type": "markdown",
      "metadata": {
        "id": "xCd6dgQpBdFI",
        "colab_type": "text"
      },
      "source": [
        "## 由於各項Features 的差距其實蠻大的，為了不要失真，我們將所有資料進行標準化，讓所有資料都介於0~1之間\n"
      ]
    },
    {
      "cell_type": "code",
      "metadata": {
        "id": "T2Kj2Gz6pYNE",
        "colab_type": "code",
        "colab": {}
      },
      "source": [
        "def normalize(df):\n",
        "    norm = df.apply(lambda x: (x - np.mean(x)) / (np.max(x) - np.min(x)))\n",
        "    return norm\n",
        "   \n",
        "  "
      ],
      "execution_count": 0,
      "outputs": []
    },
    {
      "cell_type": "markdown",
      "metadata": {
        "id": "JmECfLOTCVRx",
        "colab_type": "text"
      },
      "source": [
        "## 1. LSTM model 有許多種變化，One to One 、 One to many 、 Many to one 或者 Many to many，經過多次嘗試，我們決定使用Many to one，亦即利用前五天的資料來預測下一天的漲跌，因此Input就是前五天的股價，而輸出就是第六天的股價。將5天的資料視為一句話(一個序列的意思)\n",
        "## 2. 用迴圈方式依序創建 X_train 跟 Y_train"
      ]
    },
    {
      "cell_type": "code",
      "metadata": {
        "id": "gG8EwnoSpasS",
        "colab_type": "code",
        "colab": {}
      },
      "source": [
        "def train_windows(df, ref_day=5, predict_day=1):\n",
        "    X_train, Y_train = [], []\n",
        "    for i in range(df.shape[0]-predict_day-ref_day):\n",
        "        X_train.append(np.array(df.iloc[i:i+ref_day,:-1]))\n",
        "        Y_train.append(np.array(df.iloc[i+ref_day:i+ref_day+predict_day][\"y\"]))\n",
        "    return np.array(X_train), np.array(Y_train)"
      ],
      "execution_count": 0,
      "outputs": []
    },
    {
      "cell_type": "markdown",
      "metadata": {
        "id": "-H4WlMH-IsCw",
        "colab_type": "text"
      },
      "source": [
        "### 將DOW 的每一個值都往前移一天"
      ]
    },
    {
      "cell_type": "code",
      "metadata": {
        "id": "HWvD3At6pdf6",
        "colab_type": "code",
        "colab": {}
      },
      "source": [
        "df1['y'] = df1['DOW'].shift(-1)"
      ],
      "execution_count": 0,
      "outputs": []
    },
    {
      "cell_type": "markdown",
      "metadata": {
        "id": "-sdKCD8MI1Zm",
        "colab_type": "text"
      },
      "source": [
        "### 進行標準化\n"
      ]
    },
    {
      "cell_type": "code",
      "metadata": {
        "id": "GCq2Bw-1pfKZ",
        "colab_type": "code",
        "colab": {}
      },
      "source": [
        "df1.iloc[:,[1,2,3,4,5,5,6,7,8,9,10,11,12,13,14,15,16,17,18,19,20,21,22,23,24,25,26,27,28,29]]=normalize(df1.iloc[:,[1,2,3,4,5,5,6,7,8,9,10,11,12,13,14,15,16,17,18,19,20,21,22,23,24,25,26,27,28,29]])"
      ],
      "execution_count": 0,
      "outputs": []
    },
    {
      "cell_type": "markdown",
      "metadata": {
        "id": "CMkEXd3-I7kC",
        "colab_type": "text"
      },
      "source": [
        "### 整理資料"
      ]
    },
    {
      "cell_type": "code",
      "metadata": {
        "id": "rbe4z-jIpg9i",
        "colab_type": "code",
        "colab": {}
      },
      "source": [
        "df1 = df1.dropna()"
      ],
      "execution_count": 0,
      "outputs": []
    },
    {
      "cell_type": "code",
      "metadata": {
        "id": "mASxw2t3pjK3",
        "colab_type": "code",
        "outputId": "cd5151fa-299b-4980-cf3b-6e3158090bf7",
        "colab": {
          "base_uri": "https://localhost:8080/",
          "height": 439
        }
      },
      "source": [
        "df1"
      ],
      "execution_count": 100,
      "outputs": [
        {
          "output_type": "execute_result",
          "data": {
            "text/html": [
              "<div>\n",
              "<style scoped>\n",
              "    .dataframe tbody tr th:only-of-type {\n",
              "        vertical-align: middle;\n",
              "    }\n",
              "\n",
              "    .dataframe tbody tr th {\n",
              "        vertical-align: top;\n",
              "    }\n",
              "\n",
              "    .dataframe thead th {\n",
              "        text-align: right;\n",
              "    }\n",
              "</style>\n",
              "<table border=\"1\" class=\"dataframe\">\n",
              "  <thead>\n",
              "    <tr style=\"text-align: right;\">\n",
              "      <th></th>\n",
              "      <th>Date</th>\n",
              "      <th>MMM</th>\n",
              "      <th>KO</th>\n",
              "      <th>CVX</th>\n",
              "      <th>CAT</th>\n",
              "      <th>BA</th>\n",
              "      <th>AXP</th>\n",
              "      <th>AAPL</th>\n",
              "      <th>XOM</th>\n",
              "      <th>WMT</th>\n",
              "      <th>WBA</th>\n",
              "      <th>VZ</th>\n",
              "      <th>UNH</th>\n",
              "      <th>TRV</th>\n",
              "      <th>PG</th>\n",
              "      <th>NIKE</th>\n",
              "      <th>MSFT</th>\n",
              "      <th>MRK</th>\n",
              "      <th>JPM</th>\n",
              "      <th>JNJ</th>\n",
              "      <th>INTC</th>\n",
              "      <th>IBM</th>\n",
              "      <th>HD</th>\n",
              "      <th>DIS</th>\n",
              "      <th>MCD</th>\n",
              "      <th>SP</th>\n",
              "      <th>NASDAQ</th>\n",
              "      <th>DOW</th>\n",
              "      <th>BP</th>\n",
              "      <th>y</th>\n",
              "    </tr>\n",
              "  </thead>\n",
              "  <tbody>\n",
              "    <tr>\n",
              "      <th>0</th>\n",
              "      <td>1987/5/20</td>\n",
              "      <td>-0.391240</td>\n",
              "      <td>-0.408381</td>\n",
              "      <td>-0.279582</td>\n",
              "      <td>-0.225023</td>\n",
              "      <td>-0.327997</td>\n",
              "      <td>-0.303430</td>\n",
              "      <td>-0.018613</td>\n",
              "      <td>-0.302566</td>\n",
              "      <td>-0.432710</td>\n",
              "      <td>-0.389112</td>\n",
              "      <td>-0.347755</td>\n",
              "      <td>-0.263915</td>\n",
              "      <td>-0.424680</td>\n",
              "      <td>-0.412268</td>\n",
              "      <td>-0.280273</td>\n",
              "      <td>-0.292198</td>\n",
              "      <td>-0.332677</td>\n",
              "      <td>-0.255000</td>\n",
              "      <td>-0.461732</td>\n",
              "      <td>-0.210806</td>\n",
              "      <td>-0.174009</td>\n",
              "      <td>-0.328166</td>\n",
              "      <td>-0.413328</td>\n",
              "      <td>-0.285216</td>\n",
              "      <td>-0.435624</td>\n",
              "      <td>-0.239917</td>\n",
              "      <td>-0.417921</td>\n",
              "      <td>-0.125371</td>\n",
              "      <td>-0.417194</td>\n",
              "    </tr>\n",
              "    <tr>\n",
              "      <th>1</th>\n",
              "      <td>1987/5/21</td>\n",
              "      <td>-0.392379</td>\n",
              "      <td>-0.408753</td>\n",
              "      <td>-0.279253</td>\n",
              "      <td>-0.224714</td>\n",
              "      <td>-0.327997</td>\n",
              "      <td>-0.299212</td>\n",
              "      <td>-0.034135</td>\n",
              "      <td>-0.302746</td>\n",
              "      <td>-0.430839</td>\n",
              "      <td>-0.389112</td>\n",
              "      <td>-0.350628</td>\n",
              "      <td>-0.263915</td>\n",
              "      <td>-0.423461</td>\n",
              "      <td>-0.413812</td>\n",
              "      <td>-0.280102</td>\n",
              "      <td>-0.292081</td>\n",
              "      <td>-0.331476</td>\n",
              "      <td>-0.246973</td>\n",
              "      <td>-0.461617</td>\n",
              "      <td>-0.210806</td>\n",
              "      <td>-0.173006</td>\n",
              "      <td>-0.328046</td>\n",
              "      <td>-0.411287</td>\n",
              "      <td>-0.284117</td>\n",
              "      <td>-0.434163</td>\n",
              "      <td>-0.239518</td>\n",
              "      <td>-0.417124</td>\n",
              "      <td>-0.126706</td>\n",
              "      <td>-0.415791</td>\n",
              "    </tr>\n",
              "    <tr>\n",
              "      <th>2</th>\n",
              "      <td>1987/5/22</td>\n",
              "      <td>-0.391430</td>\n",
              "      <td>-0.407081</td>\n",
              "      <td>-0.279582</td>\n",
              "      <td>-0.224405</td>\n",
              "      <td>-0.326882</td>\n",
              "      <td>-0.298685</td>\n",
              "      <td>-0.044473</td>\n",
              "      <td>-0.303468</td>\n",
              "      <td>-0.430254</td>\n",
              "      <td>-0.389112</td>\n",
              "      <td>-0.343732</td>\n",
              "      <td>-0.263915</td>\n",
              "      <td>-0.423461</td>\n",
              "      <td>-0.412489</td>\n",
              "      <td>-0.280102</td>\n",
              "      <td>-0.292271</td>\n",
              "      <td>-0.330036</td>\n",
              "      <td>-0.243629</td>\n",
              "      <td>-0.461273</td>\n",
              "      <td>-0.211331</td>\n",
              "      <td>-0.174009</td>\n",
              "      <td>-0.328006</td>\n",
              "      <td>-0.411032</td>\n",
              "      <td>-0.281505</td>\n",
              "      <td>-0.432679</td>\n",
              "      <td>-0.239749</td>\n",
              "      <td>-0.415721</td>\n",
              "      <td>-0.125964</td>\n",
              "      <td>-0.411386</td>\n",
              "    </tr>\n",
              "    <tr>\n",
              "      <th>3</th>\n",
              "      <td>1987/5/26</td>\n",
              "      <td>-0.387825</td>\n",
              "      <td>-0.404295</td>\n",
              "      <td>-0.277609</td>\n",
              "      <td>-0.222704</td>\n",
              "      <td>-0.326045</td>\n",
              "      <td>-0.290776</td>\n",
              "      <td>-0.037039</td>\n",
              "      <td>-0.301845</td>\n",
              "      <td>-0.429202</td>\n",
              "      <td>-0.388328</td>\n",
              "      <td>-0.337984</td>\n",
              "      <td>-0.263854</td>\n",
              "      <td>-0.417369</td>\n",
              "      <td>-0.408629</td>\n",
              "      <td>-0.280102</td>\n",
              "      <td>-0.292198</td>\n",
              "      <td>-0.330276</td>\n",
              "      <td>-0.236271</td>\n",
              "      <td>-0.459784</td>\n",
              "      <td>-0.210595</td>\n",
              "      <td>-0.167590</td>\n",
              "      <td>-0.327805</td>\n",
              "      <td>-0.406186</td>\n",
              "      <td>-0.279306</td>\n",
              "      <td>-0.427497</td>\n",
              "      <td>-0.238908</td>\n",
              "      <td>-0.411316</td>\n",
              "      <td>-0.125371</td>\n",
              "      <td>-0.411557</td>\n",
              "    </tr>\n",
              "    <tr>\n",
              "      <th>4</th>\n",
              "      <td>1987/5/27</td>\n",
              "      <td>-0.387445</td>\n",
              "      <td>-0.405038</td>\n",
              "      <td>-0.277281</td>\n",
              "      <td>-0.221467</td>\n",
              "      <td>-0.322419</td>\n",
              "      <td>-0.292358</td>\n",
              "      <td>-0.033205</td>\n",
              "      <td>-0.302386</td>\n",
              "      <td>-0.428734</td>\n",
              "      <td>-0.388015</td>\n",
              "      <td>-0.332237</td>\n",
              "      <td>-0.263915</td>\n",
              "      <td>-0.416151</td>\n",
              "      <td>-0.409511</td>\n",
              "      <td>-0.279931</td>\n",
              "      <td>-0.292198</td>\n",
              "      <td>-0.329076</td>\n",
              "      <td>-0.242291</td>\n",
              "      <td>-0.460013</td>\n",
              "      <td>-0.210595</td>\n",
              "      <td>-0.166988</td>\n",
              "      <td>-0.327163</td>\n",
              "      <td>-0.405166</td>\n",
              "      <td>-0.279444</td>\n",
              "      <td>-0.427780</td>\n",
              "      <td>-0.238656</td>\n",
              "      <td>-0.411488</td>\n",
              "      <td>-0.125593</td>\n",
              "      <td>-0.410360</td>\n",
              "    </tr>\n",
              "    <tr>\n",
              "      <th>...</th>\n",
              "      <td>...</td>\n",
              "      <td>...</td>\n",
              "      <td>...</td>\n",
              "      <td>...</td>\n",
              "      <td>...</td>\n",
              "      <td>...</td>\n",
              "      <td>...</td>\n",
              "      <td>...</td>\n",
              "      <td>...</td>\n",
              "      <td>...</td>\n",
              "      <td>...</td>\n",
              "      <td>...</td>\n",
              "      <td>...</td>\n",
              "      <td>...</td>\n",
              "      <td>...</td>\n",
              "      <td>...</td>\n",
              "      <td>...</td>\n",
              "      <td>...</td>\n",
              "      <td>...</td>\n",
              "      <td>...</td>\n",
              "      <td>...</td>\n",
              "      <td>...</td>\n",
              "      <td>...</td>\n",
              "      <td>...</td>\n",
              "      <td>...</td>\n",
              "      <td>...</td>\n",
              "      <td>...</td>\n",
              "      <td>...</td>\n",
              "      <td>...</td>\n",
              "      <td>...</td>\n",
              "    </tr>\n",
              "    <tr>\n",
              "      <th>5994</th>\n",
              "      <td>2011/2/25</td>\n",
              "      <td>0.511917</td>\n",
              "      <td>0.298127</td>\n",
              "      <td>0.645838</td>\n",
              "      <td>0.721314</td>\n",
              "      <td>0.302581</td>\n",
              "      <td>0.274685</td>\n",
              "      <td>-0.006340</td>\n",
              "      <td>0.556022</td>\n",
              "      <td>0.292033</td>\n",
              "      <td>0.408916</td>\n",
              "      <td>0.102186</td>\n",
              "      <td>0.400664</td>\n",
              "      <td>0.530092</td>\n",
              "      <td>0.397009</td>\n",
              "      <td>0.672271</td>\n",
              "      <td>0.149189</td>\n",
              "      <td>-0.057084</td>\n",
              "      <td>0.282338</td>\n",
              "      <td>0.337282</td>\n",
              "      <td>0.071653</td>\n",
              "      <td>0.616259</td>\n",
              "      <td>0.204808</td>\n",
              "      <td>0.530306</td>\n",
              "      <td>0.614195</td>\n",
              "      <td>0.341029</td>\n",
              "      <td>0.259261</td>\n",
              "      <td>0.379982</td>\n",
              "      <td>0.592241</td>\n",
              "      <td>0.387630</td>\n",
              "    </tr>\n",
              "    <tr>\n",
              "      <th>5995</th>\n",
              "      <td>2011/2/28</td>\n",
              "      <td>0.535961</td>\n",
              "      <td>0.293491</td>\n",
              "      <td>0.663194</td>\n",
              "      <td>0.730517</td>\n",
              "      <td>0.299669</td>\n",
              "      <td>0.275341</td>\n",
              "      <td>-0.003232</td>\n",
              "      <td>0.558214</td>\n",
              "      <td>0.295475</td>\n",
              "      <td>0.436387</td>\n",
              "      <td>0.121613</td>\n",
              "      <td>0.401606</td>\n",
              "      <td>0.536525</td>\n",
              "      <td>0.399973</td>\n",
              "      <td>0.683764</td>\n",
              "      <td>0.149695</td>\n",
              "      <td>-0.052705</td>\n",
              "      <td>0.282498</td>\n",
              "      <td>0.363679</td>\n",
              "      <td>0.066405</td>\n",
              "      <td>0.613692</td>\n",
              "      <td>0.210516</td>\n",
              "      <td>0.549915</td>\n",
              "      <td>0.630555</td>\n",
              "      <td>0.346501</td>\n",
              "      <td>0.259517</td>\n",
              "      <td>0.387699</td>\n",
              "      <td>0.597729</td>\n",
              "      <td>0.374084</td>\n",
              "    </tr>\n",
              "    <tr>\n",
              "      <th>5996</th>\n",
              "      <td>2011/3/1</td>\n",
              "      <td>0.514467</td>\n",
              "      <td>0.305259</td>\n",
              "      <td>0.654253</td>\n",
              "      <td>0.700136</td>\n",
              "      <td>0.280692</td>\n",
              "      <td>0.268460</td>\n",
              "      <td>0.003920</td>\n",
              "      <td>0.549792</td>\n",
              "      <td>0.296822</td>\n",
              "      <td>0.423955</td>\n",
              "      <td>0.103208</td>\n",
              "      <td>0.399565</td>\n",
              "      <td>0.522683</td>\n",
              "      <td>0.395597</td>\n",
              "      <td>0.669207</td>\n",
              "      <td>0.142611</td>\n",
              "      <td>-0.053973</td>\n",
              "      <td>0.265000</td>\n",
              "      <td>0.352827</td>\n",
              "      <td>0.065328</td>\n",
              "      <td>0.601433</td>\n",
              "      <td>0.200125</td>\n",
              "      <td>0.531299</td>\n",
              "      <td>0.620132</td>\n",
              "      <td>0.330926</td>\n",
              "      <td>0.250086</td>\n",
              "      <td>0.374153</td>\n",
              "      <td>0.614711</td>\n",
              "      <td>0.374790</td>\n",
              "    </tr>\n",
              "    <tr>\n",
              "      <th>5997</th>\n",
              "      <td>2011/3/2</td>\n",
              "      <td>0.524910</td>\n",
              "      <td>0.299553</td>\n",
              "      <td>0.660249</td>\n",
              "      <td>0.711121</td>\n",
              "      <td>0.275169</td>\n",
              "      <td>0.266331</td>\n",
              "      <td>0.023659</td>\n",
              "      <td>0.553022</td>\n",
              "      <td>0.295326</td>\n",
              "      <td>0.406309</td>\n",
              "      <td>0.109752</td>\n",
              "      <td>0.416990</td>\n",
              "      <td>0.514690</td>\n",
              "      <td>0.390938</td>\n",
              "      <td>0.676102</td>\n",
              "      <td>0.141262</td>\n",
              "      <td>-0.052590</td>\n",
              "      <td>0.258739</td>\n",
              "      <td>0.354440</td>\n",
              "      <td>0.066674</td>\n",
              "      <td>0.602652</td>\n",
              "      <td>0.198661</td>\n",
              "      <td>0.538745</td>\n",
              "      <td>0.617493</td>\n",
              "      <td>0.332499</td>\n",
              "      <td>0.252327</td>\n",
              "      <td>0.374860</td>\n",
              "      <td>0.625983</td>\n",
              "      <td>0.390194</td>\n",
              "    </tr>\n",
              "    <tr>\n",
              "      <th>5998</th>\n",
              "      <td>2011/3/3</td>\n",
              "      <td>0.543004</td>\n",
              "      <td>0.313104</td>\n",
              "      <td>0.667823</td>\n",
              "      <td>0.743581</td>\n",
              "      <td>0.296657</td>\n",
              "      <td>0.287299</td>\n",
              "      <td>0.009938</td>\n",
              "      <td>0.561560</td>\n",
              "      <td>0.295924</td>\n",
              "      <td>0.420145</td>\n",
              "      <td>0.110161</td>\n",
              "      <td>0.436298</td>\n",
              "      <td>0.519369</td>\n",
              "      <td>0.392915</td>\n",
              "      <td>0.692630</td>\n",
              "      <td>0.143286</td>\n",
              "      <td>-0.046599</td>\n",
              "      <td>0.272706</td>\n",
              "      <td>0.357960</td>\n",
              "      <td>0.070711</td>\n",
              "      <td>0.623962</td>\n",
              "      <td>0.211687</td>\n",
              "      <td>0.558105</td>\n",
              "      <td>0.637944</td>\n",
              "      <td>0.349297</td>\n",
              "      <td>0.262980</td>\n",
              "      <td>0.390264</td>\n",
              "      <td>0.616787</td>\n",
              "      <td>0.383086</td>\n",
              "    </tr>\n",
              "  </tbody>\n",
              "</table>\n",
              "<p>5999 rows × 30 columns</p>\n",
              "</div>"
            ],
            "text/plain": [
              "           Date       MMM        KO  ...       DOW        BP         y\n",
              "0     1987/5/20 -0.391240 -0.408381  ... -0.417921 -0.125371 -0.417194\n",
              "1     1987/5/21 -0.392379 -0.408753  ... -0.417124 -0.126706 -0.415791\n",
              "2     1987/5/22 -0.391430 -0.407081  ... -0.415721 -0.125964 -0.411386\n",
              "3     1987/5/26 -0.387825 -0.404295  ... -0.411316 -0.125371 -0.411557\n",
              "4     1987/5/27 -0.387445 -0.405038  ... -0.411488 -0.125593 -0.410360\n",
              "...         ...       ...       ...  ...       ...       ...       ...\n",
              "5994  2011/2/25  0.511917  0.298127  ...  0.379982  0.592241  0.387630\n",
              "5995  2011/2/28  0.535961  0.293491  ...  0.387699  0.597729  0.374084\n",
              "5996   2011/3/1  0.514467  0.305259  ...  0.374153  0.614711  0.374790\n",
              "5997   2011/3/2  0.524910  0.299553  ...  0.374860  0.625983  0.390194\n",
              "5998   2011/3/3  0.543004  0.313104  ...  0.390264  0.616787  0.383086\n",
              "\n",
              "[5999 rows x 30 columns]"
            ]
          },
          "metadata": {
            "tags": []
          },
          "execution_count": 100
        }
      ]
    },
    {
      "cell_type": "markdown",
      "metadata": {
        "id": "sRcpRhqtI_7a",
        "colab_type": "text"
      },
      "source": [
        "## 將測試資料讀進來"
      ]
    },
    {
      "cell_type": "code",
      "metadata": {
        "id": "dXG8MaLcpjxW",
        "colab_type": "code",
        "outputId": "00b65111-89fc-4e65-c7e6-1684fd3254c2",
        "colab": {
          "resources": {
            "http://localhost:8080/nbextensions/google.colab/files.js": {
              "data": "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",
              "ok": true,
              "headers": [
                [
                  "content-type",
                  "application/javascript"
                ]
              ],
              "status": 200,
              "status_text": ""
            }
          },
          "base_uri": "https://localhost:8080/",
          "height": 71
        }
      },
      "source": [
        "from google.colab import files\n",
        "uploaded = files.upload()"
      ],
      "execution_count": 101,
      "outputs": [
        {
          "output_type": "display_data",
          "data": {
            "text/html": [
              "\n",
              "     <input type=\"file\" id=\"files-7bc44754-7154-4a16-bbb8-038ac0f12022\" name=\"files[]\" multiple disabled />\n",
              "     <output id=\"result-7bc44754-7154-4a16-bbb8-038ac0f12022\">\n",
              "      Upload widget is only available when the cell has been executed in the\n",
              "      current browser session. Please rerun this cell to enable.\n",
              "      </output>\n",
              "      <script src=\"/nbextensions/google.colab/files.js\"></script> "
            ],
            "text/plain": [
              "<IPython.core.display.HTML object>"
            ]
          },
          "metadata": {
            "tags": []
          }
        },
        {
          "output_type": "stream",
          "text": [
            "Saving test3.csv to test3 (2).csv\n"
          ],
          "name": "stdout"
        }
      ]
    },
    {
      "cell_type": "code",
      "metadata": {
        "id": "1XJaXG9Ppn30",
        "colab_type": "code",
        "colab": {}
      },
      "source": [
        "import io\n",
        "df2 = pd.read_csv(io.BytesIO(uploaded['test3.csv']))"
      ],
      "execution_count": 0,
      "outputs": []
    },
    {
      "cell_type": "code",
      "metadata": {
        "id": "W4xSHbBOpuMd",
        "colab_type": "code",
        "colab": {}
      },
      "source": [
        "df2['y'] = df2['DOW'].shift(-1)"
      ],
      "execution_count": 0,
      "outputs": []
    },
    {
      "cell_type": "code",
      "metadata": {
        "id": "jMOkZzJnpv5I",
        "colab_type": "code",
        "colab": {}
      },
      "source": [
        "df2.iloc[:,[1,2,3,4,5,5,6,7,8,9,10,11,12,13,14,15,16,17,18,19,20,21,22,23,24,25,26,27,28,29]]=normalize(df2.iloc[:,[1,2,3,4,5,5,6,7,8,9,10,11,12,13,14,15,16,17,18,19,20,21,22,23,24,25,26,27,28,29]])"
      ],
      "execution_count": 0,
      "outputs": []
    },
    {
      "cell_type": "code",
      "metadata": {
        "id": "sEnfpRzkpxVp",
        "colab_type": "code",
        "colab": {}
      },
      "source": [
        "df2 = df2.dropna()"
      ],
      "execution_count": 0,
      "outputs": []
    },
    {
      "cell_type": "code",
      "metadata": {
        "id": "qCHfrnoUpyu7",
        "colab_type": "code",
        "colab": {}
      },
      "source": [
        "df1.drop(['Date'], axis=1, inplace=True)"
      ],
      "execution_count": 0,
      "outputs": []
    },
    {
      "cell_type": "code",
      "metadata": {
        "id": "ISPNQt83p2_k",
        "colab_type": "code",
        "colab": {}
      },
      "source": [
        "df2.drop(['Date'], axis=1, inplace=True)"
      ],
      "execution_count": 0,
      "outputs": []
    },
    {
      "cell_type": "code",
      "metadata": {
        "id": "qA7mh10MwF2N",
        "colab_type": "code",
        "outputId": "d7a0eb69-240b-43e0-e736-5e2abcea9aee",
        "colab": {
          "base_uri": "https://localhost:8080/",
          "height": 439
        }
      },
      "source": [
        "df2"
      ],
      "execution_count": 108,
      "outputs": [
        {
          "output_type": "execute_result",
          "data": {
            "text/html": [
              "<div>\n",
              "<style scoped>\n",
              "    .dataframe tbody tr th:only-of-type {\n",
              "        vertical-align: middle;\n",
              "    }\n",
              "\n",
              "    .dataframe tbody tr th {\n",
              "        vertical-align: top;\n",
              "    }\n",
              "\n",
              "    .dataframe thead th {\n",
              "        text-align: right;\n",
              "    }\n",
              "</style>\n",
              "<table border=\"1\" class=\"dataframe\">\n",
              "  <thead>\n",
              "    <tr style=\"text-align: right;\">\n",
              "      <th></th>\n",
              "      <th>MMM</th>\n",
              "      <th>KO</th>\n",
              "      <th>CVX</th>\n",
              "      <th>CAT</th>\n",
              "      <th>BA</th>\n",
              "      <th>AXP</th>\n",
              "      <th>AAPL</th>\n",
              "      <th>XOM</th>\n",
              "      <th>WMT</th>\n",
              "      <th>WBA</th>\n",
              "      <th>VZ</th>\n",
              "      <th>UNH</th>\n",
              "      <th>TRV</th>\n",
              "      <th>PG</th>\n",
              "      <th>NIKE</th>\n",
              "      <th>MSFT</th>\n",
              "      <th>MRK</th>\n",
              "      <th>JPM</th>\n",
              "      <th>JNJ</th>\n",
              "      <th>INTC</th>\n",
              "      <th>IBM</th>\n",
              "      <th>HD</th>\n",
              "      <th>DIS</th>\n",
              "      <th>MCD</th>\n",
              "      <th>SP</th>\n",
              "      <th>NASDAQ</th>\n",
              "      <th>DOW</th>\n",
              "      <th>BP</th>\n",
              "      <th>y</th>\n",
              "    </tr>\n",
              "  </thead>\n",
              "  <tbody>\n",
              "    <tr>\n",
              "      <th>0</th>\n",
              "      <td>-0.315626</td>\n",
              "      <td>-0.332969</td>\n",
              "      <td>-0.091443</td>\n",
              "      <td>-0.014501</td>\n",
              "      <td>-0.282672</td>\n",
              "      <td>-0.390068</td>\n",
              "      <td>0.197009</td>\n",
              "      <td>0.022846</td>\n",
              "      <td>-0.325943</td>\n",
              "      <td>-0.303228</td>\n",
              "      <td>-0.437595</td>\n",
              "      <td>-0.362792</td>\n",
              "      <td>-0.404780</td>\n",
              "      <td>-0.320444</td>\n",
              "      <td>-0.344642</td>\n",
              "      <td>-0.234452</td>\n",
              "      <td>-0.391262</td>\n",
              "      <td>-0.243327</td>\n",
              "      <td>-0.460876</td>\n",
              "      <td>-0.280127</td>\n",
              "      <td>-0.033858</td>\n",
              "      <td>-0.388559</td>\n",
              "      <td>-0.375635</td>\n",
              "      <td>-0.337002</td>\n",
              "      <td>-0.347258</td>\n",
              "      <td>-0.327643</td>\n",
              "      <td>-0.354068</td>\n",
              "      <td>0.393792</td>\n",
              "      <td>-0.347641</td>\n",
              "    </tr>\n",
              "    <tr>\n",
              "      <th>1</th>\n",
              "      <td>-0.308434</td>\n",
              "      <td>-0.325809</td>\n",
              "      <td>-0.082017</td>\n",
              "      <td>0.003201</td>\n",
              "      <td>-0.279645</td>\n",
              "      <td>-0.373889</td>\n",
              "      <td>0.067064</td>\n",
              "      <td>0.021200</td>\n",
              "      <td>-0.320938</td>\n",
              "      <td>-0.295250</td>\n",
              "      <td>-0.421360</td>\n",
              "      <td>-0.361767</td>\n",
              "      <td>-0.403855</td>\n",
              "      <td>-0.315490</td>\n",
              "      <td>-0.343855</td>\n",
              "      <td>-0.233300</td>\n",
              "      <td>-0.388852</td>\n",
              "      <td>-0.232591</td>\n",
              "      <td>-0.457708</td>\n",
              "      <td>-0.281750</td>\n",
              "      <td>-0.014441</td>\n",
              "      <td>-0.387781</td>\n",
              "      <td>-0.374167</td>\n",
              "      <td>-0.342064</td>\n",
              "      <td>-0.342147</td>\n",
              "      <td>-0.324951</td>\n",
              "      <td>-0.347488</td>\n",
              "      <td>0.342732</td>\n",
              "      <td>-0.347709</td>\n",
              "    </tr>\n",
              "    <tr>\n",
              "      <th>2</th>\n",
              "      <td>-0.311524</td>\n",
              "      <td>-0.326150</td>\n",
              "      <td>-0.102233</td>\n",
              "      <td>-0.012465</td>\n",
              "      <td>-0.279514</td>\n",
              "      <td>-0.375898</td>\n",
              "      <td>0.133465</td>\n",
              "      <td>0.018184</td>\n",
              "      <td>-0.318198</td>\n",
              "      <td>-0.292000</td>\n",
              "      <td>-0.415488</td>\n",
              "      <td>-0.359262</td>\n",
              "      <td>-0.400707</td>\n",
              "      <td>-0.316219</td>\n",
              "      <td>-0.344555</td>\n",
              "      <td>-0.233421</td>\n",
              "      <td>-0.383870</td>\n",
              "      <td>-0.231171</td>\n",
              "      <td>-0.460876</td>\n",
              "      <td>-0.280330</td>\n",
              "      <td>0.015138</td>\n",
              "      <td>-0.384897</td>\n",
              "      <td>-0.374819</td>\n",
              "      <td>-0.340444</td>\n",
              "      <td>-0.342934</td>\n",
              "      <td>-0.326829</td>\n",
              "      <td>-0.347556</td>\n",
              "      <td>0.342911</td>\n",
              "      <td>-0.359801</td>\n",
              "    </tr>\n",
              "    <tr>\n",
              "      <th>3</th>\n",
              "      <td>-0.328359</td>\n",
              "      <td>-0.331776</td>\n",
              "      <td>-0.140184</td>\n",
              "      <td>-0.047604</td>\n",
              "      <td>-0.281602</td>\n",
              "      <td>-0.386790</td>\n",
              "      <td>0.170594</td>\n",
              "      <td>-0.022952</td>\n",
              "      <td>-0.318436</td>\n",
              "      <td>-0.301603</td>\n",
              "      <td>-0.424124</td>\n",
              "      <td>-0.361919</td>\n",
              "      <td>-0.408853</td>\n",
              "      <td>-0.323650</td>\n",
              "      <td>-0.346801</td>\n",
              "      <td>-0.236331</td>\n",
              "      <td>-0.390137</td>\n",
              "      <td>-0.240310</td>\n",
              "      <td>-0.468949</td>\n",
              "      <td>-0.288649</td>\n",
              "      <td>-0.016589</td>\n",
              "      <td>-0.387643</td>\n",
              "      <td>-0.380119</td>\n",
              "      <td>-0.334369</td>\n",
              "      <td>-0.353826</td>\n",
              "      <td>-0.333605</td>\n",
              "      <td>-0.359647</td>\n",
              "      <td>0.334371</td>\n",
              "      <td>-0.356636</td>\n",
              "    </tr>\n",
              "    <tr>\n",
              "      <th>4</th>\n",
              "      <td>-0.319835</td>\n",
              "      <td>-0.339959</td>\n",
              "      <td>-0.129642</td>\n",
              "      <td>-0.033177</td>\n",
              "      <td>-0.280688</td>\n",
              "      <td>-0.384041</td>\n",
              "      <td>0.145633</td>\n",
              "      <td>-0.012805</td>\n",
              "      <td>-0.319151</td>\n",
              "      <td>-0.302046</td>\n",
              "      <td>-0.443122</td>\n",
              "      <td>-0.362678</td>\n",
              "      <td>-0.405521</td>\n",
              "      <td>-0.323650</td>\n",
              "      <td>-0.349746</td>\n",
              "      <td>-0.234694</td>\n",
              "      <td>-0.392869</td>\n",
              "      <td>-0.238447</td>\n",
              "      <td>-0.468132</td>\n",
              "      <td>-0.287026</td>\n",
              "      <td>-0.013202</td>\n",
              "      <td>-0.387323</td>\n",
              "      <td>-0.376369</td>\n",
              "      <td>-0.334032</td>\n",
              "      <td>-0.349816</td>\n",
              "      <td>-0.331655</td>\n",
              "      <td>-0.356483</td>\n",
              "      <td>0.320617</td>\n",
              "      <td>-0.359348</td>\n",
              "    </tr>\n",
              "    <tr>\n",
              "      <th>...</th>\n",
              "      <td>...</td>\n",
              "      <td>...</td>\n",
              "      <td>...</td>\n",
              "      <td>...</td>\n",
              "      <td>...</td>\n",
              "      <td>...</td>\n",
              "      <td>...</td>\n",
              "      <td>...</td>\n",
              "      <td>...</td>\n",
              "      <td>...</td>\n",
              "      <td>...</td>\n",
              "      <td>...</td>\n",
              "      <td>...</td>\n",
              "      <td>...</td>\n",
              "      <td>...</td>\n",
              "      <td>...</td>\n",
              "      <td>...</td>\n",
              "      <td>...</td>\n",
              "      <td>...</td>\n",
              "      <td>...</td>\n",
              "      <td>...</td>\n",
              "      <td>...</td>\n",
              "      <td>...</td>\n",
              "      <td>...</td>\n",
              "      <td>...</td>\n",
              "      <td>...</td>\n",
              "      <td>...</td>\n",
              "      <td>...</td>\n",
              "      <td>...</td>\n",
              "    </tr>\n",
              "    <tr>\n",
              "      <th>2218</th>\n",
              "      <td>0.136478</td>\n",
              "      <td>0.442346</td>\n",
              "      <td>0.122993</td>\n",
              "      <td>0.393978</td>\n",
              "      <td>0.393876</td>\n",
              "      <td>0.471516</td>\n",
              "      <td>-0.076740</td>\n",
              "      <td>-0.180500</td>\n",
              "      <td>0.479228</td>\n",
              "      <td>-0.049571</td>\n",
              "      <td>0.443925</td>\n",
              "      <td>0.595266</td>\n",
              "      <td>0.315760</td>\n",
              "      <td>0.617630</td>\n",
              "      <td>0.580956</td>\n",
              "      <td>0.573112</td>\n",
              "      <td>0.551531</td>\n",
              "      <td>0.590229</td>\n",
              "      <td>0.411378</td>\n",
              "      <td>0.508632</td>\n",
              "      <td>-0.237609</td>\n",
              "      <td>0.449389</td>\n",
              "      <td>0.462020</td>\n",
              "      <td>0.485623</td>\n",
              "      <td>0.496624</td>\n",
              "      <td>0.509237</td>\n",
              "      <td>0.522049</td>\n",
              "      <td>-0.410595</td>\n",
              "      <td>0.512205</td>\n",
              "    </tr>\n",
              "    <tr>\n",
              "      <th>2219</th>\n",
              "      <td>0.128860</td>\n",
              "      <td>0.439619</td>\n",
              "      <td>0.117412</td>\n",
              "      <td>0.387252</td>\n",
              "      <td>0.384117</td>\n",
              "      <td>0.462105</td>\n",
              "      <td>-0.078213</td>\n",
              "      <td>-0.186122</td>\n",
              "      <td>0.476964</td>\n",
              "      <td>-0.051196</td>\n",
              "      <td>0.432871</td>\n",
              "      <td>0.587220</td>\n",
              "      <td>0.312891</td>\n",
              "      <td>0.594025</td>\n",
              "      <td>0.571973</td>\n",
              "      <td>0.564809</td>\n",
              "      <td>0.543978</td>\n",
              "      <td>0.585704</td>\n",
              "      <td>0.406779</td>\n",
              "      <td>0.499297</td>\n",
              "      <td>-0.257935</td>\n",
              "      <td>0.437216</td>\n",
              "      <td>0.445876</td>\n",
              "      <td>0.477118</td>\n",
              "      <td>0.488434</td>\n",
              "      <td>0.501133</td>\n",
              "      <td>0.512359</td>\n",
              "      <td>-0.420303</td>\n",
              "      <td>0.516243</td>\n",
              "    </tr>\n",
              "    <tr>\n",
              "      <th>2220</th>\n",
              "      <td>0.132003</td>\n",
              "      <td>0.442346</td>\n",
              "      <td>0.125598</td>\n",
              "      <td>0.388668</td>\n",
              "      <td>0.382447</td>\n",
              "      <td>0.464114</td>\n",
              "      <td>-0.107863</td>\n",
              "      <td>-0.182008</td>\n",
              "      <td>0.470291</td>\n",
              "      <td>-0.050458</td>\n",
              "      <td>0.439434</td>\n",
              "      <td>0.587713</td>\n",
              "      <td>0.317149</td>\n",
              "      <td>0.600290</td>\n",
              "      <td>0.577923</td>\n",
              "      <td>0.565475</td>\n",
              "      <td>0.542693</td>\n",
              "      <td>0.592535</td>\n",
              "      <td>0.412604</td>\n",
              "      <td>0.503964</td>\n",
              "      <td>-0.247772</td>\n",
              "      <td>0.442113</td>\n",
              "      <td>0.452888</td>\n",
              "      <td>0.481843</td>\n",
              "      <td>0.492583</td>\n",
              "      <td>0.504690</td>\n",
              "      <td>0.516396</td>\n",
              "      <td>-0.412303</td>\n",
              "      <td>0.533726</td>\n",
              "    </tr>\n",
              "    <tr>\n",
              "      <th>2221</th>\n",
              "      <td>0.151076</td>\n",
              "      <td>0.430072</td>\n",
              "      <td>0.137008</td>\n",
              "      <td>0.413893</td>\n",
              "      <td>0.402175</td>\n",
              "      <td>0.478495</td>\n",
              "      <td>-0.084124</td>\n",
              "      <td>-0.166651</td>\n",
              "      <td>0.471483</td>\n",
              "      <td>-0.048685</td>\n",
              "      <td>0.427344</td>\n",
              "      <td>0.582096</td>\n",
              "      <td>0.322333</td>\n",
              "      <td>0.578580</td>\n",
              "      <td>0.588306</td>\n",
              "      <td>0.583173</td>\n",
              "      <td>0.560208</td>\n",
              "      <td>0.607530</td>\n",
              "      <td>0.413626</td>\n",
              "      <td>0.524054</td>\n",
              "      <td>-0.236370</td>\n",
              "      <td>0.447971</td>\n",
              "      <td>0.481997</td>\n",
              "      <td>0.503306</td>\n",
              "      <td>0.504420</td>\n",
              "      <td>0.520675</td>\n",
              "      <td>0.533879</td>\n",
              "      <td>-0.412123</td>\n",
              "      <td>0.521347</td>\n",
              "    </tr>\n",
              "    <tr>\n",
              "      <th>2222</th>\n",
              "      <td>0.142818</td>\n",
              "      <td>0.419844</td>\n",
              "      <td>0.131799</td>\n",
              "      <td>0.395395</td>\n",
              "      <td>0.400713</td>\n",
              "      <td>0.465277</td>\n",
              "      <td>-0.076701</td>\n",
              "      <td>-0.174467</td>\n",
              "      <td>0.458971</td>\n",
              "      <td>-0.048685</td>\n",
              "      <td>0.404892</td>\n",
              "      <td>0.570861</td>\n",
              "      <td>0.317797</td>\n",
              "      <td>0.566486</td>\n",
              "      <td>0.585039</td>\n",
              "      <td>0.571052</td>\n",
              "      <td>0.547513</td>\n",
              "      <td>0.583131</td>\n",
              "      <td>0.396355</td>\n",
              "      <td>0.509037</td>\n",
              "      <td>-0.245293</td>\n",
              "      <td>0.444630</td>\n",
              "      <td>0.468136</td>\n",
              "      <td>0.498514</td>\n",
              "      <td>0.494363</td>\n",
              "      <td>0.511129</td>\n",
              "      <td>0.521500</td>\n",
              "      <td>-0.421202</td>\n",
              "      <td>0.524972</td>\n",
              "    </tr>\n",
              "  </tbody>\n",
              "</table>\n",
              "<p>2223 rows × 29 columns</p>\n",
              "</div>"
            ],
            "text/plain": [
              "           MMM        KO       CVX  ...       DOW        BP         y\n",
              "0    -0.315626 -0.332969 -0.091443  ... -0.354068  0.393792 -0.347641\n",
              "1    -0.308434 -0.325809 -0.082017  ... -0.347488  0.342732 -0.347709\n",
              "2    -0.311524 -0.326150 -0.102233  ... -0.347556  0.342911 -0.359801\n",
              "3    -0.328359 -0.331776 -0.140184  ... -0.359647  0.334371 -0.356636\n",
              "4    -0.319835 -0.339959 -0.129642  ... -0.356483  0.320617 -0.359348\n",
              "...        ...       ...       ...  ...       ...       ...       ...\n",
              "2218  0.136478  0.442346  0.122993  ...  0.522049 -0.410595  0.512205\n",
              "2219  0.128860  0.439619  0.117412  ...  0.512359 -0.420303  0.516243\n",
              "2220  0.132003  0.442346  0.125598  ...  0.516396 -0.412303  0.533726\n",
              "2221  0.151076  0.430072  0.137008  ...  0.533879 -0.412123  0.521347\n",
              "2222  0.142818  0.419844  0.131799  ...  0.521500 -0.421202  0.524972\n",
              "\n",
              "[2223 rows x 29 columns]"
            ]
          },
          "metadata": {
            "tags": []
          },
          "execution_count": 108
        }
      ]
    },
    {
      "cell_type": "markdown",
      "metadata": {
        "id": "P_baBT3nJEPU",
        "colab_type": "text"
      },
      "source": [
        "### 建立LSTM模型，LSTM輸入必須是三維的，我們可以把一個二維序列映射成有5個樣本、時間步長為5、28個特徵的三維序列，主要使用兩層lstm以及兩層dense進行預測，activation function 選擇sigmoid，在利用TimeDistributed層來處理LSTM隱藏層的輸出，解決序列預測問題。\n",
        "\n",
        "1. 輸入必須(至少)是三維的。這就意味著需要在TimeDistributed包裝密集層前配置最後一個LSTM層以便返回序列(例如將「return_sequences」參數設置為「True」)\n",
        "2. 輸出將也是三維的。如果TimeDistributed包裝密集層是輸出層，並且是用於預測序列，那麼就得將y數組的大小調整成三維的向量。\n",
        "3. 通過將「return_sequences」參數設置為「True」來定義LSTM隱藏層返回序列而不是單獨的一個值。\n",
        "4. 之後在使用Flatten 壓縮回二維\n",
        "\n",
        "\n",
        "### 定義一個每次有1個輸入的網絡模型，第一個隱藏層是有5個神經元的LSTMs，輸出層是只有一個輸出的全連接層，模型採用有效的ADAM優化算法，均方差誤差作為損失函數。\n",
        "\n"
      ]
    },
    {
      "cell_type": "code",
      "metadata": {
        "id": "h9vHVosop41k",
        "colab_type": "code",
        "colab": {}
      },
      "source": [
        "def lstm_stock_model(shape):\n",
        "    model = Sequential()\n",
        "    model.add(LSTM(256, input_shape=(shape[1], shape[2]), return_sequences=True))\n",
        "    model.add(LSTM(256, return_sequences=True))\n",
        "    model.add(TimeDistributed(Dense(1)))\n",
        "    model.add(Flatten())\n",
        "    model.add(Dense(5,activation='tanh'))\n",
        "    model.add(Dense(1,activation='tanh'))\n",
        "    model.compile(loss=\"mean_absolute_error\", optimizer=\"adam\",metrics=['mean_absolute_error'])\n",
        "    model.summary()\n",
        "    return model"
      ],
      "execution_count": 0,
      "outputs": []
    },
    {
      "cell_type": "code",
      "metadata": {
        "id": "ZJiYlGvWqRf4",
        "colab_type": "code",
        "colab": {}
      },
      "source": [
        "X_train, Y_train = train_windows(df1, 5, 1)\n",
        "X_test, Y_test = train_windows(df2, 5, 1)"
      ],
      "execution_count": 0,
      "outputs": []
    },
    {
      "cell_type": "code",
      "metadata": {
        "id": "bIVP4VlzqkbF",
        "colab_type": "code",
        "outputId": "edade65b-37ad-45e9-9aa0-14ed23701929",
        "colab": {
          "base_uri": "https://localhost:8080/",
          "height": 357
        }
      },
      "source": [
        "model = lstm_stock_model(X_train.shape)\n",
        "callback = EarlyStopping(monitor=\"mean_absolute_error\", patience=10, verbose=5, mode=\"auto\")"
      ],
      "execution_count": 111,
      "outputs": [
        {
          "output_type": "stream",
          "text": [
            "Model: \"sequential_3\"\n",
            "_________________________________________________________________\n",
            "Layer (type)                 Output Shape              Param #   \n",
            "=================================================================\n",
            "lstm_5 (LSTM)                (None, 5, 256)            291840    \n",
            "_________________________________________________________________\n",
            "lstm_6 (LSTM)                (None, 5, 256)            525312    \n",
            "_________________________________________________________________\n",
            "time_distributed_3 (TimeDist (None, 5, 1)              257       \n",
            "_________________________________________________________________\n",
            "flatten_3 (Flatten)          (None, 5)                 0         \n",
            "_________________________________________________________________\n",
            "dense_8 (Dense)              (None, 5)                 30        \n",
            "_________________________________________________________________\n",
            "dense_9 (Dense)              (None, 1)                 6         \n",
            "=================================================================\n",
            "Total params: 817,445\n",
            "Trainable params: 817,445\n",
            "Non-trainable params: 0\n",
            "_________________________________________________________________\n"
          ],
          "name": "stdout"
        }
      ]
    },
    {
      "cell_type": "code",
      "metadata": {
        "id": "jO8twU8lqpHD",
        "colab_type": "code",
        "outputId": "48bdb2e5-e3dd-42a9-cef3-ca7e750f6550",
        "colab": {
          "base_uri": "https://localhost:8080/",
          "height": 224
        }
      },
      "source": [
        "\n",
        "history = model.fit(X_train, Y_train, epochs=5, batch_size=1, validation_split=0.1, callbacks=[callback],shuffle=True)"
      ],
      "execution_count": 112,
      "outputs": [
        {
          "output_type": "stream",
          "text": [
            "Train on 5393 samples, validate on 600 samples\n",
            "Epoch 1/5\n",
            "5393/5393 [==============================] - 113s 21ms/step - loss: 0.0217 - mean_absolute_error: 0.0217 - val_loss: 0.0640 - val_mean_absolute_error: 0.0640\n",
            "Epoch 2/5\n",
            "5393/5393 [==============================] - 110s 20ms/step - loss: 0.0178 - mean_absolute_error: 0.0178 - val_loss: 0.0821 - val_mean_absolute_error: 0.0821\n",
            "Epoch 3/5\n",
            "5393/5393 [==============================] - 109s 20ms/step - loss: 0.0154 - mean_absolute_error: 0.0154 - val_loss: 0.0750 - val_mean_absolute_error: 0.0750\n",
            "Epoch 4/5\n",
            "5393/5393 [==============================] - 109s 20ms/step - loss: 0.0141 - mean_absolute_error: 0.0141 - val_loss: 0.0728 - val_mean_absolute_error: 0.0728\n",
            "Epoch 5/5\n",
            "5393/5393 [==============================] - 110s 20ms/step - loss: 0.0133 - mean_absolute_error: 0.0133 - val_loss: 0.0714 - val_mean_absolute_error: 0.0714\n"
          ],
          "name": "stdout"
        }
      ]
    },
    {
      "cell_type": "code",
      "metadata": {
        "id": "jfyjhE-Z3-4S",
        "colab_type": "code",
        "outputId": "ac09d403-1fcf-4e7d-fcf8-f3c48b390028",
        "colab": {
          "base_uri": "https://localhost:8080/",
          "height": 34
        }
      },
      "source": [
        "score=model.evaluate(X_test,Y_test,verbose=0)\n",
        "score"
      ],
      "execution_count": 113,
      "outputs": [
        {
          "output_type": "execute_result",
          "data": {
            "text/plain": [
              "[0.03101973273582592, 0.03101973794400692]"
            ]
          },
          "metadata": {
            "tags": []
          },
          "execution_count": 113
        }
      ]
    },
    {
      "cell_type": "code",
      "metadata": {
        "id": "-kl4ST-uq1XO",
        "colab_type": "code",
        "outputId": "6ea6b9ab-d75b-4fbd-f63f-9eb553a99552",
        "colab": {
          "base_uri": "https://localhost:8080/",
          "height": 283
        }
      },
      "source": [
        "plt.plot(history.history['loss'])"
      ],
      "execution_count": 114,
      "outputs": [
        {
          "output_type": "execute_result",
          "data": {
            "text/plain": [
              "[<matplotlib.lines.Line2D at 0x7f4dc422e198>]"
            ]
          },
          "metadata": {
            "tags": []
          },
          "execution_count": 114
        },
        {
          "output_type": "display_data",
          "data": {
            "image/png": "[encoded data removed]",
            "text/plain": [
              "<Figure size 432x288 with 1 Axes>"
            ]
          },
          "metadata": {
            "tags": [],
            "needs_background": "light"
          }
        }
      ]
    },
    {
      "cell_type": "code",
      "metadata": {
        "id": "BAi4WlgAtVMr",
        "colab_type": "code",
        "colab": {}
      },
      "source": [
        "real_stock_price = Y_test"
      ],
      "execution_count": 0,
      "outputs": []
    },
    {
      "cell_type": "code",
      "metadata": {
        "id": "n8YaHjlJuhtt",
        "colab_type": "code",
        "outputId": "e361acb8-93b5-4a4a-bc7e-e76f5a5f2c96",
        "colab": {
          "base_uri": "https://localhost:8080/",
          "height": 136
        }
      },
      "source": [
        "real_stock_price"
      ],
      "execution_count": 116,
      "outputs": [
        {
          "output_type": "execute_result",
          "data": {
            "text/plain": [
              "array([[-0.36663749],\n",
              "       [-0.37945071],\n",
              "       [-0.37091509],\n",
              "       ...,\n",
              "       [ 0.5162432 ],\n",
              "       [ 0.53372623],\n",
              "       [ 0.52134697]])"
            ]
          },
          "metadata": {
            "tags": []
          },
          "execution_count": 116
        }
      ]
    },
    {
      "cell_type": "code",
      "metadata": {
        "id": "-IUbRMRntabV",
        "colab_type": "code",
        "outputId": "6df26965-147c-4952-a5af-68159b4c3d70",
        "colab": {
          "base_uri": "https://localhost:8080/",
          "height": 282
        }
      },
      "source": [
        "plt.plot(real_stock_price, color = 'black', label = 'DOW Stock Price')"
      ],
      "execution_count": 117,
      "outputs": [
        {
          "output_type": "execute_result",
          "data": {
            "text/plain": [
              "[<matplotlib.lines.Line2D at 0x7f4dc415d320>]"
            ]
          },
          "metadata": {
            "tags": []
          },
          "execution_count": 117
        },
        {
          "output_type": "display_data",
          "data": {
            "image/png": "[encoded data removed]",
            "text/plain": [
              "<Figure size 432x288 with 1 Axes>"
            ]
          },
          "metadata": {
            "tags": [],
            "needs_background": "light"
          }
        }
      ]
    },
    {
      "cell_type": "code",
      "metadata": {
        "id": "Q3vVZbAGvgdG",
        "colab_type": "code",
        "colab": {}
      },
      "source": [
        "predicted_stock_price = model.predict(X_test)"
      ],
      "execution_count": 0,
      "outputs": []
    },
    {
      "cell_type": "code",
      "metadata": {
        "id": "Ki7I64iJvkyS",
        "colab_type": "code",
        "outputId": "5f486e41-17ac-460d-fa81-09fc112fa5c5",
        "colab": {
          "base_uri": "https://localhost:8080/",
          "height": 282
        }
      },
      "source": [
        "plt.plot(predicted_stock_price, color = 'green', label = 'Predicted DOW Stock Price')"
      ],
      "execution_count": 119,
      "outputs": [
        {
          "output_type": "execute_result",
          "data": {
            "text/plain": [
              "[<matplotlib.lines.Line2D at 0x7f4dc41089b0>]"
            ]
          },
          "metadata": {
            "tags": []
          },
          "execution_count": 119
        },
        {
          "output_type": "display_data",
          "data": {
            "image/png": "[encoded data removed]",
            "text/plain": [
              "<Figure size 432x288 with 1 Axes>"
            ]
          },
          "metadata": {
            "tags": [],
            "needs_background": "light"
          }
        }
      ]
    },
    {
      "cell_type": "code",
      "metadata": {
        "id": "07h_uo1rwddC",
        "colab_type": "code",
        "outputId": "4ff1327f-9950-4f49-b710-b43de3109af9",
        "colab": {
          "base_uri": "https://localhost:8080/",
          "height": 295
        }
      },
      "source": [
        "plt.plot(real_stock_price, color = 'black', label = 'DOW Stock Price')\n",
        "plt.plot(predicted_stock_price, color = 'green', label = 'Predicted DOW Stock Price')\n",
        "plt.title('DOW Stock Price Prediction')\n",
        "plt.xlabel('Time')\n",
        "plt.ylabel('DOW Stock Price')\n",
        "plt.show()"
      ],
      "execution_count": 120,
      "outputs": [
        {
          "output_type": "display_data",
          "data": {
            "image/png": "[encoded data removed]",
            "text/plain": [
              "<Figure size 432x288 with 1 Axes>"
            ]
          },
          "metadata": {
            "tags": [],
            "needs_background": "light"
          }
        }
      ]
    },
    {
      "cell_type": "code",
      "metadata": {
        "id": "Myz3spGHxiHT",
        "colab_type": "code",
        "colab": {}
      },
      "source": [
        "def RNNmodel_predict(n):\n",
        "    print(\"實際的道瓊指數是：\", real_stock_price[n:n+10])\n",
        "    print(\"神經網路RNN的預測是：\", predicted_stock_price[n:n+10])\n",
        " \n",
        "    "
      ],
      "execution_count": 0,
      "outputs": []
    },
    {
      "cell_type": "code",
      "metadata": {
        "id": "2sDAK87oxRrH",
        "colab_type": "code",
        "outputId": "56a82a21-0360-426f-a310-4e14861d11a3",
        "colab": {
          "base_uri": "https://localhost:8080/",
          "height": 98,
          "referenced_widgets": [
            "9b58cce64ed744cebc8b3d45dc00ee71",
            "3c91d59bc10c47d5b9b7ca632d093dea",
            "dd43f12fa31d48f199bad718fbc79efd",
            "cc9e47d2a6094450ab5e60a225ec0ea1",
            "4eccdcd7720140f0a98d73ce770ea926",
            "f87f93052ce6437fb55da34d30bd83cc",
            "b6fe1b20f60b45fc947dace81f391c7c",
            "9f3a99f07bec45c7b371331fa42adf6e",
            "e597a386639a43a38ba02df8d25194af",
            "811ae74ff83e4610a0757e7870085cac"
          ]
        }
      },
      "source": [
        "from ipywidgets import interact_manual\n",
        "interact_manual(RNNmodel_predict, n=(0, 2216))"
      ],
      "execution_count": 122,
      "outputs": [
        {
          "output_type": "display_data",
          "data": {
            "application/vnd.jupyter.widget-view+json": {
              "model_id": "9b58cce64ed744cebc8b3d45dc00ee71",
              "version_minor": 0,
              "version_major": 2
            },
            "text/plain": [
              "interactive(children=(IntSlider(value=1108, description='n', max=2216), Button(description='Run Interact', sty…"
            ]
          },
          "metadata": {
            "tags": []
          }
        },
        {
          "output_type": "execute_result",
          "data": {
            "text/plain": [
              "<function __main__.RNNmodel_predict>"
            ]
          },
          "metadata": {
            "tags": []
          },
          "execution_count": 122
        }
      ]
    },
    {
      "cell_type": "code",
      "metadata": {
        "id": "QuxPTLtoxa4v",
        "colab_type": "code",
        "colab": {}
      },
      "source": [
        "\n",
        "def denormalize(train):\n",
        "  denorm = train.apply(lambda x: x*(np.max(x)-np.min(x)+np.mean(x)))\n",
        "  return denorm\n",
        "  "
      ],
      "execution_count": 0,
      "outputs": []
    },
    {
      "cell_type": "code",
      "metadata": {
        "id": "B5-CwXuwQGPP",
        "colab_type": "code",
        "colab": {}
      },
      "source": [
        "Y_test = pd.DataFrame(Y_test)\n",
        "Y_test.iloc[:,[0]]=normalize(Y_test.iloc[:,[0]])\n"
      ],
      "execution_count": 0,
      "outputs": []
    },
    {
      "cell_type": "code",
      "metadata": {
        "id": "sH2CirzqXRuf",
        "colab_type": "code",
        "colab": {
          "base_uri": "https://localhost:8080/",
          "height": 419
        },
        "outputId": "ed76642b-31ae-4440-a204-78a77aa97907"
      },
      "source": [
        "Y_test"
      ],
      "execution_count": 131,
      "outputs": [
        {
          "output_type": "execute_result",
          "data": {
            "text/html": [
              "<div>\n",
              "<style scoped>\n",
              "    .dataframe tbody tr th:only-of-type {\n",
              "        vertical-align: middle;\n",
              "    }\n",
              "\n",
              "    .dataframe tbody tr th {\n",
              "        vertical-align: top;\n",
              "    }\n",
              "\n",
              "    .dataframe thead th {\n",
              "        text-align: right;\n",
              "    }\n",
              "</style>\n",
              "<table border=\"1\" class=\"dataframe\">\n",
              "  <thead>\n",
              "    <tr style=\"text-align: right;\">\n",
              "      <th></th>\n",
              "      <th>0</th>\n",
              "    </tr>\n",
              "  </thead>\n",
              "  <tbody>\n",
              "    <tr>\n",
              "      <th>0</th>\n",
              "      <td>-0.366409</td>\n",
              "    </tr>\n",
              "    <tr>\n",
              "      <th>1</th>\n",
              "      <td>-0.379703</td>\n",
              "    </tr>\n",
              "    <tr>\n",
              "      <th>2</th>\n",
              "      <td>-0.370847</td>\n",
              "    </tr>\n",
              "    <tr>\n",
              "      <th>3</th>\n",
              "      <td>-0.366239</td>\n",
              "    </tr>\n",
              "    <tr>\n",
              "      <th>4</th>\n",
              "      <td>-0.356466</td>\n",
              "    </tr>\n",
              "    <tr>\n",
              "      <th>...</th>\n",
              "      <td>...</td>\n",
              "    </tr>\n",
              "    <tr>\n",
              "      <th>2212</th>\n",
              "      <td>0.555425</td>\n",
              "    </tr>\n",
              "    <tr>\n",
              "      <th>2213</th>\n",
              "      <td>0.545371</td>\n",
              "    </tr>\n",
              "    <tr>\n",
              "      <th>2214</th>\n",
              "      <td>0.549561</td>\n",
              "    </tr>\n",
              "    <tr>\n",
              "      <th>2215</th>\n",
              "      <td>0.567699</td>\n",
              "    </tr>\n",
              "    <tr>\n",
              "      <th>2216</th>\n",
              "      <td>0.554856</td>\n",
              "    </tr>\n",
              "  </tbody>\n",
              "</table>\n",
              "<p>2217 rows × 1 columns</p>\n",
              "</div>"
            ],
            "text/plain": [
              "             0\n",
              "0    -0.366409\n",
              "1    -0.379703\n",
              "2    -0.370847\n",
              "3    -0.366239\n",
              "4    -0.356466\n",
              "...        ...\n",
              "2212  0.555425\n",
              "2213  0.545371\n",
              "2214  0.549561\n",
              "2215  0.567699\n",
              "2216  0.554856\n",
              "\n",
              "[2217 rows x 1 columns]"
            ]
          },
          "metadata": {
            "tags": []
          },
          "execution_count": 131
        }
      ]
    },
    {
      "cell_type": "code",
      "metadata": {
        "id": "m2ZdolqgbZ-S",
        "colab_type": "code",
        "colab": {}
      },
      "source": [
        "predicted_stock_price= pd.DataFrame(predicted_stock_price)\n",
        "predicted_stock_price= denormalize(predicted_stock_price)\n"
      ],
      "execution_count": 0,
      "outputs": []
    },
    {
      "cell_type": "code",
      "metadata": {
        "id": "ke8fGI76Shqy",
        "colab_type": "code",
        "colab": {
          "base_uri": "https://localhost:8080/",
          "height": 295
        },
        "outputId": "435abdaa-0ddd-4ed6-c090-e5eef00f1f47"
      },
      "source": [
        "import matplotlib.pyplot as plt \n",
        "plt.plot(Y_test, color = 'red', label = 'Real Price')  # 紅線表示真實股價\n",
        "plt.plot(predicted_stock_price, color = 'blue', label = 'Predicted Price')  # 藍線表示預測股價\n",
        "plt.title('Price Prediction')\n",
        "plt.xlabel('Time')\n",
        "plt.ylabel('Stock Price')\n",
        "plt.legend()\n",
        "plt.show()"
      ],
      "execution_count": 135,
      "outputs": [
        {
          "output_type": "display_data",
          "data": {
            "image/png": "[encoded data removed]",
            "text/plain": [
              "<Figure size 432x288 with 1 Axes>"
            ]
          },
          "metadata": {
            "tags": [],
            "needs_background": "light"
          }
        }
      ]
    },
    {
      "cell_type": "code",
      "metadata": {
        "id": "D1-WUSu-Sk1u",
        "colab_type": "code",
        "colab": {}
      },
      "source": [
        ""
      ],
      "execution_count": 0,
      "outputs": []
    }
  ]
}