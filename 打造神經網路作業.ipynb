{
  "nbformat": 4,
  "nbformat_minor": 0,
  "metadata": {
    "colab": {
      "name": "打造神經網路作業",
      "provenance": [],
      "collapsed_sections": [],
      "authorship_tag": "ABX9TyNrU6/F9jFm+G6nlwvAFBSN",
      "include_colab_link": true
    },
    "kernelspec": {
      "name": "python3",
      "display_name": "Python 3"
    }
  },
  "cells": [
    {
      "cell_type": "markdown",
      "metadata": {
        "id": "view-in-github",
        "colab_type": "text"
      },
      "source": [
        "<a href=\"https://colab.research.google.com/github/Willlee0225/nbviewer/blob/master/%E6%89%93%E9%80%A0%E7%A5%9E%E7%B6%93%E7%B6%B2%E8%B7%AF%E4%BD%9C%E6%A5%AD.ipynb\" target=\"_parent\"><img src=\"https://colab.research.google.com/assets/colab-badge.svg\" alt=\"Open In Colab\"/></a>"
      ]
    },
    {
      "cell_type": "code",
      "metadata": {
        "id": "0EwMUcOFuzDH",
        "colab_type": "code",
        "colab": {}
      },
      "source": [
        "%matplotlib inline\n",
        "\n",
        "import numpy as np\n",
        "import matplotlib.pyplot as plt\n",
        "\n",
        "%tensorflow_version 2.x"
      ],
      "execution_count": 0,
      "outputs": []
    },
    {
      "cell_type": "code",
      "metadata": {
        "id": "I4tjYohOu9yp",
        "colab_type": "code",
        "colab": {}
      },
      "source": [
        "import tensorflow as tf"
      ],
      "execution_count": 0,
      "outputs": []
    },
    {
      "cell_type": "markdown",
      "metadata": {
        "id": "8uZO9F7QvOjx",
        "colab_type": "text"
      },
      "source": [
        "##1. 讀入 Fashion MNSIT 數據集"
      ]
    },
    {
      "cell_type": "code",
      "metadata": {
        "id": "QwOYzqJ5vPiH",
        "colab_type": "code",
        "colab": {}
      },
      "source": [
        "from tensorflow.keras.datasets import fashion_mnist\n"
      ],
      "execution_count": 0,
      "outputs": []
    },
    {
      "cell_type": "code",
      "metadata": {
        "id": "2SIx2HEUvQE0",
        "colab_type": "code",
        "colab": {}
      },
      "source": [
        "(x_train, y_train), (x_test, y_test) = fashion_mnist.load_data()"
      ],
      "execution_count": 0,
      "outputs": []
    },
    {
      "cell_type": "markdown",
      "metadata": {
        "id": "xB4bti28yw9B",
        "colab_type": "text"
      },
      "source": [
        "##2. 欣賞數據集內容\n"
      ]
    },
    {
      "cell_type": "code",
      "metadata": {
        "id": "zN9d6PuMy1YG",
        "colab_type": "code",
        "outputId": "5e1bc3ae-9b46-46e8-9368-337fe03cb9c3",
        "colab": {
          "base_uri": "https://localhost:8080/",
          "height": 34
        }
      },
      "source": [
        "len(x_train)"
      ],
      "execution_count": 26,
      "outputs": [
        {
          "output_type": "execute_result",
          "data": {
            "text/plain": [
              "60000"
            ]
          },
          "metadata": {
            "tags": []
          },
          "execution_count": 26
        }
      ]
    },
    {
      "cell_type": "code",
      "metadata": {
        "id": "kB0dMKcEy9ue",
        "colab_type": "code",
        "outputId": "a6a0b873-c9b6-4c9f-fdb2-9811e8e363a6",
        "colab": {
          "base_uri": "https://localhost:8080/",
          "height": 34
        }
      },
      "source": [
        "len(x_test)"
      ],
      "execution_count": 27,
      "outputs": [
        {
          "output_type": "execute_result",
          "data": {
            "text/plain": [
              "10000"
            ]
          },
          "metadata": {
            "tags": []
          },
          "execution_count": 27
        }
      ]
    },
    {
      "cell_type": "markdown",
      "metadata": {
        "id": "VZq_8x2Rui7N",
        "colab_type": "text"
      },
      "source": [
        "##觀察資料\n",
        "### 有十個類別"
      ]
    },
    {
      "cell_type": "code",
      "metadata": {
        "id": "8Wfvt0vzy_eB",
        "colab_type": "code",
        "colab": {}
      },
      "source": [
        "class_names = ['T-shirt/top', 'Trouser', 'Pullover', 'Dress', 'Coat',\n",
        "               'Sandal', 'Shirt', 'Sneaker', 'Bag', 'Ankle boot']"
      ],
      "execution_count": 0,
      "outputs": []
    },
    {
      "cell_type": "code",
      "metadata": {
        "id": "Y98dgu-zzUPR",
        "colab_type": "code",
        "outputId": "1edf8846-6693-4cb2-86ab-7c811020c488",
        "colab": {
          "base_uri": "https://localhost:8080/",
          "height": 1000
        }
      },
      "source": [
        "n=2000\n",
        "x_train[n]"
      ],
      "execution_count": 29,
      "outputs": [
        {
          "output_type": "execute_result",
          "data": {
            "text/plain": [
              "array([[  0,   0,   0,   0,   0,   0,   0,   0,   0,   0,   0,   0,   0,\n",
              "         53,  70,  30,   0,   0,   0,   0,   0,   0,   0,   0,   0,   0,\n",
              "          0,   0],\n",
              "       [  0,   0,   0,   0,   0,   0,   0,   0,   0,   0,  83, 223, 220,\n",
              "        231, 233, 231, 218, 191,  33,   0,   0,   1,   0,   0,   0,   0,\n",
              "          0,   0],\n",
              "       [  0,   0,   0,   0,   0,   0,   0,   0,   0, 142, 248, 228, 215,\n",
              "        217, 219, 219, 220, 235, 234, 107,   0,   0,   1,   0,   0,   0,\n",
              "          0,   0],\n",
              "       [  0,   0,   0,   0,   0,   0,   3,   0,  69, 245, 221, 229, 213,\n",
              "        219, 206, 210, 217, 222, 218, 243,  64,   0,   4,   0,   0,   0,\n",
              "          0,   0],\n",
              "       [  0,   0,   0,   0,   0,   0,   0,   0, 116, 231, 224, 230, 222,\n",
              "        217, 222, 224, 215, 215, 222, 219,   0,   0,   0,   0,   0,   0,\n",
              "          0,   0],\n",
              "       [  0,   0,   0,   0,   1,   0,   0, 193, 238, 216, 222, 218, 213,\n",
              "        211, 208, 210, 217, 224, 217, 222, 169,   0,   0,   0,   0,   0,\n",
              "          0,   0],\n",
              "       [  0,   0,   0,   0,   2,   0,  66, 230, 210, 217, 217, 212, 214,\n",
              "        224, 221, 216, 212, 214, 218, 212, 236, 115,   0,   2,   0,   0,\n",
              "          0,   0],\n",
              "       [  0,   0,   0,   0,   0,   0, 167, 227, 212, 216, 222, 222, 220,\n",
              "        219, 217, 216, 216, 219, 221, 217, 221, 188,   0,   0,   0,   0,\n",
              "          0,   0],\n",
              "       [  0,   0,   0,   0,   0,   0, 220, 223, 219, 217, 215, 216, 216,\n",
              "        216, 215, 218, 220, 216, 218, 213, 216, 193,   0,   0,   0,   0,\n",
              "          0,   0],\n",
              "       [  0,   0,   0,   0,   0,   0, 208, 223, 227, 216, 215, 214, 215,\n",
              "        211, 213, 217, 211, 214, 209, 218, 208, 212,  20,   0,   0,   0,\n",
              "          0,   0],\n",
              "       [  0,   0,   0,   0,   0,  29, 222, 218, 234, 221, 211, 211, 212,\n",
              "        207, 211, 214, 210, 210, 207, 233, 207, 222,  63,   0,   0,   0,\n",
              "          0,   0],\n",
              "       [  0,   0,   0,   0,   0,  74, 228, 217, 236, 222, 209, 209, 210,\n",
              "        209, 218, 211, 210, 206, 211, 236, 207, 224, 128,   0,   0,   0,\n",
              "          0,   0],\n",
              "       [  0,   0,   0,   0,   0, 128, 228, 220, 239, 219, 214, 210, 215,\n",
              "        205, 201, 215, 211, 209, 211, 243, 215, 222, 164,   0,   0,   0,\n",
              "          0,   0],\n",
              "       [  0,   0,   0,   0,   0, 163, 224, 220, 242, 221, 213, 211, 215,\n",
              "        210, 212, 210, 213, 211, 212, 247, 220, 220, 205,   0,   0,   0,\n",
              "          0,   0],\n",
              "       [  0,   0,   0,   0,   0, 193, 222, 218, 246, 229, 212, 211, 217,\n",
              "        212, 211, 211, 212, 213, 212, 251, 219, 215, 236,   0,   0,   0,\n",
              "          0,   0],\n",
              "       [  0,   0,   0,   0,   0, 220, 219, 216, 242, 231, 216, 211, 219,\n",
              "        209, 210, 209, 208, 213, 216, 222, 223, 214, 250,   0,   0,   0,\n",
              "          0,   0],\n",
              "       [  0,   0,   0,   0,   0, 238, 216, 219, 242, 221, 220, 214, 222,\n",
              "        213, 216, 213, 210, 212, 231, 113, 227, 217, 250,  25,   0,   0,\n",
              "          0,   0],\n",
              "       [  0,   0,   0,   0,   0, 248, 211, 236, 180, 218, 225, 212, 219,\n",
              "        214, 214, 214, 210, 204, 241, 114, 207, 220, 245,  55,   0,   0,\n",
              "          0,   0],\n",
              "       [  0,   0,   0,   0,   5, 252, 214, 225, 150, 234, 222, 215, 215,\n",
              "        219, 219, 215, 212, 208, 230, 163, 197, 220, 243,  78,   0,   0,\n",
              "          0,   0],\n",
              "       [  0,   0,   0,   0,  27, 250, 217, 200, 181, 232, 214, 218, 221,\n",
              "        204, 207, 216, 215, 208, 212, 208, 215, 217, 241,  91,   0,   0,\n",
              "          0,   0],\n",
              "       [  0,   0,   0,   0,  48, 251, 219, 189, 205, 229, 224, 216, 220,\n",
              "        221, 216, 215, 214, 214, 211, 210, 223, 210, 235, 100,   0,   0,\n",
              "          0,   0],\n",
              "       [  0,   0,   0,   0,  69, 254, 214, 226, 228, 216, 221, 219, 217,\n",
              "        219, 218, 216, 215, 215, 210, 211, 230, 210, 231, 116,   0,   0,\n",
              "          0,   0],\n",
              "       [  0,   0,   0,   0,  96, 250, 205, 243, 223, 215, 222, 218, 215,\n",
              "        219, 220, 216, 217, 215, 212, 208, 232, 221, 225, 133,   0,   0,\n",
              "          0,   0],\n",
              "       [  0,   0,   0,   0, 106, 246, 207, 239, 222, 216, 221, 219, 218,\n",
              "        220, 220, 214, 215, 213, 211, 208, 230, 225, 224, 144,   0,   0,\n",
              "          0,   0],\n",
              "       [  0,   0,   0,   0, 135, 222, 216, 234, 222, 216, 217, 218, 219,\n",
              "        226, 224, 217, 218, 216, 214, 210, 231, 226, 226, 144,   0,   0,\n",
              "          0,   0],\n",
              "       [  0,   0,   0,   0, 174, 220, 211, 228, 224, 214, 208, 212, 212,\n",
              "        219, 221, 214, 214, 209, 207, 208, 224, 224, 212, 136,   0,   0,\n",
              "          0,   0],\n",
              "       [  0,   0,   0,   0, 198, 223, 240, 194, 255, 255, 255, 255, 245,\n",
              "        233, 242, 248, 250, 252, 252, 255, 254, 227, 255, 198,   0,   0,\n",
              "          0,   0],\n",
              "       [  0,   0,   0,   0,   0,  24,   8,   0,  32,  73, 101, 114, 148,\n",
              "        172, 164, 142, 130, 114, 108,  66,   1, 139, 131,  58,   0,   0,\n",
              "          0,   0]], dtype=uint8)"
            ]
          },
          "metadata": {
            "tags": []
          },
          "execution_count": 29
        }
      ]
    },
    {
      "cell_type": "code",
      "metadata": {
        "id": "q5Q2gfmIzZeX",
        "colab_type": "code",
        "outputId": "6d935c09-33ab-4e90-9155-6270269ef7f7",
        "colab": {
          "base_uri": "https://localhost:8080/",
          "height": 34
        }
      },
      "source": [
        "y_train[n]"
      ],
      "execution_count": 30,
      "outputs": [
        {
          "output_type": "execute_result",
          "data": {
            "text/plain": [
              "4"
            ]
          },
          "metadata": {
            "tags": []
          },
          "execution_count": 30
        }
      ]
    },
    {
      "cell_type": "markdown",
      "metadata": {
        "id": "uS1G0JwDvzwj",
        "colab_type": "text"
      },
      "source": [
        "##將顏色稍微改變了一下"
      ]
    },
    {
      "cell_type": "code",
      "metadata": {
        "id": "g9J7R5HYzJu_",
        "colab_type": "code",
        "outputId": "990b65f4-1f29-49d1-8f6d-0b8d28f2f8fa",
        "colab": {
          "base_uri": "https://localhost:8080/",
          "height": 282
        }
      },
      "source": [
        "n = 2000\n",
        "print('這是', class_names[y_train[n]])\n",
        "plt.imshow(x_train[n], cmap='Greens');"
      ],
      "execution_count": 31,
      "outputs": [
        {
          "output_type": "stream",
          "text": [
            "這是 Coat\n"
          ],
          "name": "stdout"
        },
        {
          "output_type": "display_data",
          "data": {
            "image/png": "[encoded data removed]",
            "text/plain": [
              "<Figure size 432x288 with 1 Axes>"
            ]
          },
          "metadata": {
            "tags": []
          }
        }
      ]
    },
    {
      "cell_type": "code",
      "metadata": {
        "id": "M0aNWFk8vBFf",
        "colab_type": "code",
        "colab": {}
      },
      "source": [
        ""
      ],
      "execution_count": 0,
      "outputs": []
    },
    {
      "cell_type": "markdown",
      "metadata": {
        "id": "F6zCTNdcvGp8",
        "colab_type": "text"
      },
      "source": [
        "##看一下每個種類長怎樣"
      ]
    },
    {
      "cell_type": "code",
      "metadata": {
        "id": "5fka3CCNzqaV",
        "colab_type": "code",
        "outputId": "137d21c4-6178-4dcb-a865-3ff52a8a7c46",
        "colab": {
          "base_uri": "https://localhost:8080/",
          "height": 1000
        }
      },
      "source": [
        "pick = np.random.choice(60000, 10, replace=False)\n",
        "\n",
        "for i in range(10):\n",
        "    n = pick[i]\n",
        "    a = plt.figure(figsize=(15,15))\n",
        "    ax = a.add_subplot(1,10,i+1)\n",
        "    ax.set_xticks([])\n",
        "    ax.set_yticks([])\n",
        "    ax.set_title(class_names[y_train[n]], fontsize=10)\n",
        "    plt.imshow(x_train[n], cmap='Greens')"
      ],
      "execution_count": 40,
      "outputs": [
        {
          "output_type": "display_data",
          "data": {
            "image/png": "[encoded data removed]",
            "text/plain": [
              "<Figure size 1080x1080 with 1 Axes>"
            ]
          },
          "metadata": {
            "tags": []
          }
        },
        {
          "output_type": "display_data",
          "data": {
            "image/png": "[encoded data removed]",
            "text/plain": [
              "<Figure size 1080x1080 with 1 Axes>"
            ]
          },
          "metadata": {
            "tags": []
          }
        },
        {
          "output_type": "display_data",
          "data": {
            "image/png": "[encoded data removed]",
            "text/plain": [
              "<Figure size 1080x1080 with 1 Axes>"
            ]
          },
          "metadata": {
            "tags": []
          }
        },
        {
          "output_type": "display_data",
          "data": {
            "image/png": "[encoded data removed]",
            "text/plain": [
              "<Figure size 1080x1080 with 1 Axes>"
            ]
          },
          "metadata": {
            "tags": []
          }
        },
        {
          "output_type": "display_data",
          "data": {
            "image/png": "[encoded data removed]",
            "text/plain": [
              "<Figure size 1080x1080 with 1 Axes>"
            ]
          },
          "metadata": {
            "tags": []
          }
        },
        {
          "output_type": "display_data",
          "data": {
            "image/png": "[encoded data removed]",
            "text/plain": [
              "<Figure size 1080x1080 with 1 Axes>"
            ]
          },
          "metadata": {
            "tags": []
          }
        },
        {
          "output_type": "display_data",
          "data": {
            "image/png": "[encoded data removed]",
            "text/plain": [
              "<Figure size 1080x1080 with 1 Axes>"
            ]
          },
          "metadata": {
            "tags": []
          }
        },
        {
          "output_type": "display_data",
          "data": {
            "image/png": "[encoded data removed]",
            "text/plain": [
              "<Figure size 1080x1080 with 1 Axes>"
            ]
          },
          "metadata": {
            "tags": []
          }
        },
        {
          "output_type": "display_data",
          "data": {
            "image/png": "[encoded data removed]",
            "text/plain": [
              "<Figure size 1080x1080 with 1 Axes>"
            ]
          },
          "metadata": {
            "tags": []
          }
        },
        {
          "output_type": "display_data",
          "data": {
            "image/png": "[encoded data removed]",
            "text/plain": [
              "<Figure size 1080x1080 with 1 Axes>"
            ]
          },
          "metadata": {
            "tags": []
          }
        }
      ]
    },
    {
      "cell_type": "markdown",
      "metadata": {
        "id": "HpK3Z56Xzkql",
        "colab_type": "text"
      },
      "source": [
        "##3. 資料整理"
      ]
    },
    {
      "cell_type": "markdown",
      "metadata": {
        "id": "bDVrT--TvXY3",
        "colab_type": "text"
      },
      "source": [
        "###先將資料標準化"
      ]
    },
    {
      "cell_type": "code",
      "metadata": {
        "id": "iJmaedhozPNk",
        "colab_type": "code",
        "colab": {}
      },
      "source": [
        "x_train = x_train/300\n",
        "x_test = x_test/300"
      ],
      "execution_count": 0,
      "outputs": []
    },
    {
      "cell_type": "code",
      "metadata": {
        "id": "ePwhzsS1z2Yh",
        "colab_type": "code",
        "outputId": "465f33a3-a2aa-4704-8702-12059fe4d8f1",
        "colab": {
          "base_uri": "https://localhost:8080/",
          "height": 34
        }
      },
      "source": [
        "x_train.shape"
      ],
      "execution_count": 42,
      "outputs": [
        {
          "output_type": "execute_result",
          "data": {
            "text/plain": [
              "(60000, 28, 28)"
            ]
          },
          "metadata": {
            "tags": []
          },
          "execution_count": 42
        }
      ]
    },
    {
      "cell_type": "code",
      "metadata": {
        "id": "lz9_3XkVz4wx",
        "colab_type": "code",
        "colab": {}
      },
      "source": [
        "x_train = x_train.reshape(60000, 784)\n",
        "x_test = x_test.reshape(10000, 784)"
      ],
      "execution_count": 0,
      "outputs": []
    },
    {
      "cell_type": "markdown",
      "metadata": {
        "id": "bOh6bmsIwLUh",
        "colab_type": "text"
      },
      "source": [
        "###將y改成one hot encoding，因為有十種，所以輸出十種"
      ]
    },
    {
      "cell_type": "code",
      "metadata": {
        "id": "zS3zAKBbz8AN",
        "colab_type": "code",
        "outputId": "c2cb7551-e7d7-4674-ee79-42cb5481c735",
        "colab": {
          "base_uri": "https://localhost:8080/",
          "height": 34
        }
      },
      "source": [
        "from tensorflow.keras.utils import to_categorical\n",
        "y_train = to_categorical(y_train, 10)\n",
        "y_test = to_categorical(y_test, 10)\n",
        "y_train[2000]"
      ],
      "execution_count": 44,
      "outputs": [
        {
          "output_type": "execute_result",
          "data": {
            "text/plain": [
              "array([0., 0., 0., 0., 1., 0., 0., 0., 0., 0.], dtype=float32)"
            ]
          },
          "metadata": {
            "tags": []
          },
          "execution_count": 44
        }
      ]
    },
    {
      "cell_type": "markdown",
      "metadata": {
        "id": "VuYZJaTH0C_B",
        "colab_type": "text"
      },
      "source": [
        "##4.打造神經網路"
      ]
    },
    {
      "cell_type": "code",
      "metadata": {
        "id": "WcKhAms70Dlm",
        "colab_type": "code",
        "colab": {}
      },
      "source": [
        "from tensorflow.keras.models import Sequential\n",
        "from tensorflow.keras.layers import Dense\n",
        "from tensorflow.keras.optimizers import SGD\n"
      ],
      "execution_count": 0,
      "outputs": []
    },
    {
      "cell_type": "markdown",
      "metadata": {
        "id": "zlK78hTuxAOf",
        "colab_type": "text"
      },
      "source": [
        "\n",
        "##組裝一台空白學習機\n",
        "###這邊改變了神經元的數量改為200,200,100,輸入是784維,總共三層，激發函數依然選用relu"
      ]
    },
    {
      "cell_type": "code",
      "metadata": {
        "id": "QpX-go1Ew-K2",
        "colab_type": "code",
        "colab": {}
      },
      "source": [
        "model = Sequential()\n",
        "model.add(Dense(200, input_dim=784, activation='relu'))\n",
        "model.add(Dense(200, activation='relu'))\n",
        "model.add(Dense(100, activation='relu'))\n",
        "model.add(Dense(10, activation='softmax'))"
      ],
      "execution_count": 0,
      "outputs": []
    },
    {
      "cell_type": "markdown",
      "metadata": {
        "id": "Ftlw9Nbg0JOA",
        "colab_type": "text"
      },
      "source": [
        "\n",
        "###組裝神經網路"
      ]
    },
    {
      "cell_type": "markdown",
      "metadata": {
        "id": "OHnR_0V208hb",
        "colab_type": "text"
      },
      "source": [
        "###誤差函數改成MAE,這邊我改變了learning rate改為0.099"
      ]
    },
    {
      "cell_type": "code",
      "metadata": {
        "id": "Bpp6VwS50GvL",
        "colab_type": "code",
        "colab": {}
      },
      "source": [
        "model.compile(loss='mae', optimizer=SGD(lr=0.099), metrics=['accuracy'])"
      ],
      "execution_count": 0,
      "outputs": []
    },
    {
      "cell_type": "code",
      "metadata": {
        "id": "O-F8CJ8n0QY4",
        "colab_type": "code",
        "outputId": "7fd94d97-08cc-44b9-8c7c-1d38fe38648d",
        "colab": {
          "base_uri": "https://localhost:8080/",
          "height": 289
        }
      },
      "source": [
        "model.summary()"
      ],
      "execution_count": 62,
      "outputs": [
        {
          "output_type": "stream",
          "text": [
            "Model: \"sequential_1\"\n",
            "_________________________________________________________________\n",
            "Layer (type)                 Output Shape              Param #   \n",
            "=================================================================\n",
            "dense_4 (Dense)              (None, 200)               157000    \n",
            "_________________________________________________________________\n",
            "dense_5 (Dense)              (None, 200)               40200     \n",
            "_________________________________________________________________\n",
            "dense_6 (Dense)              (None, 100)               20100     \n",
            "_________________________________________________________________\n",
            "dense_7 (Dense)              (None, 10)                1010      \n",
            "=================================================================\n",
            "Total params: 218,310\n",
            "Trainable params: 218,310\n",
            "Non-trainable params: 0\n",
            "_________________________________________________________________\n"
          ],
          "name": "stdout"
        }
      ]
    },
    {
      "cell_type": "markdown",
      "metadata": {
        "id": "QFe28UTg0YNL",
        "colab_type": "text"
      },
      "source": [
        "###訓練\n",
        "一個epoch要跑（訓練樣本數/Batch_Size）個Iterations，這裡改變了batch_size,每做25題就檢查一次,epochs改成做40次"
      ]
    },
    {
      "cell_type": "code",
      "metadata": {
        "id": "tcnRFNGk0W4U",
        "colab_type": "code",
        "outputId": "33c30a71-7b57-4936-de21-ba329625a205",
        "colab": {
          "base_uri": "https://localhost:8080/",
          "height": 1000
        }
      },
      "source": [
        "model.fit(x_train, y_train, batch_size=25, epochs=40)"
      ],
      "execution_count": 60,
      "outputs": [
        {
          "output_type": "stream",
          "text": [
            "Epoch 1/40\n",
            "2400/2400 [==============================] - 5s 2ms/step - loss: 0.0206 - accuracy: 0.9164\n",
            "Epoch 2/40\n",
            "2400/2400 [==============================] - 5s 2ms/step - loss: 0.0194 - accuracy: 0.9158\n",
            "Epoch 3/40\n",
            "2400/2400 [==============================] - 5s 2ms/step - loss: 0.0188 - accuracy: 0.9165\n",
            "Epoch 4/40\n",
            "2400/2400 [==============================] - 5s 2ms/step - loss: 0.0184 - accuracy: 0.9175\n",
            "Epoch 5/40\n",
            "2400/2400 [==============================] - 5s 2ms/step - loss: 0.0180 - accuracy: 0.9182\n",
            "Epoch 6/40\n",
            "2400/2400 [==============================] - 5s 2ms/step - loss: 0.0177 - accuracy: 0.9189\n",
            "Epoch 7/40\n",
            "2400/2400 [==============================] - 5s 2ms/step - loss: 0.0175 - accuracy: 0.9194\n",
            "Epoch 8/40\n",
            "2400/2400 [==============================] - 6s 2ms/step - loss: 0.0173 - accuracy: 0.9205\n",
            "Epoch 9/40\n",
            "2400/2400 [==============================] - 6s 2ms/step - loss: 0.0171 - accuracy: 0.9212\n",
            "Epoch 10/40\n",
            "2400/2400 [==============================] - 5s 2ms/step - loss: 0.0167 - accuracy: 0.9223\n",
            "Epoch 11/40\n",
            "2400/2400 [==============================] - 6s 2ms/step - loss: 0.0166 - accuracy: 0.9228\n",
            "Epoch 12/40\n",
            "2400/2400 [==============================] - 6s 2ms/step - loss: 0.0165 - accuracy: 0.9227\n",
            "Epoch 13/40\n",
            "2400/2400 [==============================] - 5s 2ms/step - loss: 0.0162 - accuracy: 0.9238\n",
            "Epoch 14/40\n",
            "2400/2400 [==============================] - 5s 2ms/step - loss: 0.0160 - accuracy: 0.9246\n",
            "Epoch 15/40\n",
            "2400/2400 [==============================] - 5s 2ms/step - loss: 0.0158 - accuracy: 0.9255\n",
            "Epoch 16/40\n",
            "2400/2400 [==============================] - 5s 2ms/step - loss: 0.0158 - accuracy: 0.9252\n",
            "Epoch 17/40\n",
            "2400/2400 [==============================] - 5s 2ms/step - loss: 0.0156 - accuracy: 0.9262\n",
            "Epoch 18/40\n",
            "2400/2400 [==============================] - 5s 2ms/step - loss: 0.0156 - accuracy: 0.9263\n",
            "Epoch 19/40\n",
            "2400/2400 [==============================] - 5s 2ms/step - loss: 0.0155 - accuracy: 0.9257\n",
            "Epoch 20/40\n",
            "2400/2400 [==============================] - 5s 2ms/step - loss: 0.0152 - accuracy: 0.9276\n",
            "Epoch 21/40\n",
            "2400/2400 [==============================] - 5s 2ms/step - loss: 0.0151 - accuracy: 0.9279\n",
            "Epoch 22/40\n",
            "2400/2400 [==============================] - 6s 2ms/step - loss: 0.0150 - accuracy: 0.9285\n",
            "Epoch 23/40\n",
            "2400/2400 [==============================] - 5s 2ms/step - loss: 0.0149 - accuracy: 0.9284\n",
            "Epoch 24/40\n",
            "2400/2400 [==============================] - 6s 2ms/step - loss: 0.0147 - accuracy: 0.9299\n",
            "Epoch 25/40\n",
            "2400/2400 [==============================] - 6s 2ms/step - loss: 0.0146 - accuracy: 0.9305\n",
            "Epoch 26/40\n",
            "2400/2400 [==============================] - 6s 2ms/step - loss: 0.0145 - accuracy: 0.9315\n",
            "Epoch 27/40\n",
            "2400/2400 [==============================] - 5s 2ms/step - loss: 0.0143 - accuracy: 0.9318\n",
            "Epoch 28/40\n",
            "2400/2400 [==============================] - 6s 2ms/step - loss: 0.0143 - accuracy: 0.9315\n",
            "Epoch 29/40\n",
            "2400/2400 [==============================] - 6s 2ms/step - loss: 0.0143 - accuracy: 0.9317\n",
            "Epoch 30/40\n",
            "2400/2400 [==============================] - 6s 2ms/step - loss: 0.0142 - accuracy: 0.9317\n",
            "Epoch 31/40\n",
            "2400/2400 [==============================] - 6s 2ms/step - loss: 0.0140 - accuracy: 0.9333\n",
            "Epoch 32/40\n",
            "2400/2400 [==============================] - 6s 2ms/step - loss: 0.0140 - accuracy: 0.9327\n",
            "Epoch 33/40\n",
            "2400/2400 [==============================] - 5s 2ms/step - loss: 0.0137 - accuracy: 0.9343\n",
            "Epoch 34/40\n",
            "2400/2400 [==============================] - 6s 2ms/step - loss: 0.0138 - accuracy: 0.9330\n",
            "Epoch 35/40\n",
            "2400/2400 [==============================] - 6s 2ms/step - loss: 0.0137 - accuracy: 0.9339\n",
            "Epoch 36/40\n",
            "2400/2400 [==============================] - 6s 2ms/step - loss: 0.0137 - accuracy: 0.9341\n",
            "Epoch 37/40\n",
            "2400/2400 [==============================] - 6s 2ms/step - loss: 0.0134 - accuracy: 0.9355\n",
            "Epoch 38/40\n",
            "2400/2400 [==============================] - 6s 2ms/step - loss: 0.0135 - accuracy: 0.9348\n",
            "Epoch 39/40\n",
            "2400/2400 [==============================] - 6s 2ms/step - loss: 0.0132 - accuracy: 0.9365\n",
            "Epoch 40/40\n",
            "2400/2400 [==============================] - 6s 2ms/step - loss: 0.0130 - accuracy: 0.9375\n"
          ],
          "name": "stdout"
        },
        {
          "output_type": "execute_result",
          "data": {
            "text/plain": [
              "<tensorflow.python.keras.callbacks.History at 0x7fa511907978>"
            ]
          },
          "metadata": {
            "tags": []
          },
          "execution_count": 60
        }
      ]
    },
    {
      "cell_type": "code",
      "metadata": {
        "id": "WW2IF2CS0dhV",
        "colab_type": "code",
        "outputId": "0b017dcf-2725-4834-8de0-394b386ff318",
        "colab": {
          "base_uri": "https://localhost:8080/",
          "height": 299
        }
      },
      "source": [
        "result = model.predict_classes(x_test)\n",
        "n = 100\n",
        "print('神經網路預測是:', class_names[result[n]])\n",
        "\n",
        "plt.imshow(x_test[n].reshape(28,28), cmap='Greys')"
      ],
      "execution_count": 65,
      "outputs": [
        {
          "output_type": "stream",
          "text": [
            "神經網路預測是: Dress\n"
          ],
          "name": "stdout"
        },
        {
          "output_type": "execute_result",
          "data": {
            "text/plain": [
              "<matplotlib.image.AxesImage at 0x7fa510724b00>"
            ]
          },
          "metadata": {
            "tags": []
          },
          "execution_count": 65
        },
        {
          "output_type": "display_data",
          "data": {
            "image/png": "[encoded data removed]",
            "text/plain": [
              "<Figure size 432x288 with 1 Axes>"
            ]
          },
          "metadata": {
            "tags": []
          }
        }
      ]
    },
    {
      "cell_type": "markdown",
      "metadata": {
        "id": "6A9I5Jc82IHp",
        "colab_type": "text"
      },
      "source": [
        "##訓練結果：\n",
        "### 正確率：93.75%，較MSE正確率92.56%還要好"
      ]
    },
    {
      "cell_type": "markdown",
      "metadata": {
        "id": "ca8BxLr-2YFF",
        "colab_type": "text"
      },
      "source": [
        "##組裝第二台函數學習機"
      ]
    },
    {
      "cell_type": "markdown",
      "metadata": {
        "id": "MC_-1O0y4-Q0",
        "colab_type": "text"
      },
      "source": [
        "###神經元數量，層數不變，改變batch size成100題檢查一次"
      ]
    },
    {
      "cell_type": "code",
      "metadata": {
        "id": "IKrnChQa0-ZE",
        "colab_type": "code",
        "colab": {}
      },
      "source": [
        "model2 = Sequential()\n",
        "model2.add(Dense(200, input_dim=784, activation='relu'))\n",
        "model2.add(Dense(200, activation='relu'))\n",
        "model2.add(Dense(100, activation='relu'))\n",
        "model2.add(Dense(10, activation='softmax'))"
      ],
      "execution_count": 0,
      "outputs": []
    },
    {
      "cell_type": "code",
      "metadata": {
        "id": "YC5ldWmw29jW",
        "colab_type": "code",
        "colab": {}
      },
      "source": [
        "model2.compile(loss='mae', optimizer=SGD(lr=0.099), metrics=['accuracy'])"
      ],
      "execution_count": 0,
      "outputs": []
    },
    {
      "cell_type": "code",
      "metadata": {
        "id": "bC-d8isw2_cf",
        "colab_type": "code",
        "colab": {
          "base_uri": "https://localhost:8080/",
          "height": 1000
        },
        "outputId": "8aacd215-7eca-4d3a-8349-f303007334dc"
      },
      "source": [
        "model2.fit(x_train, y_train, batch_size=25, epochs=40)"
      ],
      "execution_count": 76,
      "outputs": [
        {
          "output_type": "stream",
          "text": [
            "Epoch 1/40\n",
            "2400/2400 [==============================] - 5s 2ms/step - loss: 0.0952 - accuracy: 0.5802\n",
            "Epoch 2/40\n",
            "2400/2400 [==============================] - 6s 2ms/step - loss: 0.0583 - accuracy: 0.7238\n",
            "Epoch 3/40\n",
            "2400/2400 [==============================] - 5s 2ms/step - loss: 0.0549 - accuracy: 0.7340\n",
            "Epoch 4/40\n",
            "2400/2400 [==============================] - 5s 2ms/step - loss: 0.0534 - accuracy: 0.7392\n",
            "Epoch 5/40\n",
            "2400/2400 [==============================] - 6s 2ms/step - loss: 0.0524 - accuracy: 0.7433\n",
            "Epoch 6/40\n",
            "2400/2400 [==============================] - 6s 2ms/step - loss: 0.0518 - accuracy: 0.7452\n",
            "Epoch 7/40\n",
            "2400/2400 [==============================] - 6s 2ms/step - loss: 0.0512 - accuracy: 0.7479\n",
            "Epoch 8/40\n",
            "2400/2400 [==============================] - 6s 2ms/step - loss: 0.0508 - accuracy: 0.7499\n",
            "Epoch 9/40\n",
            "2400/2400 [==============================] - 6s 2ms/step - loss: 0.0502 - accuracy: 0.7523\n",
            "Epoch 10/40\n",
            "2400/2400 [==============================] - 6s 2ms/step - loss: 0.0501 - accuracy: 0.7525\n",
            "Epoch 11/40\n",
            "2400/2400 [==============================] - 6s 2ms/step - loss: 0.0498 - accuracy: 0.7536\n",
            "Epoch 12/40\n",
            "2400/2400 [==============================] - 5s 2ms/step - loss: 0.0495 - accuracy: 0.7555\n",
            "Epoch 13/40\n",
            "2400/2400 [==============================] - 5s 2ms/step - loss: 0.0493 - accuracy: 0.7567\n",
            "Epoch 14/40\n",
            "2400/2400 [==============================] - 6s 2ms/step - loss: 0.0490 - accuracy: 0.7580\n",
            "Epoch 15/40\n",
            "2400/2400 [==============================] - 6s 2ms/step - loss: 0.0489 - accuracy: 0.7583\n",
            "Epoch 16/40\n",
            "2400/2400 [==============================] - 6s 2ms/step - loss: 0.0486 - accuracy: 0.7596\n",
            "Epoch 17/40\n",
            "2400/2400 [==============================] - 6s 2ms/step - loss: 0.0484 - accuracy: 0.7607\n",
            "Epoch 18/40\n",
            "2400/2400 [==============================] - 6s 2ms/step - loss: 0.0483 - accuracy: 0.7613\n",
            "Epoch 19/40\n",
            "2400/2400 [==============================] - 6s 2ms/step - loss: 0.0481 - accuracy: 0.7618\n",
            "Epoch 20/40\n",
            "2400/2400 [==============================] - 6s 2ms/step - loss: 0.0480 - accuracy: 0.7626\n",
            "Epoch 21/40\n",
            "2400/2400 [==============================] - 6s 2ms/step - loss: 0.0479 - accuracy: 0.7631\n",
            "Epoch 22/40\n",
            "2400/2400 [==============================] - 6s 2ms/step - loss: 0.0477 - accuracy: 0.7640\n",
            "Epoch 23/40\n",
            "2400/2400 [==============================] - 6s 2ms/step - loss: 0.0475 - accuracy: 0.7645\n",
            "Epoch 24/40\n",
            "2400/2400 [==============================] - 6s 2ms/step - loss: 0.0474 - accuracy: 0.7652\n",
            "Epoch 25/40\n",
            "2400/2400 [==============================] - 6s 2ms/step - loss: 0.0474 - accuracy: 0.7650\n",
            "Epoch 26/40\n",
            "2400/2400 [==============================] - 6s 2ms/step - loss: 0.0473 - accuracy: 0.7653\n",
            "Epoch 27/40\n",
            "2400/2400 [==============================] - 6s 2ms/step - loss: 0.0471 - accuracy: 0.7662\n",
            "Epoch 28/40\n",
            "2400/2400 [==============================] - 6s 2ms/step - loss: 0.0471 - accuracy: 0.7664\n",
            "Epoch 29/40\n",
            "2400/2400 [==============================] - 6s 2ms/step - loss: 0.0469 - accuracy: 0.7673\n",
            "Epoch 30/40\n",
            "2400/2400 [==============================] - 6s 2ms/step - loss: 0.0469 - accuracy: 0.7674\n",
            "Epoch 31/40\n",
            "2400/2400 [==============================] - 6s 2ms/step - loss: 0.0467 - accuracy: 0.7682\n",
            "Epoch 32/40\n",
            "2400/2400 [==============================] - 6s 2ms/step - loss: 0.0466 - accuracy: 0.7686\n",
            "Epoch 33/40\n",
            "2400/2400 [==============================] - 6s 2ms/step - loss: 0.0466 - accuracy: 0.7686\n",
            "Epoch 34/40\n",
            "2400/2400 [==============================] - 6s 2ms/step - loss: 0.0465 - accuracy: 0.7692\n",
            "Epoch 35/40\n",
            "2400/2400 [==============================] - 6s 2ms/step - loss: 0.0464 - accuracy: 0.7695\n",
            "Epoch 36/40\n",
            "2400/2400 [==============================] - 6s 2ms/step - loss: 0.0463 - accuracy: 0.7699\n",
            "Epoch 37/40\n",
            "2400/2400 [==============================] - 6s 2ms/step - loss: 0.0463 - accuracy: 0.7697\n",
            "Epoch 38/40\n",
            "2400/2400 [==============================] - 6s 2ms/step - loss: 0.0461 - accuracy: 0.7708\n",
            "Epoch 39/40\n",
            "2400/2400 [==============================] - 6s 2ms/step - loss: 0.0460 - accuracy: 0.7714\n",
            "Epoch 40/40\n",
            "2400/2400 [==============================] - 6s 2ms/step - loss: 0.0461 - accuracy: 0.7711\n"
          ],
          "name": "stdout"
        },
        {
          "output_type": "execute_result",
          "data": {
            "text/plain": [
              "<tensorflow.python.keras.callbacks.History at 0x7fa5149004e0>"
            ]
          },
          "metadata": {
            "tags": []
          },
          "execution_count": 76
        }
      ]
    },
    {
      "cell_type": "code",
      "metadata": {
        "id": "EZRzAbAq5U6J",
        "colab_type": "code",
        "colab": {
          "base_uri": "https://localhost:8080/",
          "height": 299
        },
        "outputId": "da99959e-9992-4890-93cb-a2307eac8789"
      },
      "source": [
        "result = model2.predict_classes(x_test)\n",
        "n = 100\n",
        "print('神經網路預測是:', class_names[result[n]])\n",
        "\n",
        "plt.imshow(x_test[n].reshape(28,28), cmap='Greys')"
      ],
      "execution_count": 77,
      "outputs": [
        {
          "output_type": "stream",
          "text": [
            "神經網路預測是: Dress\n"
          ],
          "name": "stdout"
        },
        {
          "output_type": "execute_result",
          "data": {
            "text/plain": [
              "<matplotlib.image.AxesImage at 0x7fa5103e4358>"
            ]
          },
          "metadata": {
            "tags": []
          },
          "execution_count": 77
        },
        {
          "output_type": "display_data",
          "data": {
            "image/png": "[encoded data removed]",
            "text/plain": [
              "<Figure size 432x288 with 1 Axes>"
            ]
          },
          "metadata": {
            "tags": []
          }
        }
      ]
    },
    {
      "cell_type": "markdown",
      "metadata": {
        "id": "P2pm84qc5azO",
        "colab_type": "text"
      },
      "source": [
        "##訓練結果：\n",
        "### 正確率：77.11%，比Batch size＝25差很多"
      ]
    },
    {
      "cell_type": "markdown",
      "metadata": {
        "id": "mxZPgjAk4uWJ",
        "colab_type": "text"
      },
      "source": [
        "##組裝第三台函數學習機"
      ]
    },
    {
      "cell_type": "markdown",
      "metadata": {
        "id": "3UT6qfqu5CFS",
        "colab_type": "text"
      },
      "source": [
        "###神經元數量，層數減少，batch size一樣25題檢查一次"
      ]
    },
    {
      "cell_type": "code",
      "metadata": {
        "id": "GqhYdxue4zbH",
        "colab_type": "code",
        "colab": {}
      },
      "source": [
        "model3 = Sequential()\n",
        "model3.add(Dense(150, input_dim=784, activation='relu'))\n",
        "model3.add(Dense(100, activation='relu'))\n",
        "model3.add(Dense(10, activation='softmax'))"
      ],
      "execution_count": 0,
      "outputs": []
    },
    {
      "cell_type": "code",
      "metadata": {
        "id": "Txp_XF3I5Okb",
        "colab_type": "code",
        "colab": {}
      },
      "source": [
        "model3.compile(loss='mae', optimizer=SGD(lr=0.099), metrics=['accuracy'])"
      ],
      "execution_count": 0,
      "outputs": []
    },
    {
      "cell_type": "code",
      "metadata": {
        "id": "pncVuaBa5Tae",
        "colab_type": "code",
        "colab": {
          "base_uri": "https://localhost:8080/",
          "height": 1000
        },
        "outputId": "720acf44-492b-4103-b961-c9594968db31"
      },
      "source": [
        "model3.fit(x_train, y_train, batch_size=25, epochs=40)"
      ],
      "execution_count": 80,
      "outputs": [
        {
          "output_type": "stream",
          "text": [
            "Epoch 1/40\n",
            "2400/2400 [==============================] - 5s 2ms/step - loss: 0.0904 - accuracy: 0.6095\n",
            "Epoch 2/40\n",
            "2400/2400 [==============================] - 5s 2ms/step - loss: 0.0595 - accuracy: 0.7216\n",
            "Epoch 3/40\n",
            "2400/2400 [==============================] - 5s 2ms/step - loss: 0.0561 - accuracy: 0.7313\n",
            "Epoch 4/40\n",
            "2400/2400 [==============================] - 5s 2ms/step - loss: 0.0545 - accuracy: 0.7365\n",
            "Epoch 5/40\n",
            "2400/2400 [==============================] - 5s 2ms/step - loss: 0.0535 - accuracy: 0.7409\n",
            "Epoch 6/40\n",
            "2400/2400 [==============================] - 5s 2ms/step - loss: 0.0527 - accuracy: 0.7436\n",
            "Epoch 7/40\n",
            "2400/2400 [==============================] - 5s 2ms/step - loss: 0.0521 - accuracy: 0.7455\n",
            "Epoch 8/40\n",
            "2400/2400 [==============================] - 5s 2ms/step - loss: 0.0516 - accuracy: 0.7474\n",
            "Epoch 9/40\n",
            "2400/2400 [==============================] - 5s 2ms/step - loss: 0.0513 - accuracy: 0.7489\n",
            "Epoch 10/40\n",
            "2400/2400 [==============================] - 5s 2ms/step - loss: 0.0510 - accuracy: 0.7502\n",
            "Epoch 11/40\n",
            "2400/2400 [==============================] - 5s 2ms/step - loss: 0.0507 - accuracy: 0.7516\n",
            "Epoch 12/40\n",
            "2400/2400 [==============================] - 5s 2ms/step - loss: 0.0504 - accuracy: 0.7531\n",
            "Epoch 13/40\n",
            "2400/2400 [==============================] - 5s 2ms/step - loss: 0.0502 - accuracy: 0.7539\n",
            "Epoch 14/40\n",
            "2400/2400 [==============================] - 5s 2ms/step - loss: 0.0500 - accuracy: 0.7544\n",
            "Epoch 15/40\n",
            "2400/2400 [==============================] - 4s 2ms/step - loss: 0.0498 - accuracy: 0.7555\n",
            "Epoch 16/40\n",
            "2400/2400 [==============================] - 5s 2ms/step - loss: 0.0496 - accuracy: 0.7564\n",
            "Epoch 17/40\n",
            "2400/2400 [==============================] - 5s 2ms/step - loss: 0.0494 - accuracy: 0.7571\n",
            "Epoch 18/40\n",
            "2400/2400 [==============================] - 5s 2ms/step - loss: 0.0492 - accuracy: 0.7580\n",
            "Epoch 19/40\n",
            "2400/2400 [==============================] - 5s 2ms/step - loss: 0.0490 - accuracy: 0.7590\n",
            "Epoch 20/40\n",
            "2400/2400 [==============================] - 5s 2ms/step - loss: 0.0489 - accuracy: 0.7592\n",
            "Epoch 21/40\n",
            "2400/2400 [==============================] - 5s 2ms/step - loss: 0.0488 - accuracy: 0.7596\n",
            "Epoch 22/40\n",
            "2400/2400 [==============================] - 5s 2ms/step - loss: 0.0486 - accuracy: 0.7608\n",
            "Epoch 23/40\n",
            "2400/2400 [==============================] - 5s 2ms/step - loss: 0.0486 - accuracy: 0.7605\n",
            "Epoch 24/40\n",
            "2400/2400 [==============================] - 5s 2ms/step - loss: 0.0484 - accuracy: 0.7614\n",
            "Epoch 25/40\n",
            "2400/2400 [==============================] - 5s 2ms/step - loss: 0.0483 - accuracy: 0.7618\n",
            "Epoch 26/40\n",
            "2400/2400 [==============================] - 5s 2ms/step - loss: 0.0483 - accuracy: 0.7621\n",
            "Epoch 27/40\n",
            "2400/2400 [==============================] - 5s 2ms/step - loss: 0.0481 - accuracy: 0.7627\n",
            "Epoch 28/40\n",
            "2400/2400 [==============================] - 4s 2ms/step - loss: 0.0480 - accuracy: 0.7630\n",
            "Epoch 29/40\n",
            "2400/2400 [==============================] - 4s 2ms/step - loss: 0.0480 - accuracy: 0.7633\n",
            "Epoch 30/40\n",
            "2400/2400 [==============================] - 4s 2ms/step - loss: 0.0478 - accuracy: 0.7642\n",
            "Epoch 31/40\n",
            "2400/2400 [==============================] - 4s 2ms/step - loss: 0.0477 - accuracy: 0.7644\n",
            "Epoch 32/40\n",
            "2400/2400 [==============================] - 4s 2ms/step - loss: 0.0477 - accuracy: 0.7644\n",
            "Epoch 33/40\n",
            "2400/2400 [==============================] - 4s 2ms/step - loss: 0.0476 - accuracy: 0.7647\n",
            "Epoch 34/40\n",
            "2400/2400 [==============================] - 4s 2ms/step - loss: 0.0475 - accuracy: 0.7653\n",
            "Epoch 35/40\n",
            "2400/2400 [==============================] - 4s 2ms/step - loss: 0.0475 - accuracy: 0.7657\n",
            "Epoch 36/40\n",
            "2400/2400 [==============================] - 5s 2ms/step - loss: 0.0473 - accuracy: 0.7664\n",
            "Epoch 37/40\n",
            "2400/2400 [==============================] - 4s 2ms/step - loss: 0.0473 - accuracy: 0.7666\n",
            "Epoch 38/40\n",
            "2400/2400 [==============================] - 5s 2ms/step - loss: 0.0472 - accuracy: 0.7664\n",
            "Epoch 39/40\n",
            "2400/2400 [==============================] - 4s 2ms/step - loss: 0.0471 - accuracy: 0.7674\n",
            "Epoch 40/40\n",
            "2400/2400 [==============================] - 4s 2ms/step - loss: 0.0471 - accuracy: 0.7673\n"
          ],
          "name": "stdout"
        },
        {
          "output_type": "execute_result",
          "data": {
            "text/plain": [
              "<tensorflow.python.keras.callbacks.History at 0x7fa514c32710>"
            ]
          },
          "metadata": {
            "tags": []
          },
          "execution_count": 80
        }
      ]
    },
    {
      "cell_type": "code",
      "metadata": {
        "id": "RYzRh0lD7Dai",
        "colab_type": "code",
        "colab": {
          "base_uri": "https://localhost:8080/",
          "height": 299
        },
        "outputId": "9727f16f-4393-417b-e04c-b391f00507c2"
      },
      "source": [
        "result = model3.predict_classes(x_test)\n",
        "n = 100\n",
        "print('神經網路預測是:', class_names[result[n]])\n",
        "\n",
        "plt.imshow(x_test[n].reshape(28,28), cmap='Greys')"
      ],
      "execution_count": 81,
      "outputs": [
        {
          "output_type": "stream",
          "text": [
            "神經網路預測是: Dress\n"
          ],
          "name": "stdout"
        },
        {
          "output_type": "execute_result",
          "data": {
            "text/plain": [
              "<matplotlib.image.AxesImage at 0x7fa514e335f8>"
            ]
          },
          "metadata": {
            "tags": []
          },
          "execution_count": 81
        },
        {
          "output_type": "display_data",
          "data": {
            "image/png": "[encoded data removed]",
            "text/plain": [
              "<Figure size 432x288 with 1 Axes>"
            ]
          },
          "metadata": {
            "tags": []
          }
        }
      ]
    },
    {
      "cell_type": "markdown",
      "metadata": {
        "id": "ik5VL5zo7Y6o",
        "colab_type": "text"
      },
      "source": [
        "##訓練結果：\n",
        "###正確率：76.73%，比神經元個數200,100,100，三層還差\n"
      ]
    },
    {
      "cell_type": "markdown",
      "metadata": {
        "id": "VsOD0dbw7fuN",
        "colab_type": "text"
      },
      "source": [
        "##總結\n",
        "###本次作業在 誤差函數，神經元個數，層數，batch_size都有作更改\n",
        "###可以發現，MAE比MSE正確率稍高一點\n",
        "### batch size 變多，正確率下降\n",
        "###神經元個數跟層數減少，正確率也會下降\n"
      ]
    },
    {
      "cell_type": "code",
      "metadata": {
        "id": "BGV0xEcs7eNt",
        "colab_type": "code",
        "colab": {}
      },
      "source": [
        ""
      ],
      "execution_count": 0,
      "outputs": []
    }
  ]
}