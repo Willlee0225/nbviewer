{
  "nbformat": 4,
  "nbformat_minor": 0,
  "metadata": {
    "colab": {
      "name": "打造神經網路作業",
      "provenance": [],
      "collapsed_sections": [],
      "authorship_tag": "ABX9TyNqMuREFY5JGfphu2us4L4P",
      "include_colab_link": true
    },
    "kernelspec": {
      "name": "python3",
      "display_name": "Python 3"
    }
  },
  "cells": [
    {
      "cell_type": "markdown",
      "metadata": {
        "id": "view-in-github",
        "colab_type": "text"
      },
      "source": [
        "<a href=\"https://colab.research.google.com/github/Willlee0225/nbviewer/blob/master/%E6%89%93%E9%80%A0%E7%A5%9E%E7%B6%93%E7%B6%B2%E8%B7%AF%E4%BD%9C%E6%A5%AD.ipynb\" target=\"_parent\"><img src=\"https://colab.research.google.com/assets/colab-badge.svg\" alt=\"Open In Colab\"/></a>"
      ]
    },
    {
      "cell_type": "code",
      "metadata": {
        "id": "0EwMUcOFuzDH",
        "colab_type": "code",
        "colab": {}
      },
      "source": [
        "%matplotlib inline\n",
        "\n",
        "import numpy as np\n",
        "import matplotlib.pyplot as plt\n",
        "\n",
        "%tensorflow_version 2.x"
      ],
      "execution_count": 0,
      "outputs": []
    },
    {
      "cell_type": "code",
      "metadata": {
        "id": "I4tjYohOu9yp",
        "colab_type": "code",
        "colab": {}
      },
      "source": [
        "import tensorflow as tf"
      ],
      "execution_count": 0,
      "outputs": []
    },
    {
      "cell_type": "markdown",
      "metadata": {
        "id": "8uZO9F7QvOjx",
        "colab_type": "text"
      },
      "source": [
        "1. 讀入 Fashion MNSIT 數據集"
      ]
    },
    {
      "cell_type": "code",
      "metadata": {
        "id": "QwOYzqJ5vPiH",
        "colab_type": "code",
        "colab": {}
      },
      "source": [
        "from tensorflow.keras.datasets import fashion_mnist\n"
      ],
      "execution_count": 0,
      "outputs": []
    },
    {
      "cell_type": "code",
      "metadata": {
        "id": "2SIx2HEUvQE0",
        "colab_type": "code",
        "outputId": "dfcbdbe5-c1fd-44d3-8e7f-59ac9972938b",
        "colab": {
          "base_uri": "https://localhost:8080/",
          "height": 153
        }
      },
      "source": [
        "(x_train, y_train), (x_test, y_test) = fashion_mnist.load_data()"
      ],
      "execution_count": 0,
      "outputs": [
        {
          "output_type": "stream",
          "text": [
            "Downloading data from https://storage.googleapis.com/tensorflow/tf-keras-datasets/train-labels-idx1-ubyte.gz\n",
            "32768/29515 [=================================] - 0s 0us/step\n",
            "Downloading data from https://storage.googleapis.com/tensorflow/tf-keras-datasets/train-images-idx3-ubyte.gz\n",
            "26427392/26421880 [==============================] - 0s 0us/step\n",
            "Downloading data from https://storage.googleapis.com/tensorflow/tf-keras-datasets/t10k-labels-idx1-ubyte.gz\n",
            "8192/5148 [===============================================] - 0s 0us/step\n",
            "Downloading data from https://storage.googleapis.com/tensorflow/tf-keras-datasets/t10k-images-idx3-ubyte.gz\n",
            "4423680/4422102 [==============================] - 0s 0us/step\n"
          ],
          "name": "stdout"
        }
      ]
    },
    {
      "cell_type": "markdown",
      "metadata": {
        "id": "xB4bti28yw9B",
        "colab_type": "text"
      },
      "source": [
        "2. 欣賞數據集內容\n"
      ]
    },
    {
      "cell_type": "code",
      "metadata": {
        "id": "zN9d6PuMy1YG",
        "colab_type": "code",
        "outputId": "c3dda53b-aed9-427c-f550-14b3007a96f5",
        "colab": {
          "base_uri": "https://localhost:8080/",
          "height": 34
        }
      },
      "source": [
        "len(x_train)"
      ],
      "execution_count": 0,
      "outputs": [
        {
          "output_type": "execute_result",
          "data": {
            "text/plain": [
              "60000"
            ]
          },
          "metadata": {
            "tags": []
          },
          "execution_count": 5
        }
      ]
    },
    {
      "cell_type": "code",
      "metadata": {
        "id": "kB0dMKcEy9ue",
        "colab_type": "code",
        "outputId": "1a0d5c90-bc1f-46d4-93cb-d8cffee6be9c",
        "colab": {
          "base_uri": "https://localhost:8080/",
          "height": 34
        }
      },
      "source": [
        "len(x_test)"
      ],
      "execution_count": 0,
      "outputs": [
        {
          "output_type": "execute_result",
          "data": {
            "text/plain": [
              "10000"
            ]
          },
          "metadata": {
            "tags": []
          },
          "execution_count": 6
        }
      ]
    },
    {
      "cell_type": "code",
      "metadata": {
        "id": "8Wfvt0vzy_eB",
        "colab_type": "code",
        "colab": {}
      },
      "source": [
        "class_names = ['T-shirt/top', 'Trouser', 'Pullover', 'Dress', 'Coat',\n",
        "               'Sandal', 'Shirt', 'Sneaker', 'Bag', 'Ankle boot']"
      ],
      "execution_count": 0,
      "outputs": []
    },
    {
      "cell_type": "code",
      "metadata": {
        "id": "Y98dgu-zzUPR",
        "colab_type": "code",
        "outputId": "e45a6f77-a6c2-40f5-a096-129770878f53",
        "colab": {
          "base_uri": "https://localhost:8080/",
          "height": 1000
        }
      },
      "source": [
        "n=2000\n",
        "x_train[n]"
      ],
      "execution_count": 0,
      "outputs": [
        {
          "output_type": "execute_result",
          "data": {
            "text/plain": [
              "array([[  0,   0,   0,   0,   0,   0,   0,   0,   0,   0,   0,   0,   0,\n",
              "         53,  70,  30,   0,   0,   0,   0,   0,   0,   0,   0,   0,   0,\n",
              "          0,   0],\n",
              "       [  0,   0,   0,   0,   0,   0,   0,   0,   0,   0,  83, 223, 220,\n",
              "        231, 233, 231, 218, 191,  33,   0,   0,   1,   0,   0,   0,   0,\n",
              "          0,   0],\n",
              "       [  0,   0,   0,   0,   0,   0,   0,   0,   0, 142, 248, 228, 215,\n",
              "        217, 219, 219, 220, 235, 234, 107,   0,   0,   1,   0,   0,   0,\n",
              "          0,   0],\n",
              "       [  0,   0,   0,   0,   0,   0,   3,   0,  69, 245, 221, 229, 213,\n",
              "        219, 206, 210, 217, 222, 218, 243,  64,   0,   4,   0,   0,   0,\n",
              "          0,   0],\n",
              "       [  0,   0,   0,   0,   0,   0,   0,   0, 116, 231, 224, 230, 222,\n",
              "        217, 222, 224, 215, 215, 222, 219,   0,   0,   0,   0,   0,   0,\n",
              "          0,   0],\n",
              "       [  0,   0,   0,   0,   1,   0,   0, 193, 238, 216, 222, 218, 213,\n",
              "        211, 208, 210, 217, 224, 217, 222, 169,   0,   0,   0,   0,   0,\n",
              "          0,   0],\n",
              "       [  0,   0,   0,   0,   2,   0,  66, 230, 210, 217, 217, 212, 214,\n",
              "        224, 221, 216, 212, 214, 218, 212, 236, 115,   0,   2,   0,   0,\n",
              "          0,   0],\n",
              "       [  0,   0,   0,   0,   0,   0, 167, 227, 212, 216, 222, 222, 220,\n",
              "        219, 217, 216, 216, 219, 221, 217, 221, 188,   0,   0,   0,   0,\n",
              "          0,   0],\n",
              "       [  0,   0,   0,   0,   0,   0, 220, 223, 219, 217, 215, 216, 216,\n",
              "        216, 215, 218, 220, 216, 218, 213, 216, 193,   0,   0,   0,   0,\n",
              "          0,   0],\n",
              "       [  0,   0,   0,   0,   0,   0, 208, 223, 227, 216, 215, 214, 215,\n",
              "        211, 213, 217, 211, 214, 209, 218, 208, 212,  20,   0,   0,   0,\n",
              "          0,   0],\n",
              "       [  0,   0,   0,   0,   0,  29, 222, 218, 234, 221, 211, 211, 212,\n",
              "        207, 211, 214, 210, 210, 207, 233, 207, 222,  63,   0,   0,   0,\n",
              "          0,   0],\n",
              "       [  0,   0,   0,   0,   0,  74, 228, 217, 236, 222, 209, 209, 210,\n",
              "        209, 218, 211, 210, 206, 211, 236, 207, 224, 128,   0,   0,   0,\n",
              "          0,   0],\n",
              "       [  0,   0,   0,   0,   0, 128, 228, 220, 239, 219, 214, 210, 215,\n",
              "        205, 201, 215, 211, 209, 211, 243, 215, 222, 164,   0,   0,   0,\n",
              "          0,   0],\n",
              "       [  0,   0,   0,   0,   0, 163, 224, 220, 242, 221, 213, 211, 215,\n",
              "        210, 212, 210, 213, 211, 212, 247, 220, 220, 205,   0,   0,   0,\n",
              "          0,   0],\n",
              "       [  0,   0,   0,   0,   0, 193, 222, 218, 246, 229, 212, 211, 217,\n",
              "        212, 211, 211, 212, 213, 212, 251, 219, 215, 236,   0,   0,   0,\n",
              "          0,   0],\n",
              "       [  0,   0,   0,   0,   0, 220, 219, 216, 242, 231, 216, 211, 219,\n",
              "        209, 210, 209, 208, 213, 216, 222, 223, 214, 250,   0,   0,   0,\n",
              "          0,   0],\n",
              "       [  0,   0,   0,   0,   0, 238, 216, 219, 242, 221, 220, 214, 222,\n",
              "        213, 216, 213, 210, 212, 231, 113, 227, 217, 250,  25,   0,   0,\n",
              "          0,   0],\n",
              "       [  0,   0,   0,   0,   0, 248, 211, 236, 180, 218, 225, 212, 219,\n",
              "        214, 214, 214, 210, 204, 241, 114, 207, 220, 245,  55,   0,   0,\n",
              "          0,   0],\n",
              "       [  0,   0,   0,   0,   5, 252, 214, 225, 150, 234, 222, 215, 215,\n",
              "        219, 219, 215, 212, 208, 230, 163, 197, 220, 243,  78,   0,   0,\n",
              "          0,   0],\n",
              "       [  0,   0,   0,   0,  27, 250, 217, 200, 181, 232, 214, 218, 221,\n",
              "        204, 207, 216, 215, 208, 212, 208, 215, 217, 241,  91,   0,   0,\n",
              "          0,   0],\n",
              "       [  0,   0,   0,   0,  48, 251, 219, 189, 205, 229, 224, 216, 220,\n",
              "        221, 216, 215, 214, 214, 211, 210, 223, 210, 235, 100,   0,   0,\n",
              "          0,   0],\n",
              "       [  0,   0,   0,   0,  69, 254, 214, 226, 228, 216, 221, 219, 217,\n",
              "        219, 218, 216, 215, 215, 210, 211, 230, 210, 231, 116,   0,   0,\n",
              "          0,   0],\n",
              "       [  0,   0,   0,   0,  96, 250, 205, 243, 223, 215, 222, 218, 215,\n",
              "        219, 220, 216, 217, 215, 212, 208, 232, 221, 225, 133,   0,   0,\n",
              "          0,   0],\n",
              "       [  0,   0,   0,   0, 106, 246, 207, 239, 222, 216, 221, 219, 218,\n",
              "        220, 220, 214, 215, 213, 211, 208, 230, 225, 224, 144,   0,   0,\n",
              "          0,   0],\n",
              "       [  0,   0,   0,   0, 135, 222, 216, 234, 222, 216, 217, 218, 219,\n",
              "        226, 224, 217, 218, 216, 214, 210, 231, 226, 226, 144,   0,   0,\n",
              "          0,   0],\n",
              "       [  0,   0,   0,   0, 174, 220, 211, 228, 224, 214, 208, 212, 212,\n",
              "        219, 221, 214, 214, 209, 207, 208, 224, 224, 212, 136,   0,   0,\n",
              "          0,   0],\n",
              "       [  0,   0,   0,   0, 198, 223, 240, 194, 255, 255, 255, 255, 245,\n",
              "        233, 242, 248, 250, 252, 252, 255, 254, 227, 255, 198,   0,   0,\n",
              "          0,   0],\n",
              "       [  0,   0,   0,   0,   0,  24,   8,   0,  32,  73, 101, 114, 148,\n",
              "        172, 164, 142, 130, 114, 108,  66,   1, 139, 131,  58,   0,   0,\n",
              "          0,   0]], dtype=uint8)"
            ]
          },
          "metadata": {
            "tags": []
          },
          "execution_count": 8
        }
      ]
    },
    {
      "cell_type": "code",
      "metadata": {
        "id": "q5Q2gfmIzZeX",
        "colab_type": "code",
        "outputId": "ecfa0dae-4504-4aff-ec56-a1a79cfa1c53",
        "colab": {
          "base_uri": "https://localhost:8080/",
          "height": 34
        }
      },
      "source": [
        "y_train[n]"
      ],
      "execution_count": 0,
      "outputs": [
        {
          "output_type": "execute_result",
          "data": {
            "text/plain": [
              "4"
            ]
          },
          "metadata": {
            "tags": []
          },
          "execution_count": 9
        }
      ]
    },
    {
      "cell_type": "code",
      "metadata": {
        "id": "g9J7R5HYzJu_",
        "colab_type": "code",
        "outputId": "a8632e6c-1931-4820-fd5c-6833f7f6e28d",
        "colab": {
          "base_uri": "https://localhost:8080/",
          "height": 282
        }
      },
      "source": [
        "n = 2000\n",
        "print('這是', class_names[y_train[n]])\n",
        "plt.imshow(x_train[n], cmap='Greens');"
      ],
      "execution_count": 0,
      "outputs": [
        {
          "output_type": "stream",
          "text": [
            "這是 Coat\n"
          ],
          "name": "stdout"
        },
        {
          "output_type": "display_data",
          "data": {
            "image/png": "[encoded data removed]",
            "text/plain": [
              "<Figure size 432x288 with 1 Axes>"
            ]
          },
          "metadata": {
            "tags": []
          }
        }
      ]
    },
    {
      "cell_type": "code",
      "metadata": {
        "id": "5fka3CCNzqaV",
        "colab_type": "code",
        "outputId": "df10d58f-2f32-4d14-95d5-7b9dd0736d55",
        "colab": {
          "base_uri": "https://localhost:8080/",
          "height": 106
        }
      },
      "source": [
        "pick = np.random.choice(60000, 5, replace=False)\n",
        "\n",
        "for i in range(5):\n",
        "    n = pick[i]\n",
        "    ax = plt.subplot(151+i)\n",
        "    ax.set_xticks([])\n",
        "    ax.set_yticks([])\n",
        "    ax.set_title(class_names[y_train[n]], fontsize=10)\n",
        "    plt.imshow(x_train[n], cmap='Greens')"
      ],
      "execution_count": 0,
      "outputs": [
        {
          "output_type": "display_data",
          "data": {
            "image/png": "[encoded data removed]",
            "text/plain": [
              "<Figure size 432x288 with 5 Axes>"
            ]
          },
          "metadata": {
            "tags": []
          }
        }
      ]
    },
    {
      "cell_type": "markdown",
      "metadata": {
        "id": "HpK3Z56Xzkql",
        "colab_type": "text"
      },
      "source": [
        "3. 資料整理"
      ]
    },
    {
      "cell_type": "code",
      "metadata": {
        "id": "iJmaedhozPNk",
        "colab_type": "code",
        "colab": {}
      },
      "source": [
        "x_train = x_train/235\n",
        "x_test = x_test/235"
      ],
      "execution_count": 0,
      "outputs": []
    },
    {
      "cell_type": "code",
      "metadata": {
        "id": "ePwhzsS1z2Yh",
        "colab_type": "code",
        "outputId": "ab839122-ae81-4db7-f72f-a090c2651b37",
        "colab": {
          "base_uri": "https://localhost:8080/",
          "height": 34
        }
      },
      "source": [
        "x_train.shape"
      ],
      "execution_count": 0,
      "outputs": [
        {
          "output_type": "execute_result",
          "data": {
            "text/plain": [
              "(60000, 28, 28)"
            ]
          },
          "metadata": {
            "tags": []
          },
          "execution_count": 13
        }
      ]
    },
    {
      "cell_type": "code",
      "metadata": {
        "id": "lz9_3XkVz4wx",
        "colab_type": "code",
        "colab": {}
      },
      "source": [
        "x_train = x_train.reshape(60000, 784)\n",
        "x_test = x_test.reshape(10000, 784)"
      ],
      "execution_count": 0,
      "outputs": []
    },
    {
      "cell_type": "code",
      "metadata": {
        "id": "zS3zAKBbz8AN",
        "colab_type": "code",
        "outputId": "aed99785-856b-4269-833c-5c01702fe678",
        "colab": {
          "base_uri": "https://localhost:8080/",
          "height": 34
        }
      },
      "source": [
        "from tensorflow.keras.utils import to_categorical\n",
        "y_train = to_categorical(y_train, 10)\n",
        "y_test = to_categorical(y_test, 10)\n",
        "y_train[9487]"
      ],
      "execution_count": 0,
      "outputs": [
        {
          "output_type": "execute_result",
          "data": {
            "text/plain": [
              "array([1., 0., 0., 0., 0., 0., 0., 0., 0., 0.], dtype=float32)"
            ]
          },
          "metadata": {
            "tags": []
          },
          "execution_count": 15
        }
      ]
    },
    {
      "cell_type": "markdown",
      "metadata": {
        "id": "VuYZJaTH0C_B",
        "colab_type": "text"
      },
      "source": [
        "打造神經網路"
      ]
    },
    {
      "cell_type": "code",
      "metadata": {
        "id": "WcKhAms70Dlm",
        "colab_type": "code",
        "colab": {}
      },
      "source": [
        "from tensorflow.keras.models import Sequential\n",
        "from tensorflow.keras.layers import Dense\n",
        "from tensorflow.keras.optimizers import SGD\n",
        "model = Sequential()\n",
        "model.add(Dense(200, input_dim=784, activation='relu'))\n",
        "model.add(Dense(200, activation='relu'))\n",
        "model.add(Dense(100, activation='relu'))\n",
        "model.add(Dense(10, activation='softmax'))"
      ],
      "execution_count": 0,
      "outputs": []
    },
    {
      "cell_type": "markdown",
      "metadata": {
        "id": "Ftlw9Nbg0JOA",
        "colab_type": "text"
      },
      "source": [
        "組裝我們的神經網路¶"
      ]
    },
    {
      "cell_type": "code",
      "metadata": {
        "id": "Bpp6VwS50GvL",
        "colab_type": "code",
        "colab": {}
      },
      "source": [
        "model.compile(loss='mse', optimizer=SGD(lr=0.087), metrics=['accuracy'])"
      ],
      "execution_count": 0,
      "outputs": []
    },
    {
      "cell_type": "code",
      "metadata": {
        "id": "O-F8CJ8n0QY4",
        "colab_type": "code",
        "outputId": "360a6614-b30b-4bea-8c06-9dcc36acb526",
        "colab": {
          "base_uri": "https://localhost:8080/",
          "height": 289
        }
      },
      "source": [
        "model.summary()"
      ],
      "execution_count": 0,
      "outputs": [
        {
          "output_type": "stream",
          "text": [
            "Model: \"sequential\"\n",
            "_________________________________________________________________\n",
            "Layer (type)                 Output Shape              Param #   \n",
            "=================================================================\n",
            "dense (Dense)                (None, 200)               157000    \n",
            "_________________________________________________________________\n",
            "dense_1 (Dense)              (None, 200)               40200     \n",
            "_________________________________________________________________\n",
            "dense_2 (Dense)              (None, 100)               20100     \n",
            "_________________________________________________________________\n",
            "dense_3 (Dense)              (None, 10)                1010      \n",
            "=================================================================\n",
            "Total params: 218,310\n",
            "Trainable params: 218,310\n",
            "Non-trainable params: 0\n",
            "_________________________________________________________________\n"
          ],
          "name": "stdout"
        }
      ]
    },
    {
      "cell_type": "markdown",
      "metadata": {
        "id": "QFe28UTg0YNL",
        "colab_type": "text"
      },
      "source": [
        "訓練"
      ]
    },
    {
      "cell_type": "code",
      "metadata": {
        "id": "tcnRFNGk0W4U",
        "colab_type": "code",
        "outputId": "fe054e9f-0505-41cf-d8e8-1aa2db23be9d",
        "colab": {
          "base_uri": "https://localhost:8080/",
          "height": 1000
        }
      },
      "source": [
        "model.fit(x_train, y_train, batch_size=25, epochs=40)"
      ],
      "execution_count": 0,
      "outputs": [
        {
          "output_type": "stream",
          "text": [
            "Epoch 1/40\n",
            "2400/2400 [==============================] - 6s 2ms/step - loss: 0.0430 - accuracy: 0.6946\n",
            "Epoch 2/40\n",
            "2400/2400 [==============================] - 6s 2ms/step - loss: 0.0260 - accuracy: 0.8244\n",
            "Epoch 3/40\n",
            "2400/2400 [==============================] - 6s 2ms/step - loss: 0.0234 - accuracy: 0.8414\n",
            "Epoch 4/40\n",
            "2400/2400 [==============================] - 6s 2ms/step - loss: 0.0219 - accuracy: 0.8522\n",
            "Epoch 5/40\n",
            "2400/2400 [==============================] - 6s 2ms/step - loss: 0.0208 - accuracy: 0.8596\n",
            "Epoch 6/40\n",
            "2400/2400 [==============================] - 6s 2ms/step - loss: 0.0200 - accuracy: 0.8655\n",
            "Epoch 7/40\n",
            "2400/2400 [==============================] - 6s 2ms/step - loss: 0.0193 - accuracy: 0.8699\n",
            "Epoch 8/40\n",
            "2400/2400 [==============================] - 6s 2ms/step - loss: 0.0187 - accuracy: 0.8740\n",
            "Epoch 9/40\n",
            "2400/2400 [==============================] - 6s 2ms/step - loss: 0.0183 - accuracy: 0.8767\n",
            "Epoch 10/40\n",
            "2400/2400 [==============================] - 6s 2ms/step - loss: 0.0179 - accuracy: 0.8801\n",
            "Epoch 11/40\n",
            "2400/2400 [==============================] - 6s 2ms/step - loss: 0.0174 - accuracy: 0.8835\n",
            "Epoch 12/40\n",
            "2400/2400 [==============================] - 6s 2ms/step - loss: 0.0171 - accuracy: 0.8855\n",
            "Epoch 13/40\n",
            "2400/2400 [==============================] - 6s 2ms/step - loss: 0.0168 - accuracy: 0.8875\n",
            "Epoch 14/40\n",
            "2400/2400 [==============================] - 5s 2ms/step - loss: 0.0164 - accuracy: 0.8899\n",
            "Epoch 15/40\n",
            "2400/2400 [==============================] - 6s 2ms/step - loss: 0.0161 - accuracy: 0.8928\n",
            "Epoch 16/40\n",
            "2400/2400 [==============================] - 5s 2ms/step - loss: 0.0159 - accuracy: 0.8929\n",
            "Epoch 17/40\n",
            "2400/2400 [==============================] - 6s 2ms/step - loss: 0.0155 - accuracy: 0.8962\n",
            "Epoch 18/40\n",
            "2400/2400 [==============================] - 6s 2ms/step - loss: 0.0153 - accuracy: 0.8965\n",
            "Epoch 19/40\n",
            "2400/2400 [==============================] - 5s 2ms/step - loss: 0.0151 - accuracy: 0.8990\n",
            "Epoch 20/40\n",
            "2400/2400 [==============================] - 5s 2ms/step - loss: 0.0148 - accuracy: 0.9014\n",
            "Epoch 21/40\n",
            "2400/2400 [==============================] - 6s 2ms/step - loss: 0.0146 - accuracy: 0.9021\n",
            "Epoch 22/40\n",
            "2400/2400 [==============================] - 6s 2ms/step - loss: 0.0144 - accuracy: 0.9043\n",
            "Epoch 23/40\n",
            "2400/2400 [==============================] - 6s 2ms/step - loss: 0.0142 - accuracy: 0.9057\n",
            "Epoch 24/40\n",
            "2400/2400 [==============================] - 5s 2ms/step - loss: 0.0140 - accuracy: 0.9071\n",
            "Epoch 25/40\n",
            "2400/2400 [==============================] - 6s 2ms/step - loss: 0.0138 - accuracy: 0.9088\n",
            "Epoch 26/40\n",
            "2400/2400 [==============================] - 5s 2ms/step - loss: 0.0136 - accuracy: 0.9105\n",
            "Epoch 27/40\n",
            "2400/2400 [==============================] - 5s 2ms/step - loss: 0.0134 - accuracy: 0.9111\n",
            "Epoch 28/40\n",
            "2400/2400 [==============================] - 5s 2ms/step - loss: 0.0132 - accuracy: 0.9129\n",
            "Epoch 29/40\n",
            "2400/2400 [==============================] - 5s 2ms/step - loss: 0.0130 - accuracy: 0.9144\n",
            "Epoch 30/40\n",
            "2400/2400 [==============================] - 6s 2ms/step - loss: 0.0128 - accuracy: 0.9162\n",
            "Epoch 31/40\n",
            "2400/2400 [==============================] - 5s 2ms/step - loss: 0.0126 - accuracy: 0.9173\n",
            "Epoch 32/40\n",
            "2400/2400 [==============================] - 5s 2ms/step - loss: 0.0125 - accuracy: 0.9182\n",
            "Epoch 33/40\n",
            "2400/2400 [==============================] - 6s 2ms/step - loss: 0.0124 - accuracy: 0.9194\n",
            "Epoch 34/40\n",
            "2400/2400 [==============================] - 5s 2ms/step - loss: 0.0122 - accuracy: 0.9205\n",
            "Epoch 35/40\n",
            "2400/2400 [==============================] - 5s 2ms/step - loss: 0.0120 - accuracy: 0.9211\n",
            "Epoch 36/40\n",
            "2400/2400 [==============================] - 6s 2ms/step - loss: 0.0119 - accuracy: 0.9230\n",
            "Epoch 37/40\n",
            "2400/2400 [==============================] - 5s 2ms/step - loss: 0.0117 - accuracy: 0.9237\n",
            "Epoch 38/40\n",
            "2400/2400 [==============================] - 6s 2ms/step - loss: 0.0115 - accuracy: 0.9254\n",
            "Epoch 39/40\n",
            "2400/2400 [==============================] - 5s 2ms/step - loss: 0.0114 - accuracy: 0.9257\n",
            "Epoch 40/40\n",
            "2400/2400 [==============================] - 6s 2ms/step - loss: 0.0113 - accuracy: 0.9265\n"
          ],
          "name": "stdout"
        },
        {
          "output_type": "execute_result",
          "data": {
            "text/plain": [
              "<tensorflow.python.keras.callbacks.History at 0x7f4cd54bc128>"
            ]
          },
          "metadata": {
            "tags": []
          },
          "execution_count": 19
        }
      ]
    },
    {
      "cell_type": "code",
      "metadata": {
        "id": "WW2IF2CS0dhV",
        "colab_type": "code",
        "outputId": "7d0a11fe-73d7-4501-9705-1863d937bc08",
        "colab": {
          "base_uri": "https://localhost:8080/",
          "height": 370
        }
      },
      "source": [
        "result = model.predict_classes(x_test)\n",
        "n = 2000\n",
        "print('神經網路預測是:', class_names[result[n]])\n",
        "\n",
        "plt.imshow(x_test[n].reshape(28,28), cmap='Greys')"
      ],
      "execution_count": 0,
      "outputs": [
        {
          "output_type": "stream",
          "text": [
            "WARNING:tensorflow:From <ipython-input-20-7a210cb4d94f>:1: Sequential.predict_classes (from tensorflow.python.keras.engine.sequential) is deprecated and will be removed after 2021-01-01.\n",
            "Instructions for updating:\n",
            "Please use instead:* `np.argmax(model.predict(x), axis=-1)`,   if your model does multi-class classification   (e.g. if it uses a `softmax` last-layer activation).* `(model.predict(x) > 0.5).astype(\"int32\")`,   if your model does binary classification   (e.g. if it uses a `sigmoid` last-layer activation).\n",
            "神經網路預測是: Sandal\n"
          ],
          "name": "stdout"
        },
        {
          "output_type": "execute_result",
          "data": {
            "text/plain": [
              "<matplotlib.image.AxesImage at 0x7f4cd25fd940>"
            ]
          },
          "metadata": {
            "tags": []
          },
          "execution_count": 20
        },
        {
          "output_type": "display_data",
          "data": {
            "image/png": "[encoded data removed]",
            "text/plain": [
              "<Figure size 432x288 with 1 Axes>"
            ]
          },
          "metadata": {
            "tags": []
          }
        }
      ]
    },
    {
      "cell_type": "code",
      "metadata": {
        "id": "IKrnChQa0-ZE",
        "colab_type": "code",
        "colab": {}
      },
      "source": [
        ""
      ],
      "execution_count": 0,
      "outputs": []
    }
  ]
}