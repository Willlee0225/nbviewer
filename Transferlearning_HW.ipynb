{
  "nbformat": 4,
  "nbformat_minor": 0,
  "metadata": {
    "colab": {
      "name": "Transferlearning HW",
      "provenance": [],
      "collapsed_sections": [],
      "authorship_tag": "ABX9TyMf5kfj0DmG2MjgqHsrym42",
      "include_colab_link": true
    },
    "kernelspec": {
      "name": "python3",
      "display_name": "Python 3"
    },
    "accelerator": "GPU"
  },
  "cells": [
    {
      "cell_type": "markdown",
      "metadata": {
        "id": "view-in-github",
        "colab_type": "text"
      },
      "source": [
        "<a href=\"https://colab.research.google.com/github/Willlee0225/nbviewer/blob/master/Transferlearning_HW.ipynb\" target=\"_parent\"><img src=\"https://colab.research.google.com/assets/colab-badge.svg\" alt=\"Open In Colab\"/></a>"
      ]
    },
    {
      "cell_type": "code",
      "metadata": {
        "id": "X0vmnG4yxo9i",
        "colab_type": "code",
        "colab": {}
      },
      "source": [
        "%tensorflow_version 2.x\n",
        "\n",
        "import matplotlib.pyplot as plt\n",
        "import numpy as np\n",
        "# Layers for FNN\n",
        "from tensorflow.keras.models import Sequential\n",
        "from tensorflow.keras.layers import Dense\n",
        "from tensorflow.keras.layers import Flatten\n",
        "# Layers for CNN\n",
        "from tensorflow.keras.layers import Conv2D, MaxPool2D, GlobalAveragePooling2D\n",
        "from tensorflow.keras.optimizers import Adam\n",
        "# For data preprocessing\n",
        "from tensorflow.keras import datasets\n",
        "from tensorflow.keras.utils import to_categorical"
      ],
      "execution_count": 0,
      "outputs": []
    },
    {
      "cell_type": "markdown",
      "metadata": {
        "id": "UPyHJZXgx-c4",
        "colab_type": "text"
      },
      "source": [
        "## 讀入資料"
      ]
    },
    {
      "cell_type": "code",
      "metadata": {
        "id": "AmHyqP5zxuNf",
        "colab_type": "code",
        "colab": {}
      },
      "source": [
        "(X_train, y_train0), (X_test, y_test0) = datasets.cifar10.load_data()"
      ],
      "execution_count": 0,
      "outputs": []
    },
    {
      "cell_type": "markdown",
      "metadata": {
        "id": "jA2hStO3yUk_",
        "colab_type": "text"
      },
      "source": [
        "### 將資料整理\n"
      ]
    },
    {
      "cell_type": "code",
      "metadata": {
        "id": "ei_MvNwqyDzR",
        "colab_type": "code",
        "colab": {}
      },
      "source": [
        "name_list = ['airplane', 'automobile', 'bird', 'cat', 'deer', 'dog', 'frog', 'horse', 'ship', 'truck']"
      ],
      "execution_count": 0,
      "outputs": []
    },
    {
      "cell_type": "markdown",
      "metadata": {
        "id": "OTX-kq5KyZo9",
        "colab_type": "text"
      },
      "source": [
        "## 資料處理（Data Processing)"
      ]
    },
    {
      "cell_type": "code",
      "metadata": {
        "id": "HM9hur3wyVFO",
        "colab_type": "code",
        "outputId": "d5337fc2-0a5c-472e-ca6c-530da233331c",
        "colab": {
          "base_uri": "https://localhost:8080/",
          "height": 34
        }
      },
      "source": [
        "X_train.shape"
      ],
      "execution_count": 0,
      "outputs": [
        {
          "output_type": "execute_result",
          "data": {
            "text/plain": [
              "(50000, 32, 32, 3)"
            ]
          },
          "metadata": {
            "tags": []
          },
          "execution_count": 5
        }
      ]
    },
    {
      "cell_type": "code",
      "metadata": {
        "id": "F8D7I4idyf_i",
        "colab_type": "code",
        "outputId": "fe4b6d59-0b18-49ce-96e5-2823fc94c819",
        "colab": {
          "base_uri": "https://localhost:8080/",
          "height": 34
        }
      },
      "source": [
        "y_train0.shape"
      ],
      "execution_count": 0,
      "outputs": [
        {
          "output_type": "execute_result",
          "data": {
            "text/plain": [
              "(50000, 1)"
            ]
          },
          "metadata": {
            "tags": []
          },
          "execution_count": 6
        }
      ]
    },
    {
      "cell_type": "code",
      "metadata": {
        "id": "-c0n-B9Nzhmi",
        "colab_type": "code",
        "outputId": "a18acbde-0945-433f-c296-09f1ca0d63ad",
        "colab": {
          "base_uri": "https://localhost:8080/",
          "height": 34
        }
      },
      "source": [
        "y_train.shape"
      ],
      "execution_count": 0,
      "outputs": [
        {
          "output_type": "execute_result",
          "data": {
            "text/plain": [
              "(50000, 10)"
            ]
          },
          "metadata": {
            "tags": []
          },
          "execution_count": 10
        }
      ]
    },
    {
      "cell_type": "markdown",
      "metadata": {
        "id": "fD0m0u2ry8aP",
        "colab_type": "text"
      },
      "source": [
        "### 標準化資料"
      ]
    },
    {
      "cell_type": "code",
      "metadata": {
        "id": "maeaDOT8ylxO",
        "colab_type": "code",
        "colab": {}
      },
      "source": [
        "X_train = X_train / X_train.max()\n",
        "X_test = X_test / X_test.max()"
      ],
      "execution_count": 0,
      "outputs": []
    },
    {
      "cell_type": "code",
      "metadata": {
        "id": "HGF0cFpCzAgT",
        "colab_type": "code",
        "colab": {}
      },
      "source": [
        "# One-hot encoding\n",
        "y_train = to_categorical(y_train0, 10)\n",
        "y_test = to_categorical(y_test0, 10)"
      ],
      "execution_count": 0,
      "outputs": []
    },
    {
      "cell_type": "code",
      "metadata": {
        "id": "UZvMHsZyzCz1",
        "colab_type": "code",
        "outputId": "cd2267c7-60d5-470a-f2b5-a8104bdf6c80",
        "colab": {
          "base_uri": "https://localhost:8080/",
          "height": 264
        }
      },
      "source": [
        "\n",
        "idx = np.random.randint(X_train.shape[0])\n",
        "x_sample = X_train[idx]\n",
        "y_sample = y_train0[idx].squeeze()\n",
        "\n",
        "plt.imshow(x_sample)\n",
        "plt.title(name_list[y_sample])\n",
        "plt.axis('off');"
      ],
      "execution_count": 0,
      "outputs": [
        {
          "output_type": "display_data",
          "data": {
            "image/png": "[encoded data removed]",
            "text/plain": [
              "<Figure size 432x288 with 1 Axes>"
            ]
          },
          "metadata": {
            "tags": [],
            "needs_background": "light"
          }
        }
      ]
    },
    {
      "cell_type": "markdown",
      "metadata": {
        "id": "CrrTYoXP0hUD",
        "colab_type": "text"
      },
      "source": [
        "## 建立用於分類 CIFAR 10 的卷積神經網路，用於分類A資料集\n",
        "### 修改部分：將卷積層的filter數量改為32, 128, 512，並將全連接層的神經元數量下修至128。"
      ]
    },
    {
      "cell_type": "code",
      "metadata": {
        "id": "VtuYLm43zRk0",
        "colab_type": "code",
        "colab": {}
      },
      "source": [
        "CNN_layers = [Conv2D(32, (3, 3), input_shape=(32, 32, 3), padding='same', activation='relu', name='Conv_1'),\n",
        "              MaxPool2D(),\n",
        "              Conv2D(128, (3, 3), padding='same', activation='relu', name='Conv_2'),\n",
        "              MaxPool2D(),\n",
        "              Conv2D(512, (3, 3), padding='same', activation='relu', name='Conv_3'),\n",
        "              GlobalAveragePooling2D()]\n",
        "\n",
        "FC_layers = [Dense(units=128, activation='relu'),\n",
        "             Dense(units=10, activation='softmax')]\n",
        "\n"
      ],
      "execution_count": 0,
      "outputs": []
    },
    {
      "cell_type": "code",
      "metadata": {
        "id": "vmPOcxIN7vsL",
        "colab_type": "code",
        "outputId": "bceb69f0-65cd-4ac6-ff40-a71bf6d64772",
        "colab": {
          "base_uri": "https://localhost:8080/",
          "height": 425
        }
      },
      "source": [
        "model = Sequential(CNN_layers+FC_layers)\n",
        "model.summary()"
      ],
      "execution_count": 0,
      "outputs": [
        {
          "output_type": "stream",
          "text": [
            "Model: \"sequential\"\n",
            "_________________________________________________________________\n",
            "Layer (type)                 Output Shape              Param #   \n",
            "=================================================================\n",
            "Conv_1 (Conv2D)              (None, 32, 32, 32)        896       \n",
            "_________________________________________________________________\n",
            "max_pooling2d (MaxPooling2D) (None, 16, 16, 32)        0         \n",
            "_________________________________________________________________\n",
            "Conv_2 (Conv2D)              (None, 16, 16, 128)       36992     \n",
            "_________________________________________________________________\n",
            "max_pooling2d_1 (MaxPooling2 (None, 8, 8, 128)         0         \n",
            "_________________________________________________________________\n",
            "Conv_3 (Conv2D)              (None, 8, 8, 512)         590336    \n",
            "_________________________________________________________________\n",
            "global_average_pooling2d (Gl (None, 512)               0         \n",
            "_________________________________________________________________\n",
            "dense (Dense)                (None, 128)               65664     \n",
            "_________________________________________________________________\n",
            "dense_1 (Dense)              (None, 10)                1290      \n",
            "=================================================================\n",
            "Total params: 695,178\n",
            "Trainable params: 695,178\n",
            "Non-trainable params: 0\n",
            "_________________________________________________________________\n"
          ],
          "name": "stdout"
        }
      ]
    },
    {
      "cell_type": "markdown",
      "metadata": {
        "id": "WETaxrCe75j1",
        "colab_type": "text"
      },
      "source": [
        "## 訓練模型"
      ]
    },
    {
      "cell_type": "code",
      "metadata": {
        "id": "oBJM-I_Z7vum",
        "colab_type": "code",
        "outputId": "deef052e-9917-4e64-8eba-de62445c528d",
        "colab": {
          "base_uri": "https://localhost:8080/",
          "height": 374
        }
      },
      "source": [
        "model.compile(loss='categorical_crossentropy', optimizer=Adam(),metrics=['categorical_accuracy'])\n",
        "model.fit(X_train, y_train, batch_size=64, epochs=10,validation_data=(X_test, y_test))\n"
      ],
      "execution_count": 0,
      "outputs": [
        {
          "output_type": "stream",
          "text": [
            "Epoch 1/10\n",
            "782/782 [==============================] - 5s 7ms/step - loss: 1.7015 - categorical_accuracy: 0.3627 - val_loss: 1.3975 - val_categorical_accuracy: 0.4897\n",
            "Epoch 2/10\n",
            "782/782 [==============================] - 5s 6ms/step - loss: 1.3318 - categorical_accuracy: 0.5158 - val_loss: 1.3107 - val_categorical_accuracy: 0.5139\n",
            "Epoch 3/10\n",
            "782/782 [==============================] - 5s 6ms/step - loss: 1.1640 - categorical_accuracy: 0.5797 - val_loss: 1.1100 - val_categorical_accuracy: 0.5972\n",
            "Epoch 4/10\n",
            "782/782 [==============================] - 5s 6ms/step - loss: 1.0551 - categorical_accuracy: 0.6241 - val_loss: 0.9933 - val_categorical_accuracy: 0.6469\n",
            "Epoch 5/10\n",
            "782/782 [==============================] - 5s 6ms/step - loss: 0.9721 - categorical_accuracy: 0.6540 - val_loss: 0.9592 - val_categorical_accuracy: 0.6611\n",
            "Epoch 6/10\n",
            "782/782 [==============================] - 5s 6ms/step - loss: 0.9011 - categorical_accuracy: 0.6794 - val_loss: 0.9571 - val_categorical_accuracy: 0.6609\n",
            "Epoch 7/10\n",
            "782/782 [==============================] - 5s 6ms/step - loss: 0.8507 - categorical_accuracy: 0.6995 - val_loss: 0.8459 - val_categorical_accuracy: 0.7056\n",
            "Epoch 8/10\n",
            "782/782 [==============================] - 5s 6ms/step - loss: 0.8021 - categorical_accuracy: 0.7174 - val_loss: 0.8923 - val_categorical_accuracy: 0.6864\n",
            "Epoch 9/10\n",
            "782/782 [==============================] - 5s 6ms/step - loss: 0.7540 - categorical_accuracy: 0.7344 - val_loss: 0.7827 - val_categorical_accuracy: 0.7254\n",
            "Epoch 10/10\n",
            "782/782 [==============================] - 5s 6ms/step - loss: 0.7004 - categorical_accuracy: 0.7532 - val_loss: 0.8579 - val_categorical_accuracy: 0.6981\n"
          ],
          "name": "stdout"
        },
        {
          "output_type": "execute_result",
          "data": {
            "text/plain": [
              "<tensorflow.python.keras.callbacks.History at 0x7f6284612898>"
            ]
          },
          "metadata": {
            "tags": []
          },
          "execution_count": 14
        }
      ]
    },
    {
      "cell_type": "markdown",
      "metadata": {
        "id": "MHLIwzMj8DPd",
        "colab_type": "text"
      },
      "source": [
        "## 存下模型"
      ]
    },
    {
      "cell_type": "code",
      "metadata": {
        "id": "8pls_GRA7vzJ",
        "colab_type": "code",
        "colab": {}
      },
      "source": [
        "model.save_weights('transferlearning_HW_cifar10.h5')"
      ],
      "execution_count": 0,
      "outputs": []
    },
    {
      "cell_type": "markdown",
      "metadata": {
        "id": "o6c3Duvr9cDf",
        "colab_type": "text"
      },
      "source": [
        "## 模型預測"
      ]
    },
    {
      "cell_type": "code",
      "metadata": {
        "id": "ozTPwsWL7v4M",
        "colab_type": "code",
        "outputId": "e94a53cf-e401-4f30-a91a-dd6b661c061b",
        "colab": {
          "base_uri": "https://localhost:8080/",
          "height": 85
        }
      },
      "source": [
        "model.load_weights('transferlearning_HW_cifar10.h5')\n",
        "\n",
        "score_train = model.evaluate(X_train, y_train)\n",
        "score_test = model.evaluate(X_test, y_test)\n",
        "\n",
        "print(f'Train Accuracy: {score_train[1]*100}')\n",
        "print(f'Test Accuracy: {score_test[1]*100}')"
      ],
      "execution_count": 0,
      "outputs": [
        {
          "output_type": "stream",
          "text": [
            "1563/1563 [==============================] - 4s 3ms/step - loss: 0.7537 - categorical_accuracy: 0.7339\n",
            "313/313 [==============================] - 1s 3ms/step - loss: 0.8579 - categorical_accuracy: 0.6981\n",
            "Train Accuracy: 73.38799834251404\n",
            "Test Accuracy: 69.80999708175659\n"
          ],
          "name": "stdout"
        }
      ]
    },
    {
      "cell_type": "markdown",
      "metadata": {
        "id": "TeoEUxv89pW2",
        "colab_type": "text"
      },
      "source": [
        "## Transfer Learning\n",
        "### Model 是使用cifar10，model2借用Model的部分模型來用，資料使用Fashion Mnist和A資料集借用卷積層的權重，新增fasion Mnist自己的全連接層。\n",
        "## 讀入 Fasion mnist\n"
      ]
    },
    {
      "cell_type": "code",
      "metadata": {
        "id": "xrbnNkvR7v2M",
        "colab_type": "code",
        "colab": {}
      },
      "source": [
        "from tensorflow.keras.datasets import fashion_mnist\n",
        "(X_train_2, y_train_2), (X_test_2, y_test_2) = fashion_mnist.load_data()\n",
        "class_names = ['T-shirt/top', 'Trouser', 'Pullover', 'Dress', 'Coat',\n",
        "               'Sandal', 'Shirt', 'Sneaker', 'Bag', 'Ankle boot']"
      ],
      "execution_count": 0,
      "outputs": []
    },
    {
      "cell_type": "code",
      "metadata": {
        "id": "doPosIEI7vxr",
        "colab_type": "code",
        "outputId": "f9296e47-b3aa-4172-ebec-cb766c96c8cb",
        "colab": {
          "base_uri": "https://localhost:8080/",
          "height": 264
        }
      },
      "source": [
        "idx = np.random.randint(X_train_2.shape[0])\n",
        "x_sample_2 = X_train_2[idx]\n",
        "y_sample_2 = y_train_2[idx].squeeze()\n",
        "\n",
        "plt.imshow(x_sample_2)\n",
        "plt.title(name_list[y_sample_2])\n",
        "plt.axis('off');"
      ],
      "execution_count": 0,
      "outputs": [
        {
          "output_type": "display_data",
          "data": {
            "image/png": "[encoded data removed]",
            "text/plain": [
              "<Figure size 432x288 with 1 Axes>"
            ]
          },
          "metadata": {
            "tags": [],
            "needs_background": "light"
          }
        }
      ]
    },
    {
      "cell_type": "markdown",
      "metadata": {
        "id": "ACjiE2sg-ORE",
        "colab_type": "text"
      },
      "source": [
        "## 資料處理（Data Processing)\n",
        "### 標準化資料"
      ]
    },
    {
      "cell_type": "code",
      "metadata": {
        "id": "A4j3erU7-KaF",
        "colab_type": "code",
        "colab": {}
      },
      "source": [
        "X_train_2 = X_train_2.reshape(60000, 28, 28, 1)/255\n",
        "X_test_2 = X_test_2.reshape(10000, 28, 28, 1)/255"
      ],
      "execution_count": 0,
      "outputs": []
    },
    {
      "cell_type": "code",
      "metadata": {
        "id": "xEWwb8xD-U4t",
        "colab_type": "code",
        "colab": {}
      },
      "source": [
        "# One-hot encoding\n",
        "from tensorflow.keras.utils import to_categorical\n",
        "\n",
        "y_train_2 = to_categorical(y_train_2, 10)\n",
        "y_test_2 = to_categorical(y_test_2, 10)"
      ],
      "execution_count": 0,
      "outputs": []
    },
    {
      "cell_type": "markdown",
      "metadata": {
        "id": "T5WfLdTm-zGZ",
        "colab_type": "text"
      },
      "source": [
        "## 建立Model2模型"
      ]
    },
    {
      "cell_type": "code",
      "metadata": {
        "id": "6PaCG_Qe-ft9",
        "colab_type": "code",
        "colab": {}
      },
      "source": [
        "from tensorflow.keras.models import Sequential \n",
        "from tensorflow.keras.layers import Conv2D, MaxPooling2D \n",
        "from tensorflow.keras.layers import Dense, Flatten\n",
        "from tensorflow.keras.optimizers import SGD"
      ],
      "execution_count": 0,
      "outputs": []
    },
    {
      "cell_type": "markdown",
      "metadata": {
        "id": "MiDUSCMt_ENP",
        "colab_type": "text"
      },
      "source": [
        "### 用Sequential建構CNN Layers for mnist\n",
        "\n",
        "### 將卷積層的filter數量改為32, 128, 512，並將全連接層的神經元數量下修至128。"
      ]
    },
    {
      "cell_type": "code",
      "metadata": {
        "id": "8JyVfpT9-6SK",
        "colab_type": "code",
        "colab": {}
      },
      "source": [
        "CNN_layers_mnist = [Conv2D(32, (3, 3), input_shape=(28, 28, 1), padding='same', activation='relu', name='Conv_1'),\n",
        "              MaxPool2D(),\n",
        "              Conv2D(128, (3, 3), padding='same', activation='relu', name='Conv_2'),\n",
        "              MaxPool2D(),\n",
        "              Conv2D(512, (3, 3), padding='same', activation='relu', name='Conv_3'),\n",
        "              GlobalAveragePooling2D()]\n",
        "            \n"
      ],
      "execution_count": 0,
      "outputs": []
    },
    {
      "cell_type": "markdown",
      "metadata": {
        "id": "fEcrRBCa_23Y",
        "colab_type": "text"
      },
      "source": [
        "## 應用Transfer Learning : 使用model的FC_layer"
      ]
    },
    {
      "cell_type": "code",
      "metadata": {
        "id": "g7eANqah_2Xb",
        "colab_type": "code",
        "outputId": "9659eb64-d858-49ca-c54a-c90b41f4c2f3",
        "colab": {
          "base_uri": "https://localhost:8080/",
          "height": 425
        }
      },
      "source": [
        "model2 = Sequential(CNN_layers_mnist+FC_layers)\n",
        "model2.summary()"
      ],
      "execution_count": 0,
      "outputs": [
        {
          "output_type": "stream",
          "text": [
            "Model: \"sequential_1\"\n",
            "_________________________________________________________________\n",
            "Layer (type)                 Output Shape              Param #   \n",
            "=================================================================\n",
            "Conv_1 (Conv2D)              (None, 28, 28, 32)        320       \n",
            "_________________________________________________________________\n",
            "max_pooling2d_2 (MaxPooling2 (None, 14, 14, 32)        0         \n",
            "_________________________________________________________________\n",
            "Conv_2 (Conv2D)              (None, 14, 14, 128)       36992     \n",
            "_________________________________________________________________\n",
            "max_pooling2d_3 (MaxPooling2 (None, 7, 7, 128)         0         \n",
            "_________________________________________________________________\n",
            "Conv_3 (Conv2D)              (None, 7, 7, 512)         590336    \n",
            "_________________________________________________________________\n",
            "global_average_pooling2d_1 ( (None, 512)               0         \n",
            "_________________________________________________________________\n",
            "dense (Dense)                (None, 128)               65664     \n",
            "_________________________________________________________________\n",
            "dense_1 (Dense)              (None, 10)                1290      \n",
            "=================================================================\n",
            "Total params: 694,602\n",
            "Trainable params: 694,602\n",
            "Non-trainable params: 0\n",
            "_________________________________________________________________\n"
          ],
          "name": "stdout"
        }
      ]
    },
    {
      "cell_type": "markdown",
      "metadata": {
        "id": "_3qPyXn9GV7y",
        "colab_type": "text"
      },
      "source": [
        "## 採Frozen的訓練方式"
      ]
    },
    {
      "cell_type": "code",
      "metadata": {
        "id": "KHVcmASuGiQt",
        "colab_type": "code",
        "colab": {}
      },
      "source": [
        "for layer in FC_layers:\n",
        "    layer.trainable = False"
      ],
      "execution_count": 0,
      "outputs": []
    },
    {
      "cell_type": "markdown",
      "metadata": {
        "id": "ItlQLzpNAPqc",
        "colab_type": "text"
      },
      "source": [
        "## 訓練模型"
      ]
    },
    {
      "cell_type": "code",
      "metadata": {
        "id": "qJoEwx-yAGP9",
        "colab_type": "code",
        "colab": {}
      },
      "source": [
        "\n",
        "model2.compile(loss='categorical_crossentropy', optimizer=Adam(),metrics=['categorical_accuracy'])\n",
        "\n"
      ],
      "execution_count": 0,
      "outputs": []
    },
    {
      "cell_type": "code",
      "metadata": {
        "id": "Cl39QWXaBEt-",
        "colab_type": "code",
        "outputId": "588a9d55-d4c2-4c7d-d0aa-5713a0e7a238",
        "colab": {
          "base_uri": "https://localhost:8080/",
          "height": 374
        }
      },
      "source": [
        "model2.fit(X_train_2, y_train_2, batch_size=64, epochs=10,validation_data=(X_test_2, y_test_2))"
      ],
      "execution_count": 0,
      "outputs": [
        {
          "output_type": "stream",
          "text": [
            "Epoch 1/10\n",
            "938/938 [==============================] - 5s 5ms/step - loss: 0.6672 - categorical_accuracy: 0.7598 - val_loss: 0.4641 - val_categorical_accuracy: 0.8391\n",
            "Epoch 2/10\n",
            "938/938 [==============================] - 5s 5ms/step - loss: 0.4304 - categorical_accuracy: 0.8477 - val_loss: 0.4024 - val_categorical_accuracy: 0.8566\n",
            "Epoch 3/10\n",
            "938/938 [==============================] - 5s 5ms/step - loss: 0.3617 - categorical_accuracy: 0.8701 - val_loss: 0.4014 - val_categorical_accuracy: 0.8552\n",
            "Epoch 4/10\n",
            "938/938 [==============================] - 5s 5ms/step - loss: 0.3228 - categorical_accuracy: 0.8845 - val_loss: 0.3303 - val_categorical_accuracy: 0.8822\n",
            "Epoch 5/10\n",
            "938/938 [==============================] - 5s 5ms/step - loss: 0.2986 - categorical_accuracy: 0.8939 - val_loss: 0.3169 - val_categorical_accuracy: 0.8889\n",
            "Epoch 6/10\n",
            "938/938 [==============================] - 5s 5ms/step - loss: 0.2771 - categorical_accuracy: 0.9006 - val_loss: 0.3078 - val_categorical_accuracy: 0.8910\n",
            "Epoch 7/10\n",
            "938/938 [==============================] - 5s 5ms/step - loss: 0.2589 - categorical_accuracy: 0.9069 - val_loss: 0.2891 - val_categorical_accuracy: 0.8941\n",
            "Epoch 8/10\n",
            "938/938 [==============================] - 5s 5ms/step - loss: 0.2443 - categorical_accuracy: 0.9119 - val_loss: 0.2672 - val_categorical_accuracy: 0.9063\n",
            "Epoch 9/10\n",
            "938/938 [==============================] - 5s 5ms/step - loss: 0.2315 - categorical_accuracy: 0.9170 - val_loss: 0.2682 - val_categorical_accuracy: 0.9051\n",
            "Epoch 10/10\n",
            "938/938 [==============================] - 5s 5ms/step - loss: 0.2156 - categorical_accuracy: 0.9223 - val_loss: 0.2919 - val_categorical_accuracy: 0.8972\n"
          ],
          "name": "stdout"
        },
        {
          "output_type": "execute_result",
          "data": {
            "text/plain": [
              "<tensorflow.python.keras.callbacks.History at 0x7f62843cba90>"
            ]
          },
          "metadata": {
            "tags": []
          },
          "execution_count": 26
        }
      ]
    },
    {
      "cell_type": "markdown",
      "metadata": {
        "id": "FM9sv1mECo3G",
        "colab_type": "text"
      },
      "source": [
        "## 存下模型"
      ]
    },
    {
      "cell_type": "code",
      "metadata": {
        "id": "vlqo-5tJBeNu",
        "colab_type": "code",
        "colab": {}
      },
      "source": [
        "model2.save_weights('transferlearning_HW_mnist.h5')"
      ],
      "execution_count": 0,
      "outputs": []
    },
    {
      "cell_type": "markdown",
      "metadata": {
        "id": "HLr7t5E0CtUr",
        "colab_type": "text"
      },
      "source": [
        "## 模型預測"
      ]
    },
    {
      "cell_type": "code",
      "metadata": {
        "id": "rqFU4SJgCkni",
        "colab_type": "code",
        "outputId": "56ca1959-0646-4bee-bea4-b0c8a9475ea1",
        "colab": {
          "base_uri": "https://localhost:8080/",
          "height": 85
        }
      },
      "source": [
        "model2.load_weights('transferlearning_HW_mnist.h5')\n",
        "\n",
        "score_train = model2.evaluate(X_train_2, y_train_2)\n",
        "score_test = model2.evaluate(X_test_2, y_test_2)\n",
        "\n",
        "print(f'Train Accuracy: {score_train[1]*100}')\n",
        "print(f'Test Accuracy: {score_test[1]*100}')"
      ],
      "execution_count": 0,
      "outputs": [
        {
          "output_type": "stream",
          "text": [
            "1875/1875 [==============================] - 4s 2ms/step - loss: 0.2311 - categorical_accuracy: 0.9158\n",
            "313/313 [==============================] - 1s 2ms/step - loss: 0.2919 - categorical_accuracy: 0.8972\n",
            "Train Accuracy: 91.58499836921692\n",
            "Test Accuracy: 89.71999883651733\n"
          ],
          "name": "stdout"
        }
      ]
    },
    {
      "cell_type": "markdown",
      "metadata": {
        "id": "2HmOK3EXE8EV",
        "colab_type": "text"
      },
      "source": [
        "## 查看舊模型的預測"
      ]
    },
    {
      "cell_type": "code",
      "metadata": {
        "id": "9PR64DpdC0Zr",
        "colab_type": "code",
        "outputId": "0e91398e-9d86-4895-c2ef-929e39da0312",
        "colab": {
          "base_uri": "https://localhost:8080/",
          "height": 85
        }
      },
      "source": [
        "score_train = model.evaluate(X_train, y_train)\n",
        "score_test = model.evaluate(X_test, y_test)\n",
        "\n",
        "print(f'Train Accuracy: {score_train[1]*100}')\n",
        "print(f'Test Accuracy: {score_test[1]*100}')"
      ],
      "execution_count": 0,
      "outputs": [
        {
          "output_type": "stream",
          "text": [
            "1563/1563 [==============================] - 5s 3ms/step - loss: 0.7537 - categorical_accuracy: 0.7339\n",
            "313/313 [==============================] - 1s 3ms/step - loss: 0.8579 - categorical_accuracy: 0.6981\n",
            "Train Accuracy: 73.38799834251404\n",
            "Test Accuracy: 69.80999708175659\n"
          ],
          "name": "stdout"
        }
      ]
    },
    {
      "cell_type": "markdown",
      "metadata": {
        "id": "go60J3dyFJTB",
        "colab_type": "text"
      },
      "source": [
        "## 小結：\n",
        "### 可見舊模型之預測表現不受遷移學習後影響，在訓練新模型中並沒有將借來的神經網路重新訓練"
      ]
    },
    {
      "cell_type": "code",
      "metadata": {
        "id": "QYqwEL5vE6mM",
        "colab_type": "code",
        "colab": {}
      },
      "source": [
        ""
      ],
      "execution_count": 0,
      "outputs": []
    }
  ]
}