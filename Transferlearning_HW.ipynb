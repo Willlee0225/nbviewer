{
  "nbformat": 4,
  "nbformat_minor": 0,
  "metadata": {
    "colab": {
      "name": "Transferlearning HW",
      "provenance": [],
      "collapsed_sections": [],
      "authorship_tag": "ABX9TyPU2kGM0kzOCnh+QbLehuZV",
      "include_colab_link": true
    },
    "kernelspec": {
      "name": "python3",
      "display_name": "Python 3"
    },
    "accelerator": "GPU"
  },
  "cells": [
    {
      "cell_type": "markdown",
      "metadata": {
        "id": "view-in-github",
        "colab_type": "text"
      },
      "source": [
        "<a href=\"https://colab.research.google.com/github/Willlee0225/nbviewer/blob/master/Transferlearning_HW.ipynb\" target=\"_parent\"><img src=\"https://colab.research.google.com/assets/colab-badge.svg\" alt=\"Open In Colab\"/></a>"
      ]
    },
    {
      "cell_type": "code",
      "metadata": {
        "id": "X0vmnG4yxo9i",
        "colab_type": "code",
        "colab": {}
      },
      "source": [
        "%tensorflow_version 2.x\n",
        "\n",
        "import matplotlib.pyplot as plt\n",
        "import numpy as np\n",
        "# Layers for FNN\n",
        "from tensorflow.keras.models import Sequential\n",
        "from tensorflow.keras.layers import Dense\n",
        "from tensorflow.keras.layers import Flatten\n",
        "# Layers for CNN\n",
        "from tensorflow.keras.layers import Conv2D, MaxPool2D, GlobalAveragePooling2D\n",
        "from tensorflow.keras.optimizers import Adam\n",
        "# For data preprocessing\n",
        "from tensorflow.keras import datasets\n",
        "from tensorflow.keras.utils import to_categorical"
      ],
      "execution_count": 0,
      "outputs": []
    },
    {
      "cell_type": "markdown",
      "metadata": {
        "id": "UPyHJZXgx-c4",
        "colab_type": "text"
      },
      "source": [
        "## 讀入資料"
      ]
    },
    {
      "cell_type": "code",
      "metadata": {
        "id": "AmHyqP5zxuNf",
        "colab_type": "code",
        "colab": {}
      },
      "source": [
        "(X_train, y_train0), (X_test, y_test0) = datasets.cifar10.load_data()"
      ],
      "execution_count": 0,
      "outputs": []
    },
    {
      "cell_type": "markdown",
      "metadata": {
        "id": "jA2hStO3yUk_",
        "colab_type": "text"
      },
      "source": [
        "### 將資料整理\n"
      ]
    },
    {
      "cell_type": "code",
      "metadata": {
        "id": "ei_MvNwqyDzR",
        "colab_type": "code",
        "colab": {}
      },
      "source": [
        "name_list = ['airplane', 'automobile', 'bird', 'cat', 'deer', 'dog', 'frog', 'horse', 'ship', 'truck']"
      ],
      "execution_count": 0,
      "outputs": []
    },
    {
      "cell_type": "markdown",
      "metadata": {
        "id": "OTX-kq5KyZo9",
        "colab_type": "text"
      },
      "source": [
        "## 資料處理（Data Processing)"
      ]
    },
    {
      "cell_type": "code",
      "metadata": {
        "id": "HM9hur3wyVFO",
        "colab_type": "code",
        "colab": {
          "base_uri": "https://localhost:8080/",
          "height": 34
        },
        "outputId": "6da1d740-2fba-4333-ccd3-1526fc4bfa76"
      },
      "source": [
        "X_train.shape"
      ],
      "execution_count": 37,
      "outputs": [
        {
          "output_type": "execute_result",
          "data": {
            "text/plain": [
              "(50000, 32, 32, 3)"
            ]
          },
          "metadata": {
            "tags": []
          },
          "execution_count": 37
        }
      ]
    },
    {
      "cell_type": "code",
      "metadata": {
        "id": "F8D7I4idyf_i",
        "colab_type": "code",
        "colab": {
          "base_uri": "https://localhost:8080/",
          "height": 34
        },
        "outputId": "175f5c8c-9bc3-47b3-cf11-9f53c5e1f95e"
      },
      "source": [
        "y_train0.shape"
      ],
      "execution_count": 38,
      "outputs": [
        {
          "output_type": "execute_result",
          "data": {
            "text/plain": [
              "(50000, 1)"
            ]
          },
          "metadata": {
            "tags": []
          },
          "execution_count": 38
        }
      ]
    },
    {
      "cell_type": "code",
      "metadata": {
        "id": "-c0n-B9Nzhmi",
        "colab_type": "code",
        "colab": {
          "base_uri": "https://localhost:8080/",
          "height": 34
        },
        "outputId": "c59344da-00f5-4a9a-b07b-ed51f6072e21"
      },
      "source": [
        "y_train.shape"
      ],
      "execution_count": 39,
      "outputs": [
        {
          "output_type": "execute_result",
          "data": {
            "text/plain": [
              "(50000, 10)"
            ]
          },
          "metadata": {
            "tags": []
          },
          "execution_count": 39
        }
      ]
    },
    {
      "cell_type": "markdown",
      "metadata": {
        "id": "fD0m0u2ry8aP",
        "colab_type": "text"
      },
      "source": [
        "### 標準化資料"
      ]
    },
    {
      "cell_type": "code",
      "metadata": {
        "id": "maeaDOT8ylxO",
        "colab_type": "code",
        "colab": {}
      },
      "source": [
        "X_train = X_train / X_train.max()\n",
        "X_test = X_test / X_test.max()"
      ],
      "execution_count": 0,
      "outputs": []
    },
    {
      "cell_type": "code",
      "metadata": {
        "id": "HGF0cFpCzAgT",
        "colab_type": "code",
        "colab": {}
      },
      "source": [
        "# One-hot encoding\n",
        "y_train = to_categorical(y_train0, 10)\n",
        "y_test = to_categorical(y_test0, 10)"
      ],
      "execution_count": 0,
      "outputs": []
    },
    {
      "cell_type": "code",
      "metadata": {
        "id": "UZvMHsZyzCz1",
        "colab_type": "code",
        "colab": {
          "base_uri": "https://localhost:8080/",
          "height": 264
        },
        "outputId": "9e7518f1-48d3-4bcf-a7d6-4e2587cab7f8"
      },
      "source": [
        "\n",
        "idx = np.random.randint(X_train.shape[0])\n",
        "x_sample = X_train[idx]\n",
        "y_sample = y_train0[idx].squeeze()\n",
        "\n",
        "plt.imshow(x_sample)\n",
        "plt.title(name_list[y_sample])\n",
        "plt.axis('off');"
      ],
      "execution_count": 42,
      "outputs": [
        {
          "output_type": "display_data",
          "data": {
            "image/png": "[encoded data removed]",
            "text/plain": [
              "<Figure size 432x288 with 1 Axes>"
            ]
          },
          "metadata": {
            "tags": [],
            "needs_background": "light"
          }
        }
      ]
    },
    {
      "cell_type": "markdown",
      "metadata": {
        "id": "CrrTYoXP0hUD",
        "colab_type": "text"
      },
      "source": [
        "## 建立用於分類 CIFAR 10 的卷積神經網路，用於分類A資料集\n",
        "### 修改部分：將卷積層的filter數量改為32, 128, 512，並將全連接層的神經元數量下修至128。"
      ]
    },
    {
      "cell_type": "code",
      "metadata": {
        "id": "VtuYLm43zRk0",
        "colab_type": "code",
        "colab": {}
      },
      "source": [
        "CNN_layers = [Conv2D(32, (3, 3), input_shape=(32, 32, 3), padding='same', activation='relu', name='Conv_1'),\n",
        "              MaxPool2D(),\n",
        "              Conv2D(128, (3, 3), padding='same', activation='relu', name='Conv_2'),\n",
        "              MaxPool2D(),\n",
        "              Conv2D(512, (3, 3), padding='same', activation='relu', name='Conv_3'),\n",
        "              GlobalAveragePooling2D()]\n",
        "\n",
        "FC_layers = [Dense(units=128, activation='relu'),\n",
        "             Dense(units=10, activation='softmax')]\n",
        "\n"
      ],
      "execution_count": 0,
      "outputs": []
    },
    {
      "cell_type": "code",
      "metadata": {
        "id": "vmPOcxIN7vsL",
        "colab_type": "code",
        "colab": {
          "base_uri": "https://localhost:8080/",
          "height": 425
        },
        "outputId": "2c7cea1c-fdbc-41cd-ef18-1be2833ae422"
      },
      "source": [
        "model = Sequential(CNN_layers+FC_layers)\n",
        "model.summary()"
      ],
      "execution_count": 44,
      "outputs": [
        {
          "output_type": "stream",
          "text": [
            "Model: \"sequential_2\"\n",
            "_________________________________________________________________\n",
            "Layer (type)                 Output Shape              Param #   \n",
            "=================================================================\n",
            "Conv_1 (Conv2D)              (None, 32, 32, 32)        896       \n",
            "_________________________________________________________________\n",
            "max_pooling2d_4 (MaxPooling2 (None, 16, 16, 32)        0         \n",
            "_________________________________________________________________\n",
            "Conv_2 (Conv2D)              (None, 16, 16, 128)       36992     \n",
            "_________________________________________________________________\n",
            "max_pooling2d_5 (MaxPooling2 (None, 8, 8, 128)         0         \n",
            "_________________________________________________________________\n",
            "Conv_3 (Conv2D)              (None, 8, 8, 512)         590336    \n",
            "_________________________________________________________________\n",
            "global_average_pooling2d_2 ( (None, 512)               0         \n",
            "_________________________________________________________________\n",
            "dense_4 (Dense)              (None, 128)               65664     \n",
            "_________________________________________________________________\n",
            "dense_5 (Dense)              (None, 10)                1290      \n",
            "=================================================================\n",
            "Total params: 695,178\n",
            "Trainable params: 695,178\n",
            "Non-trainable params: 0\n",
            "_________________________________________________________________\n"
          ],
          "name": "stdout"
        }
      ]
    },
    {
      "cell_type": "markdown",
      "metadata": {
        "id": "WETaxrCe75j1",
        "colab_type": "text"
      },
      "source": [
        "## 訓練模型"
      ]
    },
    {
      "cell_type": "code",
      "metadata": {
        "id": "oBJM-I_Z7vum",
        "colab_type": "code",
        "colab": {
          "base_uri": "https://localhost:8080/",
          "height": 374
        },
        "outputId": "d2996c5a-e38b-42dd-d6b9-4a7809a83f63"
      },
      "source": [
        "model.compile(loss='categorical_crossentropy', optimizer=Adam(),metrics=['categorical_accuracy'])\n",
        "model.fit(X_train, y_train, batch_size=64, epochs=10,validation_data=(X_test, y_test))\n"
      ],
      "execution_count": 45,
      "outputs": [
        {
          "output_type": "stream",
          "text": [
            "Epoch 1/10\n",
            "782/782 [==============================] - 5s 6ms/step - loss: 1.7320 - categorical_accuracy: 0.3454 - val_loss: 1.4692 - val_categorical_accuracy: 0.4481\n",
            "Epoch 2/10\n",
            "782/782 [==============================] - 5s 6ms/step - loss: 1.3467 - categorical_accuracy: 0.5064 - val_loss: 1.2151 - val_categorical_accuracy: 0.5627\n",
            "Epoch 3/10\n",
            "782/782 [==============================] - 5s 6ms/step - loss: 1.1654 - categorical_accuracy: 0.5795 - val_loss: 1.1705 - val_categorical_accuracy: 0.5793\n",
            "Epoch 4/10\n",
            "782/782 [==============================] - 5s 6ms/step - loss: 1.0532 - categorical_accuracy: 0.6221 - val_loss: 1.0233 - val_categorical_accuracy: 0.6273\n",
            "Epoch 5/10\n",
            "782/782 [==============================] - 5s 6ms/step - loss: 0.9659 - categorical_accuracy: 0.6549 - val_loss: 0.9167 - val_categorical_accuracy: 0.6789\n",
            "Epoch 6/10\n",
            "782/782 [==============================] - 5s 6ms/step - loss: 0.9016 - categorical_accuracy: 0.6815 - val_loss: 0.8951 - val_categorical_accuracy: 0.6834\n",
            "Epoch 7/10\n",
            "782/782 [==============================] - 5s 6ms/step - loss: 0.8452 - categorical_accuracy: 0.7001 - val_loss: 0.8692 - val_categorical_accuracy: 0.6935\n",
            "Epoch 8/10\n",
            "782/782 [==============================] - 5s 6ms/step - loss: 0.7839 - categorical_accuracy: 0.7244 - val_loss: 0.8219 - val_categorical_accuracy: 0.7128\n",
            "Epoch 9/10\n",
            "782/782 [==============================] - 5s 6ms/step - loss: 0.7376 - categorical_accuracy: 0.7396 - val_loss: 0.8618 - val_categorical_accuracy: 0.6983\n",
            "Epoch 10/10\n",
            "782/782 [==============================] - 5s 6ms/step - loss: 0.6956 - categorical_accuracy: 0.7555 - val_loss: 0.7798 - val_categorical_accuracy: 0.7285\n"
          ],
          "name": "stdout"
        },
        {
          "output_type": "execute_result",
          "data": {
            "text/plain": [
              "<tensorflow.python.keras.callbacks.History at 0x7f9688284668>"
            ]
          },
          "metadata": {
            "tags": []
          },
          "execution_count": 45
        }
      ]
    },
    {
      "cell_type": "markdown",
      "metadata": {
        "id": "MHLIwzMj8DPd",
        "colab_type": "text"
      },
      "source": [
        "## 存下模型"
      ]
    },
    {
      "cell_type": "code",
      "metadata": {
        "id": "8pls_GRA7vzJ",
        "colab_type": "code",
        "colab": {}
      },
      "source": [
        "model.save_weights('transferlearning_HW_cifar10.h5')"
      ],
      "execution_count": 0,
      "outputs": []
    },
    {
      "cell_type": "markdown",
      "metadata": {
        "id": "o6c3Duvr9cDf",
        "colab_type": "text"
      },
      "source": [
        "## 模型預測"
      ]
    },
    {
      "cell_type": "code",
      "metadata": {
        "id": "ozTPwsWL7v4M",
        "colab_type": "code",
        "colab": {
          "base_uri": "https://localhost:8080/",
          "height": 85
        },
        "outputId": "19a989ed-79c4-4956-dc5e-b0f67a42485d"
      },
      "source": [
        "model.load_weights('transferlearning_HW_cifar10.h5')\n",
        "\n",
        "score_train = model.evaluate(X_train, y_train)\n",
        "score_test = model.evaluate(X_test, y_test)\n",
        "\n",
        "print(f'Train Accuracy: {score_train[1]*100}')\n",
        "print(f'Test Accuracy: {score_test[1]*100}')"
      ],
      "execution_count": 47,
      "outputs": [
        {
          "output_type": "stream",
          "text": [
            "1563/1563 [==============================] - 4s 3ms/step - loss: 0.6667 - categorical_accuracy: 0.7632\n",
            "313/313 [==============================] - 1s 3ms/step - loss: 0.7798 - categorical_accuracy: 0.7285\n",
            "Train Accuracy: 76.31800174713135\n",
            "Test Accuracy: 72.85000085830688\n"
          ],
          "name": "stdout"
        }
      ]
    },
    {
      "cell_type": "markdown",
      "metadata": {
        "id": "TeoEUxv89pW2",
        "colab_type": "text"
      },
      "source": [
        "## Transfer Learning\n",
        "### Model 是使用cifar10，model2借用Model的部分模型來用，資料使用Fashion Mnist和A資料集借用卷積層的權重，新增fasion Mnist自己的全連接層。\n",
        "## 讀入 Fasion mnist\n"
      ]
    },
    {
      "cell_type": "code",
      "metadata": {
        "id": "xrbnNkvR7v2M",
        "colab_type": "code",
        "colab": {}
      },
      "source": [
        "from tensorflow.keras.datasets import fashion_mnist\n",
        "(X_train_2, y_train_2), (X_test_2, y_test_2) = fashion_mnist.load_data()\n",
        "class_names = ['T-shirt/top', 'Trouser', 'Pullover', 'Dress', 'Coat',\n",
        "               'Sandal', 'Shirt', 'Sneaker', 'Bag', 'Ankle boot']"
      ],
      "execution_count": 0,
      "outputs": []
    },
    {
      "cell_type": "code",
      "metadata": {
        "id": "doPosIEI7vxr",
        "colab_type": "code",
        "colab": {
          "base_uri": "https://localhost:8080/",
          "height": 264
        },
        "outputId": "81967f1b-4033-424d-a9db-eec1c72cbaed"
      },
      "source": [
        "idx = np.random.randint(X_train_2.shape[0])\n",
        "x_sample_2 = X_train_2[idx]\n",
        "y_sample_2 = y_train_2[idx].squeeze()\n",
        "\n",
        "plt.imshow(x_sample_2)\n",
        "plt.title(name_list[y_sample_2])\n",
        "plt.axis('off');"
      ],
      "execution_count": 49,
      "outputs": [
        {
          "output_type": "display_data",
          "data": {
            "image/png": "[encoded data removed]",
            "text/plain": [
              "<Figure size 432x288 with 1 Axes>"
            ]
          },
          "metadata": {
            "tags": [],
            "needs_background": "light"
          }
        }
      ]
    },
    {
      "cell_type": "markdown",
      "metadata": {
        "id": "ACjiE2sg-ORE",
        "colab_type": "text"
      },
      "source": [
        "## 資料處理（Data Processing)\n",
        "### 標準化資料"
      ]
    },
    {
      "cell_type": "code",
      "metadata": {
        "id": "A4j3erU7-KaF",
        "colab_type": "code",
        "colab": {}
      },
      "source": [
        "X_train_2 = X_train_2.reshape(60000, 28, 28, 1)/255\n",
        "X_test_2 = X_test_2.reshape(10000, 28, 28, 1)/255"
      ],
      "execution_count": 0,
      "outputs": []
    },
    {
      "cell_type": "code",
      "metadata": {
        "id": "xEWwb8xD-U4t",
        "colab_type": "code",
        "colab": {}
      },
      "source": [
        "# One-hot encoding\n",
        "from tensorflow.keras.utils import to_categorical\n",
        "\n",
        "y_train_2 = to_categorical(y_train_2, 10)\n",
        "y_test_2 = to_categorical(y_test_2, 10)"
      ],
      "execution_count": 0,
      "outputs": []
    },
    {
      "cell_type": "markdown",
      "metadata": {
        "id": "T5WfLdTm-zGZ",
        "colab_type": "text"
      },
      "source": [
        "## 建立Model2模型"
      ]
    },
    {
      "cell_type": "code",
      "metadata": {
        "id": "6PaCG_Qe-ft9",
        "colab_type": "code",
        "colab": {}
      },
      "source": [
        "from tensorflow.keras.models import Sequential \n",
        "from tensorflow.keras.layers import Conv2D, MaxPooling2D \n",
        "from tensorflow.keras.layers import Dense, Flatten\n",
        "from tensorflow.keras.optimizers import SGD"
      ],
      "execution_count": 0,
      "outputs": []
    },
    {
      "cell_type": "markdown",
      "metadata": {
        "id": "MiDUSCMt_ENP",
        "colab_type": "text"
      },
      "source": [
        "### 用Sequential建構CNN Layers for mnist\n",
        "\n",
        "### 將卷積層的filter數量改為32, 128, 512，並將全連接層的神經元數量下修至128。"
      ]
    },
    {
      "cell_type": "code",
      "metadata": {
        "id": "8JyVfpT9-6SK",
        "colab_type": "code",
        "colab": {}
      },
      "source": [
        "CNN_layers_mnist = [Conv2D(32, (3, 3), input_shape=(28, 28, 1), padding='same', activation='relu', name='Conv_1'),\n",
        "              MaxPool2D(),\n",
        "              Conv2D(128, (3, 3), padding='same', activation='relu', name='Conv_2'),\n",
        "              MaxPool2D(),\n",
        "              Conv2D(512, (3, 3), padding='same', activation='relu', name='Conv_3'),\n",
        "              GlobalAveragePooling2D()]\n",
        "            \n",
        "FC_layers_mnist = [Dense(units=128, activation='relu'),\n",
        "       Dense(units=10, activation='softmax')]"
      ],
      "execution_count": 0,
      "outputs": []
    },
    {
      "cell_type": "markdown",
      "metadata": {
        "id": "fEcrRBCa_23Y",
        "colab_type": "text"
      },
      "source": [
        "## 應用Transfer Learning : 使用Model_1的FC_layer跟FC_layers_mnist"
      ]
    },
    {
      "cell_type": "code",
      "metadata": {
        "id": "g7eANqah_2Xb",
        "colab_type": "code",
        "colab": {
          "base_uri": "https://localhost:8080/",
          "height": 493
        },
        "outputId": "0c6a91a0-3a75-4047-fc1a-f06fc2c6574c"
      },
      "source": [
        "model2 = Sequential(CNN_layers_mnist+FC_layers+FC_layers_mnist)\n",
        "model2.summary()"
      ],
      "execution_count": 54,
      "outputs": [
        {
          "output_type": "stream",
          "text": [
            "Model: \"sequential_3\"\n",
            "_________________________________________________________________\n",
            "Layer (type)                 Output Shape              Param #   \n",
            "=================================================================\n",
            "Conv_1 (Conv2D)              (None, 28, 28, 32)        320       \n",
            "_________________________________________________________________\n",
            "max_pooling2d_6 (MaxPooling2 (None, 14, 14, 32)        0         \n",
            "_________________________________________________________________\n",
            "Conv_2 (Conv2D)              (None, 14, 14, 128)       36992     \n",
            "_________________________________________________________________\n",
            "max_pooling2d_7 (MaxPooling2 (None, 7, 7, 128)         0         \n",
            "_________________________________________________________________\n",
            "Conv_3 (Conv2D)              (None, 7, 7, 512)         590336    \n",
            "_________________________________________________________________\n",
            "global_average_pooling2d_3 ( (None, 512)               0         \n",
            "_________________________________________________________________\n",
            "dense_4 (Dense)              (None, 128)               65664     \n",
            "_________________________________________________________________\n",
            "dense_5 (Dense)              (None, 10)                1290      \n",
            "_________________________________________________________________\n",
            "dense_6 (Dense)              (None, 128)               1408      \n",
            "_________________________________________________________________\n",
            "dense_7 (Dense)              (None, 10)                1290      \n",
            "=================================================================\n",
            "Total params: 697,300\n",
            "Trainable params: 697,300\n",
            "Non-trainable params: 0\n",
            "_________________________________________________________________\n"
          ],
          "name": "stdout"
        }
      ]
    },
    {
      "cell_type": "markdown",
      "metadata": {
        "id": "ItlQLzpNAPqc",
        "colab_type": "text"
      },
      "source": [
        "## 訓練模型"
      ]
    },
    {
      "cell_type": "code",
      "metadata": {
        "id": "qJoEwx-yAGP9",
        "colab_type": "code",
        "colab": {}
      },
      "source": [
        "\n",
        "model2.compile(loss='categorical_crossentropy', optimizer=Adam(),metrics=['categorical_accuracy'])\n",
        "\n"
      ],
      "execution_count": 0,
      "outputs": []
    },
    {
      "cell_type": "code",
      "metadata": {
        "id": "Cl39QWXaBEt-",
        "colab_type": "code",
        "colab": {
          "base_uri": "https://localhost:8080/",
          "height": 374
        },
        "outputId": "1415a601-8886-462d-b0d9-3c0d9999667d"
      },
      "source": [
        "model2.fit(X_train_2, y_train_2, batch_size=64, epochs=10,validation_data=(X_test_2, y_test_2))"
      ],
      "execution_count": 56,
      "outputs": [
        {
          "output_type": "stream",
          "text": [
            "Epoch 1/10\n",
            "938/938 [==============================] - 5s 6ms/step - loss: 1.3770 - categorical_accuracy: 0.4111 - val_loss: 0.8923 - val_categorical_accuracy: 0.6631\n",
            "Epoch 2/10\n",
            "938/938 [==============================] - 5s 6ms/step - loss: 0.7080 - categorical_accuracy: 0.7462 - val_loss: 0.5663 - val_categorical_accuracy: 0.8147\n",
            "Epoch 3/10\n",
            "938/938 [==============================] - 5s 6ms/step - loss: 0.4197 - categorical_accuracy: 0.8591 - val_loss: 0.4463 - val_categorical_accuracy: 0.8488\n",
            "Epoch 4/10\n",
            "938/938 [==============================] - 5s 5ms/step - loss: 0.3177 - categorical_accuracy: 0.8906 - val_loss: 0.3421 - val_categorical_accuracy: 0.8860\n",
            "Epoch 5/10\n",
            "938/938 [==============================] - 5s 5ms/step - loss: 0.2673 - categorical_accuracy: 0.9070 - val_loss: 0.3215 - val_categorical_accuracy: 0.8945\n",
            "Epoch 6/10\n",
            "938/938 [==============================] - 5s 5ms/step - loss: 0.2345 - categorical_accuracy: 0.9168 - val_loss: 0.3325 - val_categorical_accuracy: 0.8898\n",
            "Epoch 7/10\n",
            "938/938 [==============================] - 5s 5ms/step - loss: 0.2102 - categorical_accuracy: 0.9258 - val_loss: 0.2622 - val_categorical_accuracy: 0.9118\n",
            "Epoch 8/10\n",
            "938/938 [==============================] - 5s 5ms/step - loss: 0.1894 - categorical_accuracy: 0.9323 - val_loss: 0.3057 - val_categorical_accuracy: 0.8947\n",
            "Epoch 9/10\n",
            "938/938 [==============================] - 5s 5ms/step - loss: 0.1732 - categorical_accuracy: 0.9384 - val_loss: 0.2543 - val_categorical_accuracy: 0.9150\n",
            "Epoch 10/10\n",
            "938/938 [==============================] - 5s 5ms/step - loss: 0.1551 - categorical_accuracy: 0.9447 - val_loss: 0.2512 - val_categorical_accuracy: 0.9182\n"
          ],
          "name": "stdout"
        },
        {
          "output_type": "execute_result",
          "data": {
            "text/plain": [
              "<tensorflow.python.keras.callbacks.History at 0x7f96880ca9b0>"
            ]
          },
          "metadata": {
            "tags": []
          },
          "execution_count": 56
        }
      ]
    },
    {
      "cell_type": "markdown",
      "metadata": {
        "id": "FM9sv1mECo3G",
        "colab_type": "text"
      },
      "source": [
        "## 存下模型"
      ]
    },
    {
      "cell_type": "code",
      "metadata": {
        "id": "vlqo-5tJBeNu",
        "colab_type": "code",
        "colab": {}
      },
      "source": [
        "model2.save_weights('transferlearning_HW_mnist.h5')"
      ],
      "execution_count": 0,
      "outputs": []
    },
    {
      "cell_type": "markdown",
      "metadata": {
        "id": "HLr7t5E0CtUr",
        "colab_type": "text"
      },
      "source": [
        "## 模型預測"
      ]
    },
    {
      "cell_type": "code",
      "metadata": {
        "id": "rqFU4SJgCkni",
        "colab_type": "code",
        "colab": {
          "base_uri": "https://localhost:8080/",
          "height": 85
        },
        "outputId": "b3c00023-faf1-4996-ef45-c9f8b7a66ae5"
      },
      "source": [
        "model2.load_weights('transferlearning_HW_mnist.h5')\n",
        "\n",
        "score_train = model2.evaluate(X_train_2, y_train_2)\n",
        "score_test = model2.evaluate(X_test_2, y_test_2)\n",
        "\n",
        "print(f'Train Accuracy: {score_train[1]*100}')\n",
        "print(f'Test Accuracy: {score_test[1]*100}')"
      ],
      "execution_count": 66,
      "outputs": [
        {
          "output_type": "stream",
          "text": [
            "1875/1875 [==============================] - 4s 2ms/step - loss: 0.1283 - categorical_accuracy: 0.9556\n",
            "313/313 [==============================] - 1s 3ms/step - loss: 0.2512 - categorical_accuracy: 0.9182\n",
            "Train Accuracy: 95.55833339691162\n",
            "Test Accuracy: 91.82000160217285\n"
          ],
          "name": "stdout"
        }
      ]
    },
    {
      "cell_type": "code",
      "metadata": {
        "id": "9PR64DpdC0Zr",
        "colab_type": "code",
        "colab": {}
      },
      "source": [
        ""
      ],
      "execution_count": 0,
      "outputs": []
    }
  ]
}