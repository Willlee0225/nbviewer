{
  "nbformat": 4,
  "nbformat_minor": 0,
  "metadata": {
    "colab": {
      "name": "第二週作業",
      "provenance": [],
      "authorship_tag": "ABX9TyNrzYvDAOVF/W60KPdp7laz",
      "include_colab_link": true
    },
    "kernelspec": {
      "name": "python3",
      "display_name": "Python 3"
    }
  },
  "cells": [
    {
      "cell_type": "markdown",
      "metadata": {
        "id": "view-in-github",
        "colab_type": "text"
      },
      "source": [
        "<a href=\"https://colab.research.google.com/github/Willlee0225/nbviewer/blob/master/%E7%AC%AC%E4%BA%8C%E9%80%B1%E4%BD%9C%E6%A5%AD.ipynb\" target=\"_parent\"><img src=\"https://colab.research.google.com/assets/colab-badge.svg\" alt=\"Open In Colab\"/></a>"
      ]
    },
    {
      "cell_type": "code",
      "metadata": {
        "id": "DTCG2Kpwa6yb",
        "colab_type": "code",
        "outputId": "de933888-567b-4e46-c191-eb2d22b2f2d8",
        "colab": {
          "base_uri": "https://localhost:8080/",
          "height": 85
        }
      },
      "source": [
        "%pylab inline"
      ],
      "execution_count": 0,
      "outputs": [
        {
          "output_type": "stream",
          "text": [
            "Populating the interactive namespace from numpy and matplotlib\n"
          ],
          "name": "stdout"
        },
        {
          "output_type": "stream",
          "text": [
            "/usr/local/lib/python3.6/dist-packages/IPython/core/magics/pylab.py:161: UserWarning: pylab import has clobbered these variables: ['random']\n",
            "`%matplotlib` prevents importing * from pylab and numpy\n",
            "  \"\\n`%matplotlib` prevents importing * from pylab and numpy\"\n"
          ],
          "name": "stderr"
        }
      ]
    },
    {
      "cell_type": "markdown",
      "metadata": {
        "id": "CF2I7s4sb-oa",
        "colab_type": "text"
      },
      "source": [
        "##第一題\n",
        "電腦由 1 到 100 「想」一個數字。你開始猜電腦想的數字, 太大或大小電腦會告訴你, 直到猜對。"
      ]
    },
    {
      "cell_type": "code",
      "metadata": {
        "id": "1ge7Cs0dbgDP",
        "colab_type": "code",
        "colab": {}
      },
      "source": [
        "import random"
      ],
      "execution_count": 0,
      "outputs": []
    },
    {
      "cell_type": "code",
      "metadata": {
        "id": "yOVqtUj3bihX",
        "colab_type": "code",
        "outputId": "c95c305f-6179-472d-c335-72293f27489a",
        "colab": {
          "base_uri": "https://localhost:8080/",
          "height": 289
        }
      },
      "source": [
        "rang=randint(0,100)\n",
        "guess=float(input('猜一個數字：'))\n",
        "while guess!= rang:\n",
        "    if (guess<rang):\n",
        "        print('在大一點')\n",
        "        guess= float(input('猜一個數字：'))\n",
        "    elif(guess>rang):\n",
        "        print('在小一點')\n",
        "        guess= float(input('猜一個數字：'))\n",
        "if (guess==rang):\n",
        "    print('答對了')"
      ],
      "execution_count": 0,
      "outputs": [
        {
          "output_type": "stream",
          "text": [
            "猜一個數字：50\n",
            "在小一點\n",
            "猜一個數字：44\n",
            "在小一點\n",
            "猜一個數字：33\n",
            "在小一點\n",
            "猜一個數字：22\n",
            "在大一點\n",
            "猜一個數字：28\n",
            "在小一點\n",
            "猜一個數字：25\n",
            "在小一點\n",
            "猜一個數字：24\n",
            "在小一點\n",
            "猜一個數字：23\n",
            "答對了\n"
          ],
          "name": "stdout"
        }
      ]
    },
    {
      "cell_type": "markdown",
      "metadata": {
        "id": "F9NkkI0acC58",
        "colab_type": "text"
      },
      "source": [
        "##第二題\n",
        " 請依照老師本週影片的作法， 製作出感恩讚嘆機器人， 也就是回應的格式一律是： 「感恩ＯＯ，讚嘆ＯＯ。」\n"
      ]
    },
    {
      "cell_type": "code",
      "metadata": {
        "id": "-Hpj0dGabr_W",
        "colab_type": "code",
        "outputId": "2cd3205d-e631-40c7-e756-aebc6785413d",
        "colab": {
          "base_uri": "https://localhost:8080/",
          "height": 51
        }
      },
      "source": [
        "message=\"\"\n",
        "\n",
        "while(message!= \"bye\"):\n",
        "     message= input(\">> \")\n",
        "     print(\"感恩上天，讚嘆上天>< \")"
      ],
      "execution_count": 0,
      "outputs": [
        {
          "output_type": "stream",
          "text": [
            ">> bye\n",
            "感恩上天，讚嘆上天>< \n"
          ],
          "name": "stdout"
        }
      ]
    },
    {
      "cell_type": "markdown",
      "metadata": {
        "id": "FXUgFqfab8Zt",
        "colab_type": "text"
      },
      "source": [
        "##第三題\n",
        "寫一個函數, 比如說叫 reverse,\n",
        "\n",
        "然後輸入一個字串,\n",
        "\n",
        "st = “hello”\n",
        "\n",
        "reverse(“hello”)\n",
        "\n",
        "就回傳這個字串\n",
        "\n",
        "‘olleh’\n",
        "\n"
      ]
    },
    {
      "cell_type": "code",
      "metadata": {
        "id": "Gje3dP1eb9IL",
        "colab_type": "code",
        "colab": {}
      },
      "source": [
        "def reverse(backstring):\n",
        "    return(backstring[::-1])"
      ],
      "execution_count": 0,
      "outputs": []
    },
    {
      "cell_type": "code",
      "metadata": {
        "id": "U9CW7ublcINn",
        "colab_type": "code",
        "outputId": "69096274-1455-43e0-a03a-957e7d30696b",
        "colab": {
          "base_uri": "https://localhost:8080/",
          "height": 51
        }
      },
      "source": [
        "backstring = input(\">> \")\n",
        "reverse(backstring)"
      ],
      "execution_count": 0,
      "outputs": [
        {
          "output_type": "stream",
          "text": [
            ">> will\n"
          ],
          "name": "stdout"
        },
        {
          "output_type": "execute_result",
          "data": {
            "text/plain": [
              "'lliw'"
            ]
          },
          "metadata": {
            "tags": []
          },
          "execution_count": 34
        }
      ]
    }
  ]
}