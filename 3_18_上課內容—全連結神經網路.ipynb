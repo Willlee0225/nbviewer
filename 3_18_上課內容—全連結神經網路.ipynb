{
  "nbformat": 4,
  "nbformat_minor": 0,
  "metadata": {
    "colab": {
      "name": "3/18 上課內容—全連結神經網路",
      "provenance": [],
      "collapsed_sections": [],
      "machine_shape": "hm",
      "authorship_tag": "ABX9TyMfUnTiS1M6Ofi8pMXU/Dau",
      "include_colab_link": true
    },
    "kernelspec": {
      "name": "python3",
      "display_name": "Python 3"
    },
    "accelerator": "TPU"
  },
  "cells": [
    {
      "cell_type": "markdown",
      "metadata": {
        "id": "view-in-github",
        "colab_type": "text"
      },
      "source": [
        "<a href=\"https://colab.research.google.com/github/Willlee0225/nbviewer/blob/master/3_18_%E4%B8%8A%E8%AA%B2%E5%85%A7%E5%AE%B9%E2%80%94%E5%85%A8%E9%80%A3%E7%B5%90%E7%A5%9E%E7%B6%93%E7%B6%B2%E8%B7%AF.ipynb\" target=\"_parent\"><img src=\"https://colab.research.google.com/assets/colab-badge.svg\" alt=\"Open In Colab\"/></a>"
      ]
    },
    {
      "cell_type": "code",
      "metadata": {
        "id": "hOJ1l5OfOjVV",
        "colab_type": "code",
        "outputId": "403171f4-9eea-48b9-8e60-454c7ab4881d",
        "colab": {
          "base_uri": "https://localhost:8080/",
          "height": 85
        }
      },
      "source": [
        "\n",
        "%tensorflow_version"
      ],
      "execution_count": 0,
      "outputs": [
        {
          "output_type": "stream",
          "text": [
            "Currently selected TF version: 1.x\n",
            "Available versions:\n",
            "* 1.x\n",
            "* 2.x\n"
          ],
          "name": "stdout"
        }
      ]
    },
    {
      "cell_type": "code",
      "metadata": {
        "id": "ACWQQrAOPs9o",
        "colab_type": "code",
        "outputId": "bb436d82-e368-4cc8-a9c8-d7cc55b75985",
        "colab": {
          "base_uri": "https://localhost:8080/",
          "height": 34
        }
      },
      "source": [
        "%tensorflow_version 2.x"
      ],
      "execution_count": 0,
      "outputs": [
        {
          "output_type": "stream",
          "text": [
            "TensorFlow is already loaded. Please restart the runtime to change versions.\n"
          ],
          "name": "stdout"
        }
      ]
    },
    {
      "cell_type": "code",
      "metadata": {
        "id": "FV-lObROPwne",
        "colab_type": "code",
        "colab": {}
      },
      "source": [
        "#讀入MNSIT\n",
        "%matplotlib inline\n",
        "import numpy as np\n",
        "import matplotlib.pyplot as plt\n",
        "import pandas as pd"
      ],
      "execution_count": 0,
      "outputs": []
    },
    {
      "cell_type": "code",
      "metadata": {
        "id": "qnUgNtxCQCJ1",
        "colab_type": "code",
        "colab": {}
      },
      "source": [
        "import tensorflow as tf"
      ],
      "execution_count": 0,
      "outputs": []
    },
    {
      "cell_type": "code",
      "metadata": {
        "id": "RolFkP9CQalM",
        "colab_type": "code",
        "colab": {}
      },
      "source": [
        "from tensorflow.keras.datasets import mnist"
      ],
      "execution_count": 0,
      "outputs": []
    },
    {
      "cell_type": "code",
      "metadata": {
        "id": "wG2qFD_6QlEW",
        "colab_type": "code",
        "colab": {}
      },
      "source": [
        "(x_train, y_train), (x_test,y_test)= mnist.load_data()"
      ],
      "execution_count": 0,
      "outputs": []
    },
    {
      "cell_type": "code",
      "metadata": {
        "id": "r0SYpohkSiTA",
        "colab_type": "code",
        "colab": {}
      },
      "source": [
        "### 欣賞數據庫內容"
      ],
      "execution_count": 0,
      "outputs": []
    },
    {
      "cell_type": "code",
      "metadata": {
        "id": "1ZeCDI4JS61c",
        "colab_type": "code",
        "outputId": "8e300801-2d90-48f3-94cf-e88e02c0ea00",
        "colab": {
          "base_uri": "https://localhost:8080/",
          "height": 34
        }
      },
      "source": [
        "len(x_test)"
      ],
      "execution_count": 0,
      "outputs": [
        {
          "output_type": "execute_result",
          "data": {
            "text/plain": [
              "10000"
            ]
          },
          "metadata": {
            "tags": []
          },
          "execution_count": 12
        }
      ]
    },
    {
      "cell_type": "code",
      "metadata": {
        "id": "YJaA_vSJTE4j",
        "colab_type": "code",
        "outputId": "17f714de-1028-4860-9747-97fd8ad49057",
        "colab": {
          "base_uri": "https://localhost:8080/",
          "height": 34
        }
      },
      "source": [
        "len(x_train)\n",
        "\n"
      ],
      "execution_count": 0,
      "outputs": [
        {
          "output_type": "execute_result",
          "data": {
            "text/plain": [
              "60000"
            ]
          },
          "metadata": {
            "tags": []
          },
          "execution_count": 13
        }
      ]
    },
    {
      "cell_type": "code",
      "metadata": {
        "id": "HNQI8ymGTJZ6",
        "colab_type": "code",
        "colab": {}
      },
      "source": [
        "n=9487"
      ],
      "execution_count": 0,
      "outputs": []
    },
    {
      "cell_type": "code",
      "metadata": {
        "id": "zUaiptUzTcKN",
        "colab_type": "code",
        "outputId": "b4210faa-9f60-448e-d405-9c38f63e1ec0",
        "colab": {
          "base_uri": "https://localhost:8080/",
          "height": 1000
        }
      },
      "source": [
        "x_train[n]"
      ],
      "execution_count": 0,
      "outputs": [
        {
          "output_type": "execute_result",
          "data": {
            "text/plain": [
              "array([[  0,   0,   0,   0,   0,   0,   0,   0,   0,   0,   0,   0,   0,\n",
              "          0,   0,   0,   0,   0,   0,   0,   0,   0,   0,   0,   0,   0,\n",
              "          0,   0],\n",
              "       [  0,   0,   0,   0,   0,   0,   0,   0,   0,   0,   0,   0,   0,\n",
              "          0,   0,   0,   0,   0,   0,   0,   0,   0,   0,   0,   0,   0,\n",
              "          0,   0],\n",
              "       [  0,   0,   0,   0,   0,   0,   0,   0,   0,   0,   0,   0,   0,\n",
              "          0,   0,   0,   0,   0,   0,   0,   0,   0,   0,   0,   0,   0,\n",
              "          0,   0],\n",
              "       [  0,   0,   0,   0,   0,   0,   0,   0,   0,   0,   0,   0,   0,\n",
              "          0,   0,   0,   0,   0,   0,   0,   0,   0,   0,   0,   0,   0,\n",
              "          0,   0],\n",
              "       [  0,   0,   0,   0,   0,   0,   0,   0,   0,   0,   0,   0, 240,\n",
              "        253, 165,   0,   0,   0,   0,   0,   0,   0,   0,   0,   0,   0,\n",
              "          0,   0],\n",
              "       [  0,   0,   0,   0,   0,   0,   0,   0,   0,   0,   0,  32, 241,\n",
              "        252, 252,   0,   0,   0,   0,   0,   0,   0,   0,   0,   0,   0,\n",
              "          0,   0],\n",
              "       [  0,   0,   0,   0,   0,   0,   0,   0,   0,   0,   2, 141, 252,\n",
              "        252, 252,  98,   0,   0,   0,   0,   0,   0,   0,   0,   0,   0,\n",
              "          0,   0],\n",
              "       [  0,   0,   0,   0,   0,   0,   0,   0,   0,   0,  30, 252, 252,\n",
              "        252, 252, 149,   0,   0,   0,   0,   0,   0,   0,   0,   0,   0,\n",
              "          0,   0],\n",
              "       [  0,   0,   0,   0,   0,   0,   0,   0,   0,   0,  21, 217, 252,\n",
              "        252, 252, 149,   0,   0,   0,   0,   0,   0,   0,   0,   0,   0,\n",
              "          0,   0],\n",
              "       [  0,   0,   0,   0,   0,   0,   0,   0,   0,   0,   0, 134, 252,\n",
              "        252, 252, 223,  31,   0,   0,   0,   0,   0,   0,   0,   0,   0,\n",
              "          0,   0],\n",
              "       [  0,   0,   0,   0,   0,   0,   0,   0,   0,   0,   0, 134, 252,\n",
              "        252, 252, 253,  44,   0,   0,   0,   0,   0,   0,   0,   0,   0,\n",
              "          0,   0],\n",
              "       [  0,   0,   0,   0,   0,   0,   0,   0,   0,   0,   0,   8, 239,\n",
              "        252, 252, 253,  44,   0,   0,   0,   0,   0,   0,   0,   0,   0,\n",
              "          0,   0],\n",
              "       [  0,   0,   0,   0,   0,   0,   0,   0,   0,   0,   0,   0, 238,\n",
              "        252, 252, 253,  44,   0,   0,   0,   0,   0,   0,   0,   0,   0,\n",
              "          0,   0],\n",
              "       [  0,   0,   0,   0,   0,   0,   0,   0,   0,   0,   0,   0, 238,\n",
              "        252, 252, 253,  44,   0,   0,   0,   0,   0,   0,   0,   0,   0,\n",
              "          0,   0],\n",
              "       [  0,   0,   0,   0,   0,   0,   0,   0,   0,   0,   0,   0, 178,\n",
              "        253, 253, 255, 106,   0,   0,   0,   0,   0,   0,   0,   0,   0,\n",
              "          0,   0],\n",
              "       [  0,   0,   0,   0,   0,   0,   0,   0,   0,   0,   0,   0,  90,\n",
              "        252, 252, 253, 206,  21,   0,   0,   0,   0,   0,   0,   0,   0,\n",
              "          0,   0],\n",
              "       [  0,   0,   0,   0,   0,   0,   0,   0,   0,   0,   0,   0,  90,\n",
              "        252, 252, 253, 252,  88,   0,   0,   0,   0,   0,   0,   0,   0,\n",
              "          0,   0],\n",
              "       [  0,   0,   0,   0,   0,   0,   0,   0,   0,   0,   0,   0,  90,\n",
              "        252, 252, 253, 252,  88,   0,   0,   0,   0,   0,   0,   0,   0,\n",
              "          0,   0],\n",
              "       [  0,   0,   0,   0,   0,   0,   0,   0,   0,   0,   0,   0,  63,\n",
              "        234, 252, 253, 252, 220,   0,   0,   0,   0,   0,   0,   0,   0,\n",
              "          0,   0],\n",
              "       [  0,   0,   0,   0,   0,   0,   0,   0,   0,   0,   0,   0,   0,\n",
              "        176, 252, 253, 252, 237,   0,   0,   0,   0,   0,   0,   0,   0,\n",
              "          0,   0],\n",
              "       [  0,   0,   0,   0,   0,   0,   0,   0,   0,   0,   0,   0,   0,\n",
              "         45, 252, 253, 252, 245,  71,   0,   0,   0,   0,   0,   0,   0,\n",
              "          0,   0],\n",
              "       [  0,   0,   0,   0,   0,   0,   0,   0,   0,   0,   0,   0,   0,\n",
              "         29, 215, 253, 252, 237,   8,   0,   0,   0,   0,   0,   0,   0,\n",
              "          0,   0],\n",
              "       [  0,   0,   0,   0,   0,   0,   0,   0,   0,   0,   0,   0,   0,\n",
              "          0, 149, 253, 252, 237,   0,   0,   0,   0,   0,   0,   0,   0,\n",
              "          0,   0],\n",
              "       [  0,   0,   0,   0,   0,   0,   0,   0,   0,   0,   0,   0,   0,\n",
              "          0,  61, 165, 252, 237,   0,   0,   0,   0,   0,   0,   0,   0,\n",
              "          0,   0],\n",
              "       [  0,   0,   0,   0,   0,   0,   0,   0,   0,   0,   0,   0,   0,\n",
              "          0,   0,   0,   0,   0,   0,   0,   0,   0,   0,   0,   0,   0,\n",
              "          0,   0],\n",
              "       [  0,   0,   0,   0,   0,   0,   0,   0,   0,   0,   0,   0,   0,\n",
              "          0,   0,   0,   0,   0,   0,   0,   0,   0,   0,   0,   0,   0,\n",
              "          0,   0],\n",
              "       [  0,   0,   0,   0,   0,   0,   0,   0,   0,   0,   0,   0,   0,\n",
              "          0,   0,   0,   0,   0,   0,   0,   0,   0,   0,   0,   0,   0,\n",
              "          0,   0],\n",
              "       [  0,   0,   0,   0,   0,   0,   0,   0,   0,   0,   0,   0,   0,\n",
              "          0,   0,   0,   0,   0,   0,   0,   0,   0,   0,   0,   0,   0,\n",
              "          0,   0]], dtype=uint8)"
            ]
          },
          "metadata": {
            "tags": []
          },
          "execution_count": 15
        }
      ]
    },
    {
      "cell_type": "code",
      "metadata": {
        "id": "GORLR4nLTev-",
        "colab_type": "code",
        "outputId": "998190a2-0fe1-404b-9a2c-bcac4af461fb",
        "colab": {
          "base_uri": "https://localhost:8080/",
          "height": 34
        }
      },
      "source": [
        "y_train[n]"
      ],
      "execution_count": 0,
      "outputs": [
        {
          "output_type": "execute_result",
          "data": {
            "text/plain": [
              "1"
            ]
          },
          "metadata": {
            "tags": []
          },
          "execution_count": 16
        }
      ]
    },
    {
      "cell_type": "code",
      "metadata": {
        "id": "qmEdnymmToeH",
        "colab_type": "code",
        "outputId": "8f38fd2d-4579-4b93-87e2-a1d63248630a",
        "colab": {
          "base_uri": "https://localhost:8080/",
          "height": 282
        }
      },
      "source": [
        "plt.imshow(x_train[n],cmap='Greys')\n",
        "print('正確答案：',y_train[n])"
      ],
      "execution_count": 0,
      "outputs": [
        {
          "output_type": "stream",
          "text": [
            "正確答案： 1\n"
          ],
          "name": "stdout"
        },
        {
          "output_type": "display_data",
          "data": {
            "image/png": "[encoded data removed]",
            "text/plain": [
              "<Figure size 432x288 with 1 Axes>"
            ]
          },
          "metadata": {
            "tags": []
          }
        }
      ]
    },
    {
      "cell_type": "code",
      "metadata": {
        "id": "Sszb7dgWT17w",
        "colab_type": "code",
        "colab": {}
      },
      "source": [
        "## 資料整理\n",
        "##x_train = x_train/100\n",
        "##x_test = x_test/100"
      ],
      "execution_count": 0,
      "outputs": []
    },
    {
      "cell_type": "code",
      "metadata": {
        "id": "4tGWy-zYVMCF",
        "colab_type": "code",
        "outputId": "a38bd0e1-04c6-47ca-9d3c-ece6dd080c24",
        "colab": {
          "base_uri": "https://localhost:8080/",
          "height": 136
        }
      },
      "source": [
        "x_train.reshape(60000,784)/255"
      ],
      "execution_count": 0,
      "outputs": [
        {
          "output_type": "execute_result",
          "data": {
            "text/plain": [
              "array([[0., 0., 0., ..., 0., 0., 0.],\n",
              "       [0., 0., 0., ..., 0., 0., 0.],\n",
              "       [0., 0., 0., ..., 0., 0., 0.],\n",
              "       ...,\n",
              "       [0., 0., 0., ..., 0., 0., 0.],\n",
              "       [0., 0., 0., ..., 0., 0., 0.],\n",
              "       [0., 0., 0., ..., 0., 0., 0.]])"
            ]
          },
          "metadata": {
            "tags": []
          },
          "execution_count": 19
        }
      ]
    },
    {
      "cell_type": "code",
      "metadata": {
        "id": "pRn0z4NnW2YY",
        "colab_type": "code",
        "colab": {}
      },
      "source": [
        ""
      ],
      "execution_count": 0,
      "outputs": []
    },
    {
      "cell_type": "code",
      "metadata": {
        "id": "predq_Y2W7tX",
        "colab_type": "code",
        "colab": {}
      },
      "source": [
        "x_train=x_train.reshape(60000,784)/255"
      ],
      "execution_count": 0,
      "outputs": []
    },
    {
      "cell_type": "code",
      "metadata": {
        "id": "v-sxnOLxXAuB",
        "colab_type": "code",
        "colab": {}
      },
      "source": [
        "x_test=x_test.reshape(10000,784)/255"
      ],
      "execution_count": 0,
      "outputs": []
    },
    {
      "cell_type": "code",
      "metadata": {
        "id": "Co7q40FnXF1m",
        "colab_type": "code",
        "colab": {}
      },
      "source": [
        ""
      ],
      "execution_count": 0,
      "outputs": []
    },
    {
      "cell_type": "code",
      "metadata": {
        "id": "pMZc_i0GXIYA",
        "colab_type": "code",
        "colab": {}
      },
      "source": [
        "from tensorflow.keras.utils import to_categorical"
      ],
      "execution_count": 0,
      "outputs": []
    },
    {
      "cell_type": "code",
      "metadata": {
        "id": "qiCrMDfaYbaq",
        "colab_type": "code",
        "colab": {}
      },
      "source": [
        "y_train= to_categorical(y_train,10)\n",
        "y_test= to_categorical(y_test,10)"
      ],
      "execution_count": 0,
      "outputs": []
    },
    {
      "cell_type": "code",
      "metadata": {
        "id": "0DmuzoNsYlDK",
        "colab_type": "code",
        "outputId": "0401aabc-53a5-47b5-f382-f41a531fa703",
        "colab": {
          "base_uri": "https://localhost:8080/",
          "height": 34
        }
      },
      "source": [
        "y_test[87]"
      ],
      "execution_count": 0,
      "outputs": [
        {
          "output_type": "execute_result",
          "data": {
            "text/plain": [
              "array([0., 0., 0., 1., 0., 0., 0., 0., 0., 0.], dtype=float32)"
            ]
          },
          "metadata": {
            "tags": []
          },
          "execution_count": 24
        }
      ]
    },
    {
      "cell_type": "code",
      "metadata": {
        "id": "NSOHDmtpYmgn",
        "colab_type": "code",
        "colab": {}
      },
      "source": [
        "##打造神經網路"
      ],
      "execution_count": 0,
      "outputs": []
    },
    {
      "cell_type": "code",
      "metadata": {
        "id": "wSXnF-u4bAPm",
        "colab_type": "code",
        "colab": {}
      },
      "source": [
        "from tensorflow.keras.models import Sequential "
      ],
      "execution_count": 0,
      "outputs": []
    },
    {
      "cell_type": "code",
      "metadata": {
        "id": "kC2bJwurbIt2",
        "colab_type": "code",
        "colab": {}
      },
      "source": [
        "from tensorflow.keras.layers import Dense"
      ],
      "execution_count": 0,
      "outputs": []
    },
    {
      "cell_type": "code",
      "metadata": {
        "id": "knpnY_ptbUgu",
        "colab_type": "code",
        "colab": {}
      },
      "source": [
        "from tensorflow.keras.optimizers import SGD"
      ],
      "execution_count": 0,
      "outputs": []
    },
    {
      "cell_type": "code",
      "metadata": {
        "id": "8BjVb5AvbaVD",
        "colab_type": "code",
        "colab": {}
      },
      "source": [
        "model = Sequential()"
      ],
      "execution_count": 0,
      "outputs": []
    },
    {
      "cell_type": "code",
      "metadata": {
        "id": "CJTzJKVNblDl",
        "colab_type": "code",
        "outputId": "ef26f64e-221b-49f1-917f-ef54cc1ef18a",
        "colab": {
          "base_uri": "https://localhost:8080/",
          "height": 88
        }
      },
      "source": [
        "model.add(Dense(87, input_dim=784, activation='relu'))"
      ],
      "execution_count": 0,
      "outputs": [
        {
          "output_type": "stream",
          "text": [
            "WARNING:tensorflow:From /tensorflow-1.15.0/python3.6/tensorflow_core/python/ops/resource_variable_ops.py:1630: calling BaseResourceVariable.__init__ (from tensorflow.python.ops.resource_variable_ops) with constraint is deprecated and will be removed in a future version.\n",
            "Instructions for updating:\n",
            "If using Keras pass *_constraint arguments to layers.\n"
          ],
          "name": "stdout"
        }
      ]
    },
    {
      "cell_type": "code",
      "metadata": {
        "id": "FXOxB_vzb6b5",
        "colab_type": "code",
        "colab": {}
      },
      "source": [
        "model.add(Dense(87,activation='relu'))"
      ],
      "execution_count": 0,
      "outputs": []
    },
    {
      "cell_type": "code",
      "metadata": {
        "id": "_ZfcCPV4cEsv",
        "colab_type": "code",
        "colab": {}
      },
      "source": [
        "model.add(Dense(10,activation='softmax'))"
      ],
      "execution_count": 0,
      "outputs": []
    },
    {
      "cell_type": "code",
      "metadata": {
        "id": "uCbhj_bZcYKs",
        "colab_type": "code",
        "colab": {}
      },
      "source": [
        "### 組裝神經網路"
      ],
      "execution_count": 0,
      "outputs": []
    },
    {
      "cell_type": "code",
      "metadata": {
        "id": "_dynAEDyeVtV",
        "colab_type": "code",
        "colab": {}
      },
      "source": [
        "model.compile(loss='mse',optimizer=SGD(lr=0.087),metrics=['accuracy'])"
      ],
      "execution_count": 0,
      "outputs": []
    },
    {
      "cell_type": "code",
      "metadata": {
        "id": "oObgIY7GfCNj",
        "colab_type": "code",
        "outputId": "131cabb7-694c-4cb8-9b21-25b8274c24e3",
        "colab": {
          "base_uri": "https://localhost:8080/",
          "height": 255
        }
      },
      "source": [
        "model.summary()"
      ],
      "execution_count": 0,
      "outputs": [
        {
          "output_type": "stream",
          "text": [
            "Model: \"sequential\"\n",
            "_________________________________________________________________\n",
            "Layer (type)                 Output Shape              Param #   \n",
            "=================================================================\n",
            "dense (Dense)                (None, 87)                68295     \n",
            "_________________________________________________________________\n",
            "dense_1 (Dense)              (None, 87)                7656      \n",
            "_________________________________________________________________\n",
            "dense_2 (Dense)              (None, 10)                880       \n",
            "=================================================================\n",
            "Total params: 76,831\n",
            "Trainable params: 76,831\n",
            "Non-trainable params: 0\n",
            "_________________________________________________________________\n"
          ],
          "name": "stdout"
        }
      ]
    },
    {
      "cell_type": "code",
      "metadata": {
        "id": "xYst_DmUfMZ3",
        "colab_type": "code",
        "outputId": "089413ca-6b55-4df5-e0b2-fa81f9ce3eb7",
        "colab": {
          "base_uri": "https://localhost:8080/",
          "height": 34
        }
      },
      "source": [
        "784*87+87"
      ],
      "execution_count": 0,
      "outputs": [
        {
          "output_type": "execute_result",
          "data": {
            "text/plain": [
              "68295"
            ]
          },
          "metadata": {
            "tags": []
          },
          "execution_count": 43
        }
      ]
    },
    {
      "cell_type": "code",
      "metadata": {
        "id": "jri1Z7GpfXrJ",
        "colab_type": "code",
        "colab": {}
      },
      "source": [
        "## 訓練資料"
      ],
      "execution_count": 0,
      "outputs": []
    },
    {
      "cell_type": "code",
      "metadata": {
        "id": "rNukG68CgFQK",
        "colab_type": "code",
        "outputId": "ad882de0-df63-4987-e602-4e636fd0e914",
        "colab": {
          "base_uri": "https://localhost:8080/",
          "height": 1000
        }
      },
      "source": [
        "model.fit(x_train,y_train, batch_size=100, epochs=40)"
      ],
      "execution_count": 0,
      "outputs": [
        {
          "output_type": "stream",
          "text": [
            "Train on 60000 samples\n",
            "Epoch 1/40\n",
            "60000/60000 [==============================] - 1s 22us/sample - loss: 0.0104 - acc: 0.9346\n",
            "Epoch 2/40\n",
            "60000/60000 [==============================] - 1s 21us/sample - loss: 0.0102 - acc: 0.9362\n",
            "Epoch 3/40\n",
            "60000/60000 [==============================] - 1s 21us/sample - loss: 0.0100 - acc: 0.9376\n",
            "Epoch 4/40\n",
            "60000/60000 [==============================] - 1s 21us/sample - loss: 0.0098 - acc: 0.9384\n",
            "Epoch 5/40\n",
            "60000/60000 [==============================] - 1s 21us/sample - loss: 0.0096 - acc: 0.9396\n",
            "Epoch 6/40\n",
            "60000/60000 [==============================] - 1s 22us/sample - loss: 0.0095 - acc: 0.9404\n",
            "Epoch 7/40\n",
            "60000/60000 [==============================] - 1s 21us/sample - loss: 0.0093 - acc: 0.9416\n",
            "Epoch 8/40\n",
            "60000/60000 [==============================] - 1s 21us/sample - loss: 0.0092 - acc: 0.9425\n",
            "Epoch 9/40\n",
            "60000/60000 [==============================] - 1s 21us/sample - loss: 0.0090 - acc: 0.9434\n",
            "Epoch 10/40\n",
            "60000/60000 [==============================] - 1s 23us/sample - loss: 0.0089 - acc: 0.9442\n",
            "Epoch 11/40\n",
            "60000/60000 [==============================] - 1s 23us/sample - loss: 0.0088 - acc: 0.9449\n",
            "Epoch 12/40\n",
            "60000/60000 [==============================] - 1s 23us/sample - loss: 0.0086 - acc: 0.9460\n",
            "Epoch 13/40\n",
            "60000/60000 [==============================] - 1s 23us/sample - loss: 0.0085 - acc: 0.9468\n",
            "Epoch 14/40\n",
            "60000/60000 [==============================] - 1s 22us/sample - loss: 0.0084 - acc: 0.9473\n",
            "Epoch 15/40\n",
            "60000/60000 [==============================] - 1s 21us/sample - loss: 0.0083 - acc: 0.9486\n",
            "Epoch 16/40\n",
            "60000/60000 [==============================] - 1s 22us/sample - loss: 0.0081 - acc: 0.9489\n",
            "Epoch 17/40\n",
            "60000/60000 [==============================] - 1s 21us/sample - loss: 0.0080 - acc: 0.9498\n",
            "Epoch 18/40\n",
            "60000/60000 [==============================] - 1s 21us/sample - loss: 0.0079 - acc: 0.9508\n",
            "Epoch 19/40\n",
            "60000/60000 [==============================] - 1s 21us/sample - loss: 0.0078 - acc: 0.9515\n",
            "Epoch 20/40\n",
            "60000/60000 [==============================] - 1s 21us/sample - loss: 0.0077 - acc: 0.9523\n",
            "Epoch 21/40\n",
            "60000/60000 [==============================] - 1s 21us/sample - loss: 0.0076 - acc: 0.9527\n",
            "Epoch 22/40\n",
            "60000/60000 [==============================] - 1s 21us/sample - loss: 0.0075 - acc: 0.9536\n",
            "Epoch 23/40\n",
            "60000/60000 [==============================] - 1s 21us/sample - loss: 0.0074 - acc: 0.9541\n",
            "Epoch 24/40\n",
            "60000/60000 [==============================] - 1s 21us/sample - loss: 0.0073 - acc: 0.9546\n",
            "Epoch 25/40\n",
            "60000/60000 [==============================] - 1s 21us/sample - loss: 0.0072 - acc: 0.9552\n",
            "Epoch 26/40\n",
            "60000/60000 [==============================] - 1s 21us/sample - loss: 0.0071 - acc: 0.9560\n",
            "Epoch 27/40\n",
            "60000/60000 [==============================] - 1s 21us/sample - loss: 0.0070 - acc: 0.9566\n",
            "Epoch 28/40\n",
            "60000/60000 [==============================] - 1s 21us/sample - loss: 0.0070 - acc: 0.9570\n",
            "Epoch 29/40\n",
            "60000/60000 [==============================] - 1s 21us/sample - loss: 0.0069 - acc: 0.9577\n",
            "Epoch 30/40\n",
            "60000/60000 [==============================] - 1s 21us/sample - loss: 0.0068 - acc: 0.9579\n",
            "Epoch 31/40\n",
            "60000/60000 [==============================] - 1s 21us/sample - loss: 0.0067 - acc: 0.9587\n",
            "Epoch 32/40\n",
            "60000/60000 [==============================] - 1s 21us/sample - loss: 0.0066 - acc: 0.9593\n",
            "Epoch 33/40\n",
            "60000/60000 [==============================] - 1s 21us/sample - loss: 0.0066 - acc: 0.9598\n",
            "Epoch 34/40\n",
            "60000/60000 [==============================] - 1s 21us/sample - loss: 0.0065 - acc: 0.9601\n",
            "Epoch 35/40\n",
            "60000/60000 [==============================] - 1s 21us/sample - loss: 0.0064 - acc: 0.9604\n",
            "Epoch 36/40\n",
            "60000/60000 [==============================] - 1s 21us/sample - loss: 0.0063 - acc: 0.9611\n",
            "Epoch 37/40\n",
            "60000/60000 [==============================] - 1s 21us/sample - loss: 0.0063 - acc: 0.9619\n",
            "Epoch 38/40\n",
            "60000/60000 [==============================] - 1s 21us/sample - loss: 0.0062 - acc: 0.9621\n",
            "Epoch 39/40\n",
            "60000/60000 [==============================] - 1s 21us/sample - loss: 0.0061 - acc: 0.9629\n",
            "Epoch 40/40\n",
            "60000/60000 [==============================] - 1s 21us/sample - loss: 0.0061 - acc: 0.9629\n"
          ],
          "name": "stdout"
        },
        {
          "output_type": "execute_result",
          "data": {
            "text/plain": [
              "<tensorflow.python.keras.callbacks.History at 0x7f20bcbb26d8>"
            ]
          },
          "metadata": {
            "tags": []
          },
          "execution_count": 58
        }
      ]
    },
    {
      "cell_type": "code",
      "metadata": {
        "id": "AP_Onh62geTt",
        "colab_type": "code",
        "colab": {}
      },
      "source": [
        "## 訓練成果\n"
      ],
      "execution_count": 0,
      "outputs": []
    },
    {
      "cell_type": "code",
      "metadata": {
        "id": "AaCPpBMNhGms",
        "colab_type": "code",
        "colab": {}
      },
      "source": [
        "result = model.predict_classes(x_test)\n"
      ],
      "execution_count": 0,
      "outputs": []
    },
    {
      "cell_type": "code",
      "metadata": {
        "id": "SN0gPbLXhPtK",
        "colab_type": "code",
        "outputId": "9d452987-c614-4e06-9bc7-02b61ee8282f",
        "colab": {
          "base_uri": "https://localhost:8080/",
          "height": 299
        }
      },
      "source": [
        "n = 87\n",
        "print('神經五路預測是：',result[n])\n",
        "plt.imshow(x_test[n].reshape(28,28),cmap=\"Greys\")"
      ],
      "execution_count": 0,
      "outputs": [
        {
          "output_type": "stream",
          "text": [
            "神經五路預測是： 3\n"
          ],
          "name": "stdout"
        },
        {
          "output_type": "execute_result",
          "data": {
            "text/plain": [
              "<matplotlib.image.AxesImage at 0x7f2068a324a8>"
            ]
          },
          "metadata": {
            "tags": []
          },
          "execution_count": 60
        },
        {
          "output_type": "display_data",
          "data": {
            "image/png": "[encoded data removed]",
            "text/plain": [
              "<Figure size 432x288 with 1 Axes>"
            ]
          },
          "metadata": {
            "tags": []
          }
        }
      ]
    },
    {
      "cell_type": "code",
      "metadata": {
        "id": "U2P_QQHHhm6I",
        "colab_type": "code",
        "colab": {}
      },
      "source": [
        "\n"
      ],
      "execution_count": 0,
      "outputs": []
    }
  ]
}