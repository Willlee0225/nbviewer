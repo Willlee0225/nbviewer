{
 "cells": [
  {
   "cell_type": "code",
   "execution_count": 17,
   "metadata": {},
   "outputs": [],
   "source": [
    "import pandas as pd\n",
    "import numpy as np\n",
    "import matplotlib.pyplot as plt\n",
    "from functools import reduce\n",
    "import seaborn as sns\n",
    "import quandl\n",
    "from scipy.optimize import minimize\n",
    "from pandas import Series\n",
    "from pandas import DataFrame"
   ]
  },
  {
   "cell_type": "code",
   "execution_count": 18,
   "metadata": {},
   "outputs": [],
   "source": [
    "df = pd.read_csv('Exam_Industry.csv',index_col=0,parse_dates=True)\n",
    "mk = pd.read_csv('Exam_Market.csv',index_col=0,parse_dates=True)"
   ]
  },
  {
   "cell_type": "code",
   "execution_count": 19,
   "metadata": {},
   "outputs": [
    {
     "data": {
      "text/plain": [
       "Mkt    1.240104\n",
       "dtype: float64"
      ]
     },
     "execution_count": 19,
     "metadata": {},
     "output_type": "execute_result"
    }
   ],
   "source": [
    "mk.mean()"
   ]
  },
  {
   "cell_type": "code",
   "execution_count": 20,
   "metadata": {},
   "outputs": [
    {
     "data": {
      "text/plain": [
       "Index(['Cnsmr', 'Manuf', 'HiTec', 'Hlth ', 'Other'], dtype='object')"
      ]
     },
     "execution_count": 20,
     "metadata": {},
     "output_type": "execute_result"
    }
   ],
   "source": [
    "stock_names = df.columns \n",
    "stock_names"
   ]
  },
  {
   "cell_type": "code",
   "execution_count": 21,
   "metadata": {},
   "outputs": [
    {
     "data": {
      "text/html": [
       "<div>\n",
       "<style scoped>\n",
       "    .dataframe tbody tr th:only-of-type {\n",
       "        vertical-align: middle;\n",
       "    }\n",
       "\n",
       "    .dataframe tbody tr th {\n",
       "        vertical-align: top;\n",
       "    }\n",
       "\n",
       "    .dataframe thead th {\n",
       "        text-align: right;\n",
       "    }\n",
       "</style>\n",
       "<table border=\"1\" class=\"dataframe\">\n",
       "  <thead>\n",
       "    <tr style=\"text-align: right;\">\n",
       "      <th></th>\n",
       "      <th>Cnsmr</th>\n",
       "      <th>Manuf</th>\n",
       "      <th>HiTec</th>\n",
       "      <th>Hlth</th>\n",
       "      <th>Other</th>\n",
       "    </tr>\n",
       "    <tr>\n",
       "      <th>Date</th>\n",
       "      <th></th>\n",
       "      <th></th>\n",
       "      <th></th>\n",
       "      <th></th>\n",
       "      <th></th>\n",
       "    </tr>\n",
       "  </thead>\n",
       "  <tbody>\n",
       "    <tr>\n",
       "      <th>200901</th>\n",
       "      <td>2.00</td>\n",
       "      <td>2.83</td>\n",
       "      <td>3.08</td>\n",
       "      <td>5.92</td>\n",
       "      <td>-10.22</td>\n",
       "    </tr>\n",
       "    <tr>\n",
       "      <th>200902</th>\n",
       "      <td>4.62</td>\n",
       "      <td>-2.61</td>\n",
       "      <td>4.59</td>\n",
       "      <td>0.18</td>\n",
       "      <td>-3.91</td>\n",
       "    </tr>\n",
       "    <tr>\n",
       "      <th>200903</th>\n",
       "      <td>-0.44</td>\n",
       "      <td>-3.83</td>\n",
       "      <td>1.47</td>\n",
       "      <td>-1.90</td>\n",
       "      <td>3.95</td>\n",
       "    </tr>\n",
       "    <tr>\n",
       "      <th>200904</th>\n",
       "      <td>-1.35</td>\n",
       "      <td>-0.52</td>\n",
       "      <td>1.73</td>\n",
       "      <td>-11.13</td>\n",
       "      <td>6.19</td>\n",
       "    </tr>\n",
       "    <tr>\n",
       "      <th>200905</th>\n",
       "      <td>-3.10</td>\n",
       "      <td>2.21</td>\n",
       "      <td>-2.43</td>\n",
       "      <td>1.05</td>\n",
       "      <td>2.54</td>\n",
       "    </tr>\n",
       "    <tr>\n",
       "      <th>...</th>\n",
       "      <td>...</td>\n",
       "      <td>...</td>\n",
       "      <td>...</td>\n",
       "      <td>...</td>\n",
       "      <td>...</td>\n",
       "    </tr>\n",
       "    <tr>\n",
       "      <th>201608</th>\n",
       "      <td>-1.50</td>\n",
       "      <td>-0.13</td>\n",
       "      <td>0.28</td>\n",
       "      <td>-3.71</td>\n",
       "      <td>2.86</td>\n",
       "    </tr>\n",
       "    <tr>\n",
       "      <th>201609</th>\n",
       "      <td>-1.69</td>\n",
       "      <td>0.80</td>\n",
       "      <td>1.78</td>\n",
       "      <td>0.10</td>\n",
       "      <td>-1.50</td>\n",
       "    </tr>\n",
       "    <tr>\n",
       "      <th>201610</th>\n",
       "      <td>-0.50</td>\n",
       "      <td>-0.29</td>\n",
       "      <td>0.56</td>\n",
       "      <td>-5.42</td>\n",
       "      <td>2.61</td>\n",
       "    </tr>\n",
       "    <tr>\n",
       "      <th>201611</th>\n",
       "      <td>-3.33</td>\n",
       "      <td>0.43</td>\n",
       "      <td>-3.21</td>\n",
       "      <td>-3.48</td>\n",
       "      <td>6.41</td>\n",
       "    </tr>\n",
       "    <tr>\n",
       "      <th>201612</th>\n",
       "      <td>-0.48</td>\n",
       "      <td>-0.24</td>\n",
       "      <td>-0.19</td>\n",
       "      <td>-0.96</td>\n",
       "      <td>1.13</td>\n",
       "    </tr>\n",
       "  </tbody>\n",
       "</table>\n",
       "<p>96 rows × 5 columns</p>\n",
       "</div>"
      ],
      "text/plain": [
       "        Cnsmr  Manuf  HiTec  Hlth   Other\n",
       "Date                                     \n",
       "200901   2.00   2.83   3.08   5.92 -10.22\n",
       "200902   4.62  -2.61   4.59   0.18  -3.91\n",
       "200903  -0.44  -3.83   1.47  -1.90   3.95\n",
       "200904  -1.35  -0.52   1.73 -11.13   6.19\n",
       "200905  -3.10   2.21  -2.43   1.05   2.54\n",
       "...       ...    ...    ...    ...    ...\n",
       "201608  -1.50  -0.13   0.28  -3.71   2.86\n",
       "201609  -1.69   0.80   1.78   0.10  -1.50\n",
       "201610  -0.50  -0.29   0.56  -5.42   2.61\n",
       "201611  -3.33   0.43  -3.21  -3.48   6.41\n",
       "201612  -0.48  -0.24  -0.19  -0.96   1.13\n",
       "\n",
       "[96 rows x 5 columns]"
      ]
     },
     "execution_count": 21,
     "metadata": {},
     "output_type": "execute_result"
    }
   ],
   "source": [
    "df  = df.apply(lambda x: x-mk['Mkt'])\n",
    "df"
   ]
  },
  {
   "cell_type": "code",
   "execution_count": 22,
   "metadata": {},
   "outputs": [],
   "source": [
    "returns=df.mean()"
   ]
  },
  {
   "cell_type": "code",
   "execution_count": 23,
   "metadata": {},
   "outputs": [],
   "source": [
    "R = returns.values"
   ]
  },
  {
   "cell_type": "code",
   "execution_count": 24,
   "metadata": {},
   "outputs": [
    {
     "data": {
      "text/plain": [
       "array([ 0.10375   , -0.2425    ,  0.23489583, -0.00260417,  0.02354167])"
      ]
     },
     "execution_count": 24,
     "metadata": {},
     "output_type": "execute_result"
    }
   ],
   "source": [
    "R"
   ]
  },
  {
   "cell_type": "code",
   "execution_count": 25,
   "metadata": {},
   "outputs": [],
   "source": [
    "R = R.reshape((5, 1))"
   ]
  },
  {
   "cell_type": "code",
   "execution_count": 26,
   "metadata": {},
   "outputs": [
    {
     "data": {
      "text/html": [
       "<div>\n",
       "<style scoped>\n",
       "    .dataframe tbody tr th:only-of-type {\n",
       "        vertical-align: middle;\n",
       "    }\n",
       "\n",
       "    .dataframe tbody tr th {\n",
       "        vertical-align: top;\n",
       "    }\n",
       "\n",
       "    .dataframe thead th {\n",
       "        text-align: right;\n",
       "    }\n",
       "</style>\n",
       "<table border=\"1\" class=\"dataframe\">\n",
       "  <thead>\n",
       "    <tr style=\"text-align: right;\">\n",
       "      <th></th>\n",
       "      <th>Expected deviation return</th>\n",
       "    </tr>\n",
       "  </thead>\n",
       "  <tbody>\n",
       "    <tr>\n",
       "      <th>0</th>\n",
       "      <td>0.103750</td>\n",
       "    </tr>\n",
       "    <tr>\n",
       "      <th>1</th>\n",
       "      <td>-0.242500</td>\n",
       "    </tr>\n",
       "    <tr>\n",
       "      <th>2</th>\n",
       "      <td>0.234896</td>\n",
       "    </tr>\n",
       "    <tr>\n",
       "      <th>3</th>\n",
       "      <td>-0.002604</td>\n",
       "    </tr>\n",
       "    <tr>\n",
       "      <th>4</th>\n",
       "      <td>0.023542</td>\n",
       "    </tr>\n",
       "  </tbody>\n",
       "</table>\n",
       "</div>"
      ],
      "text/plain": [
       "   Expected deviation return\n",
       "0                   0.103750\n",
       "1                  -0.242500\n",
       "2                   0.234896\n",
       "3                  -0.002604\n",
       "4                   0.023542"
      ]
     },
     "execution_count": 26,
     "metadata": {},
     "output_type": "execute_result"
    }
   ],
   "source": [
    "R_table = pd.DataFrame(data = R, columns = ['Expected deviation return'])\n",
    "R_table"
   ]
  },
  {
   "cell_type": "code",
   "execution_count": 27,
   "metadata": {},
   "outputs": [],
   "source": [
    "# Calculate the Covariance matrix\n",
    "cov=df.cov()"
   ]
  },
  {
   "cell_type": "code",
   "execution_count": 28,
   "metadata": {},
   "outputs": [],
   "source": [
    "cov2 = df.cov().values"
   ]
  },
  {
   "cell_type": "code",
   "execution_count": 29,
   "metadata": {},
   "outputs": [
    {
     "data": {
      "text/plain": [
       "array([[ 2.47295842, -0.54916   ,  0.02188671,  1.2371025 , -1.61638184],\n",
       "       [-0.54916   ,  2.63356842, -0.84832132, -1.03732237, -0.70122053],\n",
       "       [ 0.02188671, -0.84832132,  2.3835642 , -0.60831554, -1.28903436],\n",
       "       [ 1.2371025 , -1.03732237, -0.60831554,  7.51410157, -2.81091279],\n",
       "       [-1.61638184, -0.70122053, -1.28903436, -2.81091279,  4.38913048]])"
      ]
     },
     "execution_count": 29,
     "metadata": {},
     "output_type": "execute_result"
    }
   ],
   "source": [
    "cov2"
   ]
  },
  {
   "cell_type": "code",
   "execution_count": 30,
   "metadata": {},
   "outputs": [],
   "source": [
    "### Creat Standard deviation \n",
    "SD=df.std()"
   ]
  },
  {
   "cell_type": "code",
   "execution_count": 31,
   "metadata": {},
   "outputs": [
    {
     "data": {
      "text/html": [
       "<div>\n",
       "<style scoped>\n",
       "    .dataframe tbody tr th:only-of-type {\n",
       "        vertical-align: middle;\n",
       "    }\n",
       "\n",
       "    .dataframe tbody tr th {\n",
       "        vertical-align: top;\n",
       "    }\n",
       "\n",
       "    .dataframe thead th {\n",
       "        text-align: right;\n",
       "    }\n",
       "</style>\n",
       "<table border=\"1\" class=\"dataframe\">\n",
       "  <thead>\n",
       "    <tr style=\"text-align: right;\">\n",
       "      <th></th>\n",
       "      <th>0</th>\n",
       "      <th>1</th>\n",
       "    </tr>\n",
       "  </thead>\n",
       "  <tbody>\n",
       "    <tr>\n",
       "      <th>Cnsmr</th>\n",
       "      <td>0.103750</td>\n",
       "      <td>1.572564</td>\n",
       "    </tr>\n",
       "    <tr>\n",
       "      <th>Manuf</th>\n",
       "      <td>-0.242500</td>\n",
       "      <td>1.622827</td>\n",
       "    </tr>\n",
       "    <tr>\n",
       "      <th>HiTec</th>\n",
       "      <td>0.234896</td>\n",
       "      <td>1.543880</td>\n",
       "    </tr>\n",
       "    <tr>\n",
       "      <th>Hlth</th>\n",
       "      <td>-0.002604</td>\n",
       "      <td>2.741186</td>\n",
       "    </tr>\n",
       "    <tr>\n",
       "      <th>Other</th>\n",
       "      <td>0.023542</td>\n",
       "      <td>2.095025</td>\n",
       "    </tr>\n",
       "  </tbody>\n",
       "</table>\n",
       "</div>"
      ],
      "text/plain": [
       "              0         1\n",
       "Cnsmr  0.103750  1.572564\n",
       "Manuf -0.242500  1.622827\n",
       "HiTec  0.234896  1.543880\n",
       "Hlth  -0.002604  2.741186\n",
       "Other  0.023542  2.095025"
      ]
     },
     "execution_count": 31,
     "metadata": {},
     "output_type": "execute_result"
    }
   ],
   "source": [
    "table=pd.concat([returns,SD],axis=1)\n",
    "table"
   ]
  },
  {
   "cell_type": "code",
   "execution_count": 32,
   "metadata": {},
   "outputs": [
    {
     "data": {
      "text/plain": [
       "array([1.57256428, 1.62282729, 1.54387959, 2.74118616, 2.09502517])"
      ]
     },
     "execution_count": 32,
     "metadata": {},
     "output_type": "execute_result"
    }
   ],
   "source": [
    "SD = SD.values\n",
    "SD"
   ]
  },
  {
   "cell_type": "code",
   "execution_count": 33,
   "metadata": {},
   "outputs": [
    {
     "data": {
      "text/html": [
       "<div>\n",
       "<style scoped>\n",
       "    .dataframe tbody tr th:only-of-type {\n",
       "        vertical-align: middle;\n",
       "    }\n",
       "\n",
       "    .dataframe tbody tr th {\n",
       "        vertical-align: top;\n",
       "    }\n",
       "\n",
       "    .dataframe thead th {\n",
       "        text-align: right;\n",
       "    }\n",
       "</style>\n",
       "<table border=\"1\" class=\"dataframe\">\n",
       "  <thead>\n",
       "    <tr style=\"text-align: right;\">\n",
       "      <th></th>\n",
       "      <th>expected deviation mean returns</th>\n",
       "      <th>standard deviation</th>\n",
       "    </tr>\n",
       "  </thead>\n",
       "  <tbody>\n",
       "    <tr>\n",
       "      <th>Cnsmr</th>\n",
       "      <td>0.103750</td>\n",
       "      <td>1.572564</td>\n",
       "    </tr>\n",
       "    <tr>\n",
       "      <th>Manuf</th>\n",
       "      <td>-0.242500</td>\n",
       "      <td>1.622827</td>\n",
       "    </tr>\n",
       "    <tr>\n",
       "      <th>HiTec</th>\n",
       "      <td>0.234896</td>\n",
       "      <td>1.543880</td>\n",
       "    </tr>\n",
       "    <tr>\n",
       "      <th>Hlth</th>\n",
       "      <td>-0.002604</td>\n",
       "      <td>2.741186</td>\n",
       "    </tr>\n",
       "    <tr>\n",
       "      <th>Other</th>\n",
       "      <td>0.023542</td>\n",
       "      <td>2.095025</td>\n",
       "    </tr>\n",
       "  </tbody>\n",
       "</table>\n",
       "</div>"
      ],
      "text/plain": [
       "       expected deviation mean returns  standard deviation\n",
       "Cnsmr                         0.103750            1.572564\n",
       "Manuf                        -0.242500            1.622827\n",
       "HiTec                         0.234896            1.543880\n",
       "Hlth                         -0.002604            2.741186\n",
       "Other                         0.023542            2.095025"
      ]
     },
     "execution_count": 33,
     "metadata": {},
     "output_type": "execute_result"
    }
   ],
   "source": [
    "table.columns = ['expected deviation mean returns', 'standard deviation']\n",
    "table"
   ]
  },
  {
   "cell_type": "code",
   "execution_count": 34,
   "metadata": {},
   "outputs": [],
   "source": [
    "e=np.ones((5,1))"
   ]
  },
  {
   "cell_type": "code",
   "execution_count": 35,
   "metadata": {},
   "outputs": [
    {
     "data": {
      "text/plain": [
       "(5, 5)"
      ]
     },
     "execution_count": 35,
     "metadata": {},
     "output_type": "execute_result"
    }
   ],
   "source": [
    "inverseV = np.linalg.inv(cov2)\n",
    "inverseV.shape"
   ]
  },
  {
   "cell_type": "code",
   "execution_count": 36,
   "metadata": {},
   "outputs": [],
   "source": [
    "alpha = reduce(np.dot, [R.T,inverseV, e])[0][0]\n",
    "zeta=reduce(np.dot, [R.T,inverseV, R])[0][0]\n",
    "delta=reduce(np.dot, [e.T,inverseV, e])[0][0]"
   ]
  },
  {
   "cell_type": "code",
   "execution_count": 37,
   "metadata": {},
   "outputs": [],
   "source": [
    "total_stock=len(df.columns) #n=10\n",
    "min_std=[]\n",
    "limit_var=np.linspace(-0.02,0.07,200)"
   ]
  },
  {
   "cell_type": "code",
   "execution_count": 38,
   "metadata": {},
   "outputs": [],
   "source": [
    "for R0 in limit_var:\n",
    "    variance_of_return= (delta*(R0**2)-(2*R0*alpha)+zeta)/(zeta*delta-alpha*alpha)\n",
    "    min_std.append(np.sqrt(variance_of_return))"
   ]
  },
  {
   "cell_type": "code",
   "execution_count": 39,
   "metadata": {},
   "outputs": [
    {
     "data": {
      "image/png": "[encoded data removed]",
      "text/plain": [
       "<Figure size 864x504 with 1 Axes>"
      ]
     },
     "metadata": {
      "needs_background": "light"
     },
     "output_type": "display_data"
    }
   ],
   "source": [
    "plt.figure(figsize=(12,7))\n",
    "plt.plot(min_std,limit_var,label='Minimum-Variance Tracking error Frontier')\n",
    "plt.plot(min_std, limit_var, '--')\n",
    "\n",
    "plt.xlabel('tracking error(%)')\n",
    "plt.ylabel('expected return deviation(%)')  \n",
    "plt.title('Tracking Error Efficient Frontier')\n",
    "plt.legend(loc = 'upper right')\n",
    "plt.show()"
   ]
  },
  {
   "cell_type": "markdown",
   "metadata": {},
   "source": [
    "### Calculate Return of Tangency Portfolio\n"
   ]
  },
  {
   "cell_type": "code",
   "execution_count": 40,
   "metadata": {},
   "outputs": [
    {
     "data": {
      "text/plain": [
       "0.0415723288111311"
      ]
     },
     "execution_count": 40,
     "metadata": {},
     "output_type": "execute_result"
    }
   ],
   "source": [
    "rtg= (- zeta) / (- alpha)\n",
    "rtg"
   ]
  },
  {
   "cell_type": "code",
   "execution_count": 41,
   "metadata": {},
   "outputs": [
    {
     "data": {
      "text/plain": [
       "0.14092142605568453"
      ]
     },
     "execution_count": 41,
     "metadata": {},
     "output_type": "execute_result"
    }
   ],
   "source": [
    "sigmatg = -zeta**0.5 / (delta * (- alpha / delta))\n",
    "sigmatg"
   ]
  },
  {
   "cell_type": "code",
   "execution_count": 42,
   "metadata": {},
   "outputs": [
    {
     "data": {
      "text/plain": [
       "array([[0.13847964],\n",
       "       [0.28332039],\n",
       "       [0.2084869 ],\n",
       "       [0.12768516],\n",
       "       [0.24202791]])"
      ]
     },
     "execution_count": 42,
     "metadata": {},
     "output_type": "execute_result"
    }
   ],
   "source": [
    "### Calculate a & b \n",
    "a = (np.dot(zeta * inverseV, e) - np.dot(alpha * inverseV, R)) / (zeta *delta - alpha**2)\n",
    "a\n"
   ]
  },
  {
   "cell_type": "code",
   "execution_count": 43,
   "metadata": {},
   "outputs": [
    {
     "data": {
      "text/plain": [
       "array([[ 0.6568212 ],\n",
       "       [-2.2010107 ],\n",
       "       [ 1.67344603],\n",
       "       [-0.30854324],\n",
       "       [ 0.17928671]])"
      ]
     },
     "execution_count": 43,
     "metadata": {},
     "output_type": "execute_result"
    }
   ],
   "source": [
    "b = (np.dot(delta * inverseV, R) - np.dot(alpha * inverseV, e)) / (zeta * delta - alpha**2)\n",
    "b"
   ]
  },
  {
   "cell_type": "code",
   "execution_count": 44,
   "metadata": {},
   "outputs": [
    {
     "data": {
      "text/plain": [
       "array([[0.16578523],\n",
       "       [0.19181925],\n",
       "       [0.27805595],\n",
       "       [0.1148583 ],\n",
       "       [0.24948128]])"
      ]
     },
     "execution_count": 44,
     "metadata": {},
     "output_type": "execute_result"
    }
   ],
   "source": [
    "W = a + b * rtg\n",
    "W"
   ]
  },
  {
   "cell_type": "code",
   "execution_count": 46,
   "metadata": {},
   "outputs": [
    {
     "data": {
      "text/plain": [
       "['Cnsmr', 'Manuf', 'HiTec', 'Hlth ', 'Other']"
      ]
     },
     "execution_count": 46,
     "metadata": {},
     "output_type": "execute_result"
    }
   ],
   "source": [
    "Name = ['Cnsmr', 'Manuf', 'HiTec', 'Hlth ', 'Other']\n",
    "Name"
   ]
  },
  {
   "cell_type": "code",
   "execution_count": 47,
   "metadata": {},
   "outputs": [
    {
     "data": {
      "text/html": [
       "<div>\n",
       "<style scoped>\n",
       "    .dataframe tbody tr th:only-of-type {\n",
       "        vertical-align: middle;\n",
       "    }\n",
       "\n",
       "    .dataframe tbody tr th {\n",
       "        vertical-align: top;\n",
       "    }\n",
       "\n",
       "    .dataframe thead th {\n",
       "        text-align: right;\n",
       "    }\n",
       "</style>\n",
       "<table border=\"1\" class=\"dataframe\">\n",
       "  <thead>\n",
       "    <tr style=\"text-align: right;\">\n",
       "      <th></th>\n",
       "      <th>Weight</th>\n",
       "    </tr>\n",
       "  </thead>\n",
       "  <tbody>\n",
       "    <tr>\n",
       "      <th>0</th>\n",
       "      <td>0.165785</td>\n",
       "    </tr>\n",
       "    <tr>\n",
       "      <th>1</th>\n",
       "      <td>0.191819</td>\n",
       "    </tr>\n",
       "    <tr>\n",
       "      <th>2</th>\n",
       "      <td>0.278056</td>\n",
       "    </tr>\n",
       "    <tr>\n",
       "      <th>3</th>\n",
       "      <td>0.114858</td>\n",
       "    </tr>\n",
       "    <tr>\n",
       "      <th>4</th>\n",
       "      <td>0.249481</td>\n",
       "    </tr>\n",
       "  </tbody>\n",
       "</table>\n",
       "</div>"
      ],
      "text/plain": [
       "     Weight\n",
       "0  0.165785\n",
       "1  0.191819\n",
       "2  0.278056\n",
       "3  0.114858\n",
       "4  0.249481"
      ]
     },
     "execution_count": 47,
     "metadata": {},
     "output_type": "execute_result"
    }
   ],
   "source": [
    "Weight_table = pd.DataFrame(data = W,columns = ['Weight'])\n",
    "Weight_table"
   ]
  },
  {
   "cell_type": "code",
   "execution_count": 48,
   "metadata": {},
   "outputs": [
    {
     "data": {
      "text/html": [
       "<div>\n",
       "<style scoped>\n",
       "    .dataframe tbody tr th:only-of-type {\n",
       "        vertical-align: middle;\n",
       "    }\n",
       "\n",
       "    .dataframe tbody tr th {\n",
       "        vertical-align: top;\n",
       "    }\n",
       "\n",
       "    .dataframe thead th {\n",
       "        text-align: right;\n",
       "    }\n",
       "</style>\n",
       "<table border=\"1\" class=\"dataframe\">\n",
       "  <thead>\n",
       "    <tr style=\"text-align: right;\">\n",
       "      <th></th>\n",
       "      <th>Company</th>\n",
       "      <th>Weight</th>\n",
       "    </tr>\n",
       "  </thead>\n",
       "  <tbody>\n",
       "    <tr>\n",
       "      <th>0</th>\n",
       "      <td>Cnsmr</td>\n",
       "      <td>0.165785</td>\n",
       "    </tr>\n",
       "    <tr>\n",
       "      <th>1</th>\n",
       "      <td>Manuf</td>\n",
       "      <td>0.191819</td>\n",
       "    </tr>\n",
       "    <tr>\n",
       "      <th>2</th>\n",
       "      <td>HiTec</td>\n",
       "      <td>0.278056</td>\n",
       "    </tr>\n",
       "    <tr>\n",
       "      <th>3</th>\n",
       "      <td>Hlth</td>\n",
       "      <td>0.114858</td>\n",
       "    </tr>\n",
       "    <tr>\n",
       "      <th>4</th>\n",
       "      <td>Other</td>\n",
       "      <td>0.249481</td>\n",
       "    </tr>\n",
       "  </tbody>\n",
       "</table>\n",
       "</div>"
      ],
      "text/plain": [
       "  Company    Weight\n",
       "0   Cnsmr  0.165785\n",
       "1   Manuf  0.191819\n",
       "2   HiTec  0.278056\n",
       "3   Hlth   0.114858\n",
       "4   Other  0.249481"
      ]
     },
     "execution_count": 48,
     "metadata": {},
     "output_type": "execute_result"
    }
   ],
   "source": [
    "Name = ['Cnsmr', 'Manuf', 'HiTec', 'Hlth ', 'Other']\n",
    "Name_table = pd.DataFrame(data = Name,columns = ['Company'])\n",
    "Name_table\n",
    "table2=pd.concat([Name_table,Weight_table],axis=1)\n",
    "table2"
   ]
  },
  {
   "cell_type": "markdown",
   "metadata": {},
   "source": [
    "### Calculate information ratio $ir$"
   ]
  },
  {
   "cell_type": "code",
   "execution_count": 45,
   "metadata": {},
   "outputs": [
    {
     "data": {
      "image/png": "[encoded data removed]",
      "text/plain": [
       "<Figure size 864x504 with 1 Axes>"
      ]
     },
     "metadata": {
      "needs_background": "light"
     },
     "output_type": "display_data"
    }
   ],
   "source": [
    "\n",
    "plt.figure(figsize=(12,7))\n",
    "plt.plot(min_std,limit_var,label='Minimum-Variance Tracking error Frontier')\n",
    "plt.plot(min_std, limit_var, '--')\n",
    "plt.plot(sigmatg,rtg,'r*',label='Tangency portfolio',markersize=20)\n",
    "plt.xlabel('tracking error(%)')\n",
    "plt.ylabel('expected return deviation(%)')  \n",
    "plt.title('Tracking Error Efficient Frontier')\n",
    "plt.legend(loc = 'upper right')\n",
    "plt.show()\n"
   ]
  },
  {
   "cell_type": "code",
   "execution_count": 49,
   "metadata": {
    "scrolled": false
   },
   "outputs": [
    {
     "data": {
      "text/plain": [
       "0.2950036057306428"
      ]
     },
     "execution_count": 49,
     "metadata": {},
     "output_type": "execute_result"
    }
   ],
   "source": [
    "ir = rtg / sigmatg\n",
    "ir"
   ]
  },
  {
   "cell_type": "code",
   "execution_count": null,
   "metadata": {},
   "outputs": [],
   "source": []
  },
  {
   "cell_type": "code",
   "execution_count": null,
   "metadata": {},
   "outputs": [],
   "source": []
  },
  {
   "cell_type": "code",
   "execution_count": null,
   "metadata": {},
   "outputs": [],
   "source": []
  }
 ],
 "metadata": {
  "kernelspec": {
   "display_name": "Python 3",
   "language": "python",
   "name": "python3"
  },
  "language_info": {
   "codemirror_mode": {
    "name": "ipython",
    "version": 3
   },
   "file_extension": ".py",
   "mimetype": "text/x-python",
   "name": "python",
   "nbconvert_exporter": "python",
   "pygments_lexer": "ipython3",
   "version": "3.8.3"
  }
 },
 "nbformat": 4,
 "nbformat_minor": 4
}
